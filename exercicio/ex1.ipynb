{
 "cells": [
  {
   "cell_type": "code",
   "execution_count": 5,
   "metadata": {},
   "outputs": [
    {
     "name": "stdout",
     "output_type": "stream",
     "text": [
      "* Running on local URL:  http://127.0.0.1:7864\n",
      "\n",
      "To create a public link, set `share=True` in `launch()`.\n"
     ]
    },
    {
     "data": {
      "text/html": [
       "<div><iframe src=\"http://127.0.0.1:7864/\" width=\"100%\" height=\"500\" allow=\"autoplay; camera; microphone; clipboard-read; clipboard-write;\" frameborder=\"0\" allowfullscreen></iframe></div>"
      ],
      "text/plain": [
       "<IPython.core.display.HTML object>"
      ]
     },
     "metadata": {},
     "output_type": "display_data"
    }
   ],
   "source": [
    "import gradio as gr\n",
    "import os \n",
    "from groq import Groq\n",
    "\n",
    "# Define a chave da API Groq\n",
    "GROQ_API_KEY = os.getenv('GROQ_API_KEY', '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')\n",
    "\n",
    "# Inicializa o cliente da API Groq\n",
    "client = Groq(api_key=GROQ_API_KEY)\n",
    "\n",
    "# Função para processar a entrada de dados pelo usuário e gerar resposta\n",
    "def assistente_fisica_quimica(user_prompt):\n",
    "    if user_prompt.strip()==\"15\":\n",
    "        return \"Encerrando assistente de quimica e fisica. Faça uma pergunta relacionada a uma dessas matérias!\"\n",
    "    \n",
    "    # Faz a solicitação para o modelo LLM\n",
    "    completion = client.chat.completions.create(\n",
    "        model=\"llama3-8b-8192\",\n",
    "        messages =[\n",
    "            {\"role\":\"system\",\"content\":\"Você é um assistente especializado em física e química\"},\n",
    "            {\"role\":\"user\",\"content\":user_prompt}\n",
    "        ],\n",
    "        temperature=0,\n",
    "        max_tokens=2048,\n",
    "        top_p=1,\n",
    "        stream=False\n",
    "    )\n",
    "\n",
    "    # Retorna a resposta do assistente\n",
    "\n",
    "    return completion.choices[0].message.content\n",
    "\n",
    "# Configura a interface do Gradio\n",
    "iface = gr.Interface(\n",
    "    fn=assistente_fisica_quimica,\n",
    "    inputs=gr.Textbox(lines=2,placeholder= \"Digite sua pergunta sobre física e/ou química: \"),\n",
    "    outputs=\"text\",\n",
    "    title=\"Assistente de Física e Química\",\n",
    "    description=\"Digite sua pergunta sobre agricultura e receba respostas da IA especialista\",\n",
    "    live = True\n",
    ")\n",
    "\n",
    "# Executa a interface web\n",
    "\n",
    "if __name__ == \"__main__\":\n",
    "    iface.launch()"
   ]
  }
 ],
 "metadata": {
  "kernelspec": {
   "display_name": "Python 3",
   "language": "python",
   "name": "python3"
  },
  "language_info": {
   "codemirror_mode": {
    "name": "ipython",
    "version": 3
   },
   "file_extension": ".py",
   "mimetype": "text/x-python",
   "name": "python",
   "nbconvert_exporter": "python",
   "pygments_lexer": "ipython3",
   "version": "3.13.1"
  }
 },
 "nbformat": 4,
 "nbformat_minor": 2
}
