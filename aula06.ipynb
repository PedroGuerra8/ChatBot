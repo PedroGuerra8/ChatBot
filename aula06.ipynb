{
  "nbformat": 4,
  "nbformat_minor": 0,
  "metadata": {
    "colab": {
      "provenance": [],
      "authorship_tag": "ABX9TyOUBENLv5uXOf9blkD+MknZ",
      "include_colab_link": true
    },
    "kernelspec": {
      "name": "python3",
      "display_name": "Python 3"
    },
    "language_info": {
      "name": "python"
    },
    "widgets": {
      "application/vnd.jupyter.widget-state+json": {
        "17bb18e6022b4ad8abcb732a41caeedb": {
          "model_module": "@jupyter-widgets/controls",
          "model_name": "HBoxModel",
          "model_module_version": "1.5.0",
          "state": {
            "_dom_classes": [],
            "_model_module": "@jupyter-widgets/controls",
            "_model_module_version": "1.5.0",
            "_model_name": "HBoxModel",
            "_view_count": null,
            "_view_module": "@jupyter-widgets/controls",
            "_view_module_version": "1.5.0",
            "_view_name": "HBoxView",
            "box_style": "",
            "children": [
              "IPY_MODEL_605573b5519d438ca95f160f919940e1",
              "IPY_MODEL_063d9b8e8fec489b837c482edafb26c7",
              "IPY_MODEL_254a64df149e44e0945f188aab31753a"
            ],
            "layout": "IPY_MODEL_0cad105c714d4f63a311bdd131e2e74c"
          }
        },
        "605573b5519d438ca95f160f919940e1": {
          "model_module": "@jupyter-widgets/controls",
          "model_name": "HTMLModel",
          "model_module_version": "1.5.0",
          "state": {
            "_dom_classes": [],
            "_model_module": "@jupyter-widgets/controls",
            "_model_module_version": "1.5.0",
            "_model_name": "HTMLModel",
            "_view_count": null,
            "_view_module": "@jupyter-widgets/controls",
            "_view_module_version": "1.5.0",
            "_view_name": "HTMLView",
            "description": "",
            "description_tooltip": null,
            "layout": "IPY_MODEL_a99f54bf528e4cca9bf05c388adf3826",
            "placeholder": "​",
            "style": "IPY_MODEL_ab1eb13b231d4445b3b5723ee7e748df",
            "value": "Parsing nodes: 100%"
          }
        },
        "063d9b8e8fec489b837c482edafb26c7": {
          "model_module": "@jupyter-widgets/controls",
          "model_name": "FloatProgressModel",
          "model_module_version": "1.5.0",
          "state": {
            "_dom_classes": [],
            "_model_module": "@jupyter-widgets/controls",
            "_model_module_version": "1.5.0",
            "_model_name": "FloatProgressModel",
            "_view_count": null,
            "_view_module": "@jupyter-widgets/controls",
            "_view_module_version": "1.5.0",
            "_view_name": "ProgressView",
            "bar_style": "success",
            "description": "",
            "description_tooltip": null,
            "layout": "IPY_MODEL_cf8acd60c4fe4693a6ff9bbe563c7f7c",
            "max": 10,
            "min": 0,
            "orientation": "horizontal",
            "style": "IPY_MODEL_f4dd4d18120c48ed9298a0fbbc6d5115",
            "value": 10
          }
        },
        "254a64df149e44e0945f188aab31753a": {
          "model_module": "@jupyter-widgets/controls",
          "model_name": "HTMLModel",
          "model_module_version": "1.5.0",
          "state": {
            "_dom_classes": [],
            "_model_module": "@jupyter-widgets/controls",
            "_model_module_version": "1.5.0",
            "_model_name": "HTMLModel",
            "_view_count": null,
            "_view_module": "@jupyter-widgets/controls",
            "_view_module_version": "1.5.0",
            "_view_name": "HTMLView",
            "description": "",
            "description_tooltip": null,
            "layout": "IPY_MODEL_85da494213b74a94954c2470326d95bb",
            "placeholder": "​",
            "style": "IPY_MODEL_ca5f6ff6b8fe49f08122b66930deffb0",
            "value": " 10/10 [00:00&lt;00:00, 186.03it/s]"
          }
        },
        "0cad105c714d4f63a311bdd131e2e74c": {
          "model_module": "@jupyter-widgets/base",
          "model_name": "LayoutModel",
          "model_module_version": "1.2.0",
          "state": {
            "_model_module": "@jupyter-widgets/base",
            "_model_module_version": "1.2.0",
            "_model_name": "LayoutModel",
            "_view_count": null,
            "_view_module": "@jupyter-widgets/base",
            "_view_module_version": "1.2.0",
            "_view_name": "LayoutView",
            "align_content": null,
            "align_items": null,
            "align_self": null,
            "border": null,
            "bottom": null,
            "display": null,
            "flex": null,
            "flex_flow": null,
            "grid_area": null,
            "grid_auto_columns": null,
            "grid_auto_flow": null,
            "grid_auto_rows": null,
            "grid_column": null,
            "grid_gap": null,
            "grid_row": null,
            "grid_template_areas": null,
            "grid_template_columns": null,
            "grid_template_rows": null,
            "height": null,
            "justify_content": null,
            "justify_items": null,
            "left": null,
            "margin": null,
            "max_height": null,
            "max_width": null,
            "min_height": null,
            "min_width": null,
            "object_fit": null,
            "object_position": null,
            "order": null,
            "overflow": null,
            "overflow_x": null,
            "overflow_y": null,
            "padding": null,
            "right": null,
            "top": null,
            "visibility": null,
            "width": null
          }
        },
        "a99f54bf528e4cca9bf05c388adf3826": {
          "model_module": "@jupyter-widgets/base",
          "model_name": "LayoutModel",
          "model_module_version": "1.2.0",
          "state": {
            "_model_module": "@jupyter-widgets/base",
            "_model_module_version": "1.2.0",
            "_model_name": "LayoutModel",
            "_view_count": null,
            "_view_module": "@jupyter-widgets/base",
            "_view_module_version": "1.2.0",
            "_view_name": "LayoutView",
            "align_content": null,
            "align_items": null,
            "align_self": null,
            "border": null,
            "bottom": null,
            "display": null,
            "flex": null,
            "flex_flow": null,
            "grid_area": null,
            "grid_auto_columns": null,
            "grid_auto_flow": null,
            "grid_auto_rows": null,
            "grid_column": null,
            "grid_gap": null,
            "grid_row": null,
            "grid_template_areas": null,
            "grid_template_columns": null,
            "grid_template_rows": null,
            "height": null,
            "justify_content": null,
            "justify_items": null,
            "left": null,
            "margin": null,
            "max_height": null,
            "max_width": null,
            "min_height": null,
            "min_width": null,
            "object_fit": null,
            "object_position": null,
            "order": null,
            "overflow": null,
            "overflow_x": null,
            "overflow_y": null,
            "padding": null,
            "right": null,
            "top": null,
            "visibility": null,
            "width": null
          }
        },
        "ab1eb13b231d4445b3b5723ee7e748df": {
          "model_module": "@jupyter-widgets/controls",
          "model_name": "DescriptionStyleModel",
          "model_module_version": "1.5.0",
          "state": {
            "_model_module": "@jupyter-widgets/controls",
            "_model_module_version": "1.5.0",
            "_model_name": "DescriptionStyleModel",
            "_view_count": null,
            "_view_module": "@jupyter-widgets/base",
            "_view_module_version": "1.2.0",
            "_view_name": "StyleView",
            "description_width": ""
          }
        },
        "cf8acd60c4fe4693a6ff9bbe563c7f7c": {
          "model_module": "@jupyter-widgets/base",
          "model_name": "LayoutModel",
          "model_module_version": "1.2.0",
          "state": {
            "_model_module": "@jupyter-widgets/base",
            "_model_module_version": "1.2.0",
            "_model_name": "LayoutModel",
            "_view_count": null,
            "_view_module": "@jupyter-widgets/base",
            "_view_module_version": "1.2.0",
            "_view_name": "LayoutView",
            "align_content": null,
            "align_items": null,
            "align_self": null,
            "border": null,
            "bottom": null,
            "display": null,
            "flex": null,
            "flex_flow": null,
            "grid_area": null,
            "grid_auto_columns": null,
            "grid_auto_flow": null,
            "grid_auto_rows": null,
            "grid_column": null,
            "grid_gap": null,
            "grid_row": null,
            "grid_template_areas": null,
            "grid_template_columns": null,
            "grid_template_rows": null,
            "height": null,
            "justify_content": null,
            "justify_items": null,
            "left": null,
            "margin": null,
            "max_height": null,
            "max_width": null,
            "min_height": null,
            "min_width": null,
            "object_fit": null,
            "object_position": null,
            "order": null,
            "overflow": null,
            "overflow_x": null,
            "overflow_y": null,
            "padding": null,
            "right": null,
            "top": null,
            "visibility": null,
            "width": null
          }
        },
        "f4dd4d18120c48ed9298a0fbbc6d5115": {
          "model_module": "@jupyter-widgets/controls",
          "model_name": "ProgressStyleModel",
          "model_module_version": "1.5.0",
          "state": {
            "_model_module": "@jupyter-widgets/controls",
            "_model_module_version": "1.5.0",
            "_model_name": "ProgressStyleModel",
            "_view_count": null,
            "_view_module": "@jupyter-widgets/base",
            "_view_module_version": "1.2.0",
            "_view_name": "StyleView",
            "bar_color": null,
            "description_width": ""
          }
        },
        "85da494213b74a94954c2470326d95bb": {
          "model_module": "@jupyter-widgets/base",
          "model_name": "LayoutModel",
          "model_module_version": "1.2.0",
          "state": {
            "_model_module": "@jupyter-widgets/base",
            "_model_module_version": "1.2.0",
            "_model_name": "LayoutModel",
            "_view_count": null,
            "_view_module": "@jupyter-widgets/base",
            "_view_module_version": "1.2.0",
            "_view_name": "LayoutView",
            "align_content": null,
            "align_items": null,
            "align_self": null,
            "border": null,
            "bottom": null,
            "display": null,
            "flex": null,
            "flex_flow": null,
            "grid_area": null,
            "grid_auto_columns": null,
            "grid_auto_flow": null,
            "grid_auto_rows": null,
            "grid_column": null,
            "grid_gap": null,
            "grid_row": null,
            "grid_template_areas": null,
            "grid_template_columns": null,
            "grid_template_rows": null,
            "height": null,
            "justify_content": null,
            "justify_items": null,
            "left": null,
            "margin": null,
            "max_height": null,
            "max_width": null,
            "min_height": null,
            "min_width": null,
            "object_fit": null,
            "object_position": null,
            "order": null,
            "overflow": null,
            "overflow_x": null,
            "overflow_y": null,
            "padding": null,
            "right": null,
            "top": null,
            "visibility": null,
            "width": null
          }
        },
        "ca5f6ff6b8fe49f08122b66930deffb0": {
          "model_module": "@jupyter-widgets/controls",
          "model_name": "DescriptionStyleModel",
          "model_module_version": "1.5.0",
          "state": {
            "_model_module": "@jupyter-widgets/controls",
            "_model_module_version": "1.5.0",
            "_model_name": "DescriptionStyleModel",
            "_view_count": null,
            "_view_module": "@jupyter-widgets/base",
            "_view_module_version": "1.2.0",
            "_view_name": "StyleView",
            "description_width": ""
          }
        }
      }
    }
  },
  "cells": [
    {
      "cell_type": "markdown",
      "metadata": {
        "id": "view-in-github",
        "colab_type": "text"
      },
      "source": [
        "<a href=\"https://colab.research.google.com/github/PedroGuerra8/ChatBot/blob/main/aula06.ipynb\" target=\"_parent\"><img src=\"https://colab.research.google.com/assets/colab-badge.svg\" alt=\"Open In Colab\"/></a>"
      ]
    },
    {
      "cell_type": "code",
      "execution_count": 1,
      "metadata": {
        "colab": {
          "base_uri": "https://localhost:8080/"
        },
        "id": "QdDjCa4VdOQW",
        "outputId": "9049c0b2-44a0-4c4e-9bf1-c624537878ca"
      },
      "outputs": [
        {
          "output_type": "stream",
          "name": "stdout",
          "text": [
            "\u001b[2K   \u001b[90m━━━━━━━━━━━━━━━━━━━━━━━━━━━━━━━━━━━━━━━━\u001b[0m \u001b[32m1.6/1.6 MB\u001b[0m \u001b[31m22.3 MB/s\u001b[0m eta \u001b[36m0:00:00\u001b[0m\n",
            "\u001b[2K   \u001b[90m━━━━━━━━━━━━━━━━━━━━━━━━━━━━━━━━━━━━━━━━\u001b[0m \u001b[32m40.4/40.4 kB\u001b[0m \u001b[31m2.4 MB/s\u001b[0m eta \u001b[36m0:00:00\u001b[0m\n",
            "\u001b[2K   \u001b[90m━━━━━━━━━━━━━━━━━━━━━━━━━━━━━━━━━━━━━━━━\u001b[0m \u001b[32m261.7/261.7 kB\u001b[0m \u001b[31m15.5 MB/s\u001b[0m eta \u001b[36m0:00:00\u001b[0m\n",
            "\u001b[2K   \u001b[90m━━━━━━━━━━━━━━━━━━━━━━━━━━━━━━━━━━━━━━━━\u001b[0m \u001b[32m302.0/302.0 kB\u001b[0m \u001b[31m17.5 MB/s\u001b[0m eta \u001b[36m0:00:00\u001b[0m\n",
            "\u001b[2K   \u001b[90m━━━━━━━━━━━━━━━━━━━━━━━━━━━━━━━━━━━━━━━━\u001b[0m \u001b[32m1.2/1.2 MB\u001b[0m \u001b[31m45.2 MB/s\u001b[0m eta \u001b[36m0:00:00\u001b[0m\n",
            "\u001b[2K   \u001b[90m━━━━━━━━━━━━━━━━━━━━━━━━━━━━━━━━━━━━━━━━\u001b[0m \u001b[32m50.9/50.9 kB\u001b[0m \u001b[31m2.4 MB/s\u001b[0m eta \u001b[36m0:00:00\u001b[0m\n",
            "\u001b[?25h"
          ]
        }
      ],
      "source": [
        "# Desenvolvimento de um chatbot especialista para venda de cafe online\n",
        "\n",
        "!pip install -q llama-index"
      ]
    },
    {
      "cell_type": "code",
      "source": [
        "# biblioteca para permitir a leitura de arquivos pdf\n",
        "from llama_index.core import SimpleDirectoryReader"
      ],
      "metadata": {
        "id": "CShnOkcWd9P5"
      },
      "execution_count": 4,
      "outputs": []
    },
    {
      "cell_type": "code",
      "source": [
        "documentos = SimpleDirectoryReader(input_dir='documentos')"
      ],
      "metadata": {
        "id": "cWXCrFVMeTrR"
      },
      "execution_count": 5,
      "outputs": []
    },
    {
      "cell_type": "code",
      "source": [
        "documentos.input_files"
      ],
      "metadata": {
        "colab": {
          "base_uri": "https://localhost:8080/"
        },
        "id": "ZFlxUoRJf_uH",
        "outputId": "1d337b26-9ee8-4def-940a-181c3c111865"
      },
      "execution_count": 6,
      "outputs": [
        {
          "output_type": "execute_result",
          "data": {
            "text/plain": [
              "[PosixPath('/content/documentos/serenatto_cafes_especiais.pdf')]"
            ]
          },
          "metadata": {},
          "execution_count": 6
        }
      ]
    },
    {
      "cell_type": "code",
      "source": [
        "docs = documentos.load_data()"
      ],
      "metadata": {
        "id": "erz3c76tgFVO"
      },
      "execution_count": 8,
      "outputs": []
    },
    {
      "cell_type": "code",
      "source": [
        "docs"
      ],
      "metadata": {
        "colab": {
          "base_uri": "https://localhost:8080/"
        },
        "collapsed": true,
        "id": "K-9wMbxjgPNu",
        "outputId": "82ebb721-09cd-4680-85e2-b06b695c0c06"
      },
      "execution_count": 9,
      "outputs": [
        {
          "output_type": "execute_result",
          "data": {
            "text/plain": [
              "[Document(id_='91a97816-e438-4cc7-bf06-b4d80e6a63b0', embedding=None, metadata={'page_label': '1', 'file_name': 'serenatto_cafes_especiais.pdf', 'file_path': '/content/documentos/serenatto_cafes_especiais.pdf', 'file_type': 'application/pdf', 'file_size': 133957, 'creation_date': '2025-03-12', 'last_modified_date': '2025-03-12'}, excluded_embed_metadata_keys=['file_name', 'file_type', 'file_size', 'creation_date', 'last_modified_date', 'last_accessed_date'], excluded_llm_metadata_keys=['file_name', 'file_type', 'file_size', 'creation_date', 'last_modified_date', 'last_accessed_date'], relationships={}, metadata_template='{key}: {value}', metadata_separator='\\n', text_resource=MediaResource(embeddings=None, data=None, text='Serenatto  –  Loja  online  de  cafés  especiais   Informações  gerais   P:  Quais  produtos  são  vendidos  no  site  da  Serenatto?  R:  A  Serenatto  é  uma  loja  online  especializada  na  venda  de  grãos  de  cafés  especiais,  \\noferecendo\\n \\ngrãos\\n \\ntorrados,\\n \\nprovenientes\\n \\nde\\n \\nfazendas\\n \\nselecionadas\\n \\nde\\n \\nMinas\\n \\nGerais.\\n \\nTodos\\n \\nos\\n \\nnossos\\n \\ncafés\\n \\npossuem\\n \\nnota\\n \\nSCA\\n \\nacima\\n \\nde\\n \\n80,\\n \\ngarantindo\\n \\nalta\\n \\nqualidade\\n \\ne\\n \\nperfis\\n \\nsensoriais\\n \\nexcepcionais.\\n  P:  De  onde  vêm  os  grãos  de  café  da  Serenatto?   R:  Nossos  grãos  são  cuidadosamente  selecionados  de  fazendas  localizadas  em  Minas  \\nGerais,\\n \\nconhecidas\\n \\npela\\n \\nalta\\n \\nqualidade\\n \\nde\\n \\nseus\\n \\ncafés\\n \\nespeciais.\\n \\nCada\\n \\nfazenda\\n \\né\\n \\nescolhida\\n \\npor\\n \\nsuas\\n \\npráticas\\n \\nsustentáveis\\n \\ne\\n \\npelo\\n \\ncuidado\\n \\nexcepcional\\n \\ncom\\n \\na\\n \\nprodução.\\n  P:  Qual  é  a  quantidade  vendida?  R:  Os  grãos  já  torrados  são  vendidos  em  pacotes  de  250g   P:  Quais  são  as  variedades  de  café  disponíveis?  R:  Trabalhamos  com  as  seguintes  variedades  de  café  em  grãos:  ●  Bourbon  vermelho  ●  Bourbon  amarelo  ●  Blend  especial  (Mistura  de  Bourbon  amarelo  e  vermelho)  ●  Catuaí  amarelo  ●  Geisha  ●  Yirgacheffe   P:  Quais  são  os  preços  de  cada  variedade  de  café?  R:  Os  preços  sãos  os  seguintes:  ●  Bourbon  vermelho:  R$  41,00  ●  Bourbon  amarelo:  R$  43,00  ●  Blend  especial:  R$  37,50  ●  Catuaí  amarelo:  R$  55,00  ●  Geisha:  R$  105,00  ●  Yirgacheffe:  R$  110,00      ', path=None, url=None, mimetype=None), image_resource=None, audio_resource=None, video_resource=None, text_template='{metadata_str}\\n\\n{content}'),\n",
              " Document(id_='5baf0685-f6f2-4bed-a152-e0d7c7aa142a', embedding=None, metadata={'page_label': '2', 'file_name': 'serenatto_cafes_especiais.pdf', 'file_path': '/content/documentos/serenatto_cafes_especiais.pdf', 'file_type': 'application/pdf', 'file_size': 133957, 'creation_date': '2025-03-12', 'last_modified_date': '2025-03-12'}, excluded_embed_metadata_keys=['file_name', 'file_type', 'file_size', 'creation_date', 'last_modified_date', 'last_accessed_date'], excluded_llm_metadata_keys=['file_name', 'file_type', 'file_size', 'creation_date', 'last_modified_date', 'last_accessed_date'], relationships={}, metadata_template='{key}: {value}', metadata_separator='\\n', text_resource=MediaResource(embeddings=None, data=None, text='P:  A  Serenatto  oferece  cafés  descafeinados?  R:  No  momento,  trabalhamos  apenas  com  cafés  especiais  que  contêm  cafeína.  Todos  \\nos\\n \\nnossos\\n \\ngrãos\\n \\nsão\\n \\nselecionados\\n \\npara\\n \\noferecer\\n \\na\\n \\nmelhor\\n \\nexperiência\\n \\nsensorial,\\n \\nmas\\n \\nnão\\n \\ntemos\\n \\nopções\\n \\ndescafeinadas\\n \\nem\\n \\nnosso\\n \\nportfólio.\\n  P:  Vocês  enviam  para  todos  os  estados  brasileiros?  R:  Sim,  os  cafés  são  enviados  para  todos  os  estados  brasileiros.    P:  Qual  é  o  prazo  de  envio?  R:  O  envio  dos  pedidos  é  realizado  em  até  3  dias  úteis  após  a  confirmação  do  \\npagamento,\\n \\npois\\n \\nenviamos\\n \\no\\n \\ncafé\\n \\nrecém\\n \\ntorrado\\n \\npara\\n \\ngarantir\\n \\nfrescor\\n \\ne\\n \\nqualidade.\\n  P:  Quais  são  os  métodos  de  pagamento  aceitos?  R:  Aceitamos  PIX,  boleto  bancário  e  cartão  de  crédito.   P:  Vocês  oferecem  cursos  ou  workshops  sobre  café?  R:  Estamos  planejando  oferecer  workshops  e  cursos  sobre  métodos  de  preparo  e  \\ndegustação\\n \\nde\\n \\ncafé\\n \\nem\\n \\nbreve.\\n \\nFique\\n \\nde\\n \\nolho\\n \\nem\\n \\nnossas\\n \\nredes\\n \\nsociais\\n \\ne\\n \\nnewsletter\\n \\npara\\n \\nmais\\n \\ninformações.\\n  P:  A  Serenatto  oferece  um  serviço  de  assinatura?   R:  Atualmente,  não  oferecemos  um  serviço  de  assinatura.  No  entanto,  você  pode  \\nrealizar\\n \\npedidos\\n \\nrecorrentes\\n \\nmanualmente\\n \\natravés\\n \\nde\\n \\nnosso\\n \\nsite.\\n \\nEstamos\\n \\nsempre\\n \\navaliando\\n \\nnovos\\n \\nserviços\\n \\nque\\n \\npossam\\n \\nmelhorar\\n \\na\\n \\nexperiência\\n \\nde\\n \\nnossos\\n \\nclientes,\\n \\nentão\\n \\nfique\\n \\natento\\n \\nàs\\n \\natualizações\\n \\nfuturas.\\n  P:  Onde  posso  tirar  mais  dúvidas?  R:  Para  mais  informações,  entre  em  contato  pelo  whatsapp  (11)  99999-9999  ou  envie  \\nemail\\n \\npara\\n \\ncontato@serenatto.com.br.\\n             ', path=None, url=None, mimetype=None), image_resource=None, audio_resource=None, video_resource=None, text_template='{metadata_str}\\n\\n{content}'),\n",
              " Document(id_='6dbb8f95-fd4b-4e3c-8172-6403028ce8f7', embedding=None, metadata={'page_label': '3', 'file_name': 'serenatto_cafes_especiais.pdf', 'file_path': '/content/documentos/serenatto_cafes_especiais.pdf', 'file_type': 'application/pdf', 'file_size': 133957, 'creation_date': '2025-03-12', 'last_modified_date': '2025-03-12'}, excluded_embed_metadata_keys=['file_name', 'file_type', 'file_size', 'creation_date', 'last_modified_date', 'last_accessed_date'], excluded_llm_metadata_keys=['file_name', 'file_type', 'file_size', 'creation_date', 'last_modified_date', 'last_accessed_date'], relationships={}, metadata_template='{key}: {value}', metadata_separator='\\n', text_resource=MediaResource(embeddings=None, data=None, text='Variedades  dos  grãos   P:  Quais  são  as  características  de  cada  variedade  de  café?  R:  As  variedades  têm  as  seguintes  características:  ●  Bourbon  vermelho:  Doçura  intensa,  corpo  encorpado,  notas  de  chocolate.  ●  Bourbon  amarelo:  Acidez  vibrante,  notas  cítricas  de  maracujá,  ameixa  e  nêspera .   ●  Blend  especial:  Mistura  do  bourbon  vermelho  e  bourbon  amarelo,  gerando  \\nequilíbrio\\n \\nentre\\n \\ndoçura\\n \\ne\\n \\nacidez,\\n \\ncom\\n \\nnotas\\n \\nde\\n \\ncaramelo\\n \\ne\\n \\nchocolate.\\n ●  Catuaí  amarelo:  Perfil  exótico,  que  carrega  uma  expressiva  acidez  e  notas  de  \\nacerola\\n \\ne\\n \\npitanga.\\n \\n ●  Geisha:  Aroma  floral,  notas  de  jasmim  e  mamão  papaya.   ●  Yirgacheffe:  Acidez  vibrante,  notas  de  mel  de  laranjeira,  chá  de  capim-limão  e  \\nmaçã\\n \\nfuji.\\n \\n  P:  Quero  saber  mais  detalhes  sobre  o  Bourbon  vermelho.  R:  Este  café  possui  doçura  máxima  (5/5),  que  causa  sensação  aveludada  no  céu  da  \\nboca.\\n \\nO\\n \\ncorpo\\n \\né\\n \\nencorpado\\n \\n(5/5)\\n \\ne\\n \\na\\n \\nacidez\\n \\né\\n \\nbaixa\\n \\n(1/5),\\n \\ncom\\n \\num\\n \\nleve\\n \\namargor\\n \\n(2/5).\\n \\nSeu\\n \\nperfil\\n \\nsensorial\\n \\né\\n \\nmarcado\\n \\npor\\n \\nnotas\\n \\nde\\n \\nchocolate.\\n \\nO\\n \\nprocesso\\n \\nde\\n \\nprodução\\n \\né\\n \\nnatural,\\n \\ncultivado\\n \\nem\\n \\naltitudes\\n \\nentre\\n \\n1.200m\\n \\ne\\n \\n1.450m,\\n \\ncom\\n \\ntorra\\n \\nmédia\\n \\nescura.\\n \\n  P:  Quero  mais  detalhes  sobre  o  Bourbon  amarelo.  R:  Este  café  possui  doçura  moderada  (3/5),  corpo  médio  (3/5),  alta  acidez  (5/5)  e  baixo  \\namargor\\n \\n(1/5).\\n \\nPossui\\n \\nsabor\\n \\nresidual\\n \\nlongo\\n \\ne\\n \\nintenso\\n \\nde\\n \\nfrutas\\n \\ncítricas,\\n \\nincluindo\\n \\nnotas\\n \\nde\\n \\nmaracujá,\\n \\nameixa\\n \\ne\\n \\nnêspera.\\n \\nO\\n \\nprocesso\\n \\nutilizado\\n \\né\\n \\no\\n \\ncereja\\n \\ndescascado,\\n \\ncultivado\\n \\nem\\n \\naltitudes\\n \\nentre\\n \\n1.200m\\n \\ne\\n \\n1.450m,\\n \\ncom\\n \\ntorra\\n \\nmédia\\n \\nclara.\\n \\n  P:  Quero  saber  mais  detalhes  sobre  o  Blend  especial.  R:  É  uma  mistura  do  Bourbon  amarelo  com  o  Bourbon  vermelho,  ideal  para  quem  \\nbusca\\n \\no\\n \\nequilíbrio\\n \\nperfeito.\\n \\nEsta\\n \\nmistura\\n \\napresenta\\n \\ndoçura\\n \\nalta\\n \\n(4/5),\\n \\ncorpo\\n \\nmédio-alto\\n \\n(4/5)\\n \\ne\\n \\nacidez\\n \\nmédia-alta\\n \\n(4/5),\\n \\ncom\\n \\namargor\\n \\nbaixo\\n \\n(1/5).\\n \\nSeu\\n \\nperfil\\n \\nsensorial\\n \\ncombina\\n \\ncaramelo\\n \\ne\\n \\nchocolate.\\n \\nO\\n \\nprocesso\\n \\ninclui\\n \\ncereja\\n \\ndescascado\\n \\ne\\n \\nnatural,\\n \\ncultivado\\n \\nem\\n \\naltitudes\\n \\nentre\\n \\n1.200m\\n \\ne\\n \\n1.450m,\\n \\ncom\\n \\ntorra\\n \\nmédia.\\n  P:  Quero  mais  detalhes  sobre  o  Catuaí  amarelo.  R:  Este  café  possui  doçura  máxima  (5/5)  e  corpo  médio-alto  (4/5)  e  amargor  baixo  \\n(1/5).\\n \\nEle\\n \\nainda\\n \\ncarrega\\n \\numa\\n \\nexpressiva\\n \\nacidez\\n \\ne\\n \\nnotas\\n \\nmaravilhosas\\n \\nde\\n \\npitanga,\\n \\nfugindo\\n \\nmuito\\n \\ndo\\n \\ntradicional.\\n \\nÉ\\n \\num\\n \\ncafé\\n \\npara\\n \\nquem\\n \\nbusca\\n \\numa\\n \\nexperiência\\n \\nsensorial\\n \\ndiferenciada.\\n \\nO\\n \\nprocesso\\n \\né\\n \\nfermentado,\\n \\ncultivado\\n \\nem\\n \\naltitude\\n \\nde\\n \\n1.200m,\\n \\ncom\\n \\ntorra\\n \\nmédia.\\n  ', path=None, url=None, mimetype=None), image_resource=None, audio_resource=None, video_resource=None, text_template='{metadata_str}\\n\\n{content}'),\n",
              " Document(id_='5a8c5f28-1f9e-4a4a-abe0-5d9d08c93110', embedding=None, metadata={'page_label': '4', 'file_name': 'serenatto_cafes_especiais.pdf', 'file_path': '/content/documentos/serenatto_cafes_especiais.pdf', 'file_type': 'application/pdf', 'file_size': 133957, 'creation_date': '2025-03-12', 'last_modified_date': '2025-03-12'}, excluded_embed_metadata_keys=['file_name', 'file_type', 'file_size', 'creation_date', 'last_modified_date', 'last_accessed_date'], excluded_llm_metadata_keys=['file_name', 'file_type', 'file_size', 'creation_date', 'last_modified_date', 'last_accessed_date'], relationships={}, metadata_template='{key}: {value}', metadata_separator='\\n', text_resource=MediaResource(embeddings=None, data=None, text='P:  Quero  saber  mais  detalhes  sobre  o  Geisha.  R:  Este  café  premium  possui  doçura  máxima  (5/5),  corpo  encorpado  (5/5)  e  acidez  \\nmoderada-alta\\n \\n(4/5),\\n \\ncom\\n \\namargor\\n \\nbaixo\\n \\n(1/5).\\n \\nSeu\\n \\nperfil\\n \\nsensorial\\n \\ntem\\n \\naroma\\n \\nfloral\\n \\ne\\n \\né\\n \\nmarcado\\n \\npor\\n \\nnotas\\n \\nde\\n \\njasmim\\n \\ne\\n \\nmamão\\n \\npapaya.\\n \\nO\\n \\nprocesso\\n \\né\\n \\nfermentado,\\n \\ncultivado\\n \\nem\\n \\naltitude\\n \\nde\\n \\n1.150m,\\n \\ncom\\n \\ntorra\\n \\nclara.\\n  P:  Quero  saber  mais  detalhes  sobre  o  Yirgacheffe.   R:  Este  café  premium  possui  doçura  máxima  (5/5)  e  corpo  médio-alto  (4/5),  \\ndestacando-se\\n \\npela\\n \\nalta\\n \\nacidez\\n \\n(5/5)\\n \\ne\\n \\namargor\\n \\nbaixo\\n \\n(1/5).\\n \\nSeu\\n \\nperfil\\n \\nsensorial\\n \\ninclui\\n \\nnotas\\n \\nde\\n \\nmel\\n \\nde\\n \\nlaranjeira,\\n \\nchá\\n \\nde\\n \\ncapim-limão\\n \\ne\\n \\nmaçã\\n \\nfuji.\\n \\nA\\n \\nacidez\\n \\né\\n \\nvibrante,\\n \\ncom\\n \\ncorpo\\n \\nsedoso\\n \\ne\\n \\nfinalização\\n \\ndoce\\n \\nfrutada.\\n \\nO\\n \\nprocesso\\n \\né\\n \\nfermentado,\\n \\ncultivado\\n \\nem\\n \\naltitude\\n \\nde\\n \\n1.300m,\\n \\ncom\\n \\ntorra\\n \\nclara.\\n \\n  P:  Qual  café  da  Serenatto  é  mais  indicado  para  quem  prefere  sabores  suaves?  R:  Para  quem  prefere  sabores  suaves,  recomendamos  o  Bourbon  Vermelho,  que  \\npossui\\n \\ndoçura\\n \\nintensa,\\n \\ncorpo\\n \\nencorpado\\n \\ne\\n \\nnotas\\n \\nde\\n \\nchocolate,\\n \\ncom\\n \\nacidez\\n \\nbaixa\\n \\ne\\n \\namargor\\n \\nleve.\\n  P:  Qual  café  é  mais  indicado  para  quem  gosta  de  acidez  marcante?  R:  Se  você  aprecia  acidez  vibrante,  experimente  o  Bourbon  amarelo,  Catuaí  amarelo  \\nou\\n \\no\\n \\nYirgacheffe.\\n \\nAmbos\\n \\npossuem\\n \\nacidez\\n \\nalta\\n \\ne\\n \\nnotas\\n \\ncítricas\\n \\ne\\n \\nfrutadas\\n \\nque\\n \\ndestacam\\n \\nessa\\n \\ncaracterística.\\n  P:  Vocês  têm  cafés  com  notas  florais?  R:  Sim,  o  Geisha  é  a  melhor  opção  para  quem  busca  notas  florais.  Ele  possui  aroma  de  \\njasmim\\n \\ne\\n \\nnotas\\n \\nde\\n \\nmamão\\n \\npapaya,\\n \\ncom\\n \\numa\\n \\nacidez\\n \\nagradável\\n \\ne\\n \\ndoçura\\n \\nmáxima.\\n  P:  Como  posso  identificar  notas  diferentes  no  café?   R:  Identificar  notas  em  café  é  uma  habilidade  que  pode  ser  aprimorada  com  a  prática.  \\nComece\\n \\nprovando\\n \\ncafés\\n \\nde\\n \\ndiferentes\\n \\nregiões\\n \\ne\\n \\nprestando\\n \\natenção\\n \\nàs\\n \\ndescrições\\n \\ndas\\n \\nnotas\\n \\nna\\n \\nembalagem.\\n \\nTente\\n \\nidentificar\\n \\nessas\\n \\nnotas\\n \\nenquanto\\n \\nsaboreia\\n \\nlentamente,\\n \\nprestando\\n \\natenção\\n \\nao\\n \\naroma,\\n \\nsabor\\n \\ne\\n \\nsensação\\n \\nna\\n \\nboca.\\n         ', path=None, url=None, mimetype=None), image_resource=None, audio_resource=None, video_resource=None, text_template='{metadata_str}\\n\\n{content}'),\n",
              " Document(id_='b8149a4f-8b1c-485d-978d-2566275ad9a7', embedding=None, metadata={'page_label': '5', 'file_name': 'serenatto_cafes_especiais.pdf', 'file_path': '/content/documentos/serenatto_cafes_especiais.pdf', 'file_type': 'application/pdf', 'file_size': 133957, 'creation_date': '2025-03-12', 'last_modified_date': '2025-03-12'}, excluded_embed_metadata_keys=['file_name', 'file_type', 'file_size', 'creation_date', 'last_modified_date', 'last_accessed_date'], excluded_llm_metadata_keys=['file_name', 'file_type', 'file_size', 'creation_date', 'last_modified_date', 'last_accessed_date'], relationships={}, metadata_template='{key}: {value}', metadata_separator='\\n', text_resource=MediaResource(embeddings=None, data=None, text='Nota  SCA   P:  O  que  é  a  nota  SCA?  R:  A  nota  SCA  (Specialty  Coffee  Association)  é  uma  avaliação  que  classifica  a  \\nqualidade\\n \\ndo\\n \\ncafé\\n \\ncom\\n \\nbase\\n \\nem\\n \\ncritérios\\n \\npadronizados.\\n \\nA\\n \\npontuação\\n \\nvaria\\n \\nde\\n \\n0\\n \\na\\n \\n100,\\n \\ne\\n \\ncafés\\n \\ncom\\n \\nnota\\n \\nacima\\n \\nde\\n \\n80\\n \\nsão\\n \\nconsiderados\\n \\nespeciais.\\n \\nA\\n \\navaliação\\n \\nconsidera\\n \\naspectos\\n \\ncomo\\n \\naroma,\\n \\nsabor,\\n \\nacidez,\\n \\ncorpo,\\n \\nequilíbrio,\\n \\ndoçura\\n \\ne\\n \\nfinalização.\\n \\nCafés\\n \\ncom\\n \\nnotas\\n \\nacima\\n \\nde\\n \\n85\\n \\nsão\\n \\nde\\n \\naltíssima\\n \\nqualidade,\\n \\ne\\n \\nacima\\n \\nde\\n \\n90\\n \\nsão\\n \\nraros\\n \\ne\\n \\nexcepcionais.\\n  P:  Quais  são  as  notas  SCA  dos  cafés  da  Serenatto?  R:  Os  cafés  da  Serenatto  têm  as  seguintes  notas  SCA:  ●  Bourbon  vermelho:  85  ●  Bourbon  amarelo:  86  ●  Blend  especial:  85  ●  Catuaí  amarelo:  87  ●  Geisha:  90  ●  Yirgacheffe:  90    P:  Quais  são  os  cafés  mais  bem  avaliados  da  Serenatto?  R:  Geisha  e  Yirgacheffe.  Ambos  com  Nota  SCA  90.                        ', path=None, url=None, mimetype=None), image_resource=None, audio_resource=None, video_resource=None, text_template='{metadata_str}\\n\\n{content}'),\n",
              " Document(id_='61a3a9ee-1f7b-4bff-8d47-8e24f8048223', embedding=None, metadata={'page_label': '6', 'file_name': 'serenatto_cafes_especiais.pdf', 'file_path': '/content/documentos/serenatto_cafes_especiais.pdf', 'file_type': 'application/pdf', 'file_size': 133957, 'creation_date': '2025-03-12', 'last_modified_date': '2025-03-12'}, excluded_embed_metadata_keys=['file_name', 'file_type', 'file_size', 'creation_date', 'last_modified_date', 'last_accessed_date'], excluded_llm_metadata_keys=['file_name', 'file_type', 'file_size', 'creation_date', 'last_modified_date', 'last_accessed_date'], relationships={}, metadata_template='{key}: {value}', metadata_separator='\\n', text_resource=MediaResource(embeddings=None, data=None, text='Produção  dos  cafés   P:  Quais  são  os  processos  de  produção  dos  cafés?  R:  Nossos  cafés  podem  ter  os  seguintes  processos  de  produção:  -  Natural:  Os  frutos  do  café  (cerejas)  são  secos  inteiros,  resultando  em  cafés  com  \\nalta\\n \\ndoçura,\\n \\ncorpo\\n \\nencorpado\\n \\ne\\n \\nnotas\\n \\nfrutadas\\n \\nou\\n \\nde\\n \\nchocolate.\\n -  Cereja  descascado:  A  casca  dos  frutos  do  café  é  removida,  mas  parte  da  polpa  \\npermanece,\\n \\ngerando\\n \\ncafés\\n \\ncom\\n \\ndoçura\\n \\nequilibrada,\\n \\ncorpo\\n \\nmédio\\n \\na\\n \\nencorpado\\n \\ne\\n \\nacidez\\n \\nmais\\n \\npronunciada,\\n \\ncom\\n \\nnotas\\n \\ncítricas\\n \\ne\\n \\nfrutadas\\n -  Fermentado:  O  processo  fermentado  envolve  a  secagem  das  cerejas  inteiras  \\ncom\\n \\nfermentação\\n \\ncontrolada,\\n \\ndestacando\\n \\nsabores\\n \\nexóticos.\\n  P:  Como  a  torra  influencia  no  sabor  do  café?  R:  As  torras  influenciam  da  seguinte  forma:   -  Torra  clara:  Preserva  notas  frutadas,  florais  e  cítricas,  com  acidez  vibrante  e  \\ncorpo\\n \\nleve.\\n -  Torra  média:  Equilíbrio  entre  doçura  e  acidez,  com  notas  de  chocolate,  caramelo  \\ne\\n \\nnozes,\\n \\nalém\\n \\nde\\n \\num\\n \\ncorpo\\n \\nmais\\n \\nencorpado.\\n -  Torra  escura:  Sabores  intensos  e  amargos,  acidez  baixa  e  corpo  pesado,  comum  \\nem\\n \\ncafés\\n \\npara\\n \\nespresso\\n \\nou\\n \\npara\\n \\nquem\\n \\nprefere\\n \\nsabores\\n \\nmais\\n \\nrobustos.\\n  P:  Como  a  altitude  afeta  os  grãos  de  café?   R:  A  altitude  em  que  os  grãos  de  café  são  cultivados  desempenha  um  papel  \\nfundamental\\n \\nno\\n \\ndesenvolvimento\\n \\ndas\\n \\ncaracterísticas\\n \\ndo\\n \\ncafé.\\n \\nDe\\n \\nmaneira\\n \\ngeral,\\n \\nquanto\\n \\nmaior\\n \\na\\n \\naltitude,\\n \\nmais\\n \\nlentamente\\n \\no\\n \\ncafé\\n \\namadurece.\\n \\nIsso\\n \\nproporciona\\n \\nmais\\n \\ntempo\\n \\npara\\n \\nque\\n \\nos\\n \\ngrãos\\n \\ndesenvolvam\\n \\nsabores\\n \\ncomplexos\\n \\ne\\n \\nnuances\\n \\naromáticas.\\n \\n               ', path=None, url=None, mimetype=None), image_resource=None, audio_resource=None, video_resource=None, text_template='{metadata_str}\\n\\n{content}'),\n",
              " Document(id_='ae177a46-516c-43dc-84f4-786101a9e332', embedding=None, metadata={'page_label': '7', 'file_name': 'serenatto_cafes_especiais.pdf', 'file_path': '/content/documentos/serenatto_cafes_especiais.pdf', 'file_type': 'application/pdf', 'file_size': 133957, 'creation_date': '2025-03-12', 'last_modified_date': '2025-03-12'}, excluded_embed_metadata_keys=['file_name', 'file_type', 'file_size', 'creation_date', 'last_modified_date', 'last_accessed_date'], excluded_llm_metadata_keys=['file_name', 'file_type', 'file_size', 'creation_date', 'last_modified_date', 'last_accessed_date'], relationships={}, metadata_template='{key}: {value}', metadata_separator='\\n', text_resource=MediaResource(embeddings=None, data=None, text='Modo  de  preparo  recomendado:  Coado   P:  Quanto  de  café  devo  usar  para  preparar  os  cafés  da  Serenatto?  R:  Para  obter  os  melhores  resultados  na  preparação  dos  nossos  cafés,  sugerimos  \\nseguir\\n \\numa\\n \\nreceita\\n \\nbase\\n \\nonde\\n \\n15\\n \\ngramas\\n \\nde\\n \\ncafé\\n \\nsão\\n \\nusados\\n \\npara\\n \\ncada\\n \\n240\\n \\nmL\\n \\nde\\n \\nágua.\\n \\nEsta\\n \\nproporção\\n \\n(1:16)\\n \\né\\n \\nideal\\n \\npara\\n \\numa\\n \\nextração\\n \\ncompleta\\n \\ndos\\n \\nsabores\\n \\nricos\\n \\ne\\n \\nnuances\\n \\ndo\\n \\ncafé.\\n \\nClaro,\\n \\nvocê\\n \\npode\\n \\najustar\\n \\nas\\n \\nmedidas\\n \\npara\\n \\nmais\\n \\nou\\n \\npara\\n \\nmenos\\n \\nconforme\\n \\nsua\\n \\npreferência.\\n \\nCaso\\n \\nseja\\n \\nsua\\n \\nprimeira\\n \\nexperiência\\n \\ncom\\n \\nnossos\\n \\ncafés,\\n \\nessa\\n \\nreceita\\n \\nserve\\n \\ncomo\\n \\num\\n \\nexcelente\\n \\nponto\\n \\nde\\n \\npartida.\\n  P:  Qual  método  vocês  recomendam  para  preparar  os  cafés  da  Serenatto?  R:  Nós  recomendamos  o  V60,  um  método  de  preparo  de  café  que  se  destaca  pelo  seu  \\nformato\\n \\ncônico\\n \\ncom\\n \\nlinhas\\n \\nespirais\\n \\ninternas\\n \\ne\\n \\numa\\n \\ngrande\\n \\nabertura\\n \\nna\\n \\nbase.\\n \\nEssas\\n \\ncaracterísticas\\n \\npermitem\\n \\num\\n \\ncontrole\\n \\npreciso\\n \\nsobre\\n \\na\\n \\ninfusão,\\n \\nresultando\\n \\nem\\n \\num\\n \\ncafé\\n \\ncom\\n \\nextração\\n \\nuniforme\\n \\ne\\n \\nrica\\n \\nem\\n \\nsabores.\\n  P:  Qual  é  o  passo  a  passo  para  preparar  o  café  coado?  R:  Você  pode  seguir  as  seguintes  etapas  do  preparo:  1.  Preparação  da  água:  Aqueça  a  água  até  uma  temperatura  entre  94ºC  e  96ºC.  2.  Pesagem  do  café:  Use  a  proporção  de  1  grama  de  café  para  cada  16  mL  de  água.  3.  Moagem  do  café:  Moa  o  café  até  atingir  uma  granulação  média-fina,  semelhante  a  \\naçúcar\\n \\ncristal.\\n \\n 4.  Preparação  do  filtro:  Coloque  o  filtro  de  papel  no  suporte  V60.  Antes  de  adicionar  o  \\ncafé,\\n \\nescalde\\n \\no\\n \\nfiltro\\n \\ncom\\n \\nágua\\n \\nquente\\n \\npara\\n \\nremover\\n \\nqualquer\\n \\nsabor\\n \\nde\\n \\npapel\\n \\ne\\n \\npré-aquecer\\n \\no\\n \\nsuporte.\\n 5.  Adição  do  café:  Despeje  o  pó  no  filtro.  6.  Infusão:  Adicione  a  água  quente  lentamente  sobre  o  café,  preferencialmente  em  \\nciclos,\\n \\ncomeçando\\n \\ndo\\n \\ncentro\\n \\ne\\n \\nmovendo\\n \\npara\\n \\nfora\\n \\nem\\n \\nmovimento\\n \\nespiral.\\n \\nIsso\\n \\najuda\\n \\na\\n \\ngarantir\\n \\numa\\n \\nextração\\n \\nuniforme\\n \\nde\\n \\ntodos\\n \\nos\\n \\nsabores\\n \\ne\\n \\naromas.\\n 7.  Finalização:  Após  a  passagem  da  água,  remova  o  filtro  e  descarte-o.  Agora  é  só  \\nservir\\n \\ne\\n \\ndesfrutar\\n \\ndo\\n \\nseu\\n \\ndelicioso\\n \\ncafé.\\n  P:  Que  tipo  de  água  devo  usar  para  fazer  café?   R:  Recomendamos  usar  água  filtrada  com  baixo  teor  de  minerais.  A  qualidade  da  água  \\ntem\\n \\num\\n \\ngrande\\n \\nimpacto\\n \\nno\\n \\nsabor\\n \\nfinal\\n \\ndo\\n \\ncafé,\\n \\npor\\n \\nisso\\n \\nágua\\n \\npura,\\n \\nsem\\n \\ncloro\\n \\nou\\n \\nimpurezas,\\n \\né\\n \\nessencial.\\n     ', path=None, url=None, mimetype=None), image_resource=None, audio_resource=None, video_resource=None, text_template='{metadata_str}\\n\\n{content}'),\n",
              " Document(id_='8c4ae5eb-e5d2-40d1-b437-34c91595b60b', embedding=None, metadata={'page_label': '8', 'file_name': 'serenatto_cafes_especiais.pdf', 'file_path': '/content/documentos/serenatto_cafes_especiais.pdf', 'file_type': 'application/pdf', 'file_size': 133957, 'creation_date': '2025-03-12', 'last_modified_date': '2025-03-12'}, excluded_embed_metadata_keys=['file_name', 'file_type', 'file_size', 'creation_date', 'last_modified_date', 'last_accessed_date'], excluded_llm_metadata_keys=['file_name', 'file_type', 'file_size', 'creation_date', 'last_modified_date', 'last_accessed_date'], relationships={}, metadata_template='{key}: {value}', metadata_separator='\\n', text_resource=MediaResource(embeddings=None, data=None, text='Café  gelado   P:  Como  posso  preparar  café  gelado?   R:  Para  preparar  um  delicioso  café  gelado,  você  pode  usar  o  método  do  coado,  \\ncontendo\\n \\n40%\\n \\ndo\\n \\nvolume\\n \\nem\\n \\ngelo\\n \\ne\\n \\n60%\\n \\ndo\\n \\nvolume\\n \\nem\\n \\nágua\\n \\nquente,\\n \\nseguindo\\n \\nas\\n \\nseguintes\\n \\netapas:\\n 1.  Pesagem  do  café:  Use  a  proporção  de  1  grama  de  café  para  cada  16  mL  de  água  \\ntotal\\n 2.  Moagem  do  Café:  Moa  o  café  levemente  mais  fino  do  que  o  usado  para  coado  \\nnormal.\\n \\nIsso\\n \\najudará\\n \\nna\\n \\nextração\\n \\ndos\\n \\nsabores,\\n \\ndado\\n \\no\\n \\ntempo\\n \\nde\\n \\ncontato\\n \\nmais\\n \\ncurto\\n \\ncom\\n \\na\\n \\nágua.\\n 3.  Preparação  do  Filtro:  Coloque  o  filtro  de  papel  no  suporte  e  escalde-o  com  água  \\nquente.\\n \\nIsso\\n \\nremove\\n \\nqualquer\\n \\nsabor\\n \\nresidual\\n \\ndo\\n \\npapel\\n \\ne\\n \\najuda\\n \\na\\n \\npré-aquecer\\n \\no\\n \\nsuporte.\\n 4.  Preparação  do  Gelo:  Coloque  gelo  para  ocupar  cerca  de  40%  do  volume  total  da  sua  \\njarra\\n \\nou\\n \\nrecipiente.\\n 5.  Adição  do  café:  Despeje  o  pó  no  filtro.  6.  Pré-infusão:  Adicione  uma  pequena  quantidade  de  água  quente  (entre  94ºC  e  96ºC)  \\nsobre\\n \\no\\n \\ncafé\\n \\nmoído\\n \\nno\\n \\nfiltro,\\n \\nsuficiente\\n \\npara\\n \\numedecer\\n \\ntodo\\n \\no\\n \\ncafé.\\n \\nDeixe\\n \\nem\\n \\npré-infusão\\n \\npor\\n \\n1\\n \\nminuto\\n \\npara\\n \\nliberar\\n \\nos\\n \\nóleos\\n \\nessenciais\\n \\ne\\n \\naromas\\n \\ndo\\n \\ncafé.\\n \\n 7.  Despejo:  Após  a  pré-infusão,  continue  adicionando  a  água  quente  em  ciclos,  \\ndespejando\\n \\nlentamente\\n \\nem\\n \\nmovimentos\\n \\ncirculares\\n \\npara\\n \\ngarantir\\n \\numa\\n \\nextração\\n \\nuniforme.\\n 8.  Finalização:  Após  completar  os  despejos,  deixe  o  café  terminar  de  filtrar  sobre  o  \\ngelo.\\n \\nO\\n \\ngelo\\n \\nderreterá\\n \\nparcialmente,\\n \\nresfriando\\n \\no\\n \\ncafé\\n \\ninstantaneamente\\n \\ne\\n \\ndiluindo-o\\n \\nna\\n \\nproporção\\n \\ncorreta.\\n Este  método  garante  um  café  coado  gelado  refrescante  e  saboroso,  perfeito  para  os  \\ndias\\n \\nmais\\n \\nquentes!\\n              ', path=None, url=None, mimetype=None), image_resource=None, audio_resource=None, video_resource=None, text_template='{metadata_str}\\n\\n{content}'),\n",
              " Document(id_='4d0bf0f7-6957-4fc9-b4fa-61bf53dbbb47', embedding=None, metadata={'page_label': '9', 'file_name': 'serenatto_cafes_especiais.pdf', 'file_path': '/content/documentos/serenatto_cafes_especiais.pdf', 'file_type': 'application/pdf', 'file_size': 133957, 'creation_date': '2025-03-12', 'last_modified_date': '2025-03-12'}, excluded_embed_metadata_keys=['file_name', 'file_type', 'file_size', 'creation_date', 'last_modified_date', 'last_accessed_date'], excluded_llm_metadata_keys=['file_name', 'file_type', 'file_size', 'creation_date', 'last_modified_date', 'last_accessed_date'], relationships={}, metadata_template='{key}: {value}', metadata_separator='\\n', text_resource=MediaResource(embeddings=None, data=None, text='Outros  métodos  de  preparo  além  do  recomendado:   P:  Posso  usar  os  cafés  da  Serenatto  em  máquinas  de  espresso?  R:  Sim,  nossos  cafés  podem  ser  usados  em  máquinas  de  espresso.  Para  esse  método,  \\nrecomendamos\\n \\numa\\n \\nmoagem\\n \\nfina\\n \\ne\\n \\ncafés\\n \\ncom\\n \\ntorra\\n \\nmédia\\n \\nou\\n \\nescura,\\n \\ncomo\\n \\no\\n \\nBourbon\\n \\nvermelho\\n \\nou\\n \\no\\n \\nBlend\\n \\nespecial,\\n \\nque\\n \\npossuem\\n \\ncorpo\\n \\nencorpado\\n \\ne\\n \\nsabores\\n \\nintensos.\\n  P:  Vocês  têm  dicas  para  French  Press?  R:  Para  o  French  Press,  recomendamos  uma  moagem  grossa  e  uma  proporção  de  \\n1:15\\n \\n(1\\n \\ngrama\\n \\nde\\n \\ncafé\\n \\npara\\n \\n15\\n \\nmL\\n \\nde\\n \\nágua).\\n \\nUse\\n \\nágua\\n \\na\\n \\n94ºC\\n \\ne\\n \\ndeixe\\n \\no\\n \\ncafé\\n \\nem\\n \\ninfusão\\n \\npor\\n \\n4\\n \\nminutos.\\n \\nDepois,\\n \\npressione\\n \\no\\n \\nêmbolo\\n \\nlentamente\\n \\ne\\n \\nsirva\\n \\nimediatamente.\\n  P:  Qual  café  é  melhor  para  preparo  cold  brew?  R:  Para  cold  brew,  recomendamos  o  Catuaí  amarelo  ou  o  yirgacheffe,  que  possuem  \\nnotas\\n \\nfrutadas\\n \\ne\\n \\nacidez\\n \\nvibrante,\\n \\ncaracterísticas\\n \\nque\\n \\nse\\n \\ndestacam\\n \\nnesse\\n \\nmétodo\\n \\nde\\n \\npreparo.\\n \\nUse\\n \\numa\\n \\nmoagem\\n \\ngrossa\\n \\ne\\n \\ndeixe\\n \\nem\\n \\ninfusão\\n \\npor\\n \\n12\\n \\na\\n \\n24\\n \\nhoras\\n \\nna\\n \\ngeladeira.\\n  P:  Qual  é  a  moagem  ideal  para  diferentes  tipos  de  preparo?   R:  A  moagem  varia  de  acordo  com  o  método  de  preparo:  ●  Espresso:  Moagem  fina  ●  V60:  Moagem  média-fina  ●  French  Press:  Moagem  grossa  ●  Cold  Brew:  Moagem  grossa   Adaptar  a  moagem  ao  método  de  preparo  ajuda  a  maximizar  o  sabor  e  a  qualidade  da  \\nbebida.\\n  P:  Por  que  moer  o  café  na  hora  é  importante?  R:  Moer  o  café  na  hora  é  essencial  para  garantir  uma  bebida  de  alta  qualidade,  pois  \\npreserva\\n \\no\\n \\nfrescor,\\n \\no\\n \\naroma\\n \\ne\\n \\nos\\n \\nsabores\\n \\nnaturais\\n \\ndos\\n \\ngrãos.\\n \\nQuando\\n \\no\\n \\ncafé\\n \\né\\n \\nmoído,\\n \\nseus\\n \\nóleos\\n \\ne\\n \\ncompostos\\n \\naromáticos\\n \\ncomeçam\\n \\na\\n \\nse\\n \\ndegradar\\n \\nrapidamente\\n \\nem\\n \\ncontato\\n \\ncom\\n \\no\\n \\nar.\\n \\nMoer\\n \\nna\\n \\nhora\\n \\nevita\\n \\nessa\\n \\nperda,\\n \\nresultando\\n \\nem\\n \\num\\n \\ncafé\\n \\nmais\\n \\nrico\\n \\ne\\n \\nsaboroso.\\n \\nAlém\\n \\ndisso,\\n \\npermite\\n \\najustar\\n \\na\\n \\nmoagem\\n \\npara\\n \\no\\n \\nmétodo\\n \\nde\\n \\npreparo\\n \\nescolhido,\\n \\ngarantindo\\n \\numa\\n \\nextração\\n \\nequilibrada\\n \\ne\\n \\nevitando\\n \\nsabores\\n \\naguados\\n \\nou\\n \\namargos.\\n \\n \\n ', path=None, url=None, mimetype=None), image_resource=None, audio_resource=None, video_resource=None, text_template='{metadata_str}\\n\\n{content}'),\n",
              " Document(id_='8480afd4-5188-4490-90df-b08005dd17a6', embedding=None, metadata={'page_label': '10', 'file_name': 'serenatto_cafes_especiais.pdf', 'file_path': '/content/documentos/serenatto_cafes_especiais.pdf', 'file_type': 'application/pdf', 'file_size': 133957, 'creation_date': '2025-03-12', 'last_modified_date': '2025-03-12'}, excluded_embed_metadata_keys=['file_name', 'file_type', 'file_size', 'creation_date', 'last_modified_date', 'last_accessed_date'], excluded_llm_metadata_keys=['file_name', 'file_type', 'file_size', 'creation_date', 'last_modified_date', 'last_accessed_date'], relationships={}, metadata_template='{key}: {value}', metadata_separator='\\n', text_resource=MediaResource(embeddings=None, data=None, text='Armazenamento  e  validade   P:  Como  devo  armazenar  os  grãos  de  café  para  manter  a  qualidade?  R:  Recomendamos  armazenar  os  grãos  em  um  recipiente  hermético,  longe  da  umidade  \\ne\\n \\ncalor.\\n \\nEvite\\n \\nguardar\\n \\no\\n \\ncafé\\n \\nna\\n \\ngeladeira,\\n \\npois\\n \\na\\n \\numidade\\n \\ne\\n \\nas\\n \\nvariações\\n \\nde\\n \\ntemperatura\\n \\npodem\\n \\nprejudicar\\n \\no\\n \\nsabor\\n \\ne\\n \\no\\n \\naroma.\\n  P:  Qual  é  a  validade  dos  cafés  da  Serenatto?  R:  Nossos  cafés  são  enviados  recém-torrados  para  garantir  frescor.  Para  uma  \\nexperiência\\n \\nmelhor\\n \\ncom\\n \\nas\\n \\ncaracterísticas\\n \\ndas\\n \\nnotas\\n \\nsensoriais\\n \\ne\\n \\na\\n \\nintensidade\\n \\ndo\\n \\naroma,\\n \\no\\n \\nconsumo\\n \\ndeve\\n \\nser\\n \\nentre\\n \\ntrês\\n \\ne\\n \\nquatro\\n \\nmeses.\\n \\nNo\\n \\nentanto,\\n \\ndepois\\n \\nde\\n \\naberto,\\n \\no\\n \\nconsumo\\n \\ndeve\\n \\nser,\\n \\nde\\n \\npreferência,\\n \\nentre\\n \\nduas\\n \\n(quando\\n \\nestiver\\n \\nmoído)\\n \\na\\n \\nquatro\\n \\nsemanas\\n \\n(em\\n \\ngrãos)\\n \\nda\\n \\ndata\\n \\nda\\n \\ntorra.\\n  ', path=None, url=None, mimetype=None), image_resource=None, audio_resource=None, video_resource=None, text_template='{metadata_str}\\n\\n{content}')]"
            ]
          },
          "metadata": {},
          "execution_count": 9
        }
      ]
    },
    {
      "cell_type": "code",
      "source": [
        "len(docs)"
      ],
      "metadata": {
        "colab": {
          "base_uri": "https://localhost:8080/"
        },
        "id": "MhcrPm2MgZMm",
        "outputId": "d26bb70a-6a69-47f3-b313-953319e1ab56"
      },
      "execution_count": 10,
      "outputs": [
        {
          "output_type": "execute_result",
          "data": {
            "text/plain": [
              "10"
            ]
          },
          "metadata": {},
          "execution_count": 10
        }
      ]
    },
    {
      "cell_type": "code",
      "source": [
        "print(docs[0].get_metadata_str())"
      ],
      "metadata": {
        "colab": {
          "base_uri": "https://localhost:8080/"
        },
        "id": "AyyLy8MFgf-e",
        "outputId": "4d7bbc5e-ee9f-457b-de11-0b5640a83092"
      },
      "execution_count": 11,
      "outputs": [
        {
          "output_type": "stream",
          "name": "stdout",
          "text": [
            "page_label: 1\n",
            "file_name: serenatto_cafes_especiais.pdf\n",
            "file_path: /content/documentos/serenatto_cafes_especiais.pdf\n",
            "file_type: application/pdf\n",
            "file_size: 133957\n",
            "creation_date: 2025-03-12\n",
            "last_modified_date: 2025-03-12\n"
          ]
        }
      ]
    },
    {
      "cell_type": "code",
      "source": [
        "docs[0].__dict__"
      ],
      "metadata": {
        "colab": {
          "base_uri": "https://localhost:8080/"
        },
        "id": "phAo8_1ograD",
        "outputId": "a29ed134-f31e-496f-eee4-8b78c309a3e5"
      },
      "execution_count": 12,
      "outputs": [
        {
          "output_type": "execute_result",
          "data": {
            "text/plain": [
              "{'id_': '91a97816-e438-4cc7-bf06-b4d80e6a63b0',\n",
              " 'embedding': None,\n",
              " 'metadata': {'page_label': '1',\n",
              "  'file_name': 'serenatto_cafes_especiais.pdf',\n",
              "  'file_path': '/content/documentos/serenatto_cafes_especiais.pdf',\n",
              "  'file_type': 'application/pdf',\n",
              "  'file_size': 133957,\n",
              "  'creation_date': '2025-03-12',\n",
              "  'last_modified_date': '2025-03-12'},\n",
              " 'excluded_embed_metadata_keys': ['file_name',\n",
              "  'file_type',\n",
              "  'file_size',\n",
              "  'creation_date',\n",
              "  'last_modified_date',\n",
              "  'last_accessed_date'],\n",
              " 'excluded_llm_metadata_keys': ['file_name',\n",
              "  'file_type',\n",
              "  'file_size',\n",
              "  'creation_date',\n",
              "  'last_modified_date',\n",
              "  'last_accessed_date'],\n",
              " 'relationships': {},\n",
              " 'metadata_template': '{key}: {value}',\n",
              " 'metadata_separator': '\\n',\n",
              " 'text_resource': MediaResource(embeddings=None, data=None, text='Serenatto  –  Loja  online  de  cafés  especiais   Informações  gerais   P:  Quais  produtos  são  vendidos  no  site  da  Serenatto?  R:  A  Serenatto  é  uma  loja  online  especializada  na  venda  de  grãos  de  cafés  especiais,  \\noferecendo\\n \\ngrãos\\n \\ntorrados,\\n \\nprovenientes\\n \\nde\\n \\nfazendas\\n \\nselecionadas\\n \\nde\\n \\nMinas\\n \\nGerais.\\n \\nTodos\\n \\nos\\n \\nnossos\\n \\ncafés\\n \\npossuem\\n \\nnota\\n \\nSCA\\n \\nacima\\n \\nde\\n \\n80,\\n \\ngarantindo\\n \\nalta\\n \\nqualidade\\n \\ne\\n \\nperfis\\n \\nsensoriais\\n \\nexcepcionais.\\n  P:  De  onde  vêm  os  grãos  de  café  da  Serenatto?   R:  Nossos  grãos  são  cuidadosamente  selecionados  de  fazendas  localizadas  em  Minas  \\nGerais,\\n \\nconhecidas\\n \\npela\\n \\nalta\\n \\nqualidade\\n \\nde\\n \\nseus\\n \\ncafés\\n \\nespeciais.\\n \\nCada\\n \\nfazenda\\n \\né\\n \\nescolhida\\n \\npor\\n \\nsuas\\n \\npráticas\\n \\nsustentáveis\\n \\ne\\n \\npelo\\n \\ncuidado\\n \\nexcepcional\\n \\ncom\\n \\na\\n \\nprodução.\\n  P:  Qual  é  a  quantidade  vendida?  R:  Os  grãos  já  torrados  são  vendidos  em  pacotes  de  250g   P:  Quais  são  as  variedades  de  café  disponíveis?  R:  Trabalhamos  com  as  seguintes  variedades  de  café  em  grãos:  ●  Bourbon  vermelho  ●  Bourbon  amarelo  ●  Blend  especial  (Mistura  de  Bourbon  amarelo  e  vermelho)  ●  Catuaí  amarelo  ●  Geisha  ●  Yirgacheffe   P:  Quais  são  os  preços  de  cada  variedade  de  café?  R:  Os  preços  sãos  os  seguintes:  ●  Bourbon  vermelho:  R$  41,00  ●  Bourbon  amarelo:  R$  43,00  ●  Blend  especial:  R$  37,50  ●  Catuaí  amarelo:  R$  55,00  ●  Geisha:  R$  105,00  ●  Yirgacheffe:  R$  110,00      ', path=None, url=None, mimetype=None),\n",
              " 'image_resource': None,\n",
              " 'audio_resource': None,\n",
              " 'video_resource': None,\n",
              " 'text_template': '{metadata_str}\\n\\n{content}'}"
            ]
          },
          "metadata": {},
          "execution_count": 12
        }
      ]
    },
    {
      "cell_type": "code",
      "source": [
        "# importando a biblioteca para fazer o parse da informação\n",
        "from llama_index.core.node_parser import SentenceSplitter"
      ],
      "metadata": {
        "id": "ZzRN8HwvhYlb"
      },
      "execution_count": 13,
      "outputs": []
    },
    {
      "cell_type": "code",
      "source": [
        "node_parser = SentenceSplitter(chunk_size=1200) # chunk para dividir o doc"
      ],
      "metadata": {
        "id": "vQCSSqhQhuJ6"
      },
      "execution_count": 15,
      "outputs": []
    },
    {
      "cell_type": "code",
      "source": [
        "nodes = node_parser.get_nodes_from_documents(docs, show_progress=True)"
      ],
      "metadata": {
        "colab": {
          "base_uri": "https://localhost:8080/",
          "height": 49,
          "referenced_widgets": [
            "17bb18e6022b4ad8abcb732a41caeedb",
            "605573b5519d438ca95f160f919940e1",
            "063d9b8e8fec489b837c482edafb26c7",
            "254a64df149e44e0945f188aab31753a",
            "0cad105c714d4f63a311bdd131e2e74c",
            "a99f54bf528e4cca9bf05c388adf3826",
            "ab1eb13b231d4445b3b5723ee7e748df",
            "cf8acd60c4fe4693a6ff9bbe563c7f7c",
            "f4dd4d18120c48ed9298a0fbbc6d5115",
            "85da494213b74a94954c2470326d95bb",
            "ca5f6ff6b8fe49f08122b66930deffb0"
          ]
        },
        "id": "fuS23lLwh6Bb",
        "outputId": "9808253c-eeb3-4399-d748-0295cc89875e"
      },
      "execution_count": 16,
      "outputs": [
        {
          "output_type": "display_data",
          "data": {
            "text/plain": [
              "Parsing nodes:   0%|          | 0/10 [00:00<?, ?it/s]"
            ],
            "application/vnd.jupyter.widget-view+json": {
              "version_major": 2,
              "version_minor": 0,
              "model_id": "17bb18e6022b4ad8abcb732a41caeedb"
            }
          },
          "metadata": {}
        }
      ]
    },
    {
      "cell_type": "code",
      "source": [
        "nodes"
      ],
      "metadata": {
        "colab": {
          "base_uri": "https://localhost:8080/"
        },
        "collapsed": true,
        "id": "davTxqLtiTiz",
        "outputId": "b19623bc-f68f-48fa-fb2c-7e0fca98dd55"
      },
      "execution_count": 17,
      "outputs": [
        {
          "output_type": "execute_result",
          "data": {
            "text/plain": [
              "[TextNode(id_='3bf89050-e221-4443-828a-e338b84970c7', embedding=None, metadata={'page_label': '1', 'file_name': 'serenatto_cafes_especiais.pdf', 'file_path': '/content/documentos/serenatto_cafes_especiais.pdf', 'file_type': 'application/pdf', 'file_size': 133957, 'creation_date': '2025-03-12', 'last_modified_date': '2025-03-12'}, excluded_embed_metadata_keys=['file_name', 'file_type', 'file_size', 'creation_date', 'last_modified_date', 'last_accessed_date'], excluded_llm_metadata_keys=['file_name', 'file_type', 'file_size', 'creation_date', 'last_modified_date', 'last_accessed_date'], relationships={<NodeRelationship.SOURCE: '1'>: RelatedNodeInfo(node_id='91a97816-e438-4cc7-bf06-b4d80e6a63b0', node_type=<ObjectType.DOCUMENT: '4'>, metadata={'page_label': '1', 'file_name': 'serenatto_cafes_especiais.pdf', 'file_path': '/content/documentos/serenatto_cafes_especiais.pdf', 'file_type': 'application/pdf', 'file_size': 133957, 'creation_date': '2025-03-12', 'last_modified_date': '2025-03-12'}, hash='820b277edf233136c5afd69d8b63f74658d9de4c25893c4e5d205bcb010e8b2e')}, metadata_template='{key}: {value}', metadata_separator='\\n', text='Serenatto  –  Loja  online  de  cafés  especiais   Informações  gerais   P:  Quais  produtos  são  vendidos  no  site  da  Serenatto?  R:  A  Serenatto  é  uma  loja  online  especializada  na  venda  de  grãos  de  cafés  especiais,  \\noferecendo\\n \\ngrãos\\n \\ntorrados,\\n \\nprovenientes\\n \\nde\\n \\nfazendas\\n \\nselecionadas\\n \\nde\\n \\nMinas\\n \\nGerais.\\n \\nTodos\\n \\nos\\n \\nnossos\\n \\ncafés\\n \\npossuem\\n \\nnota\\n \\nSCA\\n \\nacima\\n \\nde\\n \\n80,\\n \\ngarantindo\\n \\nalta\\n \\nqualidade\\n \\ne\\n \\nperfis\\n \\nsensoriais\\n \\nexcepcionais.\\n  P:  De  onde  vêm  os  grãos  de  café  da  Serenatto?   R:  Nossos  grãos  são  cuidadosamente  selecionados  de  fazendas  localizadas  em  Minas  \\nGerais,\\n \\nconhecidas\\n \\npela\\n \\nalta\\n \\nqualidade\\n \\nde\\n \\nseus\\n \\ncafés\\n \\nespeciais.\\n \\nCada\\n \\nfazenda\\n \\né\\n \\nescolhida\\n \\npor\\n \\nsuas\\n \\npráticas\\n \\nsustentáveis\\n \\ne\\n \\npelo\\n \\ncuidado\\n \\nexcepcional\\n \\ncom\\n \\na\\n \\nprodução.\\n  P:  Qual  é  a  quantidade  vendida?  R:  Os  grãos  já  torrados  são  vendidos  em  pacotes  de  250g   P:  Quais  são  as  variedades  de  café  disponíveis?  R:  Trabalhamos  com  as  seguintes  variedades  de  café  em  grãos:  ●  Bourbon  vermelho  ●  Bourbon  amarelo  ●  Blend  especial  (Mistura  de  Bourbon  amarelo  e  vermelho)  ●  Catuaí  amarelo  ●  Geisha  ●  Yirgacheffe   P:  Quais  são  os  preços  de  cada  variedade  de  café?  R:  Os  preços  sãos  os  seguintes:  ●  Bourbon  vermelho:  R$  41,00  ●  Bourbon  amarelo:  R$  43,00  ●  Blend  especial:  R$  37,50  ●  Catuaí  amarelo:  R$  55,00  ●  Geisha:  R$  105,00  ●  Yirgacheffe:  R$  110,00', mimetype='text/plain', start_char_idx=0, end_char_idx=1515, metadata_seperator='\\n', text_template='{metadata_str}\\n\\n{content}'),\n",
              " TextNode(id_='5cd321e0-2750-4c54-b896-8ea0dc339012', embedding=None, metadata={'page_label': '2', 'file_name': 'serenatto_cafes_especiais.pdf', 'file_path': '/content/documentos/serenatto_cafes_especiais.pdf', 'file_type': 'application/pdf', 'file_size': 133957, 'creation_date': '2025-03-12', 'last_modified_date': '2025-03-12'}, excluded_embed_metadata_keys=['file_name', 'file_type', 'file_size', 'creation_date', 'last_modified_date', 'last_accessed_date'], excluded_llm_metadata_keys=['file_name', 'file_type', 'file_size', 'creation_date', 'last_modified_date', 'last_accessed_date'], relationships={<NodeRelationship.SOURCE: '1'>: RelatedNodeInfo(node_id='5baf0685-f6f2-4bed-a152-e0d7c7aa142a', node_type=<ObjectType.DOCUMENT: '4'>, metadata={'page_label': '2', 'file_name': 'serenatto_cafes_especiais.pdf', 'file_path': '/content/documentos/serenatto_cafes_especiais.pdf', 'file_type': 'application/pdf', 'file_size': 133957, 'creation_date': '2025-03-12', 'last_modified_date': '2025-03-12'}, hash='bec847adca4a9c68d4526807d4fdfcd29c4c111dea59690f379b9554edd6a790')}, metadata_template='{key}: {value}', metadata_separator='\\n', text='P:  A  Serenatto  oferece  cafés  descafeinados?  R:  No  momento,  trabalhamos  apenas  com  cafés  especiais  que  contêm  cafeína.  Todos  \\nos\\n \\nnossos\\n \\ngrãos\\n \\nsão\\n \\nselecionados\\n \\npara\\n \\noferecer\\n \\na\\n \\nmelhor\\n \\nexperiência\\n \\nsensorial,\\n \\nmas\\n \\nnão\\n \\ntemos\\n \\nopções\\n \\ndescafeinadas\\n \\nem\\n \\nnosso\\n \\nportfólio.\\n  P:  Vocês  enviam  para  todos  os  estados  brasileiros?  R:  Sim,  os  cafés  são  enviados  para  todos  os  estados  brasileiros.    P:  Qual  é  o  prazo  de  envio?  R:  O  envio  dos  pedidos  é  realizado  em  até  3  dias  úteis  após  a  confirmação  do  \\npagamento,\\n \\npois\\n \\nenviamos\\n \\no\\n \\ncafé\\n \\nrecém\\n \\ntorrado\\n \\npara\\n \\ngarantir\\n \\nfrescor\\n \\ne\\n \\nqualidade.\\n  P:  Quais  são  os  métodos  de  pagamento  aceitos?  R:  Aceitamos  PIX,  boleto  bancário  e  cartão  de  crédito.   P:  Vocês  oferecem  cursos  ou  workshops  sobre  café?  R:  Estamos  planejando  oferecer  workshops  e  cursos  sobre  métodos  de  preparo  e  \\ndegustação\\n \\nde\\n \\ncafé\\n \\nem\\n \\nbreve.\\n \\nFique\\n \\nde\\n \\nolho\\n \\nem\\n \\nnossas\\n \\nredes\\n \\nsociais\\n \\ne\\n \\nnewsletter\\n \\npara\\n \\nmais\\n \\ninformações.\\n  P:  A  Serenatto  oferece  um  serviço  de  assinatura?   R:  Atualmente,  não  oferecemos  um  serviço  de  assinatura.  No  entanto,  você  pode  \\nrealizar\\n \\npedidos\\n \\nrecorrentes\\n \\nmanualmente\\n \\natravés\\n \\nde\\n \\nnosso\\n \\nsite.\\n \\nEstamos\\n \\nsempre\\n \\navaliando\\n \\nnovos\\n \\nserviços\\n \\nque\\n \\npossam\\n \\nmelhorar\\n \\na\\n \\nexperiência\\n \\nde\\n \\nnossos\\n \\nclientes,\\n \\nentão\\n \\nfique\\n \\natento\\n \\nàs\\n \\natualizações\\n \\nfuturas.\\n  P:  Onde  posso  tirar  mais  dúvidas?  R:  Para  mais  informações,  entre  em  contato  pelo  whatsapp  (11)  99999-9999  ou  envie  \\nemail\\n \\npara\\n \\ncontato@serenatto.com.br.', mimetype='text/plain', start_char_idx=0, end_char_idx=1671, metadata_seperator='\\n', text_template='{metadata_str}\\n\\n{content}'),\n",
              " TextNode(id_='ab4034a8-add4-4f23-9adb-0a8af49c3909', embedding=None, metadata={'page_label': '3', 'file_name': 'serenatto_cafes_especiais.pdf', 'file_path': '/content/documentos/serenatto_cafes_especiais.pdf', 'file_type': 'application/pdf', 'file_size': 133957, 'creation_date': '2025-03-12', 'last_modified_date': '2025-03-12'}, excluded_embed_metadata_keys=['file_name', 'file_type', 'file_size', 'creation_date', 'last_modified_date', 'last_accessed_date'], excluded_llm_metadata_keys=['file_name', 'file_type', 'file_size', 'creation_date', 'last_modified_date', 'last_accessed_date'], relationships={<NodeRelationship.SOURCE: '1'>: RelatedNodeInfo(node_id='6dbb8f95-fd4b-4e3c-8172-6403028ce8f7', node_type=<ObjectType.DOCUMENT: '4'>, metadata={'page_label': '3', 'file_name': 'serenatto_cafes_especiais.pdf', 'file_path': '/content/documentos/serenatto_cafes_especiais.pdf', 'file_type': 'application/pdf', 'file_size': 133957, 'creation_date': '2025-03-12', 'last_modified_date': '2025-03-12'}, hash='65b2a41b84abe02a09183b5af96433fa65bc66d1ee2b2b14ad412aa9d26e11e2')}, metadata_template='{key}: {value}', metadata_separator='\\n', text='Variedades  dos  grãos   P:  Quais  são  as  características  de  cada  variedade  de  café?  R:  As  variedades  têm  as  seguintes  características:  ●  Bourbon  vermelho:  Doçura  intensa,  corpo  encorpado,  notas  de  chocolate.  ●  Bourbon  amarelo:  Acidez  vibrante,  notas  cítricas  de  maracujá,  ameixa  e  nêspera .   ●  Blend  especial:  Mistura  do  bourbon  vermelho  e  bourbon  amarelo,  gerando  \\nequilíbrio\\n \\nentre\\n \\ndoçura\\n \\ne\\n \\nacidez,\\n \\ncom\\n \\nnotas\\n \\nde\\n \\ncaramelo\\n \\ne\\n \\nchocolate.\\n ●  Catuaí  amarelo:  Perfil  exótico,  que  carrega  uma  expressiva  acidez  e  notas  de  \\nacerola\\n \\ne\\n \\npitanga.\\n \\n ●  Geisha:  Aroma  floral,  notas  de  jasmim  e  mamão  papaya.   ●  Yirgacheffe:  Acidez  vibrante,  notas  de  mel  de  laranjeira,  chá  de  capim-limão  e  \\nmaçã\\n \\nfuji.\\n \\n  P:  Quero  saber  mais  detalhes  sobre  o  Bourbon  vermelho.  R:  Este  café  possui  doçura  máxima  (5/5),  que  causa  sensação  aveludada  no  céu  da  \\nboca.\\n \\nO\\n \\ncorpo\\n \\né\\n \\nencorpado\\n \\n(5/5)\\n \\ne\\n \\na\\n \\nacidez\\n \\né\\n \\nbaixa\\n \\n(1/5),\\n \\ncom\\n \\num\\n \\nleve\\n \\namargor\\n \\n(2/5).\\n \\nSeu\\n \\nperfil\\n \\nsensorial\\n \\né\\n \\nmarcado\\n \\npor\\n \\nnotas\\n \\nde\\n \\nchocolate.\\n \\nO\\n \\nprocesso\\n \\nde\\n \\nprodução\\n \\né\\n \\nnatural,\\n \\ncultivado\\n \\nem\\n \\naltitudes\\n \\nentre\\n \\n1.200m\\n \\ne\\n \\n1.450m,\\n \\ncom\\n \\ntorra\\n \\nmédia\\n \\nescura.\\n \\n  P:  Quero  mais  detalhes  sobre  o  Bourbon  amarelo.  R:  Este  café  possui  doçura  moderada  (3/5),  corpo  médio  (3/5),  alta  acidez  (5/5)  e  baixo  \\namargor\\n \\n(1/5).\\n \\nPossui\\n \\nsabor\\n \\nresidual\\n \\nlongo\\n \\ne\\n \\nintenso\\n \\nde\\n \\nfrutas\\n \\ncítricas,\\n \\nincluindo\\n \\nnotas\\n \\nde\\n \\nmaracujá,\\n \\nameixa\\n \\ne\\n \\nnêspera.\\n \\nO\\n \\nprocesso\\n \\nutilizado\\n \\né\\n \\no\\n \\ncereja\\n \\ndescascado,\\n \\ncultivado\\n \\nem\\n \\naltitudes\\n \\nentre\\n \\n1.200m\\n \\ne\\n \\n1.450m,\\n \\ncom\\n \\ntorra\\n \\nmédia\\n \\nclara.\\n \\n  P:  Quero  saber  mais  detalhes  sobre  o  Blend  especial.  R:  É  uma  mistura  do  Bourbon  amarelo  com  o  Bourbon  vermelho,  ideal  para  quem  \\nbusca\\n \\no\\n \\nequilíbrio\\n \\nperfeito.\\n \\nEsta\\n \\nmistura\\n \\napresenta\\n \\ndoçura\\n \\nalta\\n \\n(4/5),\\n \\ncorpo\\n \\nmédio-alto\\n \\n(4/5)\\n \\ne\\n \\nacidez\\n \\nmédia-alta\\n \\n(4/5),\\n \\ncom\\n \\namargor\\n \\nbaixo\\n \\n(1/5).\\n \\nSeu\\n \\nperfil\\n \\nsensorial\\n \\ncombina\\n \\ncaramelo\\n \\ne\\n \\nchocolate.\\n \\nO\\n \\nprocesso\\n \\ninclui\\n \\ncereja\\n \\ndescascado\\n \\ne\\n \\nnatural,\\n \\ncultivado\\n \\nem\\n \\naltitudes\\n \\nentre\\n \\n1.200m\\n \\ne\\n \\n1.450m,\\n \\ncom\\n \\ntorra\\n \\nmédia.\\n  P:  Quero  mais  detalhes  sobre  o  Catuaí  amarelo.  R:  Este  café  possui  doçura  máxima  (5/5)  e  corpo  médio-alto  (4/5)  e  amargor  baixo  \\n(1/5).\\n \\nEle\\n \\nainda\\n \\ncarrega\\n \\numa\\n \\nexpressiva\\n \\nacidez\\n \\ne\\n \\nnotas\\n \\nmaravilhosas\\n \\nde\\n \\npitanga,\\n \\nfugindo\\n \\nmuito\\n \\ndo\\n \\ntradicional.\\n \\nÉ\\n \\num\\n \\ncafé\\n \\npara\\n \\nquem\\n \\nbusca\\n \\numa\\n \\nexperiência\\n \\nsensorial\\n \\ndiferenciada.\\n \\nO\\n \\nprocesso\\n \\né\\n \\nfermentado,\\n \\ncultivado\\n \\nem\\n \\naltitude\\n \\nde\\n \\n1.200m,\\n \\ncom\\n \\ntorra\\n \\nmédia.', mimetype='text/plain', start_char_idx=0, end_char_idx=2787, metadata_seperator='\\n', text_template='{metadata_str}\\n\\n{content}'),\n",
              " TextNode(id_='e6fa0a7a-83d6-4004-8174-60531673fe04', embedding=None, metadata={'page_label': '4', 'file_name': 'serenatto_cafes_especiais.pdf', 'file_path': '/content/documentos/serenatto_cafes_especiais.pdf', 'file_type': 'application/pdf', 'file_size': 133957, 'creation_date': '2025-03-12', 'last_modified_date': '2025-03-12'}, excluded_embed_metadata_keys=['file_name', 'file_type', 'file_size', 'creation_date', 'last_modified_date', 'last_accessed_date'], excluded_llm_metadata_keys=['file_name', 'file_type', 'file_size', 'creation_date', 'last_modified_date', 'last_accessed_date'], relationships={<NodeRelationship.SOURCE: '1'>: RelatedNodeInfo(node_id='5a8c5f28-1f9e-4a4a-abe0-5d9d08c93110', node_type=<ObjectType.DOCUMENT: '4'>, metadata={'page_label': '4', 'file_name': 'serenatto_cafes_especiais.pdf', 'file_path': '/content/documentos/serenatto_cafes_especiais.pdf', 'file_type': 'application/pdf', 'file_size': 133957, 'creation_date': '2025-03-12', 'last_modified_date': '2025-03-12'}, hash='b82102440f6699a6ddd49badfc337f8b613231e32c580166af49db205c8a577f')}, metadata_template='{key}: {value}', metadata_separator='\\n', text='P:  Quero  saber  mais  detalhes  sobre  o  Geisha.  R:  Este  café  premium  possui  doçura  máxima  (5/5),  corpo  encorpado  (5/5)  e  acidez  \\nmoderada-alta\\n \\n(4/5),\\n \\ncom\\n \\namargor\\n \\nbaixo\\n \\n(1/5).\\n \\nSeu\\n \\nperfil\\n \\nsensorial\\n \\ntem\\n \\naroma\\n \\nfloral\\n \\ne\\n \\né\\n \\nmarcado\\n \\npor\\n \\nnotas\\n \\nde\\n \\njasmim\\n \\ne\\n \\nmamão\\n \\npapaya.\\n \\nO\\n \\nprocesso\\n \\né\\n \\nfermentado,\\n \\ncultivado\\n \\nem\\n \\naltitude\\n \\nde\\n \\n1.150m,\\n \\ncom\\n \\ntorra\\n \\nclara.\\n  P:  Quero  saber  mais  detalhes  sobre  o  Yirgacheffe.   R:  Este  café  premium  possui  doçura  máxima  (5/5)  e  corpo  médio-alto  (4/5),  \\ndestacando-se\\n \\npela\\n \\nalta\\n \\nacidez\\n \\n(5/5)\\n \\ne\\n \\namargor\\n \\nbaixo\\n \\n(1/5).\\n \\nSeu\\n \\nperfil\\n \\nsensorial\\n \\ninclui\\n \\nnotas\\n \\nde\\n \\nmel\\n \\nde\\n \\nlaranjeira,\\n \\nchá\\n \\nde\\n \\ncapim-limão\\n \\ne\\n \\nmaçã\\n \\nfuji.\\n \\nA\\n \\nacidez\\n \\né\\n \\nvibrante,\\n \\ncom\\n \\ncorpo\\n \\nsedoso\\n \\ne\\n \\nfinalização\\n \\ndoce\\n \\nfrutada.\\n \\nO\\n \\nprocesso\\n \\né\\n \\nfermentado,\\n \\ncultivado\\n \\nem\\n \\naltitude\\n \\nde\\n \\n1.300m,\\n \\ncom\\n \\ntorra\\n \\nclara.\\n \\n  P:  Qual  café  da  Serenatto  é  mais  indicado  para  quem  prefere  sabores  suaves?  R:  Para  quem  prefere  sabores  suaves,  recomendamos  o  Bourbon  Vermelho,  que  \\npossui\\n \\ndoçura\\n \\nintensa,\\n \\ncorpo\\n \\nencorpado\\n \\ne\\n \\nnotas\\n \\nde\\n \\nchocolate,\\n \\ncom\\n \\nacidez\\n \\nbaixa\\n \\ne\\n \\namargor\\n \\nleve.\\n  P:  Qual  café  é  mais  indicado  para  quem  gosta  de  acidez  marcante?  R:  Se  você  aprecia  acidez  vibrante,  experimente  o  Bourbon  amarelo,  Catuaí  amarelo  \\nou\\n \\no\\n \\nYirgacheffe.\\n \\nAmbos\\n \\npossuem\\n \\nacidez\\n \\nalta\\n \\ne\\n \\nnotas\\n \\ncítricas\\n \\ne\\n \\nfrutadas\\n \\nque\\n \\ndestacam\\n \\nessa\\n \\ncaracterística.\\n  P:  Vocês  têm  cafés  com  notas  florais?  R:  Sim,  o  Geisha  é  a  melhor  opção  para  quem  busca  notas  florais.  Ele  possui  aroma  de  \\njasmim\\n \\ne\\n \\nnotas\\n \\nde\\n \\nmamão\\n \\npapaya,\\n \\ncom\\n \\numa\\n \\nacidez\\n \\nagradável\\n \\ne\\n \\ndoçura\\n \\nmáxima.\\n  P:  Como  posso  identificar  notas  diferentes  no  café?   R:  Identificar  notas  em  café  é  uma  habilidade  que  pode  ser  aprimorada  com  a  prática.  \\nComece\\n \\nprovando\\n \\ncafés\\n \\nde\\n \\ndiferentes\\n \\nregiões\\n \\ne\\n \\nprestando\\n \\natenção\\n \\nàs\\n \\ndescrições\\n \\ndas\\n \\nnotas\\n \\nna\\n \\nembalagem.\\n \\nTente\\n \\nidentificar\\n \\nessas\\n \\nnotas\\n \\nenquanto\\n \\nsaboreia\\n \\nlentamente,\\n \\nprestando\\n \\natenção\\n \\nao\\n \\naroma,\\n \\nsabor\\n \\ne\\n \\nsensação\\n \\nna\\n \\nboca.', mimetype='text/plain', start_char_idx=0, end_char_idx=2247, metadata_seperator='\\n', text_template='{metadata_str}\\n\\n{content}'),\n",
              " TextNode(id_='5e3e00b8-71bc-44fd-ab94-a64a511c2863', embedding=None, metadata={'page_label': '5', 'file_name': 'serenatto_cafes_especiais.pdf', 'file_path': '/content/documentos/serenatto_cafes_especiais.pdf', 'file_type': 'application/pdf', 'file_size': 133957, 'creation_date': '2025-03-12', 'last_modified_date': '2025-03-12'}, excluded_embed_metadata_keys=['file_name', 'file_type', 'file_size', 'creation_date', 'last_modified_date', 'last_accessed_date'], excluded_llm_metadata_keys=['file_name', 'file_type', 'file_size', 'creation_date', 'last_modified_date', 'last_accessed_date'], relationships={<NodeRelationship.SOURCE: '1'>: RelatedNodeInfo(node_id='b8149a4f-8b1c-485d-978d-2566275ad9a7', node_type=<ObjectType.DOCUMENT: '4'>, metadata={'page_label': '5', 'file_name': 'serenatto_cafes_especiais.pdf', 'file_path': '/content/documentos/serenatto_cafes_especiais.pdf', 'file_type': 'application/pdf', 'file_size': 133957, 'creation_date': '2025-03-12', 'last_modified_date': '2025-03-12'}, hash='7b9d1a9704af83f36026eef834fecb8eea42db04f1cf9e466ee59b770fe355d3')}, metadata_template='{key}: {value}', metadata_separator='\\n', text='Nota  SCA   P:  O  que  é  a  nota  SCA?  R:  A  nota  SCA  (Specialty  Coffee  Association)  é  uma  avaliação  que  classifica  a  \\nqualidade\\n \\ndo\\n \\ncafé\\n \\ncom\\n \\nbase\\n \\nem\\n \\ncritérios\\n \\npadronizados.\\n \\nA\\n \\npontuação\\n \\nvaria\\n \\nde\\n \\n0\\n \\na\\n \\n100,\\n \\ne\\n \\ncafés\\n \\ncom\\n \\nnota\\n \\nacima\\n \\nde\\n \\n80\\n \\nsão\\n \\nconsiderados\\n \\nespeciais.\\n \\nA\\n \\navaliação\\n \\nconsidera\\n \\naspectos\\n \\ncomo\\n \\naroma,\\n \\nsabor,\\n \\nacidez,\\n \\ncorpo,\\n \\nequilíbrio,\\n \\ndoçura\\n \\ne\\n \\nfinalização.\\n \\nCafés\\n \\ncom\\n \\nnotas\\n \\nacima\\n \\nde\\n \\n85\\n \\nsão\\n \\nde\\n \\naltíssima\\n \\nqualidade,\\n \\ne\\n \\nacima\\n \\nde\\n \\n90\\n \\nsão\\n \\nraros\\n \\ne\\n \\nexcepcionais.\\n  P:  Quais  são  as  notas  SCA  dos  cafés  da  Serenatto?  R:  Os  cafés  da  Serenatto  têm  as  seguintes  notas  SCA:  ●  Bourbon  vermelho:  85  ●  Bourbon  amarelo:  86  ●  Blend  especial:  85  ●  Catuaí  amarelo:  87  ●  Geisha:  90  ●  Yirgacheffe:  90    P:  Quais  são  os  cafés  mais  bem  avaliados  da  Serenatto?  R:  Geisha  e  Yirgacheffe.  Ambos  com  Nota  SCA  90.', mimetype='text/plain', start_char_idx=0, end_char_idx=967, metadata_seperator='\\n', text_template='{metadata_str}\\n\\n{content}'),\n",
              " TextNode(id_='2cfd1716-9757-49ff-8759-e82ddd0fa978', embedding=None, metadata={'page_label': '6', 'file_name': 'serenatto_cafes_especiais.pdf', 'file_path': '/content/documentos/serenatto_cafes_especiais.pdf', 'file_type': 'application/pdf', 'file_size': 133957, 'creation_date': '2025-03-12', 'last_modified_date': '2025-03-12'}, excluded_embed_metadata_keys=['file_name', 'file_type', 'file_size', 'creation_date', 'last_modified_date', 'last_accessed_date'], excluded_llm_metadata_keys=['file_name', 'file_type', 'file_size', 'creation_date', 'last_modified_date', 'last_accessed_date'], relationships={<NodeRelationship.SOURCE: '1'>: RelatedNodeInfo(node_id='61a3a9ee-1f7b-4bff-8d47-8e24f8048223', node_type=<ObjectType.DOCUMENT: '4'>, metadata={'page_label': '6', 'file_name': 'serenatto_cafes_especiais.pdf', 'file_path': '/content/documentos/serenatto_cafes_especiais.pdf', 'file_type': 'application/pdf', 'file_size': 133957, 'creation_date': '2025-03-12', 'last_modified_date': '2025-03-12'}, hash='7d31d424a8649ebae7cda3b323e92e3d6f9976ff390cf6ac18135ace057bdac6')}, metadata_template='{key}: {value}', metadata_separator='\\n', text='Produção  dos  cafés   P:  Quais  são  os  processos  de  produção  dos  cafés?  R:  Nossos  cafés  podem  ter  os  seguintes  processos  de  produção:  -  Natural:  Os  frutos  do  café  (cerejas)  são  secos  inteiros,  resultando  em  cafés  com  \\nalta\\n \\ndoçura,\\n \\ncorpo\\n \\nencorpado\\n \\ne\\n \\nnotas\\n \\nfrutadas\\n \\nou\\n \\nde\\n \\nchocolate.\\n -  Cereja  descascado:  A  casca  dos  frutos  do  café  é  removida,  mas  parte  da  polpa  \\npermanece,\\n \\ngerando\\n \\ncafés\\n \\ncom\\n \\ndoçura\\n \\nequilibrada,\\n \\ncorpo\\n \\nmédio\\n \\na\\n \\nencorpado\\n \\ne\\n \\nacidez\\n \\nmais\\n \\npronunciada,\\n \\ncom\\n \\nnotas\\n \\ncítricas\\n \\ne\\n \\nfrutadas\\n -  Fermentado:  O  processo  fermentado  envolve  a  secagem  das  cerejas  inteiras  \\ncom\\n \\nfermentação\\n \\ncontrolada,\\n \\ndestacando\\n \\nsabores\\n \\nexóticos.\\n  P:  Como  a  torra  influencia  no  sabor  do  café?  R:  As  torras  influenciam  da  seguinte  forma:   -  Torra  clara:  Preserva  notas  frutadas,  florais  e  cítricas,  com  acidez  vibrante  e  \\ncorpo\\n \\nleve.\\n -  Torra  média:  Equilíbrio  entre  doçura  e  acidez,  com  notas  de  chocolate,  caramelo  \\ne\\n \\nnozes,\\n \\nalém\\n \\nde\\n \\num\\n \\ncorpo\\n \\nmais\\n \\nencorpado.\\n -  Torra  escura:  Sabores  intensos  e  amargos,  acidez  baixa  e  corpo  pesado,  comum  \\nem\\n \\ncafés\\n \\npara\\n \\nespresso\\n \\nou\\n \\npara\\n \\nquem\\n \\nprefere\\n \\nsabores\\n \\nmais\\n \\nrobustos.\\n  P:  Como  a  altitude  afeta  os  grãos  de  café?   R:  A  altitude  em  que  os  grãos  de  café  são  cultivados  desempenha  um  papel  \\nfundamental\\n \\nno\\n \\ndesenvolvimento\\n \\ndas\\n \\ncaracterísticas\\n \\ndo\\n \\ncafé.\\n \\nDe\\n \\nmaneira\\n \\ngeral,\\n \\nquanto\\n \\nmaior\\n \\na\\n \\naltitude,\\n \\nmais\\n \\nlentamente\\n \\no\\n \\ncafé\\n \\namadurece.\\n \\nIsso\\n \\nproporciona\\n \\nmais\\n \\ntempo\\n \\npara\\n \\nque\\n \\nos\\n \\ngrãos\\n \\ndesenvolvam\\n \\nsabores\\n \\ncomplexos\\n \\ne\\n \\nnuances\\n \\naromáticas.', mimetype='text/plain', start_char_idx=0, end_char_idx=1742, metadata_seperator='\\n', text_template='{metadata_str}\\n\\n{content}'),\n",
              " TextNode(id_='7c483663-5107-497f-a68f-853a44976d4c', embedding=None, metadata={'page_label': '7', 'file_name': 'serenatto_cafes_especiais.pdf', 'file_path': '/content/documentos/serenatto_cafes_especiais.pdf', 'file_type': 'application/pdf', 'file_size': 133957, 'creation_date': '2025-03-12', 'last_modified_date': '2025-03-12'}, excluded_embed_metadata_keys=['file_name', 'file_type', 'file_size', 'creation_date', 'last_modified_date', 'last_accessed_date'], excluded_llm_metadata_keys=['file_name', 'file_type', 'file_size', 'creation_date', 'last_modified_date', 'last_accessed_date'], relationships={<NodeRelationship.SOURCE: '1'>: RelatedNodeInfo(node_id='ae177a46-516c-43dc-84f4-786101a9e332', node_type=<ObjectType.DOCUMENT: '4'>, metadata={'page_label': '7', 'file_name': 'serenatto_cafes_especiais.pdf', 'file_path': '/content/documentos/serenatto_cafes_especiais.pdf', 'file_type': 'application/pdf', 'file_size': 133957, 'creation_date': '2025-03-12', 'last_modified_date': '2025-03-12'}, hash='1e70188952fad1d0efcd020911e508a9dd2cf51c4a16f964c0c7c1c6868c68ec')}, metadata_template='{key}: {value}', metadata_separator='\\n', text='Modo  de  preparo  recomendado:  Coado   P:  Quanto  de  café  devo  usar  para  preparar  os  cafés  da  Serenatto?  R:  Para  obter  os  melhores  resultados  na  preparação  dos  nossos  cafés,  sugerimos  \\nseguir\\n \\numa\\n \\nreceita\\n \\nbase\\n \\nonde\\n \\n15\\n \\ngramas\\n \\nde\\n \\ncafé\\n \\nsão\\n \\nusados\\n \\npara\\n \\ncada\\n \\n240\\n \\nmL\\n \\nde\\n \\nágua.\\n \\nEsta\\n \\nproporção\\n \\n(1:16)\\n \\né\\n \\nideal\\n \\npara\\n \\numa\\n \\nextração\\n \\ncompleta\\n \\ndos\\n \\nsabores\\n \\nricos\\n \\ne\\n \\nnuances\\n \\ndo\\n \\ncafé.\\n \\nClaro,\\n \\nvocê\\n \\npode\\n \\najustar\\n \\nas\\n \\nmedidas\\n \\npara\\n \\nmais\\n \\nou\\n \\npara\\n \\nmenos\\n \\nconforme\\n \\nsua\\n \\npreferência.\\n \\nCaso\\n \\nseja\\n \\nsua\\n \\nprimeira\\n \\nexperiência\\n \\ncom\\n \\nnossos\\n \\ncafés,\\n \\nessa\\n \\nreceita\\n \\nserve\\n \\ncomo\\n \\num\\n \\nexcelente\\n \\nponto\\n \\nde\\n \\npartida.\\n  P:  Qual  método  vocês  recomendam  para  preparar  os  cafés  da  Serenatto?  R:  Nós  recomendamos  o  V60,  um  método  de  preparo  de  café  que  se  destaca  pelo  seu  \\nformato\\n \\ncônico\\n \\ncom\\n \\nlinhas\\n \\nespirais\\n \\ninternas\\n \\ne\\n \\numa\\n \\ngrande\\n \\nabertura\\n \\nna\\n \\nbase.\\n \\nEssas\\n \\ncaracterísticas\\n \\npermitem\\n \\num\\n \\ncontrole\\n \\npreciso\\n \\nsobre\\n \\na\\n \\ninfusão,\\n \\nresultando\\n \\nem\\n \\num\\n \\ncafé\\n \\ncom\\n \\nextração\\n \\nuniforme\\n \\ne\\n \\nrica\\n \\nem\\n \\nsabores.\\n  P:  Qual  é  o  passo  a  passo  para  preparar  o  café  coado?  R:  Você  pode  seguir  as  seguintes  etapas  do  preparo:  1.  Preparação  da  água:  Aqueça  a  água  até  uma  temperatura  entre  94ºC  e  96ºC.  2.  Pesagem  do  café:  Use  a  proporção  de  1  grama  de  café  para  cada  16  mL  de  água.  3.  Moagem  do  café:  Moa  o  café  até  atingir  uma  granulação  média-fina,  semelhante  a  \\naçúcar\\n \\ncristal.\\n \\n 4.  Preparação  do  filtro:  Coloque  o  filtro  de  papel  no  suporte  V60.  Antes  de  adicionar  o  \\ncafé,\\n \\nescalde\\n \\no\\n \\nfiltro\\n \\ncom\\n \\nágua\\n \\nquente\\n \\npara\\n \\nremover\\n \\nqualquer\\n \\nsabor\\n \\nde\\n \\npapel\\n \\ne\\n \\npré-aquecer\\n \\no\\n \\nsuporte.\\n 5.  Adição  do  café:  Despeje  o  pó  no  filtro.  6.  Infusão:  Adicione  a  água  quente  lentamente  sobre  o  café,  preferencialmente  em  \\nciclos,\\n \\ncomeçando\\n \\ndo\\n \\ncentro\\n \\ne\\n \\nmovendo\\n \\npara\\n \\nfora\\n \\nem\\n \\nmovimento\\n \\nespiral.\\n \\nIsso\\n \\najuda\\n \\na\\n \\ngarantir\\n \\numa\\n \\nextração\\n \\nuniforme\\n \\nde\\n \\ntodos\\n \\nos\\n \\nsabores\\n \\ne\\n \\naromas.\\n 7.  Finalização:  Após  a  passagem  da  água,  remova  o  filtro  e  descarte-o.  Agora  é  só  \\nservir\\n \\ne\\n \\ndesfrutar\\n \\ndo\\n \\nseu\\n \\ndelicioso\\n \\ncafé.\\n  P:  Que  tipo  de  água  devo  usar  para  fazer  café?   R:  Recomendamos  usar  água  filtrada  com  baixo  teor  de  minerais.  A  qualidade  da  água  \\ntem\\n \\num\\n \\ngrande\\n \\nimpacto\\n \\nno\\n \\nsabor\\n \\nfinal\\n \\ndo\\n \\ncafé,\\n \\npor\\n \\nisso\\n \\nágua\\n \\npura,\\n \\nsem\\n \\ncloro\\n \\nou\\n \\nimpurezas,\\n \\né\\n \\nessencial.', mimetype='text/plain', start_char_idx=0, end_char_idx=2614, metadata_seperator='\\n', text_template='{metadata_str}\\n\\n{content}'),\n",
              " TextNode(id_='b73e7b37-3f10-4241-841f-cc8787c82624', embedding=None, metadata={'page_label': '8', 'file_name': 'serenatto_cafes_especiais.pdf', 'file_path': '/content/documentos/serenatto_cafes_especiais.pdf', 'file_type': 'application/pdf', 'file_size': 133957, 'creation_date': '2025-03-12', 'last_modified_date': '2025-03-12'}, excluded_embed_metadata_keys=['file_name', 'file_type', 'file_size', 'creation_date', 'last_modified_date', 'last_accessed_date'], excluded_llm_metadata_keys=['file_name', 'file_type', 'file_size', 'creation_date', 'last_modified_date', 'last_accessed_date'], relationships={<NodeRelationship.SOURCE: '1'>: RelatedNodeInfo(node_id='8c4ae5eb-e5d2-40d1-b437-34c91595b60b', node_type=<ObjectType.DOCUMENT: '4'>, metadata={'page_label': '8', 'file_name': 'serenatto_cafes_especiais.pdf', 'file_path': '/content/documentos/serenatto_cafes_especiais.pdf', 'file_type': 'application/pdf', 'file_size': 133957, 'creation_date': '2025-03-12', 'last_modified_date': '2025-03-12'}, hash='281a43472b035de033ca5d67c661522c00898eb0ec27cd7722cf6814cf12cd65')}, metadata_template='{key}: {value}', metadata_separator='\\n', text='Café  gelado   P:  Como  posso  preparar  café  gelado?   R:  Para  preparar  um  delicioso  café  gelado,  você  pode  usar  o  método  do  coado,  \\ncontendo\\n \\n40%\\n \\ndo\\n \\nvolume\\n \\nem\\n \\ngelo\\n \\ne\\n \\n60%\\n \\ndo\\n \\nvolume\\n \\nem\\n \\nágua\\n \\nquente,\\n \\nseguindo\\n \\nas\\n \\nseguintes\\n \\netapas:\\n 1.  Pesagem  do  café:  Use  a  proporção  de  1  grama  de  café  para  cada  16  mL  de  água  \\ntotal\\n 2.  Moagem  do  Café:  Moa  o  café  levemente  mais  fino  do  que  o  usado  para  coado  \\nnormal.\\n \\nIsso\\n \\najudará\\n \\nna\\n \\nextração\\n \\ndos\\n \\nsabores,\\n \\ndado\\n \\no\\n \\ntempo\\n \\nde\\n \\ncontato\\n \\nmais\\n \\ncurto\\n \\ncom\\n \\na\\n \\nágua.\\n 3.  Preparação  do  Filtro:  Coloque  o  filtro  de  papel  no  suporte  e  escalde-o  com  água  \\nquente.\\n \\nIsso\\n \\nremove\\n \\nqualquer\\n \\nsabor\\n \\nresidual\\n \\ndo\\n \\npapel\\n \\ne\\n \\najuda\\n \\na\\n \\npré-aquecer\\n \\no\\n \\nsuporte.\\n 4.  Preparação  do  Gelo:  Coloque  gelo  para  ocupar  cerca  de  40%  do  volume  total  da  sua  \\njarra\\n \\nou\\n \\nrecipiente.\\n 5.  Adição  do  café:  Despeje  o  pó  no  filtro.  6.  Pré-infusão:  Adicione  uma  pequena  quantidade  de  água  quente  (entre  94ºC  e  96ºC)  \\nsobre\\n \\no\\n \\ncafé\\n \\nmoído\\n \\nno\\n \\nfiltro,\\n \\nsuficiente\\n \\npara\\n \\numedecer\\n \\ntodo\\n \\no\\n \\ncafé.\\n \\nDeixe\\n \\nem\\n \\npré-infusão\\n \\npor\\n \\n1\\n \\nminuto\\n \\npara\\n \\nliberar\\n \\nos\\n \\nóleos\\n \\nessenciais\\n \\ne\\n \\naromas\\n \\ndo\\n \\ncafé.\\n \\n 7.  Despejo:  Após  a  pré-infusão,  continue  adicionando  a  água  quente  em  ciclos,  \\ndespejando\\n \\nlentamente\\n \\nem\\n \\nmovimentos\\n \\ncirculares\\n \\npara\\n \\ngarantir\\n \\numa\\n \\nextração\\n \\nuniforme.\\n 8.  Finalização:  Após  completar  os  despejos,  deixe  o  café  terminar  de  filtrar  sobre  o  \\ngelo.\\n \\nO\\n \\ngelo\\n \\nderreterá\\n \\nparcialmente,\\n \\nresfriando\\n \\no\\n \\ncafé\\n \\ninstantaneamente\\n \\ne\\n \\ndiluindo-o\\n \\nna\\n \\nproporção\\n \\ncorreta.\\n Este  método  garante  um  café  coado  gelado  refrescante  e  saboroso,  perfeito  para  os  \\ndias\\n \\nmais\\n \\nquentes!', mimetype='text/plain', start_char_idx=0, end_char_idx=1842, metadata_seperator='\\n', text_template='{metadata_str}\\n\\n{content}'),\n",
              " TextNode(id_='29281e00-e12d-4226-91e9-1201ea7df301', embedding=None, metadata={'page_label': '9', 'file_name': 'serenatto_cafes_especiais.pdf', 'file_path': '/content/documentos/serenatto_cafes_especiais.pdf', 'file_type': 'application/pdf', 'file_size': 133957, 'creation_date': '2025-03-12', 'last_modified_date': '2025-03-12'}, excluded_embed_metadata_keys=['file_name', 'file_type', 'file_size', 'creation_date', 'last_modified_date', 'last_accessed_date'], excluded_llm_metadata_keys=['file_name', 'file_type', 'file_size', 'creation_date', 'last_modified_date', 'last_accessed_date'], relationships={<NodeRelationship.SOURCE: '1'>: RelatedNodeInfo(node_id='4d0bf0f7-6957-4fc9-b4fa-61bf53dbbb47', node_type=<ObjectType.DOCUMENT: '4'>, metadata={'page_label': '9', 'file_name': 'serenatto_cafes_especiais.pdf', 'file_path': '/content/documentos/serenatto_cafes_especiais.pdf', 'file_type': 'application/pdf', 'file_size': 133957, 'creation_date': '2025-03-12', 'last_modified_date': '2025-03-12'}, hash='e5c7da153d92739e466a244bd1e759d2fa4ad4750b87c2f140fed396d5411676')}, metadata_template='{key}: {value}', metadata_separator='\\n', text='Outros  métodos  de  preparo  além  do  recomendado:   P:  Posso  usar  os  cafés  da  Serenatto  em  máquinas  de  espresso?  R:  Sim,  nossos  cafés  podem  ser  usados  em  máquinas  de  espresso.  Para  esse  método,  \\nrecomendamos\\n \\numa\\n \\nmoagem\\n \\nfina\\n \\ne\\n \\ncafés\\n \\ncom\\n \\ntorra\\n \\nmédia\\n \\nou\\n \\nescura,\\n \\ncomo\\n \\no\\n \\nBourbon\\n \\nvermelho\\n \\nou\\n \\no\\n \\nBlend\\n \\nespecial,\\n \\nque\\n \\npossuem\\n \\ncorpo\\n \\nencorpado\\n \\ne\\n \\nsabores\\n \\nintensos.\\n  P:  Vocês  têm  dicas  para  French  Press?  R:  Para  o  French  Press,  recomendamos  uma  moagem  grossa  e  uma  proporção  de  \\n1:15\\n \\n(1\\n \\ngrama\\n \\nde\\n \\ncafé\\n \\npara\\n \\n15\\n \\nmL\\n \\nde\\n \\nágua).\\n \\nUse\\n \\nágua\\n \\na\\n \\n94ºC\\n \\ne\\n \\ndeixe\\n \\no\\n \\ncafé\\n \\nem\\n \\ninfusão\\n \\npor\\n \\n4\\n \\nminutos.\\n \\nDepois,\\n \\npressione\\n \\no\\n \\nêmbolo\\n \\nlentamente\\n \\ne\\n \\nsirva\\n \\nimediatamente.\\n  P:  Qual  café  é  melhor  para  preparo  cold  brew?  R:  Para  cold  brew,  recomendamos  o  Catuaí  amarelo  ou  o  yirgacheffe,  que  possuem  \\nnotas\\n \\nfrutadas\\n \\ne\\n \\nacidez\\n \\nvibrante,\\n \\ncaracterísticas\\n \\nque\\n \\nse\\n \\ndestacam\\n \\nnesse\\n \\nmétodo\\n \\nde\\n \\npreparo.\\n \\nUse\\n \\numa\\n \\nmoagem\\n \\ngrossa\\n \\ne\\n \\ndeixe\\n \\nem\\n \\ninfusão\\n \\npor\\n \\n12\\n \\na\\n \\n24\\n \\nhoras\\n \\nna\\n \\ngeladeira.\\n  P:  Qual  é  a  moagem  ideal  para  diferentes  tipos  de  preparo?   R:  A  moagem  varia  de  acordo  com  o  método  de  preparo:  ●  Espresso:  Moagem  fina  ●  V60:  Moagem  média-fina  ●  French  Press:  Moagem  grossa  ●  Cold  Brew:  Moagem  grossa   Adaptar  a  moagem  ao  método  de  preparo  ajuda  a  maximizar  o  sabor  e  a  qualidade  da  \\nbebida.\\n  P:  Por  que  moer  o  café  na  hora  é  importante?  R:  Moer  o  café  na  hora  é  essencial  para  garantir  uma  bebida  de  alta  qualidade,  pois  \\npreserva\\n \\no\\n \\nfrescor,\\n \\no\\n \\naroma\\n \\ne\\n \\nos\\n \\nsabores\\n \\nnaturais\\n \\ndos\\n \\ngrãos.\\n \\nQuando\\n \\no\\n \\ncafé\\n \\né\\n \\nmoído,\\n \\nseus\\n \\nóleos\\n \\ne\\n \\ncompostos\\n \\naromáticos\\n \\ncomeçam\\n \\na\\n \\nse\\n \\ndegradar\\n \\nrapidamente\\n \\nem\\n \\ncontato\\n \\ncom\\n \\no\\n \\nar.\\n \\nMoer\\n \\nna\\n \\nhora\\n \\nevita\\n \\nessa\\n \\nperda,\\n \\nresultando\\n \\nem\\n \\num\\n \\ncafé\\n \\nmais\\n \\nrico\\n \\ne\\n \\nsaboroso.\\n \\nAlém\\n \\ndisso,\\n \\npermite\\n \\najustar\\n \\na\\n \\nmoagem\\n \\npara\\n \\no\\n \\nmétodo\\n \\nde\\n \\npreparo\\n \\nescolhido,\\n \\ngarantindo\\n \\numa\\n \\nextração\\n \\nequilibrada\\n \\ne\\n \\nevitando\\n \\nsabores\\n \\naguados\\n \\nou\\n \\namargos.', mimetype='text/plain', start_char_idx=0, end_char_idx=2207, metadata_seperator='\\n', text_template='{metadata_str}\\n\\n{content}'),\n",
              " TextNode(id_='9769ff95-c82d-4d1a-b994-00c34ee220f5', embedding=None, metadata={'page_label': '10', 'file_name': 'serenatto_cafes_especiais.pdf', 'file_path': '/content/documentos/serenatto_cafes_especiais.pdf', 'file_type': 'application/pdf', 'file_size': 133957, 'creation_date': '2025-03-12', 'last_modified_date': '2025-03-12'}, excluded_embed_metadata_keys=['file_name', 'file_type', 'file_size', 'creation_date', 'last_modified_date', 'last_accessed_date'], excluded_llm_metadata_keys=['file_name', 'file_type', 'file_size', 'creation_date', 'last_modified_date', 'last_accessed_date'], relationships={<NodeRelationship.SOURCE: '1'>: RelatedNodeInfo(node_id='8480afd4-5188-4490-90df-b08005dd17a6', node_type=<ObjectType.DOCUMENT: '4'>, metadata={'page_label': '10', 'file_name': 'serenatto_cafes_especiais.pdf', 'file_path': '/content/documentos/serenatto_cafes_especiais.pdf', 'file_type': 'application/pdf', 'file_size': 133957, 'creation_date': '2025-03-12', 'last_modified_date': '2025-03-12'}, hash='54ca4fc7b770a7c832c0b03e122cb6d0dfd82241edbe306a0161b80d8ed17a5a')}, metadata_template='{key}: {value}', metadata_separator='\\n', text='Armazenamento  e  validade   P:  Como  devo  armazenar  os  grãos  de  café  para  manter  a  qualidade?  R:  Recomendamos  armazenar  os  grãos  em  um  recipiente  hermético,  longe  da  umidade  \\ne\\n \\ncalor.\\n \\nEvite\\n \\nguardar\\n \\no\\n \\ncafé\\n \\nna\\n \\ngeladeira,\\n \\npois\\n \\na\\n \\numidade\\n \\ne\\n \\nas\\n \\nvariações\\n \\nde\\n \\ntemperatura\\n \\npodem\\n \\nprejudicar\\n \\no\\n \\nsabor\\n \\ne\\n \\no\\n \\naroma.\\n  P:  Qual  é  a  validade  dos  cafés  da  Serenatto?  R:  Nossos  cafés  são  enviados  recém-torrados  para  garantir  frescor.  Para  uma  \\nexperiência\\n \\nmelhor\\n \\ncom\\n \\nas\\n \\ncaracterísticas\\n \\ndas\\n \\nnotas\\n \\nsensoriais\\n \\ne\\n \\na\\n \\nintensidade\\n \\ndo\\n \\naroma,\\n \\no\\n \\nconsumo\\n \\ndeve\\n \\nser\\n \\nentre\\n \\ntrês\\n \\ne\\n \\nquatro\\n \\nmeses.\\n \\nNo\\n \\nentanto,\\n \\ndepois\\n \\nde\\n \\naberto,\\n \\no\\n \\nconsumo\\n \\ndeve\\n \\nser,\\n \\nde\\n \\npreferência,\\n \\nentre\\n \\nduas\\n \\n(quando\\n \\nestiver\\n \\nmoído)\\n \\na\\n \\nquatro\\n \\nsemanas\\n \\n(em\\n \\ngrãos)\\n \\nda\\n \\ndata\\n \\nda\\n \\ntorra.', mimetype='text/plain', start_char_idx=0, end_char_idx=884, metadata_seperator='\\n', text_template='{metadata_str}\\n\\n{content}')]"
            ]
          },
          "metadata": {},
          "execution_count": 17
        }
      ]
    },
    {
      "cell_type": "code",
      "source": [
        "len(nodes)"
      ],
      "metadata": {
        "colab": {
          "base_uri": "https://localhost:8080/"
        },
        "id": "SUoOUuIjiYTL",
        "outputId": "bee561d6-2478-429b-e20d-8f3fd3853b0d"
      },
      "execution_count": 18,
      "outputs": [
        {
          "output_type": "execute_result",
          "data": {
            "text/plain": [
              "10"
            ]
          },
          "metadata": {},
          "execution_count": 18
        }
      ]
    },
    {
      "cell_type": "code",
      "source": [
        "nodes[0]"
      ],
      "metadata": {
        "colab": {
          "base_uri": "https://localhost:8080/"
        },
        "id": "w3TLxS9PibpT",
        "outputId": "0cdf101e-ace3-476f-9516-f7180bd3be56"
      },
      "execution_count": 19,
      "outputs": [
        {
          "output_type": "execute_result",
          "data": {
            "text/plain": [
              "TextNode(id_='3bf89050-e221-4443-828a-e338b84970c7', embedding=None, metadata={'page_label': '1', 'file_name': 'serenatto_cafes_especiais.pdf', 'file_path': '/content/documentos/serenatto_cafes_especiais.pdf', 'file_type': 'application/pdf', 'file_size': 133957, 'creation_date': '2025-03-12', 'last_modified_date': '2025-03-12'}, excluded_embed_metadata_keys=['file_name', 'file_type', 'file_size', 'creation_date', 'last_modified_date', 'last_accessed_date'], excluded_llm_metadata_keys=['file_name', 'file_type', 'file_size', 'creation_date', 'last_modified_date', 'last_accessed_date'], relationships={<NodeRelationship.SOURCE: '1'>: RelatedNodeInfo(node_id='91a97816-e438-4cc7-bf06-b4d80e6a63b0', node_type=<ObjectType.DOCUMENT: '4'>, metadata={'page_label': '1', 'file_name': 'serenatto_cafes_especiais.pdf', 'file_path': '/content/documentos/serenatto_cafes_especiais.pdf', 'file_type': 'application/pdf', 'file_size': 133957, 'creation_date': '2025-03-12', 'last_modified_date': '2025-03-12'}, hash='820b277edf233136c5afd69d8b63f74658d9de4c25893c4e5d205bcb010e8b2e')}, metadata_template='{key}: {value}', metadata_separator='\\n', text='Serenatto  –  Loja  online  de  cafés  especiais   Informações  gerais   P:  Quais  produtos  são  vendidos  no  site  da  Serenatto?  R:  A  Serenatto  é  uma  loja  online  especializada  na  venda  de  grãos  de  cafés  especiais,  \\noferecendo\\n \\ngrãos\\n \\ntorrados,\\n \\nprovenientes\\n \\nde\\n \\nfazendas\\n \\nselecionadas\\n \\nde\\n \\nMinas\\n \\nGerais.\\n \\nTodos\\n \\nos\\n \\nnossos\\n \\ncafés\\n \\npossuem\\n \\nnota\\n \\nSCA\\n \\nacima\\n \\nde\\n \\n80,\\n \\ngarantindo\\n \\nalta\\n \\nqualidade\\n \\ne\\n \\nperfis\\n \\nsensoriais\\n \\nexcepcionais.\\n  P:  De  onde  vêm  os  grãos  de  café  da  Serenatto?   R:  Nossos  grãos  são  cuidadosamente  selecionados  de  fazendas  localizadas  em  Minas  \\nGerais,\\n \\nconhecidas\\n \\npela\\n \\nalta\\n \\nqualidade\\n \\nde\\n \\nseus\\n \\ncafés\\n \\nespeciais.\\n \\nCada\\n \\nfazenda\\n \\né\\n \\nescolhida\\n \\npor\\n \\nsuas\\n \\npráticas\\n \\nsustentáveis\\n \\ne\\n \\npelo\\n \\ncuidado\\n \\nexcepcional\\n \\ncom\\n \\na\\n \\nprodução.\\n  P:  Qual  é  a  quantidade  vendida?  R:  Os  grãos  já  torrados  são  vendidos  em  pacotes  de  250g   P:  Quais  são  as  variedades  de  café  disponíveis?  R:  Trabalhamos  com  as  seguintes  variedades  de  café  em  grãos:  ●  Bourbon  vermelho  ●  Bourbon  amarelo  ●  Blend  especial  (Mistura  de  Bourbon  amarelo  e  vermelho)  ●  Catuaí  amarelo  ●  Geisha  ●  Yirgacheffe   P:  Quais  são  os  preços  de  cada  variedade  de  café?  R:  Os  preços  sãos  os  seguintes:  ●  Bourbon  vermelho:  R$  41,00  ●  Bourbon  amarelo:  R$  43,00  ●  Blend  especial:  R$  37,50  ●  Catuaí  amarelo:  R$  55,00  ●  Geisha:  R$  105,00  ●  Yirgacheffe:  R$  110,00', mimetype='text/plain', start_char_idx=0, end_char_idx=1515, metadata_seperator='\\n', text_template='{metadata_str}\\n\\n{content}')"
            ]
          },
          "metadata": {},
          "execution_count": 19
        }
      ]
    },
    {
      "cell_type": "code",
      "source": [
        "nodes[9]"
      ],
      "metadata": {
        "colab": {
          "base_uri": "https://localhost:8080/"
        },
        "id": "SFUWtVQIie58",
        "outputId": "e84e4c45-691f-46c8-c756-3ebb4893b926"
      },
      "execution_count": 20,
      "outputs": [
        {
          "output_type": "execute_result",
          "data": {
            "text/plain": [
              "TextNode(id_='9769ff95-c82d-4d1a-b994-00c34ee220f5', embedding=None, metadata={'page_label': '10', 'file_name': 'serenatto_cafes_especiais.pdf', 'file_path': '/content/documentos/serenatto_cafes_especiais.pdf', 'file_type': 'application/pdf', 'file_size': 133957, 'creation_date': '2025-03-12', 'last_modified_date': '2025-03-12'}, excluded_embed_metadata_keys=['file_name', 'file_type', 'file_size', 'creation_date', 'last_modified_date', 'last_accessed_date'], excluded_llm_metadata_keys=['file_name', 'file_type', 'file_size', 'creation_date', 'last_modified_date', 'last_accessed_date'], relationships={<NodeRelationship.SOURCE: '1'>: RelatedNodeInfo(node_id='8480afd4-5188-4490-90df-b08005dd17a6', node_type=<ObjectType.DOCUMENT: '4'>, metadata={'page_label': '10', 'file_name': 'serenatto_cafes_especiais.pdf', 'file_path': '/content/documentos/serenatto_cafes_especiais.pdf', 'file_type': 'application/pdf', 'file_size': 133957, 'creation_date': '2025-03-12', 'last_modified_date': '2025-03-12'}, hash='54ca4fc7b770a7c832c0b03e122cb6d0dfd82241edbe306a0161b80d8ed17a5a')}, metadata_template='{key}: {value}', metadata_separator='\\n', text='Armazenamento  e  validade   P:  Como  devo  armazenar  os  grãos  de  café  para  manter  a  qualidade?  R:  Recomendamos  armazenar  os  grãos  em  um  recipiente  hermético,  longe  da  umidade  \\ne\\n \\ncalor.\\n \\nEvite\\n \\nguardar\\n \\no\\n \\ncafé\\n \\nna\\n \\ngeladeira,\\n \\npois\\n \\na\\n \\numidade\\n \\ne\\n \\nas\\n \\nvariações\\n \\nde\\n \\ntemperatura\\n \\npodem\\n \\nprejudicar\\n \\no\\n \\nsabor\\n \\ne\\n \\no\\n \\naroma.\\n  P:  Qual  é  a  validade  dos  cafés  da  Serenatto?  R:  Nossos  cafés  são  enviados  recém-torrados  para  garantir  frescor.  Para  uma  \\nexperiência\\n \\nmelhor\\n \\ncom\\n \\nas\\n \\ncaracterísticas\\n \\ndas\\n \\nnotas\\n \\nsensoriais\\n \\ne\\n \\na\\n \\nintensidade\\n \\ndo\\n \\naroma,\\n \\no\\n \\nconsumo\\n \\ndeve\\n \\nser\\n \\nentre\\n \\ntrês\\n \\ne\\n \\nquatro\\n \\nmeses.\\n \\nNo\\n \\nentanto,\\n \\ndepois\\n \\nde\\n \\naberto,\\n \\no\\n \\nconsumo\\n \\ndeve\\n \\nser,\\n \\nde\\n \\npreferência,\\n \\nentre\\n \\nduas\\n \\n(quando\\n \\nestiver\\n \\nmoído)\\n \\na\\n \\nquatro\\n \\nsemanas\\n \\n(em\\n \\ngrãos)\\n \\nda\\n \\ndata\\n \\nda\\n \\ntorra.', mimetype='text/plain', start_char_idx=0, end_char_idx=884, metadata_seperator='\\n', text_template='{metadata_str}\\n\\n{content}')"
            ]
          },
          "metadata": {},
          "execution_count": 20
        }
      ]
    },
    {
      "cell_type": "code",
      "source": [
        "# instalação da biblioteca do hugging face\n",
        "!pip install -q llama-index-embeddings-huggingface"
      ],
      "metadata": {
        "colab": {
          "base_uri": "https://localhost:8080/"
        },
        "id": "w_Th38ddinRj",
        "outputId": "276f3fc2-c16e-43c5-80ad-b108d22db437"
      },
      "execution_count": 21,
      "outputs": [
        {
          "output_type": "stream",
          "name": "stdout",
          "text": [
            "\u001b[2K   \u001b[90m━━━━━━━━━━━━━━━━━━━━━━━━━━━━━━━━━━━━━━━━\u001b[0m \u001b[32m363.4/363.4 MB\u001b[0m \u001b[31m1.0 MB/s\u001b[0m eta \u001b[36m0:00:00\u001b[0m\n",
            "\u001b[2K   \u001b[90m━━━━━━━━━━━━━━━━━━━━━━━━━━━━━━━━━━━━━━━━\u001b[0m \u001b[32m13.8/13.8 MB\u001b[0m \u001b[31m87.6 MB/s\u001b[0m eta \u001b[36m0:00:00\u001b[0m\n",
            "\u001b[2K   \u001b[90m━━━━━━━━━━━━━━━━━━━━━━━━━━━━━━━━━━━━━━━━\u001b[0m \u001b[32m24.6/24.6 MB\u001b[0m \u001b[31m69.8 MB/s\u001b[0m eta \u001b[36m0:00:00\u001b[0m\n",
            "\u001b[2K   \u001b[90m━━━━━━━━━━━━━━━━━━━━━━━━━━━━━━━━━━━━━━━━\u001b[0m \u001b[32m883.7/883.7 kB\u001b[0m \u001b[31m39.9 MB/s\u001b[0m eta \u001b[36m0:00:00\u001b[0m\n",
            "\u001b[2K   \u001b[90m━━━━━━━━━━━━━━━━━━━━━━━━━━━━━━━━━━━━━━━━\u001b[0m \u001b[32m664.8/664.8 MB\u001b[0m \u001b[31m2.6 MB/s\u001b[0m eta \u001b[36m0:00:00\u001b[0m\n",
            "\u001b[2K   \u001b[90m━━━━━━━━━━━━━━━━━━━━━━━━━━━━━━━━━━━━━━━━\u001b[0m \u001b[32m211.5/211.5 MB\u001b[0m \u001b[31m3.7 MB/s\u001b[0m eta \u001b[36m0:00:00\u001b[0m\n",
            "\u001b[2K   \u001b[90m━━━━━━━━━━━━━━━━━━━━━━━━━━━━━━━━━━━━━━━━\u001b[0m \u001b[32m56.3/56.3 MB\u001b[0m \u001b[31m13.7 MB/s\u001b[0m eta \u001b[36m0:00:00\u001b[0m\n",
            "\u001b[2K   \u001b[90m━━━━━━━━━━━━━━━━━━━━━━━━━━━━━━━━━━━━━━━━\u001b[0m \u001b[32m127.9/127.9 MB\u001b[0m \u001b[31m6.8 MB/s\u001b[0m eta \u001b[36m0:00:00\u001b[0m\n",
            "\u001b[2K   \u001b[90m━━━━━━━━━━━━━━━━━━━━━━━━━━━━━━━━━━━━━━━━\u001b[0m \u001b[32m207.5/207.5 MB\u001b[0m \u001b[31m2.6 MB/s\u001b[0m eta \u001b[36m0:00:00\u001b[0m\n",
            "\u001b[2K   \u001b[90m━━━━━━━━━━━━━━━━━━━━━━━━━━━━━━━━━━━━━━━━\u001b[0m \u001b[32m21.1/21.1 MB\u001b[0m \u001b[31m71.0 MB/s\u001b[0m eta \u001b[36m0:00:00\u001b[0m\n",
            "\u001b[?25h"
          ]
        }
      ]
    },
    {
      "cell_type": "code",
      "source": [
        "# importa a biblioteca para fazer o embedding\n",
        "from llama_index.embeddings.huggingface import HuggingFaceEmbedding"
      ],
      "metadata": {
        "id": "FVBliP-4jriX"
      },
      "execution_count": 52,
      "outputs": []
    },
    {
      "cell_type": "code",
      "source": [
        "# Classe personalizada para integrar ao Chroma DB\n",
        "\n",
        "class ChromaEmbeddingWrapper:\n",
        "    def __init__(self, model_name: str):  # inicializa com o modelo embedding\n",
        "        self.model = HuggingFaceEmbedding(model_name=model_name)\n",
        "\n",
        "    def __call__(self, input):  # Converte a entrada para o formato compatível com o HuggingFace\n",
        "        return self.model.embed(input)"
      ],
      "metadata": {
        "id": "y8R0gmtvj5Dw"
      },
      "execution_count": 51,
      "outputs": []
    },
    {
      "cell_type": "code",
      "source": [
        "embed_model_chroma = ChromaEmbeddingWrapper(model_name='intfloat/multilingual-e5-large')"
      ],
      "metadata": {
        "id": "5Dxkz2uilSVu"
      },
      "execution_count": 53,
      "outputs": []
    },
    {
      "cell_type": "code",
      "source": [
        "# instalação do chroma db\n",
        "!pip install -q llama-index-vector-stores-chroma"
      ],
      "metadata": {
        "id": "13ntGQVplhPs"
      },
      "execution_count": 38,
      "outputs": []
    },
    {
      "cell_type": "code",
      "source": [
        "import chromadb\n",
        "\n",
        "db = chromadb.PersistentClient(path='./chroma_db')\n",
        "chroma_client = db\n",
        "collection_name = 'documents_serenatto'\n",
        "\n",
        "try:\n",
        "    chroma_collection = chroma_client.get_or_create_collection(\n",
        "        name=collection_name,\n",
        "        embedding_function=embed_model_chroma)\n",
        "except Exception as e:\n",
        "    print(f'ERRO AO CRIAR COLEÇÃO: {e}')"
      ],
      "metadata": {
        "id": "6nVvXkO8ltB0"
      },
      "execution_count": 54,
      "outputs": []
    },
    {
      "cell_type": "code",
      "source": [
        "from llama_index.vector_stores.chroma import ChromaVectorStore\n",
        "from llama_index.core import StorageContext"
      ],
      "metadata": {
        "id": "Zt1pTPSmms4t"
      },
      "execution_count": 55,
      "outputs": []
    },
    {
      "cell_type": "code",
      "source": [
        "# criando a coleção de banco de dados\n",
        "vector_store = ChromaVectorStore(chroma_collection=chroma_collection)\n",
        "storage_context = StorageContext.from_defaults(vector_store=vector_store)"
      ],
      "metadata": {
        "id": "NrdajguunJ1O"
      },
      "execution_count": 56,
      "outputs": []
    },
    {
      "cell_type": "code",
      "source": [
        "embed_model = HuggingFaceEmbedding(model_name='intfloat/multilingual-e5-large')"
      ],
      "metadata": {
        "id": "4ZcXs0ZpnkcR"
      },
      "execution_count": 31,
      "outputs": []
    },
    {
      "cell_type": "code",
      "source": [
        "from llama_index.core import VectorStoreIndex"
      ],
      "metadata": {
        "id": "dc9yH31Vn-rS"
      },
      "execution_count": 32,
      "outputs": []
    },
    {
      "cell_type": "code",
      "source": [
        "index = VectorStoreIndex(nodes, storage_context = storage_context, embed_model = embed_model)"
      ],
      "metadata": {
        "id": "ggQLJCtSoWaP"
      },
      "execution_count": 57,
      "outputs": []
    },
    {
      "cell_type": "code",
      "source": [
        "from llama_index.core import load_index_from_storage\n",
        "index = load_index_from_storage(storage_context, embed_model=embed_model)"
      ],
      "metadata": {
        "id": "EGVfjnFxsvY7"
      },
      "execution_count": 58,
      "outputs": []
    },
    {
      "cell_type": "code",
      "source": [
        "from google.colab import userdata\n",
        "Groq_api = userdata.get('api_groq2_chat')"
      ],
      "metadata": {
        "id": "N-Tr1eLM8UXP"
      },
      "execution_count": 61,
      "outputs": []
    },
    {
      "cell_type": "code",
      "source": [
        "!pip install -q llama_index-llms-groq"
      ],
      "metadata": {
        "id": "YRcHC64g84xB"
      },
      "execution_count": 62,
      "outputs": []
    },
    {
      "cell_type": "code",
      "source": [
        "from llama_index.llms.groq import Groq"
      ],
      "metadata": {
        "id": "neqdPOF19GIY"
      },
      "execution_count": 63,
      "outputs": []
    },
    {
      "cell_type": "code",
      "source": [
        "llms = Groq(model = 'llama3-70b-8192',api_key=Groq_api)"
      ],
      "metadata": {
        "id": "nZJPYiCs9MSA"
      },
      "execution_count": 64,
      "outputs": []
    },
    {
      "cell_type": "code",
      "source": [
        "query_engine = index.as_query_engine(llm=llms, similarity_top_k=2)"
      ],
      "metadata": {
        "id": "jo94eckH9YVw"
      },
      "execution_count": 65,
      "outputs": []
    },
    {
      "cell_type": "code",
      "source": [
        "query_engine.query('Quais graos estao disponiveis').response"
      ],
      "metadata": {
        "colab": {
          "base_uri": "https://localhost:8080/",
          "height": 70
        },
        "id": "6XWrVlxP9mDX",
        "outputId": "e5e9fec1-1dae-4c06-afa5-3699d985205b"
      },
      "execution_count": 66,
      "outputs": [
        {
          "output_type": "execute_result",
          "data": {
            "text/plain": [
              "'Trabalhamos com as seguintes variedades de café em grãos: Bourbon vermelho, Bourbon amarelo, Blend especial (Mistura de Bourbon amarelo e vermelho), Catuaí amarelo, Geisha, Yirgacheffe.'"
            ],
            "application/vnd.google.colaboratory.intrinsic+json": {
              "type": "string"
            }
          },
          "metadata": {},
          "execution_count": 66
        }
      ]
    },
    {
      "cell_type": "code",
      "source": [
        "query_embedding = embed_model.get_text_embedding('Quais graos estao disponiveis ?')"
      ],
      "metadata": {
        "id": "0Bx8T2cL9wIe"
      },
      "execution_count": 67,
      "outputs": []
    },
    {
      "cell_type": "code",
      "source": [
        "chroma_collection.query(query_embedding, n_results=2,include=['distances','embeddings'])"
      ],
      "metadata": {
        "colab": {
          "base_uri": "https://localhost:8080/"
        },
        "id": "ZraTuKPz-Tpk",
        "outputId": "91d1bbc8-79c1-4144-d21e-46c886b12468"
      },
      "execution_count": 68,
      "outputs": [
        {
          "output_type": "execute_result",
          "data": {
            "text/plain": [
              "{'ids': [['3bf89050-e221-4443-828a-e338b84970c7',\n",
              "   '29281e00-e12d-4226-91e9-1201ea7df301']],\n",
              " 'embeddings': [array([[ 0.01460024, -0.01119941, -0.00576889, ...,  0.00555894,\n",
              "          -0.0503395 ,  0.00342874],\n",
              "         [ 0.04507766, -0.01912062, -0.00592756, ...,  0.01311597,\n",
              "          -0.03507493,  0.00875932]])],\n",
              " 'documents': None,\n",
              " 'uris': None,\n",
              " 'data': None,\n",
              " 'metadatas': None,\n",
              " 'distances': [[0.3871879346745659, 0.39615459149852583]],\n",
              " 'included': [<IncludeEnum.embeddings: 'embeddings'>,\n",
              "  <IncludeEnum.distances: 'distances'>]}"
            ]
          },
          "metadata": {},
          "execution_count": 68
        }
      ]
    },
    {
      "cell_type": "code",
      "source": [
        "chat_engine = index.as_chat_engine(mode='context',llm = llms)"
      ],
      "metadata": {
        "id": "X-7ehpDS-qCR"
      },
      "execution_count": 69,
      "outputs": []
    },
    {
      "cell_type": "code",
      "source": [
        "pergunta = chat_engine.chat('Quais graos estao disponiveis ?').response\n",
        "print(pergunta)"
      ],
      "metadata": {
        "colab": {
          "base_uri": "https://localhost:8080/"
        },
        "id": "GKm0hQvY-1Go",
        "outputId": "77db77a1-833f-4fb9-f7c5-aa6cb8edccdc"
      },
      "execution_count": 70,
      "outputs": [
        {
          "output_type": "stream",
          "name": "stdout",
          "text": [
            "Os grãos disponíveis são: Bourbon vermelho, Bourbon amarelo, Blend especial (Mistura de Bourbon amarelo e vermelho), Catuaí amarelo, Geisha e Yirgacheffe.\n"
          ]
        }
      ]
    },
    {
      "cell_type": "code",
      "source": [
        "pergunta = chat_engine.chat('Quais sao os precos dos graos ?').response\n",
        "print(pergunta)"
      ],
      "metadata": {
        "colab": {
          "base_uri": "https://localhost:8080/"
        },
        "id": "hQK75oO9_ACk",
        "outputId": "314d04b3-4681-4ec8-8cc3-d09c7a58cf27"
      },
      "execution_count": 71,
      "outputs": [
        {
          "output_type": "stream",
          "name": "stdout",
          "text": [
            "Os preços dos grãos são: \n",
            "● Bourbon vermelho: R$ 41,00 \n",
            "● Bourbon amarelo: R$ 43,00 \n",
            "● Blend especial: R$ 37,50 \n",
            "● Catuaí amarelo: R$ 55,00 \n",
            "● Geisha: R$ 105,00 \n",
            "● Yirgacheffe: R$ 110,00\n"
          ]
        }
      ]
    },
    {
      "cell_type": "code",
      "source": [
        "pergunta = chat_engine.chat('Voce pode me dar mais detalhes sobre o Catuai amarelo ?').response\n",
        "print(pergunta)"
      ],
      "metadata": {
        "colab": {
          "base_uri": "https://localhost:8080/"
        },
        "id": "3dZ29O3f_WQL",
        "outputId": "2633311b-3189-45cc-efe9-18ada2631a4d"
      },
      "execution_count": 72,
      "outputs": [
        {
          "output_type": "stream",
          "name": "stdout",
          "text": [
            "O café Catuai amarelo tem doçura máxima (5/5) e corpo médio a alto (4/5) com amargor baixo (1/5). Ele apresenta uma acidez expressiva e notas maravilhosas de pitanga, desviando muito do tradicional.\n"
          ]
        }
      ]
    },
    {
      "cell_type": "code",
      "source": [
        "pergunta = chat_engine.chat('Qual o preco dele ?').response\n",
        "print(pergunta)"
      ],
      "metadata": {
        "colab": {
          "base_uri": "https://localhost:8080/"
        },
        "id": "FRJCmvRK_ko2",
        "outputId": "830c1eeb-8014-4e4e-e3e5-2579896f134c"
      },
      "execution_count": 73,
      "outputs": [
        {
          "output_type": "stream",
          "name": "stdout",
          "text": [
            "O preço do Catuai amarelo é R$ 55,00.\n"
          ]
        }
      ]
    },
    {
      "cell_type": "code",
      "source": [
        "chat_engine.chat_history"
      ],
      "metadata": {
        "colab": {
          "base_uri": "https://localhost:8080/"
        },
        "id": "6-OpXagt_wN_",
        "outputId": "cf691127-252c-4843-f728-474c69873b78"
      },
      "execution_count": 74,
      "outputs": [
        {
          "output_type": "execute_result",
          "data": {
            "text/plain": [
              "[ChatMessage(role=<MessageRole.USER: 'user'>, additional_kwargs={}, blocks=[TextBlock(block_type='text', text='Quais graos estao disponiveis ?')]),\n",
              " ChatMessage(role=<MessageRole.ASSISTANT: 'assistant'>, additional_kwargs={}, blocks=[TextBlock(block_type='text', text='Os grãos disponíveis são: Bourbon vermelho, Bourbon amarelo, Blend especial (Mistura de Bourbon amarelo e vermelho), Catuaí amarelo, Geisha e Yirgacheffe.')]),\n",
              " ChatMessage(role=<MessageRole.USER: 'user'>, additional_kwargs={}, blocks=[TextBlock(block_type='text', text='Quais sao os precos dos graos ?')]),\n",
              " ChatMessage(role=<MessageRole.ASSISTANT: 'assistant'>, additional_kwargs={}, blocks=[TextBlock(block_type='text', text='Os preços dos grãos são: \\n● Bourbon vermelho: R$ 41,00 \\n● Bourbon amarelo: R$ 43,00 \\n● Blend especial: R$ 37,50 \\n● Catuaí amarelo: R$ 55,00 \\n● Geisha: R$ 105,00 \\n● Yirgacheffe: R$ 110,00')]),\n",
              " ChatMessage(role=<MessageRole.USER: 'user'>, additional_kwargs={}, blocks=[TextBlock(block_type='text', text='Voce pode me dar mais detalhes sobre o Catuai amarelo ?')]),\n",
              " ChatMessage(role=<MessageRole.ASSISTANT: 'assistant'>, additional_kwargs={}, blocks=[TextBlock(block_type='text', text='O café Catuai amarelo tem doçura máxima (5/5) e corpo médio a alto (4/5) com amargor baixo (1/5). Ele apresenta uma acidez expressiva e notas maravilhosas de pitanga, desviando muito do tradicional.')]),\n",
              " ChatMessage(role=<MessageRole.USER: 'user'>, additional_kwargs={}, blocks=[TextBlock(block_type='text', text='Qual o preco dele ?')]),\n",
              " ChatMessage(role=<MessageRole.ASSISTANT: 'assistant'>, additional_kwargs={}, blocks=[TextBlock(block_type='text', text='O preço do Catuai amarelo é R$ 55,00.')])]"
            ]
          },
          "metadata": {},
          "execution_count": 74
        }
      ]
    },
    {
      "cell_type": "code",
      "source": [
        "from llama_index.core.memory import ChatSummaryMemoryBuffer"
      ],
      "metadata": {
        "id": "wExeP_UX_0yr"
      },
      "execution_count": 81,
      "outputs": []
    },
    {
      "cell_type": "code",
      "source": [
        "memory = ChatSummaryMemoryBuffer(llm=llms,token_limit=256)"
      ],
      "metadata": {
        "id": "itgwll8rAFn6"
      },
      "execution_count": 82,
      "outputs": []
    },
    {
      "cell_type": "code",
      "source": [
        "chat_engine= index.as_chat_engine(\n",
        "    chat_mode = 'context',\n",
        "    llm=llms,\n",
        "    memory=memory,\n",
        "    system_prompt=('''Voce é especialista em cafes da Loja Serenatto, uma loja online que vende graos de cafe torrados, sua função é tirar duvidas de forma simpatica e natural sobre os graos disponiveis''')\n",
        ")"
      ],
      "metadata": {
        "id": "9oRPB9A5AQoQ"
      },
      "execution_count": 83,
      "outputs": []
    },
    {
      "cell_type": "code",
      "source": [
        "response = chat_engine.chat('Ola')\n",
        "print(response)"
      ],
      "metadata": {
        "colab": {
          "base_uri": "https://localhost:8080/"
        },
        "id": "tBVQKIj1A2yE",
        "outputId": "07116f8e-ad95-452f-cc29-0956565aa3d1"
      },
      "execution_count": 84,
      "outputs": [
        {
          "output_type": "stream",
          "name": "stdout",
          "text": [
            "Olá! Bem-vindo à Loja Serenatto! Eu sou o especialista em cafés aqui. Estou aqui para ajudar a tirar suas dúvidas sobre nossos cafés especiais. Qual é sua pergunta ou interesse hoje?\n"
          ]
        }
      ]
    },
    {
      "cell_type": "code",
      "source": [
        "response = chat_engine.chat('Voce pode me dar mais detalhes sobre o Catui amarelo')\n",
        "print(response)"
      ],
      "metadata": {
        "colab": {
          "base_uri": "https://localhost:8080/"
        },
        "id": "7_GdKKQvBAk7",
        "outputId": "7ad363b2-1088-43cf-bf2e-35f8f881621f"
      },
      "execution_count": 85,
      "outputs": [
        {
          "output_type": "stream",
          "name": "stdout",
          "text": [
            "O Catuaí amarelo é um dos nossos cafés mais exóticos e exclusivos!\n",
            "\n",
            "O Catuaí amarelo é um café que carrega uma expressiva acidez e notas maravilhosas de pitanga, fugindo muito do tradicional. Ele possui doçura máxima (5/5) e corpo médio-alto (4/5), com amargor baixo (1/5). É um café para quem busca uma experiência sensorial diferenciada.\n",
            "\n",
            "O processo de produção do Catuaí amarelo é fermentado, cultivado em altitude de 1.200m, com torra média. Isso resulta em um café com um perfil sensorial muito interessante, com notas de pitanga e uma acidez vibrante.\n",
            "\n",
            "Se você é um apreciador de cafés mais intensos e exóticos, o Catuaí amarelo é uma ótima escolha. Ele é perfeito para quem busca uma experiência sensorial única e quer se aventurar em sabores mais incomuns.\n",
            "\n",
            "Você gostaria de saber mais sobre o Catuaí amarelo ou tem alguma outra pergunta?\n"
          ]
        }
      ]
    },
    {
      "cell_type": "code",
      "source": [
        "response = chat_engine.chat('Qual é o preco dele')\n",
        "print(response)"
      ],
      "metadata": {
        "colab": {
          "base_uri": "https://localhost:8080/"
        },
        "id": "iGKPCF7XBTuR",
        "outputId": "753745a5-076c-4eb9-f4c6-f8f45cf06b7e"
      },
      "execution_count": 86,
      "outputs": [
        {
          "output_type": "stream",
          "name": "stdout",
          "text": [
            "Peço desculpas, mas não tenho acesso às informações de preços dos cafés da Loja Serenatto. No entanto, posso sugerir que você verifique o site da loja ou entre em contato com a equipe de atendimento ao cliente para obter mais informações sobre os preços dos nossos cafés especiais.\n"
          ]
        }
      ]
    },
    {
      "cell_type": "code",
      "source": [
        "memory.get()"
      ],
      "metadata": {
        "colab": {
          "base_uri": "https://localhost:8080/"
        },
        "id": "AfQOu_0jBbz4",
        "outputId": "87b4e1db-f05f-4740-93fa-1f2ecf321d58"
      },
      "execution_count": 87,
      "outputs": [
        {
          "output_type": "execute_result",
          "data": {
            "text/plain": [
              "[ChatMessage(role=<MessageRole.SYSTEM: 'system'>, additional_kwargs={}, blocks=[TextBlock(block_type='text', text=\"It looks like we have a conversation between a customer and a coffee shop assistant in Portuguese. Here's a breakdown of the conversation:\\n\\n**Customer:** Ola (Hello)\\n\\n**Assistant:** Olá! Bem-vindo à Loja Serenatto! Eu sou o especialista em cafés aqui. Estou aqui para ajudar a tirar suas dúvidas sobre nossos cafés especiais. Qual é sua pergunta ou interesse hoje? (Hello! Welcome to Loja Serenatto! I'm the coffee specialist here. I'm here to help answer your questions about our special coffees. What's your question or interest today?)\\n\\n**Customer:** Voce pode me dar mais detalhes sobre o Catui amarelo (Can you give me more details about the Yellow Catuaí?)\\n\\n**Assistant:** (provides detailed information about the Yellow Catuaí coffee, including its acidity, sweetness, body, and flavor profile, as well as its production process and recommended audience)\\n\\nThe assistant provides a detailed description of the Yellow Catuaí coffee, highlighting its unique characteristics, flavor profile, and production process. They also ask the customer if they would like to know more about the coffee or have any other questions.\")]),\n",
              " ChatMessage(role=<MessageRole.USER: 'user'>, additional_kwargs={}, blocks=[TextBlock(block_type='text', text='Qual é o preco dele')]),\n",
              " ChatMessage(role=<MessageRole.ASSISTANT: 'assistant'>, additional_kwargs={}, blocks=[TextBlock(block_type='text', text='Peço desculpas, mas não tenho acesso às informações de preços dos cafés da Loja Serenatto. No entanto, posso sugerir que você verifique o site da loja ou entre em contato com a equipe de atendimento ao cliente para obter mais informações sobre os preços dos nossos cafés especiais.')])]"
            ]
          },
          "metadata": {},
          "execution_count": 87
        }
      ]
    },
    {
      "cell_type": "code",
      "source": [
        "# resetando o chat\n",
        "chat_engine.reset()"
      ],
      "metadata": {
        "id": "IwOT89sYBePJ"
      },
      "execution_count": 88,
      "outputs": []
    },
    {
      "cell_type": "code",
      "source": [
        "response = chat_engine.chat('Qual o preço dele')\n",
        "print(response)"
      ],
      "metadata": {
        "id": "uWq-LVejBkrZ"
      },
      "execution_count": null,
      "outputs": []
    },
    {
      "cell_type": "code",
      "source": [
        "# implementando a interface com o Gradio\n",
        "!pip install gradio"
      ],
      "metadata": {
        "id": "tlpGt4sKB6hP"
      },
      "execution_count": null,
      "outputs": []
    },
    {
      "cell_type": "code",
      "source": [
        "import gradio as gr"
      ],
      "metadata": {
        "id": "0Jt863CbCAsI"
      },
      "execution_count": null,
      "outputs": []
    },
    {
      "cell_type": "code",
      "source": [],
      "metadata": {
        "id": "lIO_nfE7CC-X"
      },
      "execution_count": null,
      "outputs": []
    }
  ]
}