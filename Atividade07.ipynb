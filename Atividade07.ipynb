{
  "cells": [
    {
      "cell_type": "code",
      "execution_count": null,
      "metadata": {
        "colab": {
          "base_uri": "https://localhost:8080/"
        },
        "id": "J54lTqN7ohks",
        "outputId": "39ba6233-3aec-41c4-c40c-4a496f2575aa"
      },
      "outputs": [],
      "source": [
        "# Desenvolvimento de um chatbot especialista para auxiliar o agricultor na escolha da semente e\n",
        "#como preparar o solo para o plantio, bem como definir os limites de\n",
        "#temperatura para o solo e irrigação de acordo com a semente plantada.\n",
        "\n",
        "!pip install -q llama-index"
      ]
    },
    {
      "cell_type": "code",
      "execution_count": 2,
      "metadata": {
        "id": "QrlNcveNouhn"
      },
      "outputs": [],
      "source": [
        "# biblioteca para permitir a leitura de arquivos pdf\n",
        "from llama_index.core import SimpleDirectoryReader"
      ]
    },
    {
      "cell_type": "code",
      "execution_count": 3,
      "metadata": {
        "id": "KuHy0HdRouf_"
      },
      "outputs": [],
      "source": [
        "documento = SimpleDirectoryReader(input_dir='documentos')"
      ]
    },
    {
      "cell_type": "code",
      "execution_count": 5,
      "metadata": {
        "colab": {
          "base_uri": "https://localhost:8080/"
        },
        "id": "WJO9vtl7o1cv",
        "outputId": "a7ce49c2-e078-426c-a042-222afadc4a77"
      },
      "outputs": [
        {
          "data": {
            "text/plain": [
              "[PosixPath('/content/documentos/doc_info_agricultura.pdf')]"
            ]
          },
          "execution_count": 5,
          "metadata": {},
          "output_type": "execute_result"
        }
      ],
      "source": [
        "documento.input_files"
      ]
    },
    {
      "cell_type": "code",
      "execution_count": 7,
      "metadata": {
        "id": "sX2Igt5opmx4"
      },
      "outputs": [],
      "source": [
        "docs = documento.load_data()"
      ]
    },
    {
      "cell_type": "code",
      "execution_count": 8,
      "metadata": {
        "colab": {
          "base_uri": "https://localhost:8080/"
        },
        "id": "CaQNA3V0pr4g",
        "outputId": "8c0ca093-bc05-4fd0-ed7b-c004c97eefdd"
      },
      "outputs": [
        {
          "data": {
            "text/plain": [
              "[Document(id_='e70b04be-6756-4f50-ba7d-2d4a4435c125', embedding=None, metadata={'page_label': '1', 'file_name': 'doc_info_agricultura.pdf', 'file_path': '/content/documentos/doc_info_agricultura.pdf', 'file_type': 'application/pdf', 'file_size': 268199, 'creation_date': '2025-03-26', 'last_modified_date': '2025-03-26'}, excluded_embed_metadata_keys=['file_name', 'file_type', 'file_size', 'creation_date', 'last_modified_date', 'last_accessed_date'], excluded_llm_metadata_keys=['file_name', 'file_type', 'file_size', 'creation_date', 'last_modified_date', 'last_accessed_date'], relationships={}, metadata_template='{key}: {value}', metadata_separator='\\n', text_resource=MediaResource(embeddings=None, data=None, text='Guia de Preparo do Solo para Plantio\\nInformações Gerais\\nP: Qual a importância do preparo adequado do solo?\\nR: O preparo adequado do solo garante que as plantas tenham acesso aos\\nnutrientes necessários, além de melhorar a retenção de água e a aeração,\\nfatores essenciais para o crescimento saudável.\\nP: Quais fatores devem ser considerados ao preparar o solo para o plantio?\\nR: Os principais fatores incluem o tipo de solo, a umidade ideal, o pH, a\\ncompactação e a adubação adequada para cada cultura.\\nTipos de Solo e Seu Tratamento\\nP: Quais os principais tipos de solo e como prepará-los?\\nR: Existem diversos tipos de solo, cada um com características específicas e\\ntratamentos recomendados:\\n\\uf0b7 Solo Arenoso: Drenagem rápida, baixo teor de nutrientes. Recomenda-\\nse adição de matéria orgânica e irrigação frequente.\\n\\uf0b7 Solo Argiloso: Retém muita água, pode compactar facilmente.\\nAéreação e adição de areia podem melhorar a drenagem.\\n\\uf0b7 Solo Calcário: Alto pH, pouca disponibilidade de micronutrientes. Pode\\nser corrigido com adubação orgânica e fertilizantes ácidos.\\nSensores para Monitoramento da Umidade do Solo\\nP: Quais sensores podem ser usados para monitorar a umidade do solo?\\nR: Existem diversas tecnologias para medir a umidade do solo, entre elas:\\n\\uf0b7 Sensor Capacitivo de Umidade do Solo: Mede a variação da\\ncapacitância conforme o nível de umidade.\\n\\uf0b7 Sensor Resistivo de Umidade: Mede a condutividade elétrica do solo,\\nvariando conforme a umidade.\\n\\uf0b7 Sensor TDR (Time Domain Reflectometry): Utiliza pulsos\\neletromagnéticos para calcular a umidade com alta precisão.\\n\\uf0b7 Sondas de Tensiômetro: Medem a tensão com que a água está sendo\\nretida no solo, indicando o nível de umidade disponível para as plantas.\\nEsses sensores são fundamentais para o manejo eficiente da irrigação e para\\nevitar estresse hídrico das plantas.\\nUmidade e pH Ideais\\nP: Como medir e ajustar a umidade do solo?\\nR: A umidade pode ser medida com sensores ou testes simples (amassando o\\nsolo na mão). Para solos muito secos, a irrigação regular é essencial; para\\nsolos muito úmidos, drenagem adequada deve ser aplicada.', path=None, url=None, mimetype=None), image_resource=None, audio_resource=None, video_resource=None, text_template='{metadata_str}\\n\\n{content}'),\n",
              " Document(id_='9d7df280-9761-45a1-ba0a-ef5a5d186523', embedding=None, metadata={'page_label': '2', 'file_name': 'doc_info_agricultura.pdf', 'file_path': '/content/documentos/doc_info_agricultura.pdf', 'file_type': 'application/pdf', 'file_size': 268199, 'creation_date': '2025-03-26', 'last_modified_date': '2025-03-26'}, excluded_embed_metadata_keys=['file_name', 'file_type', 'file_size', 'creation_date', 'last_modified_date', 'last_accessed_date'], excluded_llm_metadata_keys=['file_name', 'file_type', 'file_size', 'creation_date', 'last_modified_date', 'last_accessed_date'], relationships={}, metadata_template='{key}: {value}', metadata_separator='\\n', text_resource=MediaResource(embeddings=None, data=None, text='P: Como ajustar o pH do solo para diferentes culturas?\\nR: O pH do solo pode ser medido com kits de teste. Para correção:\\n\\uf0b7 Solo ácido (pH baixo): Aplicação de calcário.\\n\\uf0b7 Solo alcalino (pH alto): Uso de enxofre ou fertilizantes ácidos.\\nCulturas e Suas Necessidades\\nP: Quais são as recomendações de preparo do solo para diferentes\\nsementes?\\nR: Cada semente tem exigências específicas:\\n\\uf0b7 Milho: Prefere solo bem drenado, pH entre 5,5 e 7,0, rico em nitrogênio.\\n\\uf0b7 Soja: Solo com boa retenção de umidade, pH entre 6,0 e 7,0,\\nnecessária fixação biológica de nitrogênio.\\n\\uf0b7 Trigo: Prefere solos profundos e bem drenados, pH entre 6,0 e 7,5, rico\\nem fósforo.\\n\\uf0b7 Hortaliças (alface, tomate, cenoura): Solo leve, bem drenado e rico\\nem matéria orgânica, pH entre 5,5 e 6,8.\\nP: Como garantir a fertilidade do solo?\\nR: O solo deve ser adubado de acordo com as necessidades da cultura. A\\nadubação pode ser orgânica (composto, esterco) ou química (NPK). A análise\\ndo solo é fundamental para determinar os nutrientes necessários.\\nTipos de Fertilizantes\\nP: Quais são os principais fertilizantes usados no solo?\\nR: Os fertilizantes podem ser classificados em:\\n\\uf0b7 Fertilizantes Orgânicos: Compostos naturais como esterco, húmus de\\nminhoca, farinha de ossos e restos vegetais.\\n\\uf0b7 Fertilizantes Químicos: Compostos sintéticos como NPK (Nitrogênio,\\nFósforo e Potássio), ureia, superfosfato e cloreto de potássio.\\n\\uf0b7 Fertilizantes de Liberação Controlada: Gradualmente liberam os\\nnutrientes no solo ao longo do tempo, otimizando o aproveitamento\\npelas plantas.\\nPreparo do Solo Passo a Passo\\n1. Análise do Solo: Coletar amostras e verificar pH, umidade e nutrientes.\\n2. Correção do Solo: Aplicar calcário, adubos e melhoradores conforme\\nnecessidade.\\n3. Aragem e Gradagem: Revolver o solo para aeração e nivelamento.\\n4. Adubação: Incorporar fertilizantes e matéria orgânica.\\n5. Preparo Final: Nivelar o solo e preparar os espaçamentos para a\\nsementeira ou mudas.\\nDicas Gerais', path=None, url=None, mimetype=None), image_resource=None, audio_resource=None, video_resource=None, text_template='{metadata_str}\\n\\n{content}'),\n",
              " Document(id_='50826607-fd22-4d34-869a-11edc57f350a', embedding=None, metadata={'page_label': '3', 'file_name': 'doc_info_agricultura.pdf', 'file_path': '/content/documentos/doc_info_agricultura.pdf', 'file_type': 'application/pdf', 'file_size': 268199, 'creation_date': '2025-03-26', 'last_modified_date': '2025-03-26'}, excluded_embed_metadata_keys=['file_name', 'file_type', 'file_size', 'creation_date', 'last_modified_date', 'last_accessed_date'], excluded_llm_metadata_keys=['file_name', 'file_type', 'file_size', 'creation_date', 'last_modified_date', 'last_accessed_date'], relationships={}, metadata_template='{key}: {value}', metadata_separator='\\n', text_resource=MediaResource(embeddings=None, data=None, text='\\uf0b7 Evite compactação excessiva: Use rotação de culturas e cobertura\\nvegetal.\\n\\uf0b7 Mantenha umidade ideal: Planeje irrigação conforme a cultura.\\n\\uf0b7 Proteja contra erosão: Utilize cobertura morta e curvas de nível em\\nterrenos inclinados.\\nP: Por que é importante preparar o solo adequadamente antes do\\nplantio?\\nR: A preparação adequada do solo antes do plantio é crucial por várias\\nrazões, e isso pode afetar diretamente o sucesso do cultivo. Aqui estão\\nalguns dos principais motivos:\\nMelhora a aeração e drenagem: Ao preparar o solo, você ajuda a criar\\numa estrutura mais solta, permitindo que o ar e a água circularem\\nadequadamente pelas raízes das plantas. Isso previne problemas como\\no apodrecimento das raízes e promove um crescimento saudável.\\nDistribuição uniforme de nutrientes: A preparação do solo garante que\\nos nutrientes estejam bem distribuídos e disponíveis para as plantas.\\nSe o solo for compactado ou mal trabalhado, as raízes podem ter\\ndificuldade em acessar esses nutrientes essenciais.\\nMelhora da retenção de água: Em solos bem preparados, a água é\\nmelhor retida nas camadas mais profundas, o que ajuda durante\\nperíodos de seca, permitindo que as raízes acessem a umidade\\nnecessária para o crescimento.\\nControle de ervas daninhas: Preparar o solo pode ajudar a remover ou\\ncontrolar ervas daninhas e outras plantas indesejadas que competem\\ncom as culturas por recursos, como luz, água e nutrientes.\\nRedução de doenças do solo: Em solos mal preparados, pode haver a\\nproliferação de patógenos que prejudicam as plantas. Uma boa\\npreparação do solo, muitas vezes envolvendo a incorporação de\\nmatéria orgânica e a rotação de culturas, pode ajudar a reduzir esses\\nriscos.\\nMelhor enraizamento: Solos soltos e bem estruturados permitem que\\nas raízes se expandam facilmente, promovendo o crescimento\\nvigoroso da planta.\\nEm resumo, a preparação do solo cria um ambiente mais saudável e\\nfavorável ao desenvolvimento das plantas, melhorando a produtividade\\ne a resistência das culturas.', path=None, url=None, mimetype=None), image_resource=None, audio_resource=None, video_resource=None, text_template='{metadata_str}\\n\\n{content}'),\n",
              " Document(id_='4cbb5c09-9351-4dcf-9eb7-dbd318d07781', embedding=None, metadata={'page_label': '4', 'file_name': 'doc_info_agricultura.pdf', 'file_path': '/content/documentos/doc_info_agricultura.pdf', 'file_type': 'application/pdf', 'file_size': 268199, 'creation_date': '2025-03-26', 'last_modified_date': '2025-03-26'}, excluded_embed_metadata_keys=['file_name', 'file_type', 'file_size', 'creation_date', 'last_modified_date', 'last_accessed_date'], excluded_llm_metadata_keys=['file_name', 'file_type', 'file_size', 'creation_date', 'last_modified_date', 'last_accessed_date'], relationships={}, metadata_template='{key}: {value}', metadata_separator='\\n', text_resource=MediaResource(embeddings=None, data=None, text='P: Quais são os principais tipos de solo e como prepará-los para o\\ncultivo?\\nR: Os principais tipos de solo são classificados de acordo com sua\\ncomposição, estrutura e propriedades. Cada tipo de solo tem\\ncaracterísticas que influenciam a forma de preparação para o cultivo.\\nAbaixo estão os principais tipos de solo e algumas orientações sobre\\ncomo prepará-los para o plantio:\\n1. Solo Arenoso\\n\\uf0b7 Características: O solo arenoso é composto por partículas grandes\\nde areia, o que resulta em boa drenagem, mas baixa capacidade de\\nretenção de água e nutrientes.\\n\\uf0b7 Preparação:\\no Melhorar a retenção de água e nutrientes: Devido à sua baixa\\ncapacidade de retenção, é importante adicionar matéria\\norgânica, como compostos ou esterco, para aumentar a\\ncapacidade de retenção de água e nutrientes.\\no Adição de fertilizantes: O solo arenoso pode ser pobre em\\nnutrientes, portanto, a adição regular de fertilizantes é\\nrecomendada para garantir um bom crescimento das plantas.\\no Controle de erosão: A alta drenagem pode levar à erosão do\\nsolo, especialmente em áreas inclinadas. Plantar cobertura\\nvegetal pode ajudar a proteger o solo.\\n2. Solo Argiloso\\n\\uf0b7 Características: O solo argiloso tem partículas muito pequenas e\\ncompactas, o que resulta em boa retenção de água, mas pode levar a\\nproblemas de drenagem e compactação.\\n\\uf0b7 Preparação:\\no Aeração: A compactação é comum em solos argilosos, então a\\nincorporação de matéria orgânica (como composto ou\\nestrume) ajuda a melhorar a estrutura do solo, aumentando a\\naeração e a drenagem.\\no Evitar o excesso de água: O solo argiloso tende a reter muita\\nágua, o que pode causar encharcamento. É importante\\nverificar a drenagem antes de plantar e, se necessário, fazer\\ncanais de drenagem.\\no Uso de calcário: Em alguns casos, solos argilosos podem ser\\nácidos. A adição de calcário ajuda a corrigir o pH e melhora a\\nestrutura do solo.\\n3. Solo Franco\\n\\uf0b7 Características: O solo franco é considerado ideal para o cultivo,\\npois possui uma boa combinação de areia, silte e argila. Ele\\napresenta boa drenagem, retenção de água e capacidade de nutrição.\\n\\uf0b7 Preparação:\\no Incorporação de matéria orgânica: Embora seja um solo\\nequilibrado, a adição de matéria orgânica ainda pode ajudar a\\nmanter sua estrutura e fertilidade.', path=None, url=None, mimetype=None), image_resource=None, audio_resource=None, video_resource=None, text_template='{metadata_str}\\n\\n{content}'),\n",
              " Document(id_='81a3f1a4-acd1-4b35-9e30-25644fea9b7b', embedding=None, metadata={'page_label': '5', 'file_name': 'doc_info_agricultura.pdf', 'file_path': '/content/documentos/doc_info_agricultura.pdf', 'file_type': 'application/pdf', 'file_size': 268199, 'creation_date': '2025-03-26', 'last_modified_date': '2025-03-26'}, excluded_embed_metadata_keys=['file_name', 'file_type', 'file_size', 'creation_date', 'last_modified_date', 'last_accessed_date'], excluded_llm_metadata_keys=['file_name', 'file_type', 'file_size', 'creation_date', 'last_modified_date', 'last_accessed_date'], relationships={}, metadata_template='{key}: {value}', metadata_separator='\\n', text_resource=MediaResource(embeddings=None, data=None, text='o Controle do pH: Solos franco têm pH geralmente neutro, mas é\\nsempre importante verificar o pH para garantir que esteja na\\nfaixa ideal para o cultivo.\\no Fertilização balanceada: A fertilização deve ser feita de acordo\\ncom as necessidades específicas da planta, pois o solo franco\\njá possui boa quantidade de nutrientes.\\n4. Solo Siltoso\\n\\uf0b7 Características: O solo siltoso é composto por partículas finas de\\nsilte. Ele tem boa retenção de água e nutrientes, mas pode ter\\ndrenagem deficiente, o que pode resultar em problemas de\\ncompactação e encharcamento.\\n\\uf0b7 Preparação:\\no Melhorar a drenagem: Se necessário, adicione materiais\\norgânicos ou areia para melhorar a drenagem e evitar o\\nencharcamento.\\no Aerificação: O solo siltoso pode se compactar facilmente, por\\nisso é importante revolver o solo ou incorporar matéria\\norgânica para manter a aeração.\\no Controle de pH: Solos siltosos podem ser ligeiramente ácidos,\\nportanto, se o pH for muito baixo, a aplicação de calcário pode\\nser útil.\\n5. Solo Peçapão (ou Solos Pesados)\\n\\uf0b7 Características: Esses solos são uma combinação de argila e silte, e\\npodem ser muito densos, com dificuldade de drenagem.\\n\\uf0b7 Preparação:\\no Adição de matéria orgânica: Para melhorar a estrutura e a\\ncapacidade de drenagem, adicione compostos ou estrume.\\no Aeração: A aeração é fundamental para prevenir a\\ncompactação. O uso de máquinas para fazer sulcos pode ser\\nnecessário para abrir o solo e permitir a penetração de ar e\\nágua.\\no Uso de aditivos de drenagem: Em solos pesados, o uso de\\nareia ou outros materiais para ajudar na drenagem pode ser\\nútil.\\n6. Solo Orgânico (Humoso)\\n\\uf0b7 Características: É rico em matéria orgânica decomposta, e\\ngeralmente tem uma estrutura leve e boa drenagem. Pode ser\\nencontrado em regiões com alta vegetação natural.\\n\\uf0b7 Preparação:\\no Manutenção de sua qualidade: O solo orgânico é naturalmente\\nfértil, mas deve ser bem cuidado. A rotação de culturas e o\\nuso de compostagem podem manter sua saúde.\\no Evitar o excesso de cultivo: Embora seja fértil, o solo orgânico\\npode ser degradado com o cultivo contínuo, então a rotação e\\no uso de cobertura vegetal ajudam a manter sua produtividade.', path=None, url=None, mimetype=None), image_resource=None, audio_resource=None, video_resource=None, text_template='{metadata_str}\\n\\n{content}'),\n",
              " Document(id_='6e2fa8e5-535e-4bed-8942-f0771491004e', embedding=None, metadata={'page_label': '6', 'file_name': 'doc_info_agricultura.pdf', 'file_path': '/content/documentos/doc_info_agricultura.pdf', 'file_type': 'application/pdf', 'file_size': 268199, 'creation_date': '2025-03-26', 'last_modified_date': '2025-03-26'}, excluded_embed_metadata_keys=['file_name', 'file_type', 'file_size', 'creation_date', 'last_modified_date', 'last_accessed_date'], excluded_llm_metadata_keys=['file_name', 'file_type', 'file_size', 'creation_date', 'last_modified_date', 'last_accessed_date'], relationships={}, metadata_template='{key}: {value}', metadata_separator='\\n', text_resource=MediaResource(embeddings=None, data=None, text='P: Quais sensores podem ser utilizados para monitorar a umidade do\\nsolo e como funcionam?\\nR: Para monitorar a umidade do solo, existem diversos tipos de sensores\\nque utilizam diferentes tecnologias para medir a quantidade de água\\npresente no solo. A escolha do sensor depende de fatores como precisão\\ndesejada, profundidade de medição e custo. Aqui estão alguns dos\\nprincipais sensores utilizados para monitoramento de umidade do solo e\\ncomo funcionam:\\n1. Sensores de Tensão (Tensiômetro)\\n\\uf0b7 Como funciona: O tensiômetro mede a tensão de água no solo, ou\\nseja, a força que as raízes da planta precisam para extrair a água do\\nsolo. O sensor é composto por um tubo cerâmico que é enterrado no\\nsolo e preenchido com água. Quando o solo seca, a água do tubo é\\npuxada para fora, causando uma mudança na pressão interna, que é\\nmedida e correlacionada com a umidade do solo.\\n\\uf0b7 Vantagens:\\no Relativamente preciso para medir a tensão da água no solo.\\no Fornece informações importantes sobre a disponibilidade de\\nágua para as plantas.\\n\\uf0b7 Desvantagens:\\no Requer manutenção, como reabastecimento de água no tubo.\\no Funciona melhor em solos não muito salinos, pois a\\nsalinidade pode interferir nas medições.\\n2. Sensores Capacitivos\\n\\uf0b7 Como funciona: Sensores capacitivos medem a permissividade\\nelétrica do solo. A capacitividade é influenciada pela quantidade de\\nágua no solo, pois a água tem uma constante dielétrica maior do que\\nos minerais e o ar. O sensor emite um sinal elétrico e mede a\\nvariação da capacitância para determinar a quantidade de água\\npresente.\\n\\uf0b7 Vantagens:\\no Sem contato direto com o solo, o que reduz a manutenção.\\no Rápido e fácil de instalar, sem necessidade de recalibração\\nconstante.\\no Mais duráveis do que os tensiômetros em algumas condições.\\n\\uf0b7 Desvantagens:\\no Sensível à salinidade do solo.\\no Pode ser mais caro que outros tipos de sensores.\\n3. Sensores Resistivos (Sensor de Resistência Elétrica)\\n\\uf0b7 Como funciona: Sensores resistivos medem a resistência elétrica do\\nsolo, que varia com a umidade. Quando o solo está mais seco, a\\nresistência é maior, pois há menos água (que conduz a eletricidade).\\nQuando o solo está mais úmido, a resistência diminui. O sensor\\naplica uma corrente elétrica e mede a resistência.', path=None, url=None, mimetype=None), image_resource=None, audio_resource=None, video_resource=None, text_template='{metadata_str}\\n\\n{content}'),\n",
              " Document(id_='c59dd5dd-81d1-4889-8243-b19084a56f07', embedding=None, metadata={'page_label': '7', 'file_name': 'doc_info_agricultura.pdf', 'file_path': '/content/documentos/doc_info_agricultura.pdf', 'file_type': 'application/pdf', 'file_size': 268199, 'creation_date': '2025-03-26', 'last_modified_date': '2025-03-26'}, excluded_embed_metadata_keys=['file_name', 'file_type', 'file_size', 'creation_date', 'last_modified_date', 'last_accessed_date'], excluded_llm_metadata_keys=['file_name', 'file_type', 'file_size', 'creation_date', 'last_modified_date', 'last_accessed_date'], relationships={}, metadata_template='{key}: {value}', metadata_separator='\\n', text_resource=MediaResource(embeddings=None, data=None, text='\\uf0b7 Vantagens:\\no Custo relativamente baixo.\\no Simples de usar e de instalar.\\n\\uf0b7 Desvantagens:\\no Pode ser suscetível ao desgaste devido à corrosão,\\nespecialmente em solos com alta salinidade.\\no Menos preciso do que sensores capacitivos ou tensiômetros,\\nespecialmente em solos com grandes variações de sal.\\n4. Sensores de Neutrons (Por Emissão de Nêutrons)\\n\\uf0b7 Como funciona: Sensores de emissão de nêutrons utilizam radiação\\nde nêutrons para medir a quantidade de hidrogênio presente no solo,\\njá que a água é rica em hidrogênio. O sensor emite nêutrons no solo\\ne mede a quantidade de nêutrons que são dispersados de volta. A\\nquantidade de nêutrons dispersados é proporcional à quantidade de\\nágua no solo.\\n\\uf0b7 Vantagens:\\no Muito preciso e eficaz para medir a umidade do solo em\\ndiferentes profundidades.\\no Capaz de medir grandes volumes de solo (geralmente de 10 a\\n60 cm de profundidade).\\n\\uf0b7 Desvantagens:\\no Custo elevado e necessidade de equipamentos especializados.\\no Requer cuidados especiais devido ao uso de radiação, embora\\nos riscos sejam mínimos se o equipamento for utilizado\\ncorretamente.\\n5. Sensores de Frequência (Sensor de Impedância de Alta Frequência)\\n\\uf0b7 Como funciona: Sensores de impedância de alta frequência operam\\nmedindo as mudanças na impedância elétrica do solo a uma\\nfrequência muito alta. A água presente no solo altera a impedância\\nde forma mensurável, e o sensor usa essa variação para determinar\\na umidade do solo.\\n\\uf0b7 Vantagens:\\no São sensores de baixa manutenção.\\no Têm alta precisão e resposta rápida.\\n\\uf0b7 Desvantagens:\\no Sensibilidade a variações no tipo de solo (o tipo de solo\\ninfluencia a medição).\\no Requer um calibrador adequado para obter medições precisas.\\n6. Sensores de Micro-ondas', path=None, url=None, mimetype=None), image_resource=None, audio_resource=None, video_resource=None, text_template='{metadata_str}\\n\\n{content}'),\n",
              " Document(id_='453cf853-5780-431b-9427-6fae0f12f33f', embedding=None, metadata={'page_label': '8', 'file_name': 'doc_info_agricultura.pdf', 'file_path': '/content/documentos/doc_info_agricultura.pdf', 'file_type': 'application/pdf', 'file_size': 268199, 'creation_date': '2025-03-26', 'last_modified_date': '2025-03-26'}, excluded_embed_metadata_keys=['file_name', 'file_type', 'file_size', 'creation_date', 'last_modified_date', 'last_accessed_date'], excluded_llm_metadata_keys=['file_name', 'file_type', 'file_size', 'creation_date', 'last_modified_date', 'last_accessed_date'], relationships={}, metadata_template='{key}: {value}', metadata_separator='\\n', text_resource=MediaResource(embeddings=None, data=None, text='\\uf0b7 Como funciona: Sensores de micro-ondas medem a reflexão de\\nondas eletromagnéticas de micro-ondas quando emitidas no solo. A\\nquantidade de água presente no solo afeta a reflexão dessas ondas.\\nQuanto maior a umidade, maior será a mudança na reflexão das\\nondas.\\n\\uf0b7 Vantagens:\\no Podem ser usados para medições em tempo real e\\ncontinuamente.\\no Não requerem contato direto com o solo.\\n\\uf0b7 Desvantagens:\\no Custo elevado.\\no Sensibilidade a variações de tipo de solo e salinidade.\\n7. Sensores de Reflectometria no Domínio do Tempo (TDR)\\n\\uf0b7 Como funciona: Sensores TDR emitem pulsos elétricos de alta\\nfrequência e medem o tempo que esses pulsos levam para percorrer\\numa certa distância no solo. O tempo de resposta varia com a\\nquantidade de água no solo, já que a água influencia a velocidade do\\npulso. A partir dessa medida, é possível determinar a umidade do\\nsolo.\\n\\uf0b7 Vantagens:\\no Altamente preciso e confiável.\\no Pode ser usado em uma ampla gama de condições de solo.\\n\\uf0b7 Desvantagens:\\no Custo elevado e necessidade de equipamentos de calibração\\nprecisos.\\no Requer instalação cuidadosa e manutenção.\\nP: Como é possível ajustar o pH do solo para atender às necessidades das\\ndiferentes culturas?\\nR: Ajustar o pH do solo é uma prática importante para garantir que as\\nplantas possam absorver adequadamente os nutrientes necessários para\\nseu crescimento. O pH do solo influencia a disponibilidade de nutrientes, e\\ncada cultura tem uma faixa ideal de pH para um desenvolvimento saudável.\\nAqui estão as formas de ajustar o pH do solo de acordo com as\\nnecessidades das culturas:\\n1. Como Verificar o pH do Solo\\nAntes de ajustar o pH do solo, é essencial fazer uma análise do solo para\\ndeterminar seu pH atual. Isso pode ser feito com:\\n\\uf0b7 Kits de teste de pH: São simples e acessíveis, mas oferecem uma\\nprecisão limitada.', path=None, url=None, mimetype=None), image_resource=None, audio_resource=None, video_resource=None, text_template='{metadata_str}\\n\\n{content}'),\n",
              " Document(id_='badac7e4-ca8b-4e50-996d-2c2c464456d5', embedding=None, metadata={'page_label': '9', 'file_name': 'doc_info_agricultura.pdf', 'file_path': '/content/documentos/doc_info_agricultura.pdf', 'file_type': 'application/pdf', 'file_size': 268199, 'creation_date': '2025-03-26', 'last_modified_date': '2025-03-26'}, excluded_embed_metadata_keys=['file_name', 'file_type', 'file_size', 'creation_date', 'last_modified_date', 'last_accessed_date'], excluded_llm_metadata_keys=['file_name', 'file_type', 'file_size', 'creation_date', 'last_modified_date', 'last_accessed_date'], relationships={}, metadata_template='{key}: {value}', metadata_separator='\\n', text_resource=MediaResource(embeddings=None, data=None, text='\\uf0b7 Laboratórios especializados: Para obter resultados mais precisos e\\ninformações detalhadas, enviar uma amostra de solo para um\\nlaboratório de análise é o mais confiável.\\n2. Ajustando o pH para Solos Ácidos (pH abaixo de 6)\\nEm solos ácidos, a acidez excessiva pode dificultar a absorção de\\nnutrientes, como cálcio, magnésio e fósforo. Se a cultura que você deseja\\nplantar prefere um solo mais neutro ou levemente alcalino, você pode\\nprecisar aumentar o pH.\\nComo aumentar o pH (tornar o solo mais alcalino):\\n\\uf0b7 Aplicação de calcário: O calcário é o método mais comum para\\naumentar o pH do solo. Ele contém carbonato de cálcio, que\\nneutraliza a acidez do solo. Existem diferentes tipos de calcário:\\no Calcário dolomítico: Contém cálcio e magnésio, útil para solos\\nque também carecem de magnésio.\\no Calcário calcítico: Contém apenas cálcio, adequado para solos\\ncom deficiência de cálcio.\\no Calcário agrícola: É o mais utilizado e pode ser encontrado em\\nformas finas ou em grânulos.\\n\\uf0b7 Outros materiais alcalinizantes:\\no Cinzas de madeira: Embora sejam mais lentas para agir, as\\ncinzas de madeira podem aumentar o pH do solo, fornecendo\\ntambém potássio.\\no Carbonato de sódio (soda cáustica) ou carbonato de potássio:\\nSão opções mais rápidas, mas devem ser usadas com cuidado,\\npois podem alterar drasticamente o pH e outros parâmetros do\\nsolo.\\nComo aplicar:\\n\\uf0b7 Quantidade: A quantidade de calcário necessária depende do pH\\natual do solo e do tipo de solo (arenoso, argiloso, etc.). Em geral, a\\naplicação de 1 tonelada de calcário por hectare pode aumentar o pH\\nde 0,5 a 1 unidade.\\n\\uf0b7 Temporização: O calcário deve ser aplicado de 3 a 6 meses antes do\\nplantio, pois leva tempo para reagir no solo.\\n3. Ajustando o pH para Solos Alcalinos (pH acima de 7)\\nSolos com pH alto podem ter dificuldade em fornecer nutrientes essenciais,\\ncomo ferro, fósforo, manganês e cobre. Se o pH do solo for muito alcalino\\npara a cultura que você deseja plantar, será necessário reduzir o pH.\\nComo reduzir o pH (tornar o solo mais ácido):\\n\\uf0b7\\nEnxofre: O enxofre é o principal ingrediente utilizado para diminuir o\\npH do solo. Ele é convertido em ácido sulfúrico por\\nmicroorganismos no solo, o que ajuda a aumentar a acidez.', path=None, url=None, mimetype=None), image_resource=None, audio_resource=None, video_resource=None, text_template='{metadata_str}\\n\\n{content}'),\n",
              " Document(id_='c5185f53-162b-42f6-aee3-7c5685ce13cf', embedding=None, metadata={'page_label': '10', 'file_name': 'doc_info_agricultura.pdf', 'file_path': '/content/documentos/doc_info_agricultura.pdf', 'file_type': 'application/pdf', 'file_size': 268199, 'creation_date': '2025-03-26', 'last_modified_date': '2025-03-26'}, excluded_embed_metadata_keys=['file_name', 'file_type', 'file_size', 'creation_date', 'last_modified_date', 'last_accessed_date'], excluded_llm_metadata_keys=['file_name', 'file_type', 'file_size', 'creation_date', 'last_modified_date', 'last_accessed_date'], relationships={}, metadata_template='{key}: {value}', metadata_separator='\\n', text_resource=MediaResource(embeddings=None, data=None, text='\\uf0b7\\no Enxofre elementar: A forma mais comum, que deve ser\\naplicada com antecedência, pois leva de 2 a 3 meses para\\ncomeçar a agir.\\no Enxofre solúvel: A forma mais rápida de ação, mas pode ser\\nmais cara.\\n\\uf0b7\\nFosfato de alumínio: O fosfato de alumínio também pode ser usado\\npara reduzir o pH do solo. No entanto, é mais usado em solos de\\nregiões tropicais e não é tão comum em outras áreas.\\n\\uf0b7\\n\\uf0b7\\nMatéria orgânica: A aplicação de composto orgânico (como esterco\\nou compostagem) pode ajudar a acidificar o solo ao longo do tempo,\\nembora o efeito seja mais gradual.\\n\\uf0b7\\n\\uf0b7\\nÁcidos orgânicos: Como o ácido cítrico, que pode ser adicionado\\npara reduzir a acidez rapidamente, mas essa não é uma prática\\ncomum em grande escala, sendo mais usada em jardins ou em áreas\\nmenores.\\n\\uf0b7\\nComo aplicar:\\n\\uf0b7 Quantidade: A quantidade de enxofre necessária depende do pH\\ninicial do solo, da textura e da quantidade de matéria orgânica\\npresente. Para diminuir o pH de 1 unidade, é comum aplicar entre\\n100 e 200 kg de enxofre por hectare.\\n\\uf0b7 Temporização: Aplique o enxofre com 2 a 3 meses de antecedência,\\npois leva algum tempo para reagir.\\n4. Considerações sobre o pH Ideal para as Culturas\\nCada cultura tem uma faixa ideal de pH para o crescimento ideal. Aqui\\nestão alguns exemplos de pH ideal para diferentes tipos de plantas:\\n\\uf0b7 Solos ácidos (pH 4,5 a 6): Adequados para culturas como arroz, café,\\nbatata, feijão, cana-de-açúcar.\\n\\uf0b7 Solos neutros (pH 6 a 7): Melhor para a maioria das culturas, como\\nmilho, soja, tomate, pepino, trigo, hortaliças.\\n\\uf0b7 Solos alcalinos (pH 7 a 8): Algumas culturas toleram solos alcalinos,\\ncomo almôndega, beterraba e cabeludo.\\n5. Fatores a Considerar ao Ajustar o pH', path=None, url=None, mimetype=None), image_resource=None, audio_resource=None, video_resource=None, text_template='{metadata_str}\\n\\n{content}'),\n",
              " Document(id_='ad6fd839-30f0-46e2-8b3d-6671e78e656f', embedding=None, metadata={'page_label': '11', 'file_name': 'doc_info_agricultura.pdf', 'file_path': '/content/documentos/doc_info_agricultura.pdf', 'file_type': 'application/pdf', 'file_size': 268199, 'creation_date': '2025-03-26', 'last_modified_date': '2025-03-26'}, excluded_embed_metadata_keys=['file_name', 'file_type', 'file_size', 'creation_date', 'last_modified_date', 'last_accessed_date'], excluded_llm_metadata_keys=['file_name', 'file_type', 'file_size', 'creation_date', 'last_modified_date', 'last_accessed_date'], relationships={}, metadata_template='{key}: {value}', metadata_separator='\\n', text_resource=MediaResource(embeddings=None, data=None, text='\\uf0b7 Tempo de reação: Mudanças no pH do solo podem levar de alguns\\nmeses a até um ano para se estabilizarem totalmente, dependendo\\ndos materiais usados e das condições do solo.\\n\\uf0b7 Profundidade de aplicação: A profundidade da aplicação do\\ncorretivo (calcário ou enxofre) deve ser bem planejada, pois os\\najustes precisam alcançar a camada do solo onde as raízes das\\nplantas estão ativas.\\n\\uf0b7 Cultura e pH: Alguns tipos de solo podem precisar de mais ajustes\\npara atender a diferentes necessidades das plantas. Por exemplo,\\nlegumes como feijão podem ser mais tolerantes a pH mais ácido,\\nenquanto outras culturas como brócolis preferem um pH\\nligeiramente alcalino.\\nP: Quais são os principais fertilizantes utilizados e qual a diferença entre\\nfertilizantes orgânicos e químicos?\\nR: Os fertilizantes são substâncias que fornecem nutrientes essenciais às\\nplantas, contribuindo para seu crescimento saudável. Existem fertilizantes\\norgânicos e fertilizantes químicos, e cada um tem suas características e\\nformas de aplicação. Abaixo estão os principais tipos de fertilizantes\\nutilizados e as diferenças entre fertilizantes orgânicos e químicos.\\nPrincipais Fertilizantes Utilizados\\n1. Fertilizantes Nitrogenados\\nEstes fertilizantes fornecem nitrogênio (N), um dos nutrientes mais\\nimportantes para as plantas, essencial para o crescimento vegetativo e a\\nprodução de folhas.\\n\\uf0b7 Exemplos:\\no Ureia (N 46-0-0): Um dos fertilizantes nitrogenados mais\\ncomuns. É altamente concentrado em nitrogênio.\\no Nitrato de amônio (N 34-0-0): Uma fonte rápida de nitrogênio.\\no Sulfato de amônio (N 21-0-0): Fornece nitrogênio e enxofre,\\nsendo útil para solos com baixa quantidade de enxofre.\\n2. Fertilizantes Fosfatados\\nOs fertilizantes fosfatados fornecem fósforo (P), que é essencial para o\\ndesenvolvimento das raízes, flores e frutos.\\n\\uf0b7 Exemplos:\\no Superfosfato simples (P 18-20-0): Fornece fósforo e cálcio,\\nideal para o desenvolvimento inicial das plantas.\\no Superfosfato triplo (P 46-0-0): Uma fonte mais concentrada de\\nfósforo.\\no Fosfato de rocha: Fonte natural de fósforo, frequentemente\\nutilizada em solos ácidos.\\n3. Fertilizantes Potássicos', path=None, url=None, mimetype=None), image_resource=None, audio_resource=None, video_resource=None, text_template='{metadata_str}\\n\\n{content}'),\n",
              " Document(id_='e604a8a4-f21f-4934-bf53-076673d45cad', embedding=None, metadata={'page_label': '12', 'file_name': 'doc_info_agricultura.pdf', 'file_path': '/content/documentos/doc_info_agricultura.pdf', 'file_type': 'application/pdf', 'file_size': 268199, 'creation_date': '2025-03-26', 'last_modified_date': '2025-03-26'}, excluded_embed_metadata_keys=['file_name', 'file_type', 'file_size', 'creation_date', 'last_modified_date', 'last_accessed_date'], excluded_llm_metadata_keys=['file_name', 'file_type', 'file_size', 'creation_date', 'last_modified_date', 'last_accessed_date'], relationships={}, metadata_template='{key}: {value}', metadata_separator='\\n', text_resource=MediaResource(embeddings=None, data=None, text='Esses fertilizantes fornecem potássio (K), que ajuda as plantas a resistirem\\na doenças, a estresse hídrico e a melhorar a qualidade dos frutos.\\n\\uf0b7 Exemplos:\\no Cloreto de potássio (K 60-0-0): A forma mais comum de\\nfertilizante potássico.\\no Sulfato de potássio (K 50-0-0): Fornece potássio e enxofre,\\nsendo adequado para culturas que são sensíveis ao cloro.\\n4. Fertilizantes Completos ou NPK\\nEsses fertilizantes contêm os três nutrientes principais: nitrogênio (N),\\nfósforo (P) e potássio (K), e são usados para fornecer uma nutrição\\nequilibrada para as plantas.\\n\\uf0b7 Exemplos:\\no NPK 10-10-10: Um fertilizante balanceado que fornece\\nnitrogênio, fósforo e potássio em proporções iguais.\\no NPK 20-5-10: Um fertilizante mais rico em nitrogênio, ideal\\npara plantas que necessitam de mais crescimento vegetativo.\\n5. Fertilizantes Micronutrientes\\nEsses fertilizantes fornecem micronutrientes, como ferro, manganês, zinco,\\ncobre, molibdênio e boro, que são necessários em quantidades pequenas,\\nmas essenciais para o crescimento das plantas.\\n\\uf0b7 Exemplos:\\no Sulfato de ferro: Usado para corrigir deficiências de ferro,\\nespecialmente em solos alcalinos.\\no Zinco: Usado para corrigir deficiências de zinco em solos\\nácidos ou com baixa disponibilidade desse nutriente.\\nDiferença Entre Fertilizantes Orgânicos e Químicos\\n1. Fertilizantes Orgânicos\\nOs fertilizantes orgânicos são derivados de fontes naturais, como restos\\nde plantas, esterco de animais e resíduos vegetais. Eles fornecem\\nnutrientes ao solo de maneira gradual, melhorando a estrutura do solo e\\naumentando a atividade microbiana.\\n\\uf0b7\\nExemplos:\\n\\uf0b7\\no Composto orgânico: Feito de restos de plantas e resíduos de\\nalimentos compostados.\\no Esterco animal: Excrementos de animais como vacas,\\ngalinhas e ovelhas.\\no Farinha de osso: Fonte de fósforo e cálcio.', path=None, url=None, mimetype=None), image_resource=None, audio_resource=None, video_resource=None, text_template='{metadata_str}\\n\\n{content}'),\n",
              " Document(id_='425855ce-9557-4e35-aec2-bb88e607ed08', embedding=None, metadata={'page_label': '13', 'file_name': 'doc_info_agricultura.pdf', 'file_path': '/content/documentos/doc_info_agricultura.pdf', 'file_type': 'application/pdf', 'file_size': 268199, 'creation_date': '2025-03-26', 'last_modified_date': '2025-03-26'}, excluded_embed_metadata_keys=['file_name', 'file_type', 'file_size', 'creation_date', 'last_modified_date', 'last_accessed_date'], excluded_llm_metadata_keys=['file_name', 'file_type', 'file_size', 'creation_date', 'last_modified_date', 'last_accessed_date'], relationships={}, metadata_template='{key}: {value}', metadata_separator='\\n', text_resource=MediaResource(embeddings=None, data=None, text='o Húmus de minhoca: Produzido pela decomposição de matéria\\norgânica por minhocas.\\n\\uf0b7\\nVantagens:\\n\\uf0b7\\no Melhora a estrutura do solo, aumentando a capacidade de\\nretenção de água e a aeração.\\no Liberação gradual de nutrientes, o que evita o risco de\\nsuperalimentação das plantas.\\no Aumenta a biodiversidade e a atividade microbiológica do solo,\\npromovendo um solo saudável a longo prazo.\\n\\uf0b7\\nDesvantagens:\\n\\uf0b7\\no Liberação lenta dos nutrientes, o que pode não ser ideal para\\nplantas com necessidades rápidas de nutrientes.\\no Volume maior necessário em comparação com os fertilizantes\\nquímicos.\\no Pode ser mais caro e difícil de manusear (por exemplo, esterco\\nanimal pode ser volumoso e ter um odor forte).\\n2. Fertilizantes Químicos\\nOs fertilizantes químicos são fabricados industrialmente e contêm\\nnutrientes concentrados que estão prontamente disponíveis para as\\nplantas. Eles são formulados para fornecer quantidades específicas de\\nnutrientes, como nitrogênio, fósforo e potássio.\\n\\uf0b7\\nExemplos:\\n\\uf0b7\\no Ureia (N 46-0-0): Fonte concentrada de nitrogênio.\\no Superfosfato triplo (P 46-0-0): Fonte concentrada de fósforo.\\no Cloreto de potássio (K 60-0-0): Fonte concentrada de potássio.\\n\\uf0b7\\nVantagens:\\n\\uf0b7\\no Resposta rápida das plantas, uma vez que os nutrientes estão\\nem forma facilmente assimilável.', path=None, url=None, mimetype=None), image_resource=None, audio_resource=None, video_resource=None, text_template='{metadata_str}\\n\\n{content}'),\n",
              " Document(id_='31fd0ebf-47c7-4f67-ad15-93130c162448', embedding=None, metadata={'page_label': '14', 'file_name': 'doc_info_agricultura.pdf', 'file_path': '/content/documentos/doc_info_agricultura.pdf', 'file_type': 'application/pdf', 'file_size': 268199, 'creation_date': '2025-03-26', 'last_modified_date': '2025-03-26'}, excluded_embed_metadata_keys=['file_name', 'file_type', 'file_size', 'creation_date', 'last_modified_date', 'last_accessed_date'], excluded_llm_metadata_keys=['file_name', 'file_type', 'file_size', 'creation_date', 'last_modified_date', 'last_accessed_date'], relationships={}, metadata_template='{key}: {value}', metadata_separator='\\n', text_resource=MediaResource(embeddings=None, data=None, text=\"o Aplicação mais precisa: Pode ser facilmente ajustado para as\\nnecessidades específicas de cada planta.\\no Fácil armazenamento e manuseio.\\n\\uf0b7\\nDesvantagens:\\n\\uf0b7\\no Esgotamento do solo a longo prazo, pois não contribui para a\\nestrutura do solo e a biodiversidade.\\no Pode causar acúmulo de sal no solo, prejudicando a\\ncapacidade das plantas de absorver água.\\no Se usado em excesso, pode resultar em poluição ambiental,\\ncomo contaminação de águas subterrâneas e eutrofização de\\ncorpos d'água.\\nP: Qual é o processo recomendado para a correção e preparo do solo\\nantes do plantio?\\nR: O processo de correção e preparo do solo antes do plantio é\\nfundamental para garantir que as plantas cresçam de maneira saudável e\\nprodutiva. Esse processo envolve várias etapas que visam melhorar as\\ncondições físicas, químicas e biológicas do solo, tornando-o mais\\nadequado para o cultivo. Aqui está um guia passo a passo para o preparo e\\ncorreção do solo antes do plantio:\\n1. Análise do Solo\\nAntes de iniciar qualquer trabalho de correção, é essencial analisar o solo\\npara entender suas características. A análise do solo fornece informações\\nsobre:\\n\\uf0b7 pH (acidez ou alcalinidade),\\n\\uf0b7 nutrientes disponíveis (nitrogênio, fósforo, potássio, cálcio,\\nmagnésio, enxofre, micronutrientes),\\n\\uf0b7 textura do solo (proporção de areia, silte e argila),\\n\\uf0b7 matéria orgânica,\\n\\uf0b7 sólo salino ou salinidade.\\nEssa análise pode ser feita por meio de kits de teste disponíveis no\\nmercado ou enviando uma amostra para um laboratório especializado.\\n2. Correção do pH do Solo\\nO pH do solo afeta a disponibilidade de nutrientes para as plantas. Se o pH\\ndo solo estiver fora da faixa ideal para as culturas que você deseja plantar,\\né necessário corrigi-lo.\\n\\uf0b7 Para solos ácidos (pH baixo, <6): Use calcário (calcário dolomítico\\nou calcítico) para aumentar o pH e tornar o solo mais alcalino.\", path=None, url=None, mimetype=None), image_resource=None, audio_resource=None, video_resource=None, text_template='{metadata_str}\\n\\n{content}'),\n",
              " Document(id_='9de60622-d794-4b7a-8632-9ea4425be263', embedding=None, metadata={'page_label': '15', 'file_name': 'doc_info_agricultura.pdf', 'file_path': '/content/documentos/doc_info_agricultura.pdf', 'file_type': 'application/pdf', 'file_size': 268199, 'creation_date': '2025-03-26', 'last_modified_date': '2025-03-26'}, excluded_embed_metadata_keys=['file_name', 'file_type', 'file_size', 'creation_date', 'last_modified_date', 'last_accessed_date'], excluded_llm_metadata_keys=['file_name', 'file_type', 'file_size', 'creation_date', 'last_modified_date', 'last_accessed_date'], relationships={}, metadata_template='{key}: {value}', metadata_separator='\\n', text_resource=MediaResource(embeddings=None, data=None, text='\\uf0b7 Para solos alcalinos (pH alto, >7): Aplique enxofre para reduzir o pH\\ne aumentar a acidez do solo.\\n3. Adubação de Correção\\nCom base nos resultados da análise do solo, é possível determinar as\\nnecessidades de nutrientes do solo. A adubação de correção visa repor os\\nnutrientes que estão deficientes e, dependendo do resultado da análise,\\npode ser necessário aplicar:\\n\\uf0b7 Fertilizantes nitrogenados (ureia, nitrato de amônio) se houver\\ndeficiência de nitrogênio.\\n\\uf0b7 Fertilizantes fosfatados (superfosfato simples ou triplo) para corrigir\\na falta de fósforo.\\n\\uf0b7 Fertilizantes potássicos (cloreto de potássio, sulfato de potássio) se\\nhouver deficiência de potássio.\\n\\uf0b7 Micronutrientes, como zinco, ferro, boro ou manganês, se a análise\\ndo solo indicar deficiências desses elementos.\\nA aplicação desses fertilizantes deve ser feita de acordo com as\\nrecomendações da análise do solo e seguindo as orientações de dosagem\\npara evitar excessos ou carência de nutrientes.\\n4. Melhoria da Estrutura do Solo\\nO solo precisa ter boa estrutura física para permitir que as raízes se\\ndesenvolvam adequadamente. Isso envolve melhorar a textura do solo, o\\nque pode ser feito através das seguintes práticas:\\n\\uf0b7 Adição de matéria orgânica: Incorporar composto orgânico, esterco\\nde animais bem decomposto ou húmus de minhoca melhora a\\ncapacidade de retenção de água, a aeração do solo e a\\ndisponibilidade de nutrientes. Além disso, a matéria orgânica\\naumenta a biodiversidade do solo, estimulando a atividade\\nmicrobiana.\\n\\uf0b7 Corrigir a compactação: Se o solo estiver compactado\\n(principalmente em solos argilosos), o uso de aração ou gradagem\\najuda a soltar o solo e permitir que as raízes se expandam livremente.\\n\\uf0b7 Drenagem: Se o solo for excessivamente argiloso e não drenar bem\\na água, pode ser necessário melhorar a drenagem para evitar o\\nencharcamento. A drenagem pode ser feita com o uso de areia ou a\\nconstrução de canais de drenagem.\\n5. Correção da Salinidade\\nEm áreas com solo salino, a salinidade excessiva pode prejudicar o\\ncrescimento das plantas. Nesse caso, é essencial:\\n\\uf0b7 Levantamento de salinidade: Realizar uma análise do solo para\\navaliar o nível de sal.\\n\\uf0b7 Lavagem do solo: Se necessário, irrigar abundantemente para\\n\"lavar\" os sais do solo, ou melhorar a drenagem para evitar o\\nacúmulo de sais na camada superficial.\\n6. Controle de Pragas e Doenças do Solo', path=None, url=None, mimetype=None), image_resource=None, audio_resource=None, video_resource=None, text_template='{metadata_str}\\n\\n{content}'),\n",
              " Document(id_='5ed1f8b2-c0ca-4a79-87e4-abff40489921', embedding=None, metadata={'page_label': '16', 'file_name': 'doc_info_agricultura.pdf', 'file_path': '/content/documentos/doc_info_agricultura.pdf', 'file_type': 'application/pdf', 'file_size': 268199, 'creation_date': '2025-03-26', 'last_modified_date': '2025-03-26'}, excluded_embed_metadata_keys=['file_name', 'file_type', 'file_size', 'creation_date', 'last_modified_date', 'last_accessed_date'], excluded_llm_metadata_keys=['file_name', 'file_type', 'file_size', 'creation_date', 'last_modified_date', 'last_accessed_date'], relationships={}, metadata_template='{key}: {value}', metadata_separator='\\n', text_resource=MediaResource(embeddings=None, data=None, text='Antes de plantar, é importante verificar se o solo está livre de pragas e\\ndoenças que possam prejudicar as culturas. Isso pode envolver:\\n\\uf0b7 Rotação de culturas: Alterar o tipo de planta cultivada a cada ciclo\\npara evitar o acúmulo de pragas e doenças específicas.\\n\\uf0b7 Uso de fungicidas ou nematicidas: Se houver uma infestação\\nsignificativa de patógenos ou vermes (nematoides), pode ser\\nnecessário o uso de produtos específicos para controlá-los.\\n7. Preparo da Cama de Semeadura\\nApós corrigir o pH, adicionar os fertilizantes e melhorar a estrutura do solo,\\no próximo passo é o preparo da cama de semeadura, que pode incluir:\\n\\uf0b7 Arações e gradagens: Essas práticas ajudam a soltar o solo e criar\\numa superfície lisa e uniforme para o plantio. A aragem é feita a uma\\nprofundidade maior (de 15 a 25 cm), enquanto a gradagem é mais\\nsuperficial.\\n\\uf0b7 Nivelamento do solo: Após a preparação, é importante nivelar o solo\\npara garantir que a água de irrigação seja distribuída de maneira\\nuniforme.\\n8. Irrigação\\nEm alguns casos, antes de iniciar o plantio, é importante garantir que o\\nsolo tenha a umidade adequada. O solo não deve estar nem muito seco,\\nnem excessivamente encharcado. A irrigação pode ser usada para ajustar\\na umidade do solo, garantindo que ele esteja na condição ideal para a\\ngerminação das sementes.\\n9. Plantio\\nCom o solo preparado, é hora de plantar. As sementes devem ser\\ncolocadas a uma profundidade adequada de acordo com o tipo de planta.\\nAlém disso, é importante observar o espaçamento correto entre as plantas\\npara que elas tenham espaço suficiente para se desenvolver.\\nP: Como garantir a fertilidade do solo para diferentes tipos de culturas?\\nR: Garantir a fertilidade do solo para diferentes tipos de culturas envolve\\npráticas que atendem às necessidades nutricionais específicas de cada\\nplanta, ao mesmo tempo em que mantêm a saúde e a sustentabilidade do\\nsolo a longo prazo. A fertilidade do solo é um equilíbrio entre os nutrientes\\nessenciais (nitrogênio, fósforo, potássio, micronutrientes), a estrutura\\nfísica (capacidade de retenção de água, aeração) e a atividade biológica\\n(microrganismos e matéria orgânica).\\nAqui estão algumas práticas-chave para garantir a fertilidade do solo para\\ndiferentes tipos de culturas:\\n1. Análise do Solo', path=None, url=None, mimetype=None), image_resource=None, audio_resource=None, video_resource=None, text_template='{metadata_str}\\n\\n{content}'),\n",
              " Document(id_='b2e34fea-156b-4faf-adc6-05eb3c0abd8f', embedding=None, metadata={'page_label': '17', 'file_name': 'doc_info_agricultura.pdf', 'file_path': '/content/documentos/doc_info_agricultura.pdf', 'file_type': 'application/pdf', 'file_size': 268199, 'creation_date': '2025-03-26', 'last_modified_date': '2025-03-26'}, excluded_embed_metadata_keys=['file_name', 'file_type', 'file_size', 'creation_date', 'last_modified_date', 'last_accessed_date'], excluded_llm_metadata_keys=['file_name', 'file_type', 'file_size', 'creation_date', 'last_modified_date', 'last_accessed_date'], relationships={}, metadata_template='{key}: {value}', metadata_separator='\\n', text_resource=MediaResource(embeddings=None, data=None, text='Antes de mais nada, é fundamental realizar uma análise de solo para\\nentender as condições específicas do solo. Com base nos resultados, é\\npossível ajustar a adubação e os cuidados para cada tipo de cultura. A\\nanálise revela:\\npH do solo: Importante para saber se o solo é ácido, neutro ou alcalino e,\\nassim, ajustar a correção de pH (como calcário ou enxofre).\\nNíveis de nutrientes: Como nitrogênio (N), fósforo (P), potássio (K) e\\nmicronutrientes (ferro, zinco, manganês, etc.).\\nMatéria orgânica: A quantidade de matéria orgânica indica a capacidade do\\nsolo de reter nutrientes e água.\\nTextura do solo: Identificar a proporção de areia, silte e argila ajuda a\\nentender a drenagem, aeração e capacidade de retenção de água.\\n2. Adubação Balanceada\\nCom base nos resultados da análise, é possível aplicar fertilizantes que\\natendam às necessidades nutricionais das plantas. Cada cultura tem uma\\ndemanda diferente de nutrientes, portanto, a adubação deve ser ajustada\\nconforme o tipo de planta e o estágio de crescimento.\\nFertilizantes Principais:\\nNitrogênio (N): Essencial para o crescimento vegetativo, desenvolvimento\\nde folhas e caules. Ideal para culturas de folhas, como alface, espinafre e\\nalfafa.\\nFósforo (P): Crucial para o desenvolvimento das raízes, flores e frutos.\\nEssencial em culturas como tomate, cenoura e feijão.\\nPotássio (K): Ajuda na resistência a doenças, estresse hídrico e na\\nqualidade dos frutos. Importante para culturas como batata, milho e\\nfrutíferas.\\nMicronutrientes (zinco, ferro, boro, etc.): Essenciais para o crescimento\\ndas plantas, embora em quantidades menores, como em culturas como\\nfeijão, trigo e café.', path=None, url=None, mimetype=None), image_resource=None, audio_resource=None, video_resource=None, text_template='{metadata_str}\\n\\n{content}'),\n",
              " Document(id_='3e9f47f6-397a-431c-b617-496f0c66cbb1', embedding=None, metadata={'page_label': '18', 'file_name': 'doc_info_agricultura.pdf', 'file_path': '/content/documentos/doc_info_agricultura.pdf', 'file_type': 'application/pdf', 'file_size': 268199, 'creation_date': '2025-03-26', 'last_modified_date': '2025-03-26'}, excluded_embed_metadata_keys=['file_name', 'file_type', 'file_size', 'creation_date', 'last_modified_date', 'last_accessed_date'], excluded_llm_metadata_keys=['file_name', 'file_type', 'file_size', 'creation_date', 'last_modified_date', 'last_accessed_date'], relationships={}, metadata_template='{key}: {value}', metadata_separator='\\n', text_resource=MediaResource(embeddings=None, data=None, text='Para garantir uma adubação eficaz:\\nFertilizantes químicos: São rápidos e eficazes, mas devem ser aplicados de\\nmaneira controlada para evitar excesso de nutrientes e contaminação\\nambiental.\\nFertilizantes orgânicos: A matéria orgânica, como esterco e composto,\\nlibera nutrientes lentamente e melhora a estrutura do solo.\\n3. Correção do pH do Solo\\nA acidez ou alcalinidade do solo afeta a disponibilidade dos nutrientes. A\\nfaixa ideal de pH para a maioria das culturas está entre 6 e 7, mas algumas\\nplantas, como mirtilo ou azaleia, preferem solos mais ácidos, enquanto\\ncálamo e algumas leguminosas podem tolerar pH mais alcalino.\\nPara solos ácidos (pH baixo): Use calcário para aumentar o pH.\\nPara solos alcalinos (pH alto): Use enxofre para reduzir o pH.\\n4. Rotação de Culturas\\nA rotação de culturas é uma prática que envolve o cultivo de diferentes\\nplantas em sequência, o que ajuda a:\\nEvitar o esgotamento de nutrientes específicos: Por exemplo, leguminosas,\\ncomo feijão e ervilha, fixam nitrogênio no solo, enquanto outras culturas\\npodem utilizar esse nitrogênio.\\nControlar pragas e doenças: Plantas de diferentes famílias atraem\\ndiferentes tipos de pragas, então, alternar culturas ajuda a quebrar ciclos\\nde infestação.\\nMelhorar a estrutura do solo: Certas plantas, como as raízes profundas de\\nnabo ou couve, podem ajudar a soltar solos compactados.\\n5. Incorporação de Matéria Orgânica\\nA matéria orgânica (compostos, restos de plantas, esterco de animais) é\\nessencial para melhorar a estrutura do solo, aumentar a capacidade de\\nretenção de água e estimular a atividade biológica do solo.\\nComposto orgânico: Enriquecido com nutrientes essenciais e micro-\\norganismos que ajudam na decomposição e ciclagem de nutrientes.\\nEsterco: Fonte rica em nitrogênio, fósforo e potássio. O esterco deve ser\\nbem decomposto para evitar a liberação excessiva de amônia.\\nHúmus de minhoca: Excelente para melhorar a estrutura do solo e a\\nbiodiversidade.\\n6. Controle de Erosão e Compactação do Solo', path=None, url=None, mimetype=None), image_resource=None, audio_resource=None, video_resource=None, text_template='{metadata_str}\\n\\n{content}'),\n",
              " Document(id_='64a15f09-b4fe-4b36-9e99-0721a6ca4d91', embedding=None, metadata={'page_label': '19', 'file_name': 'doc_info_agricultura.pdf', 'file_path': '/content/documentos/doc_info_agricultura.pdf', 'file_type': 'application/pdf', 'file_size': 268199, 'creation_date': '2025-03-26', 'last_modified_date': '2025-03-26'}, excluded_embed_metadata_keys=['file_name', 'file_type', 'file_size', 'creation_date', 'last_modified_date', 'last_accessed_date'], excluded_llm_metadata_keys=['file_name', 'file_type', 'file_size', 'creation_date', 'last_modified_date', 'last_accessed_date'], relationships={}, metadata_template='{key}: {value}', metadata_separator='\\n', text_resource=MediaResource(embeddings=None, data=None, text='Para manter a fertilidade do solo, é importante evitar a erosão e\\ncompactação, que prejudicam a estrutura e a capacidade de retenção de\\nágua.\\nCobertura do solo (mulching): O uso de palha, folhas secas ou outras\\ncoberturas ajuda a proteger o solo da erosão, mantém a umidade e\\nmelhora a qualidade da estrutura do solo.\\nAragem ou gradagem: Soltar o solo para melhorar a aeração e permitir o\\ncrescimento das raízes.\\nPráticas de conservação: Como o plantio direto e o uso de terraplanagem\\npara evitar o escoamento da água e a perda de nutrientes.\\n7. Irrigação Adequada\\nA irrigação adequada é crucial para garantir que os nutrientes do solo\\nsejam absorvidos pelas plantas. A excesso de água pode lavar os\\nnutrientes e causar salinização, enquanto a falta de água pode limitar a\\nabsorção de nutrientes pelas raízes.\\nIrrigação por gotejamento: Mais eficiente em termos de uso de água e\\nreduz o risco de lixiviação de nutrientes.\\nIrrigação por aspersão: Menos eficiente, mas pode ser adequada\\ndependendo do tipo de solo e das culturas.\\n8. Cobertura do Solo e Plantio Direto\\nA cobertura do solo com mulch (palha, resíduos vegetais, capim seco) ou o\\nuso de plantio direto (sem revolver o solo) ajuda a manter a umidade,\\nreduzir a erosão e aumentar a matéria orgânica, o que contribui para a\\nfertilidade a longo prazo.\\n9. Uso de Microrganismos\\nAdotar inoculantes microbianos, como bactérias fixadoras de nitrogênio\\n(ex.: Rhizobium para leguminosas), ou fungos que ajudam na absorção de\\nnutrientes, pode aumentar a fertilidade biológica do solo, ajudando na\\nciclagem dos nutrientes e no controle de doenças.\\n10. Fertirrigação\\nA fertirrigação é uma técnica que aplica fertilizantes juntamente com a\\nirrigação. Isso permite que os nutrientes sejam absorvidos de forma mais\\neficiente pelas raízes, especialmente em solos com baixa retenção de\\nnutrientes.\\nComo Garantir a Fertilidade para Diferentes Tipos de Culturas\\n1. Para Culturas de Folhas (ex: alface, espinafre):', path=None, url=None, mimetype=None), image_resource=None, audio_resource=None, video_resource=None, text_template='{metadata_str}\\n\\n{content}'),\n",
              " Document(id_='802d3934-25ed-4777-8d10-bde1cc8815f1', embedding=None, metadata={'page_label': '20', 'file_name': 'doc_info_agricultura.pdf', 'file_path': '/content/documentos/doc_info_agricultura.pdf', 'file_type': 'application/pdf', 'file_size': 268199, 'creation_date': '2025-03-26', 'last_modified_date': '2025-03-26'}, excluded_embed_metadata_keys=['file_name', 'file_type', 'file_size', 'creation_date', 'last_modified_date', 'last_accessed_date'], excluded_llm_metadata_keys=['file_name', 'file_type', 'file_size', 'creation_date', 'last_modified_date', 'last_accessed_date'], relationships={}, metadata_template='{key}: {value}', metadata_separator='\\n', text_resource=MediaResource(embeddings=None, data=None, text='Necessitam de alto nitrogênio para o crescimento vegetativo.\\nMatéria orgânica rica e adubação nitrogenada balanceada.\\nRotação de culturas com leguminosas para ajudar a fixar nitrogênio no\\nsolo.\\n2. Para Culturas de Frutos (ex: tomate, pimentão):\\nFósforo e potássio são essenciais para o desenvolvimento das raízes e a\\nformação de frutos.\\nCobertura do solo para manter a umidade e evitar o ressecamento.\\nIrrigação controlada para evitar lixiviação de nutrientes.\\n3. Para Culturas de Raízes (ex: cenoura, beterraba):\\nSolo bem arejado e bem drenado para permitir o crescimento das raízes.\\nUso de fertilizantes fosfatados e potássio.\\nMatéria orgânica para melhorar a textura e a estrutura do solo.\\n4. Para Leguminosas (ex: feijão, soja):\\nBeneficiam-se da fixação biológica de nitrogênio, portanto, não necessitam\\nde muito fertilizante nitrogenado.\\nFósforo e potássio devem ser bem equilibrados.\\nRotação com outras culturas para manter a saúde do solo.\\n5. Para Frutíferas (ex: maçã, laranja):\\nNecessitam de potássio e cálcio para melhorar a qualidade dos frutos e a\\nresistência a doenças.\\nUso de fertilizantes de liberação lenta para uma nutrição constante ao\\nlongo do ano.\\nP: Quais são os principais fatores que devem ser levados em consideração\\nao planejar a irrigação do solo?\\nR: Planejar a irrigação do solo de forma eficaz é essencial para garantir que\\nas plantas recebam a quantidade de água necessária para seu crescimento\\nsaudável, sem desperdício de recursos e sem prejudicar o solo ou as\\nplantas. Vários fatores devem ser levados em consideração para garantir\\nque a irrigação seja eficiente e sustentável. Aqui estão os principais fatores\\na serem considerados ao planejar a irrigação do solo:\\n1. Tipo de Solo', path=None, url=None, mimetype=None), image_resource=None, audio_resource=None, video_resource=None, text_template='{metadata_str}\\n\\n{content}'),\n",
              " Document(id_='8274c145-b980-44c7-b0db-791b381185e0', embedding=None, metadata={'page_label': '21', 'file_name': 'doc_info_agricultura.pdf', 'file_path': '/content/documentos/doc_info_agricultura.pdf', 'file_type': 'application/pdf', 'file_size': 268199, 'creation_date': '2025-03-26', 'last_modified_date': '2025-03-26'}, excluded_embed_metadata_keys=['file_name', 'file_type', 'file_size', 'creation_date', 'last_modified_date', 'last_accessed_date'], excluded_llm_metadata_keys=['file_name', 'file_type', 'file_size', 'creation_date', 'last_modified_date', 'last_accessed_date'], relationships={}, metadata_template='{key}: {value}', metadata_separator='\\n', text_resource=MediaResource(embeddings=None, data=None, text='O tipo de solo tem grande influência na retenção e drenagem de água:\\n\\uf0b7 Solos arenosos: Retêm menos água e drenam rapidamente. Exigem\\nirrigação mais frequente, mas em menor quantidade, pois a água\\nescorre rapidamente.\\n\\uf0b7 Solos argilosos: Retêm mais água, mas têm drenagem lenta, o que\\npode causar encharcamento se irrigados em excesso.\\n\\uf0b7 Solos silte e solos franco-argilosos: Têm boa capacidade de\\nretenção de água, sendo mais fáceis de manejar em termos de\\nirrigação, mas ainda assim necessitam de controle para evitar o\\nexcesso de umidade.\\nO planejamento da irrigação deve levar em conta a capacidade de retenção\\nde água de cada tipo de solo para evitar a aplicação excessiva ou\\ninsuficiente.\\n2. Necessidades Hídricas das Culturas\\nCada cultura tem necessidades hídricas específicas ao longo de seu ciclo\\nde crescimento:\\n\\uf0b7 Plantas mais exigentes: Culturas como arroz, milho e tomate\\nrequerem maiores quantidades de água.\\n\\uf0b7 Plantas tolerantes à seca: Culturas como oliveira, cacto e algumas\\nleguminosas são mais resistentes ao estresse hídrico e exigem\\nmenos irrigação.\\nO conhecimento sobre as necessidades hídricas específicas de cada\\ncultura ajuda a ajustar a quantidade e a frequência da irrigação.\\n3. Clima e Condições Meteorológicas\\nO clima tem grande influência na quantidade de água que o solo perde por\\nevaporação e transpiração:\\n\\uf0b7 Temperatura: Em climas mais quentes, a evaporação da água do\\nsolo será maior. Nessas condições, será necessário irrigar com mais\\nfrequência.\\n\\uf0b7 Umidade relativa do ar: Em ambientes úmidos, a evaporação é\\nmenor, reduzindo a necessidade de irrigação.\\n\\uf0b7 Vento: Ventos fortes podem aumentar a evaporação da água,\\ndemandando mais irrigação.\\nConsiderar a previsão do tempo e as condições climáticas locais pode\\najudar a ajustar a irrigação, evitando tanto o desperdício quanto a falta de\\nágua para as plantas.\\n4. Disponibilidade de Água\\nA disponibilidade de água na região é um dos fatores mais críticos no\\nplanejamento da irrigação:\\n\\uf0b7 Se a fonte de água for limitada (como em regiões áridas ou\\nsemiáridas), é fundamental adotar práticas de irrigação eficiente e', path=None, url=None, mimetype=None), image_resource=None, audio_resource=None, video_resource=None, text_template='{metadata_str}\\n\\n{content}'),\n",
              " Document(id_='e94b6a82-194e-49de-bfaf-95fca6680295', embedding=None, metadata={'page_label': '22', 'file_name': 'doc_info_agricultura.pdf', 'file_path': '/content/documentos/doc_info_agricultura.pdf', 'file_type': 'application/pdf', 'file_size': 268199, 'creation_date': '2025-03-26', 'last_modified_date': '2025-03-26'}, excluded_embed_metadata_keys=['file_name', 'file_type', 'file_size', 'creation_date', 'last_modified_date', 'last_accessed_date'], excluded_llm_metadata_keys=['file_name', 'file_type', 'file_size', 'creation_date', 'last_modified_date', 'last_accessed_date'], relationships={}, metadata_template='{key}: {value}', metadata_separator='\\n', text_resource=MediaResource(embeddings=None, data=None, text='usar tecnologias que economizem água, como irrigação por\\ngotejamento ou sistemas de recirculação de água.\\n\\uf0b7 Se a qualidade da água for uma preocupação (por exemplo, água\\nsalina ou contaminada), deve-se optar por sistemas de filtragem ou\\ntecnologias que protejam o solo e as plantas do impacto da água de\\nbaixa qualidade.\\n5. Sistema de Irrigação\\nEscolher o sistema de irrigação adequado depende do tipo de cultura, do\\nsolo e da disponibilidade de água. Alguns sistemas incluem:\\n\\uf0b7 Irrigação por gotejamento: Ideal para economizar água, pois fornece\\nágua diretamente às raízes das plantas, minimizando a evaporação.\\n\\uf0b7 Irrigação por aspersão: Pode ser útil para grandes áreas, mas tende\\na ser menos eficiente em termos de economia de água,\\nespecialmente em condições de vento forte.\\n\\uf0b7 Irrigação por sulcos: Boa para terrenos inclinados, mas menos\\neficiente em termos de uniformidade na distribuição da água.\\nA escolha do sistema de irrigação deve ser baseada nas necessidades\\nespecíficas da cultura e nas características do terreno, visando otimizar o\\nuso da água.\\n6. Profundidade das Raízes\\nAs raízes das plantas absorvem água de diferentes profundidades no solo:\\n\\uf0b7 Plantas com raízes profundas (como árvores frutíferas) podem\\nextrair água de camadas mais profundas e, portanto, exigem\\nirrigação mais profunda, mas menos frequente.\\n\\uf0b7 Plantas com raízes rasas (como alface e espinafre) necessitam de\\nirrigação mais superficial, mas mais frequente, pois suas raízes não\\nalcançam grandes profundidades.\\nÉ importante ajustar a profundidade e a frequência da irrigação com base\\nno tipo de sistema radicular das culturas.\\n7. Evapotranspiração\\nA evapotranspiração é a soma da evaporação da água do solo e da\\ntranspiração pelas plantas. Esse fator é crucial para entender quanto de\\nágua as plantas perdem para a atmosfera, o que determina a quantidade\\nnecessária de irrigação.\\n\\uf0b7 Em períodos de calor intenso ou ventos fortes, a evapotranspiração\\naumenta, o que exige mais irrigação.\\n\\uf0b7 Existem coeficientes de evapotranspiração (Kc) específicos para\\ndiferentes culturas, que podem ser usados para calcular as\\nnecessidades hídricas.\\n8. Tempo de Irrigação e Frequência\\nO tempo e a frequência de irrigação devem ser planejados para garantir\\nque a água seja aplicada no momento certo e na quantidade adequada:', path=None, url=None, mimetype=None), image_resource=None, audio_resource=None, video_resource=None, text_template='{metadata_str}\\n\\n{content}'),\n",
              " Document(id_='ddbc9df5-31a2-4142-a7cb-15d11ea32a46', embedding=None, metadata={'page_label': '23', 'file_name': 'doc_info_agricultura.pdf', 'file_path': '/content/documentos/doc_info_agricultura.pdf', 'file_type': 'application/pdf', 'file_size': 268199, 'creation_date': '2025-03-26', 'last_modified_date': '2025-03-26'}, excluded_embed_metadata_keys=['file_name', 'file_type', 'file_size', 'creation_date', 'last_modified_date', 'last_accessed_date'], excluded_llm_metadata_keys=['file_name', 'file_type', 'file_size', 'creation_date', 'last_modified_date', 'last_accessed_date'], relationships={}, metadata_template='{key}: {value}', metadata_separator='\\n', text_resource=MediaResource(embeddings=None, data=None, text='\\uf0b7 Irrigação excessiva pode causar encharcamento, perda de nutrientes\\ne compactação do solo.\\n\\uf0b7 Irrigação insuficiente pode causar estresse hídrico nas plantas e\\nprejudicar o crescimento.\\nA aplicação da água deve ser bem distribuída e deve considerar as\\nnecessidades específicas de cada estágio de desenvolvimento das plantas\\n(germinação, crescimento vegetativo, floração, frutificação).\\n9. Tipo de Plantio e Layout do Campo\\nO layout do campo e o tipo de plantio influenciam a distribuição da\\nirrigação:\\n\\uf0b7 Em plantios em linha, a irrigação por gotejamento pode ser mais\\neficaz, pois a água é fornecida diretamente às raízes de cada planta.\\n\\uf0b7 Em cultivos mais densos, como floreiras ou pomares, é importante\\nconsiderar a cobertura uniforme de água, o que pode ser feito com\\nirrigação por aspersão ou sistemas automatizados de irrigação.\\nAlém disso, o drenagem do solo também deve ser considerada para evitar\\no acúmulo de água excessiva em áreas mais baixas do terreno.\\n10. Tecnologia de Irrigação\\nO uso de tecnologias modernas pode otimizar o planejamento e a\\neficiência da irrigação, como:\\n\\uf0b7 Sensores de umidade do solo: Eles medem a umidade do solo em\\ntempo real e ajudam a ajustar a irrigação com base na necessidade\\nda planta.\\n\\uf0b7 Sistemas automatizados de irrigação: Usam sensores, controle\\nremoto e temporizadores para irrigar de maneira mais precisa e\\neficiente, evitando o desperdício de água.\\n\\uf0b7 Irrigação de precisão: Técnicas como o uso de drones para mapear a\\numidade do solo e monitorar as necessidades de irrigação.\\nP: Quais são as melhores práticas para evitar a compactação do solo e a\\nerosão?\\nR:Evitar a compactação do solo e a erosão é fundamental para garantir a\\nsaúde do solo, a produtividade das culturas e a sustentabilidade agrícola.\\nAmbos os problemas podem prejudicar a estrutura do solo, afetando a\\ninfiltração da água, a aeração e a capacidade de retenção de nutrientes.\\nAqui estão as melhores práticas para prevenir e mitigar esses problemas:\\n1. Uso de Técnicas de Manejo do Solo\\na. Rotação de Culturas\\nA rotação de culturas ajuda a evitar o esgotamento de nutrientes\\nespecíficos e promove a melhoria da estrutura do solo. Quando diferentes\\ntipos de plantas são cultivadas em sequência, as raízes variam em\\nprofundidade, o que pode ajudar a soltar o solo e evitar a compactação.', path=None, url=None, mimetype=None), image_resource=None, audio_resource=None, video_resource=None, text_template='{metadata_str}\\n\\n{content}'),\n",
              " Document(id_='38fd148d-0065-40e0-ae3e-3233c85aa51d', embedding=None, metadata={'page_label': '24', 'file_name': 'doc_info_agricultura.pdf', 'file_path': '/content/documentos/doc_info_agricultura.pdf', 'file_type': 'application/pdf', 'file_size': 268199, 'creation_date': '2025-03-26', 'last_modified_date': '2025-03-26'}, excluded_embed_metadata_keys=['file_name', 'file_type', 'file_size', 'creation_date', 'last_modified_date', 'last_accessed_date'], excluded_llm_metadata_keys=['file_name', 'file_type', 'file_size', 'creation_date', 'last_modified_date', 'last_accessed_date'], relationships={}, metadata_template='{key}: {value}', metadata_separator='\\n', text_resource=MediaResource(embeddings=None, data=None, text='Além disso, algumas plantas, como as leguminosas, podem fixar\\nnitrogênio no solo e melhorar sua qualidade.\\nb. Plantio Direto (sem revolvimento do solo)\\nO plantio direto é uma técnica em que o solo não é arado ou revolvido\\nantes do plantio. Isso reduz a perturbação do solo, preservando a estrutura\\ndo solo e evitando a compactação. O sistema de raízes das plantas\\nanteriores também ajuda a soltar o solo, o que melhora a infiltração da\\nágua e a aeração.\\nc. Uso de Cobertura do Solo\\nA cobertura do solo com mulch (palha, folhas secas, restos de culturas) ou\\nplantas de cobertura ajuda a proteger a superfície do solo, evitando o\\nimpacto direto da água da chuva, que pode causar erosão. Além disso, a\\ncobertura mantém a umidade do solo e favorece a atividade biológica no\\nsolo, melhorando sua estrutura.\\nd. Sistemas Agroflorestais\\nO uso de árvores e arbustos no meio das lavouras, por meio de\\nagrossilvicultura, pode melhorar a qualidade do solo. As raízes das árvores\\najudam a prevenir a erosão e a compactação, além de melhorar a estrutura\\ndo solo ao longo do tempo.\\n2. Controle da Erosão\\na. Construção de Barreiras contra Erosão\\n\\uf0b7 Barragens de terra e muros de contenção podem ser construídos em\\náreas inclinadas para reduzir o fluxo de água e evitar que o solo seja\\narrastado.\\n\\uf0b7 O uso de terraplanagem e contorno de terra (técnica de plantio ao\\nlongo das curvas de nível) ajuda a reduzir o escoamento da água e a\\nprevenir a erosão superficial.\\nb. Revegetação e Plantio de Culturas de Cobertura\\nPlantas de cobertura, como gramíneas e leguminosas, são eficazes para\\nproteger o solo contra a erosão. Essas plantas têm raízes que seguram o\\nsolo e ajudam a reduzir o impacto da chuva. Leguminosas de cobertura\\ntambém ajudam a enriquecer o solo com nitrogênio.\\nc. Uso de Geotêxteis e Outras Estruturas\\nEm áreas mais propensas à erosão, o uso de geotêxteis (fibras sintéticas\\nou naturais) pode ajudar a proteger o solo e reduzir a perda de solo por\\nerosão hídrica. Outras estruturas, como canais de drenagem e escadas de\\nterra, podem ser usadas para controlar o escoamento de água e proteger\\náreas vulneráveis.\\nd. Terraces ou Terraços', path=None, url=None, mimetype=None), image_resource=None, audio_resource=None, video_resource=None, text_template='{metadata_str}\\n\\n{content}'),\n",
              " Document(id_='23ff41b7-1838-4736-8d24-202e4b6b7924', embedding=None, metadata={'page_label': '25', 'file_name': 'doc_info_agricultura.pdf', 'file_path': '/content/documentos/doc_info_agricultura.pdf', 'file_type': 'application/pdf', 'file_size': 268199, 'creation_date': '2025-03-26', 'last_modified_date': '2025-03-26'}, excluded_embed_metadata_keys=['file_name', 'file_type', 'file_size', 'creation_date', 'last_modified_date', 'last_accessed_date'], excluded_llm_metadata_keys=['file_name', 'file_type', 'file_size', 'creation_date', 'last_modified_date', 'last_accessed_date'], relationships={}, metadata_template='{key}: {value}', metadata_separator='\\n', text_resource=MediaResource(embeddings=None, data=None, text='Em terrenos com inclinação acentuada, os terraços ajudam a reduzir a\\nvelocidade do escoamento da água, distribuindo a água de maneira mais\\nuniforme e evitando a erosão. Além disso, os terraços permitem que a água\\nseja absorvida pelo solo, em vez de ser levada para áreas baixas.\\n3. Manutenção da Estrutura do Solo\\na. Evitar o Tráfego Pesado de Máquinas\\nO uso excessivo de maquinário pesado pode compactar o solo,\\nprincipalmente quando ele está úmido. Para evitar a compactação, é\\nimportante:\\n\\uf0b7 Reduzir o número de passagens de máquinas no campo.\\n\\uf0b7 Usar máquinas com pneus largos ou rastros para distribuir o peso e\\nreduzir o impacto.\\n\\uf0b7 Planejar a trilha de maquinário de maneira que evite a compressão\\nexcessiva nas áreas mais sensíveis.\\nb. Uso de Técnicas de Agricultura de Precisão\\nTecnologias como sensores de umidade do solo e drones ajudam a\\nmonitorar as condições do solo em tempo real, permitindo uma irrigação\\nmais eficiente e evitando o excesso de irrigação, que pode contribuir para\\na compactação e a erosão. A agricultura de precisão também permite o\\ncontrole mais rigoroso do tráfego de máquinas e do uso de insumos.\\n4. Técnicas de Manejo da Água\\na. Irrigação Controlada\\nUma irrigação eficiente pode evitar o encharcamento do solo, o que\\ncontribui para a compactação e a erosão. Técnicas como a irrigação por\\ngotejamento e a irrigação por aspersão controlada permitem que a água\\nseja distribuída de maneira uniforme e em menor quantidade, reduzindo o\\nrisco de erosão.\\nb. Coleta e Armazenamento de Água da Chuva\\nSistemas de coleta de água da chuva podem ser usados para irrigação,\\najudando a evitar o escoamento excessivo e a erosão do solo. A água da\\nchuva armazenada pode ser utilizada de forma mais controlada e eficiente,\\nreduzindo os impactos do escoamento.\\n5. Uso Adequado de Fertilizantes e Produtos Químicos\\na. Evitar o Uso Excessivo de Fertilizantes\\nO uso excessivo de fertilizantes químicos pode prejudicar a estrutura do\\nsolo e aumentar o risco de erosão do solo. Fertilizantes orgânicos, como\\ncomposto ou esterco, são melhores para melhorar a estrutura do solo e\\naumentar a sua capacidade de retenção de água.\\nb. Adubação Balanceada', path=None, url=None, mimetype=None), image_resource=None, audio_resource=None, video_resource=None, text_template='{metadata_str}\\n\\n{content}'),\n",
              " Document(id_='263c4c70-3c6c-4156-9efa-71d9bcf6b8ad', embedding=None, metadata={'page_label': '26', 'file_name': 'doc_info_agricultura.pdf', 'file_path': '/content/documentos/doc_info_agricultura.pdf', 'file_type': 'application/pdf', 'file_size': 268199, 'creation_date': '2025-03-26', 'last_modified_date': '2025-03-26'}, excluded_embed_metadata_keys=['file_name', 'file_type', 'file_size', 'creation_date', 'last_modified_date', 'last_accessed_date'], excluded_llm_metadata_keys=['file_name', 'file_type', 'file_size', 'creation_date', 'last_modified_date', 'last_accessed_date'], relationships={}, metadata_template='{key}: {value}', metadata_separator='\\n', text_resource=MediaResource(embeddings=None, data=None, text='Uma adubação equilibrada não só melhora a produtividade das plantas,\\nmas também contribui para a manutenção da saúde do solo, prevenindo a\\ndegradação e, consequentemente, a compactação e a erosão.\\n6. Plantio Adequado e Manejo das Culturas\\na. Utilização de Plantas de Cobertura\\nPlantas de cobertura, como feijão-de-corda, trevo e ervilhas, podem ser\\nplantadas entre as culturas principais para evitar a compactação do solo.\\nElas protegem a superfície do solo e ajudam a reduzir a perda de solo por\\nerosão.\\nb. Controle de Erosão com Sistemas Agroecológicos\\nO uso de sistemas agroecológicos, como agricultura integrada ou\\nagroflorestas, pode melhorar a biodiversidade e reduzir a compactação do\\nsolo, mantendo o equilíbrio entre a produção agrícola e a preservação\\nambiental.\\nP: Onde um agricultor pode obter mais informações sobre preparo do solo\\ne escolha de sementes?\\nR: Existem várias fontes de informação onde um agricultor pode obter\\norientações detalhadas sobre o preparo do solo e a escolha de sementes.\\nEssas fontes incluem instituições de pesquisa, associações agrícolas,\\nconsultores especializados, e plataformas online. Aqui estão alguns dos\\nprincipais recursos disponíveis:\\n1. Instituições de Pesquisa e Extensão Rural\\na. EMBRAPA (Empresa Brasileira de Pesquisa Agropecuária)\\nA EMBRAPA é uma das principais instituições de pesquisa agrícola do\\nBrasil. Ela oferece uma vasta gama de publicações científicas, relatórios\\ntécnicos e guias práticos sobre preparo do solo e escolha de sementes\\npara diferentes tipos de culturas. O site da EMBRAPA oferece acesso\\ngratuito a uma grande quantidade de material técnico e de pesquisa.\\n\\uf0b7 Site: www.embrapa.br\\n\\uf0b7 Publicações: Disponíveis para download no site da EMBRAPA sobre\\npráticas agrícolas e manejo de solo.\\nb. Institutos Estaduais de Pesquisa Agropecuária\\nCada estado do Brasil possui instituições que realizam pesquisas agrícolas\\nfocadas nas condições locais. Exemplos incluem:\\n\\uf0b7 IPEA (Instituto de Pesquisa e Estratégia Econômica) de São Paulo.\\n\\uf0b7 IDR-Paraná (Instituto de Desenvolvimento Rural do Paraná).\\n\\uf0b7 EMATER (Empresa de Assistência Técnica e Extensão Rural) nos\\nestados.', path=None, url=None, mimetype=None), image_resource=None, audio_resource=None, video_resource=None, text_template='{metadata_str}\\n\\n{content}'),\n",
              " Document(id_='ad889d45-c829-414a-a992-c5cb06522bc4', embedding=None, metadata={'page_label': '27', 'file_name': 'doc_info_agricultura.pdf', 'file_path': '/content/documentos/doc_info_agricultura.pdf', 'file_type': 'application/pdf', 'file_size': 268199, 'creation_date': '2025-03-26', 'last_modified_date': '2025-03-26'}, excluded_embed_metadata_keys=['file_name', 'file_type', 'file_size', 'creation_date', 'last_modified_date', 'last_accessed_date'], excluded_llm_metadata_keys=['file_name', 'file_type', 'file_size', 'creation_date', 'last_modified_date', 'last_accessed_date'], relationships={}, metadata_template='{key}: {value}', metadata_separator='\\n', text_resource=MediaResource(embeddings=None, data=None, text='Essas instituições também oferecem serviços de extensão rural, com\\nassistência técnica e consultoria agronômica.\\n2. Associações e Sindicatos Agrícolas\\na. Sindicatos Rurais e Associações Regionais\\nOs sindicatos rurais e associações de produtores frequentemente\\npromovem workshops, seminários e treinamentos técnicos voltados para o\\nmanejo do solo e escolha de sementes. Além disso, eles oferecem\\ninformações atualizadas sobre as melhores práticas agrícolas e podem\\nconectar agricultores com consultores técnicos especializados.\\n\\uf0b7 Exemplo: SENAR (Serviço Nacional de Aprendizagem Rural) oferece\\ncursos e programas de capacitação no campo.\\nb. Federações de Agricultura\\nAs federações estaduais de agricultura, como a FAEP (Federação da\\nAgricultura do Estado de Paraná) ou a FAMATO (Federação da Agricultura\\ne Pecuária de Mato Grosso), também fornecem orientações técnicas sobre\\npráticas agrícolas, incluindo o preparo do solo e escolha de sementes.\\n3. Consultores Agrícolas Privados\\na. Consultorias Agronômicas\\nConsultores agrícolas especializados podem fornecer informações\\npersonalizadas sobre o preparo do solo, recomendação de sementes\\nespecíficas e análise de solo. Eles oferecem serviços individualizados de\\nacordo com as necessidades de cada propriedade e cultivo.\\n\\uf0b7 Existem empresas privadas que oferecem esse tipo de serviço, como\\na Agroconsultoria, Sicoob, e Cooperativas agrícolas.\\n4. Plataformas Online e Aplicativos\\na. Plataformas Educacionais Online\\nPlataformas como Coursera, Udemy e Fazenda Digital oferecem cursos\\nonline sobre manejo do solo e agricultura sustentável. Muitas vezes, essas\\nplataformas têm parcerias com universidades ou instituições de pesquisa\\nque fornecem conteúdo atualizado e acessível.\\nb. Websites e Blogs de Agricultura\\nExistem diversos blogs e sites especializados em agricultura que oferecem\\nartigos, dicas, e vídeos educativos sobre o preparo do solo e a escolha de\\nsementes. Exemplos incluem:\\n\\uf0b7 Agrolink (www.agrolink.com.br) – um portal de notícias e artigos\\nsobre o agronegócio.\\n\\uf0b7 Canal Rural (www.canalrural.com.br) – oferece informações sobre\\npráticas agrícolas, incluindo preparo do solo.', path=None, url=None, mimetype=None), image_resource=None, audio_resource=None, video_resource=None, text_template='{metadata_str}\\n\\n{content}'),\n",
              " Document(id_='7a158822-f7d3-494c-a7e9-8d295ec56a1d', embedding=None, metadata={'page_label': '28', 'file_name': 'doc_info_agricultura.pdf', 'file_path': '/content/documentos/doc_info_agricultura.pdf', 'file_type': 'application/pdf', 'file_size': 268199, 'creation_date': '2025-03-26', 'last_modified_date': '2025-03-26'}, excluded_embed_metadata_keys=['file_name', 'file_type', 'file_size', 'creation_date', 'last_modified_date', 'last_accessed_date'], excluded_llm_metadata_keys=['file_name', 'file_type', 'file_size', 'creation_date', 'last_modified_date', 'last_accessed_date'], relationships={}, metadata_template='{key}: {value}', metadata_separator='\\n', text_resource=MediaResource(embeddings=None, data=None, text='c. Aplicativos para Agricultores\\nHá aplicativos que ajudam no gerenciamento das atividades agrícolas, com\\nrecomendações sobre preparo do solo, irrigação, e escolha de sementes.\\nExemplos incluem:\\n\\uf0b7 AgriManager – Para gestão de propriedades rurais.\\n\\uf0b7 Farm Wizard – Para monitoramento de solo e condições climáticas.\\n5. Fornecedores de Sementes e Insumos Agrícolas\\na. Empresas de Sementes\\nAs empresas de sementes frequentemente têm um grande portfólio de\\ninformações sobre sementes para diferentes tipos de culturas e podem\\noferecer consultoria sobre quais sementes são mais adequadas para as\\ncondições de solo específicas. Além disso, essas empresas podem\\nfornecer testes de germinação e análises de sementes.\\n\\uf0b7 Exemplo: Monsanto, Syngenta, Corteva Agriscience e BASF são\\ngrandes fornecedores de sementes e insumos agrícolas e possuem\\nmateriais educativos.\\nb. Cooperativas Agrícolas\\nAs cooperativas agrícolas frequentemente oferecem capacitação para os\\nseus associados sobre o manejo do solo e a escolha de sementes. Elas\\ntambém fornecem sementes certificadas e serviços de consultoria\\nagronômica.\\n6. Feiras e Exposições Agrícolas\\na. Feiras e Exposições\\nParticipar de feiras agrícolas e exposições como a Agrishow (em Ribeirão\\nPreto), a Expodireto Cotrijal (em Não-Me-Toque), e a FENAGRO (em\\nSalvador) é uma ótima forma de obter informações atualizadas, conhecer\\nnovos fornecedores e ter acesso a demonstrações práticas sobre\\ntecnologias agrícolas inovadoras.\\n7. Universidades e Centros de Pesquisa\\na. Universidades de Agronomia\\nAlgumas universidades têm programas de extensão rural e centros de\\npesquisa que oferecem cursos, eventos e consultorias especializadas em\\nmanejo de solo, análise de sementes, e agricultura sustentável. Exemplo\\nde universidades com forte foco em pesquisa agrícola:\\n\\uf0b7 USP (Universidade de São Paulo).\\n\\uf0b7 UNESP (Universidade Estadual Paulista).\\n\\uf0b7 UFRGS (Universidade Federal do Rio Grande do Sul).\\nb. Cursos Técnicos e Pós-Graduação', path=None, url=None, mimetype=None), image_resource=None, audio_resource=None, video_resource=None, text_template='{metadata_str}\\n\\n{content}'),\n",
              " Document(id_='142b1f55-ca95-4757-8856-cf9bda0d075f', embedding=None, metadata={'page_label': '29', 'file_name': 'doc_info_agricultura.pdf', 'file_path': '/content/documentos/doc_info_agricultura.pdf', 'file_type': 'application/pdf', 'file_size': 268199, 'creation_date': '2025-03-26', 'last_modified_date': '2025-03-26'}, excluded_embed_metadata_keys=['file_name', 'file_type', 'file_size', 'creation_date', 'last_modified_date', 'last_accessed_date'], excluded_llm_metadata_keys=['file_name', 'file_type', 'file_size', 'creation_date', 'last_modified_date', 'last_accessed_date'], relationships={}, metadata_template='{key}: {value}', metadata_separator='\\n', text_resource=MediaResource(embeddings=None, data=None, text='Muitas universidades também oferecem cursos técnicos e de pós-\\ngraduação em áreas como agronomia, manejo do solo e engenharia\\nagrícola. Esses cursos podem proporcionar uma formação mais\\naprofundada para aqueles que desejam expandir seus conhecimentos.\\nOnde obter mais informações?\\nPara mais detalhes sobre preparo do solo e escolha de sementes, consulte um\\nagrônomo ou acesse fontes confiáveis de pesquisa agrícola.', path=None, url=None, mimetype=None), image_resource=None, audio_resource=None, video_resource=None, text_template='{metadata_str}\\n\\n{content}')]"
            ]
          },
          "execution_count": 8,
          "metadata": {},
          "output_type": "execute_result"
        }
      ],
      "source": [
        "docs"
      ]
    },
    {
      "cell_type": "code",
      "execution_count": 9,
      "metadata": {
        "colab": {
          "base_uri": "https://localhost:8080/"
        },
        "id": "NtFwNybgpuFX",
        "outputId": "449ab329-2a05-4c0f-cef5-a74e493bf164"
      },
      "outputs": [
        {
          "data": {
            "text/plain": [
              "29"
            ]
          },
          "execution_count": 9,
          "metadata": {},
          "output_type": "execute_result"
        }
      ],
      "source": [
        "len(docs)"
      ]
    },
    {
      "cell_type": "code",
      "execution_count": 10,
      "metadata": {
        "colab": {
          "base_uri": "https://localhost:8080/"
        },
        "id": "yJPEtv0mqDo3",
        "outputId": "1bee3087-f1e2-40b5-d3f5-9fbe199c7db2"
      },
      "outputs": [
        {
          "name": "stdout",
          "output_type": "stream",
          "text": [
            "page_label: 1\n",
            "file_name: doc_info_agricultura.pdf\n",
            "file_path: /content/documentos/doc_info_agricultura.pdf\n",
            "file_type: application/pdf\n",
            "file_size: 268199\n",
            "creation_date: 2025-03-26\n",
            "last_modified_date: 2025-03-26\n"
          ]
        }
      ],
      "source": [
        "print(docs[0].get_metadata_str())"
      ]
    },
    {
      "cell_type": "code",
      "execution_count": 11,
      "metadata": {
        "colab": {
          "base_uri": "https://localhost:8080/"
        },
        "id": "BVi0vsWFqO6g",
        "outputId": "415fde1e-b2b8-4774-e5da-3f3606dec57e"
      },
      "outputs": [
        {
          "data": {
            "text/plain": [
              "{'id_': 'e70b04be-6756-4f50-ba7d-2d4a4435c125',\n",
              " 'embedding': None,\n",
              " 'metadata': {'page_label': '1',\n",
              "  'file_name': 'doc_info_agricultura.pdf',\n",
              "  'file_path': '/content/documentos/doc_info_agricultura.pdf',\n",
              "  'file_type': 'application/pdf',\n",
              "  'file_size': 268199,\n",
              "  'creation_date': '2025-03-26',\n",
              "  'last_modified_date': '2025-03-26'},\n",
              " 'excluded_embed_metadata_keys': ['file_name',\n",
              "  'file_type',\n",
              "  'file_size',\n",
              "  'creation_date',\n",
              "  'last_modified_date',\n",
              "  'last_accessed_date'],\n",
              " 'excluded_llm_metadata_keys': ['file_name',\n",
              "  'file_type',\n",
              "  'file_size',\n",
              "  'creation_date',\n",
              "  'last_modified_date',\n",
              "  'last_accessed_date'],\n",
              " 'relationships': {},\n",
              " 'metadata_template': '{key}: {value}',\n",
              " 'metadata_separator': '\\n',\n",
              " 'text_resource': MediaResource(embeddings=None, data=None, text='Guia de Preparo do Solo para Plantio\\nInformações Gerais\\nP: Qual a importância do preparo adequado do solo?\\nR: O preparo adequado do solo garante que as plantas tenham acesso aos\\nnutrientes necessários, além de melhorar a retenção de água e a aeração,\\nfatores essenciais para o crescimento saudável.\\nP: Quais fatores devem ser considerados ao preparar o solo para o plantio?\\nR: Os principais fatores incluem o tipo de solo, a umidade ideal, o pH, a\\ncompactação e a adubação adequada para cada cultura.\\nTipos de Solo e Seu Tratamento\\nP: Quais os principais tipos de solo e como prepará-los?\\nR: Existem diversos tipos de solo, cada um com características específicas e\\ntratamentos recomendados:\\n\\uf0b7 Solo Arenoso: Drenagem rápida, baixo teor de nutrientes. Recomenda-\\nse adição de matéria orgânica e irrigação frequente.\\n\\uf0b7 Solo Argiloso: Retém muita água, pode compactar facilmente.\\nAéreação e adição de areia podem melhorar a drenagem.\\n\\uf0b7 Solo Calcário: Alto pH, pouca disponibilidade de micronutrientes. Pode\\nser corrigido com adubação orgânica e fertilizantes ácidos.\\nSensores para Monitoramento da Umidade do Solo\\nP: Quais sensores podem ser usados para monitorar a umidade do solo?\\nR: Existem diversas tecnologias para medir a umidade do solo, entre elas:\\n\\uf0b7 Sensor Capacitivo de Umidade do Solo: Mede a variação da\\ncapacitância conforme o nível de umidade.\\n\\uf0b7 Sensor Resistivo de Umidade: Mede a condutividade elétrica do solo,\\nvariando conforme a umidade.\\n\\uf0b7 Sensor TDR (Time Domain Reflectometry): Utiliza pulsos\\neletromagnéticos para calcular a umidade com alta precisão.\\n\\uf0b7 Sondas de Tensiômetro: Medem a tensão com que a água está sendo\\nretida no solo, indicando o nível de umidade disponível para as plantas.\\nEsses sensores são fundamentais para o manejo eficiente da irrigação e para\\nevitar estresse hídrico das plantas.\\nUmidade e pH Ideais\\nP: Como medir e ajustar a umidade do solo?\\nR: A umidade pode ser medida com sensores ou testes simples (amassando o\\nsolo na mão). Para solos muito secos, a irrigação regular é essencial; para\\nsolos muito úmidos, drenagem adequada deve ser aplicada.', path=None, url=None, mimetype=None),\n",
              " 'image_resource': None,\n",
              " 'audio_resource': None,\n",
              " 'video_resource': None,\n",
              " 'text_template': '{metadata_str}\\n\\n{content}'}"
            ]
          },
          "execution_count": 11,
          "metadata": {},
          "output_type": "execute_result"
        }
      ],
      "source": [
        "docs[0].__dict__"
      ]
    },
    {
      "cell_type": "code",
      "execution_count": 16,
      "metadata": {
        "id": "-QSoCQHRrCz5"
      },
      "outputs": [],
      "source": [
        "# importando a biblioteca\n",
        "from llama_index.core.node_parser import SentenceSplitter\n",
        "node_parser = SentenceSplitter(chunk_size=1200)"
      ]
    },
    {
      "cell_type": "code",
      "execution_count": 17,
      "metadata": {
        "colab": {
          "base_uri": "https://localhost:8080/",
          "height": 49,
          "referenced_widgets": [
            "3919178ef0254438be0a6da24c5e18be",
            "6a8bc4fbc0ec436ebc45c915bd7d8b69",
            "6abcdcd71c104ffeb236cc0fcf015f21",
            "19d4f6504c314bf8bd1a6cdf9902f2b3",
            "37f3dc515b5f42878f6a3abcb3a72051",
            "de10f10209cd4196b0fe55af6d616904",
            "ef2afb9000e24d8ca6076ec59a397e65",
            "13294d7230c24c038f5b044921b33780",
            "45449024f95d420bb7594516d47de8c1",
            "eba2149dd7de4d88b5866a2b4b537477",
            "087bd0cc75ff405e8c5df76af16b173d"
          ]
        },
        "id": "q7xQ9rXLrfFi",
        "outputId": "11ea8d7a-532f-48b7-f714-cf0e20076c83"
      },
      "outputs": [
        {
          "data": {
            "application/vnd.jupyter.widget-view+json": {
              "model_id": "3919178ef0254438be0a6da24c5e18be",
              "version_major": 2,
              "version_minor": 0
            },
            "text/plain": [
              "Parsing nodes:   0%|          | 0/29 [00:00<?, ?it/s]"
            ]
          },
          "metadata": {},
          "output_type": "display_data"
        }
      ],
      "source": [
        "nodes = node_parser.get_nodes_from_documents(docs, show_progress=True)"
      ]
    },
    {
      "cell_type": "code",
      "execution_count": 18,
      "metadata": {
        "colab": {
          "base_uri": "https://localhost:8080/"
        },
        "id": "B0y1PufaroBZ",
        "outputId": "48bff53b-631b-4e9f-d5d4-9c29bb5c8019"
      },
      "outputs": [
        {
          "data": {
            "text/plain": [
              "[TextNode(id_='0dbee107-3f17-4eb9-b83e-2a0034b5a218', embedding=None, metadata={'page_label': '1', 'file_name': 'doc_info_agricultura.pdf', 'file_path': '/content/documentos/doc_info_agricultura.pdf', 'file_type': 'application/pdf', 'file_size': 268199, 'creation_date': '2025-03-26', 'last_modified_date': '2025-03-26'}, excluded_embed_metadata_keys=['file_name', 'file_type', 'file_size', 'creation_date', 'last_modified_date', 'last_accessed_date'], excluded_llm_metadata_keys=['file_name', 'file_type', 'file_size', 'creation_date', 'last_modified_date', 'last_accessed_date'], relationships={<NodeRelationship.SOURCE: '1'>: RelatedNodeInfo(node_id='e70b04be-6756-4f50-ba7d-2d4a4435c125', node_type=<ObjectType.DOCUMENT: '4'>, metadata={'page_label': '1', 'file_name': 'doc_info_agricultura.pdf', 'file_path': '/content/documentos/doc_info_agricultura.pdf', 'file_type': 'application/pdf', 'file_size': 268199, 'creation_date': '2025-03-26', 'last_modified_date': '2025-03-26'}, hash='2c2931a49218b197f6cb77277f926f6ced8bd7733b7031a7c02dc0cdef24567d')}, metadata_template='{key}: {value}', metadata_separator='\\n', text='Guia de Preparo do Solo para Plantio\\nInformações Gerais\\nP: Qual a importância do preparo adequado do solo?\\nR: O preparo adequado do solo garante que as plantas tenham acesso aos\\nnutrientes necessários, além de melhorar a retenção de água e a aeração,\\nfatores essenciais para o crescimento saudável.\\nP: Quais fatores devem ser considerados ao preparar o solo para o plantio?\\nR: Os principais fatores incluem o tipo de solo, a umidade ideal, o pH, a\\ncompactação e a adubação adequada para cada cultura.\\nTipos de Solo e Seu Tratamento\\nP: Quais os principais tipos de solo e como prepará-los?\\nR: Existem diversos tipos de solo, cada um com características específicas e\\ntratamentos recomendados:\\n\\uf0b7 Solo Arenoso: Drenagem rápida, baixo teor de nutrientes. Recomenda-\\nse adição de matéria orgânica e irrigação frequente.\\n\\uf0b7 Solo Argiloso: Retém muita água, pode compactar facilmente.\\nAéreação e adição de areia podem melhorar a drenagem.\\n\\uf0b7 Solo Calcário: Alto pH, pouca disponibilidade de micronutrientes. Pode\\nser corrigido com adubação orgânica e fertilizantes ácidos.\\nSensores para Monitoramento da Umidade do Solo\\nP: Quais sensores podem ser usados para monitorar a umidade do solo?\\nR: Existem diversas tecnologias para medir a umidade do solo, entre elas:\\n\\uf0b7 Sensor Capacitivo de Umidade do Solo: Mede a variação da\\ncapacitância conforme o nível de umidade.\\n\\uf0b7 Sensor Resistivo de Umidade: Mede a condutividade elétrica do solo,\\nvariando conforme a umidade.\\n\\uf0b7 Sensor TDR (Time Domain Reflectometry): Utiliza pulsos\\neletromagnéticos para calcular a umidade com alta precisão.\\n\\uf0b7 Sondas de Tensiômetro: Medem a tensão com que a água está sendo\\nretida no solo, indicando o nível de umidade disponível para as plantas.\\nEsses sensores são fundamentais para o manejo eficiente da irrigação e para\\nevitar estresse hídrico das plantas.\\nUmidade e pH Ideais\\nP: Como medir e ajustar a umidade do solo?\\nR: A umidade pode ser medida com sensores ou testes simples (amassando o\\nsolo na mão). Para solos muito secos, a irrigação regular é essencial; para\\nsolos muito úmidos, drenagem adequada deve ser aplicada.', mimetype='text/plain', start_char_idx=0, end_char_idx=2091, metadata_seperator='\\n', text_template='{metadata_str}\\n\\n{content}'),\n",
              " TextNode(id_='3e2dda36-64fe-4d92-81d1-d79ab50d675a', embedding=None, metadata={'page_label': '2', 'file_name': 'doc_info_agricultura.pdf', 'file_path': '/content/documentos/doc_info_agricultura.pdf', 'file_type': 'application/pdf', 'file_size': 268199, 'creation_date': '2025-03-26', 'last_modified_date': '2025-03-26'}, excluded_embed_metadata_keys=['file_name', 'file_type', 'file_size', 'creation_date', 'last_modified_date', 'last_accessed_date'], excluded_llm_metadata_keys=['file_name', 'file_type', 'file_size', 'creation_date', 'last_modified_date', 'last_accessed_date'], relationships={<NodeRelationship.SOURCE: '1'>: RelatedNodeInfo(node_id='9d7df280-9761-45a1-ba0a-ef5a5d186523', node_type=<ObjectType.DOCUMENT: '4'>, metadata={'page_label': '2', 'file_name': 'doc_info_agricultura.pdf', 'file_path': '/content/documentos/doc_info_agricultura.pdf', 'file_type': 'application/pdf', 'file_size': 268199, 'creation_date': '2025-03-26', 'last_modified_date': '2025-03-26'}, hash='d97dd1759e234e65a45e7831291caa2f28f73906c317576e28b5e3161da87ba5')}, metadata_template='{key}: {value}', metadata_separator='\\n', text='P: Como ajustar o pH do solo para diferentes culturas?\\nR: O pH do solo pode ser medido com kits de teste. Para correção:\\n\\uf0b7 Solo ácido (pH baixo): Aplicação de calcário.\\n\\uf0b7 Solo alcalino (pH alto): Uso de enxofre ou fertilizantes ácidos.\\nCulturas e Suas Necessidades\\nP: Quais são as recomendações de preparo do solo para diferentes\\nsementes?\\nR: Cada semente tem exigências específicas:\\n\\uf0b7 Milho: Prefere solo bem drenado, pH entre 5,5 e 7,0, rico em nitrogênio.\\n\\uf0b7 Soja: Solo com boa retenção de umidade, pH entre 6,0 e 7,0,\\nnecessária fixação biológica de nitrogênio.\\n\\uf0b7 Trigo: Prefere solos profundos e bem drenados, pH entre 6,0 e 7,5, rico\\nem fósforo.\\n\\uf0b7 Hortaliças (alface, tomate, cenoura): Solo leve, bem drenado e rico\\nem matéria orgânica, pH entre 5,5 e 6,8.\\nP: Como garantir a fertilidade do solo?\\nR: O solo deve ser adubado de acordo com as necessidades da cultura. A\\nadubação pode ser orgânica (composto, esterco) ou química (NPK). A análise\\ndo solo é fundamental para determinar os nutrientes necessários.\\nTipos de Fertilizantes\\nP: Quais são os principais fertilizantes usados no solo?\\nR: Os fertilizantes podem ser classificados em:\\n\\uf0b7 Fertilizantes Orgânicos: Compostos naturais como esterco, húmus de\\nminhoca, farinha de ossos e restos vegetais.\\n\\uf0b7 Fertilizantes Químicos: Compostos sintéticos como NPK (Nitrogênio,\\nFósforo e Potássio), ureia, superfosfato e cloreto de potássio.\\n\\uf0b7 Fertilizantes de Liberação Controlada: Gradualmente liberam os\\nnutrientes no solo ao longo do tempo, otimizando o aproveitamento\\npelas plantas.\\nPreparo do Solo Passo a Passo\\n1. Análise do Solo: Coletar amostras e verificar pH, umidade e nutrientes.\\n2. Correção do Solo: Aplicar calcário, adubos e melhoradores conforme\\nnecessidade.\\n3. Aragem e Gradagem: Revolver o solo para aeração e nivelamento.\\n4. Adubação: Incorporar fertilizantes e matéria orgânica.\\n5. Preparo Final: Nivelar o solo e preparar os espaçamentos para a\\nsementeira ou mudas.\\nDicas Gerais', mimetype='text/plain', start_char_idx=0, end_char_idx=1946, metadata_seperator='\\n', text_template='{metadata_str}\\n\\n{content}'),\n",
              " TextNode(id_='a9fd657c-ab47-4311-afb9-69ca4e8ea873', embedding=None, metadata={'page_label': '3', 'file_name': 'doc_info_agricultura.pdf', 'file_path': '/content/documentos/doc_info_agricultura.pdf', 'file_type': 'application/pdf', 'file_size': 268199, 'creation_date': '2025-03-26', 'last_modified_date': '2025-03-26'}, excluded_embed_metadata_keys=['file_name', 'file_type', 'file_size', 'creation_date', 'last_modified_date', 'last_accessed_date'], excluded_llm_metadata_keys=['file_name', 'file_type', 'file_size', 'creation_date', 'last_modified_date', 'last_accessed_date'], relationships={<NodeRelationship.SOURCE: '1'>: RelatedNodeInfo(node_id='50826607-fd22-4d34-869a-11edc57f350a', node_type=<ObjectType.DOCUMENT: '4'>, metadata={'page_label': '3', 'file_name': 'doc_info_agricultura.pdf', 'file_path': '/content/documentos/doc_info_agricultura.pdf', 'file_type': 'application/pdf', 'file_size': 268199, 'creation_date': '2025-03-26', 'last_modified_date': '2025-03-26'}, hash='a4c3824fc8558c0265ad911ad2fef341e1cae725c16f51a6ca76fc045cf94ce7')}, metadata_template='{key}: {value}', metadata_separator='\\n', text='\\uf0b7 Evite compactação excessiva: Use rotação de culturas e cobertura\\nvegetal.\\n\\uf0b7 Mantenha umidade ideal: Planeje irrigação conforme a cultura.\\n\\uf0b7 Proteja contra erosão: Utilize cobertura morta e curvas de nível em\\nterrenos inclinados.\\nP: Por que é importante preparar o solo adequadamente antes do\\nplantio?\\nR: A preparação adequada do solo antes do plantio é crucial por várias\\nrazões, e isso pode afetar diretamente o sucesso do cultivo. Aqui estão\\nalguns dos principais motivos:\\nMelhora a aeração e drenagem: Ao preparar o solo, você ajuda a criar\\numa estrutura mais solta, permitindo que o ar e a água circularem\\nadequadamente pelas raízes das plantas. Isso previne problemas como\\no apodrecimento das raízes e promove um crescimento saudável.\\nDistribuição uniforme de nutrientes: A preparação do solo garante que\\nos nutrientes estejam bem distribuídos e disponíveis para as plantas.\\nSe o solo for compactado ou mal trabalhado, as raízes podem ter\\ndificuldade em acessar esses nutrientes essenciais.\\nMelhora da retenção de água: Em solos bem preparados, a água é\\nmelhor retida nas camadas mais profundas, o que ajuda durante\\nperíodos de seca, permitindo que as raízes acessem a umidade\\nnecessária para o crescimento.\\nControle de ervas daninhas: Preparar o solo pode ajudar a remover ou\\ncontrolar ervas daninhas e outras plantas indesejadas que competem\\ncom as culturas por recursos, como luz, água e nutrientes.\\nRedução de doenças do solo: Em solos mal preparados, pode haver a\\nproliferação de patógenos que prejudicam as plantas. Uma boa\\npreparação do solo, muitas vezes envolvendo a incorporação de\\nmatéria orgânica e a rotação de culturas, pode ajudar a reduzir esses\\nriscos.\\nMelhor enraizamento: Solos soltos e bem estruturados permitem que\\nas raízes se expandam facilmente, promovendo o crescimento\\nvigoroso da planta.\\nEm resumo, a preparação do solo cria um ambiente mais saudável e\\nfavorável ao desenvolvimento das plantas, melhorando a produtividade\\ne a resistência das culturas.', mimetype='text/plain', start_char_idx=0, end_char_idx=1985, metadata_seperator='\\n', text_template='{metadata_str}\\n\\n{content}'),\n",
              " TextNode(id_='6c8b00a6-5c84-4b76-a4a6-7eee89a62bbb', embedding=None, metadata={'page_label': '4', 'file_name': 'doc_info_agricultura.pdf', 'file_path': '/content/documentos/doc_info_agricultura.pdf', 'file_type': 'application/pdf', 'file_size': 268199, 'creation_date': '2025-03-26', 'last_modified_date': '2025-03-26'}, excluded_embed_metadata_keys=['file_name', 'file_type', 'file_size', 'creation_date', 'last_modified_date', 'last_accessed_date'], excluded_llm_metadata_keys=['file_name', 'file_type', 'file_size', 'creation_date', 'last_modified_date', 'last_accessed_date'], relationships={<NodeRelationship.SOURCE: '1'>: RelatedNodeInfo(node_id='4cbb5c09-9351-4dcf-9eb7-dbd318d07781', node_type=<ObjectType.DOCUMENT: '4'>, metadata={'page_label': '4', 'file_name': 'doc_info_agricultura.pdf', 'file_path': '/content/documentos/doc_info_agricultura.pdf', 'file_type': 'application/pdf', 'file_size': 268199, 'creation_date': '2025-03-26', 'last_modified_date': '2025-03-26'}, hash='b51c5fc20b3502df844fd2e85941f8c93962c771d21bd2b9c12c5dcbfd5597a1')}, metadata_template='{key}: {value}', metadata_separator='\\n', text='P: Quais são os principais tipos de solo e como prepará-los para o\\ncultivo?\\nR: Os principais tipos de solo são classificados de acordo com sua\\ncomposição, estrutura e propriedades. Cada tipo de solo tem\\ncaracterísticas que influenciam a forma de preparação para o cultivo.\\nAbaixo estão os principais tipos de solo e algumas orientações sobre\\ncomo prepará-los para o plantio:\\n1. Solo Arenoso\\n\\uf0b7 Características: O solo arenoso é composto por partículas grandes\\nde areia, o que resulta em boa drenagem, mas baixa capacidade de\\nretenção de água e nutrientes.\\n\\uf0b7 Preparação:\\no Melhorar a retenção de água e nutrientes: Devido à sua baixa\\ncapacidade de retenção, é importante adicionar matéria\\norgânica, como compostos ou esterco, para aumentar a\\ncapacidade de retenção de água e nutrientes.\\no Adição de fertilizantes: O solo arenoso pode ser pobre em\\nnutrientes, portanto, a adição regular de fertilizantes é\\nrecomendada para garantir um bom crescimento das plantas.\\no Controle de erosão: A alta drenagem pode levar à erosão do\\nsolo, especialmente em áreas inclinadas. Plantar cobertura\\nvegetal pode ajudar a proteger o solo.\\n2. Solo Argiloso\\n\\uf0b7 Características: O solo argiloso tem partículas muito pequenas e\\ncompactas, o que resulta em boa retenção de água, mas pode levar a\\nproblemas de drenagem e compactação.\\n\\uf0b7 Preparação:\\no Aeração: A compactação é comum em solos argilosos, então a\\nincorporação de matéria orgânica (como composto ou\\nestrume) ajuda a melhorar a estrutura do solo, aumentando a\\naeração e a drenagem.\\no Evitar o excesso de água: O solo argiloso tende a reter muita\\nágua, o que pode causar encharcamento. É importante\\nverificar a drenagem antes de plantar e, se necessário, fazer\\ncanais de drenagem.\\no Uso de calcário: Em alguns casos, solos argilosos podem ser\\nácidos. A adição de calcário ajuda a corrigir o pH e melhora a\\nestrutura do solo.\\n3. Solo Franco\\n\\uf0b7 Características: O solo franco é considerado ideal para o cultivo,\\npois possui uma boa combinação de areia, silte e argila. Ele\\napresenta boa drenagem, retenção de água e capacidade de nutrição.\\n\\uf0b7 Preparação:\\no Incorporação de matéria orgânica: Embora seja um solo\\nequilibrado, a adição de matéria orgânica ainda pode ajudar a\\nmanter sua estrutura e fertilidade.', mimetype='text/plain', start_char_idx=0, end_char_idx=2237, metadata_seperator='\\n', text_template='{metadata_str}\\n\\n{content}'),\n",
              " TextNode(id_='dbbceac4-b5af-4ab4-b447-6d82fb31e32d', embedding=None, metadata={'page_label': '5', 'file_name': 'doc_info_agricultura.pdf', 'file_path': '/content/documentos/doc_info_agricultura.pdf', 'file_type': 'application/pdf', 'file_size': 268199, 'creation_date': '2025-03-26', 'last_modified_date': '2025-03-26'}, excluded_embed_metadata_keys=['file_name', 'file_type', 'file_size', 'creation_date', 'last_modified_date', 'last_accessed_date'], excluded_llm_metadata_keys=['file_name', 'file_type', 'file_size', 'creation_date', 'last_modified_date', 'last_accessed_date'], relationships={<NodeRelationship.SOURCE: '1'>: RelatedNodeInfo(node_id='81a3f1a4-acd1-4b35-9e30-25644fea9b7b', node_type=<ObjectType.DOCUMENT: '4'>, metadata={'page_label': '5', 'file_name': 'doc_info_agricultura.pdf', 'file_path': '/content/documentos/doc_info_agricultura.pdf', 'file_type': 'application/pdf', 'file_size': 268199, 'creation_date': '2025-03-26', 'last_modified_date': '2025-03-26'}, hash='ad14db0de15950dbb3c89bdafc6305022ceed55510d9fa00ba953b8d046df48c')}, metadata_template='{key}: {value}', metadata_separator='\\n', text='o Controle do pH: Solos franco têm pH geralmente neutro, mas é\\nsempre importante verificar o pH para garantir que esteja na\\nfaixa ideal para o cultivo.\\no Fertilização balanceada: A fertilização deve ser feita de acordo\\ncom as necessidades específicas da planta, pois o solo franco\\njá possui boa quantidade de nutrientes.\\n4. Solo Siltoso\\n\\uf0b7 Características: O solo siltoso é composto por partículas finas de\\nsilte. Ele tem boa retenção de água e nutrientes, mas pode ter\\ndrenagem deficiente, o que pode resultar em problemas de\\ncompactação e encharcamento.\\n\\uf0b7 Preparação:\\no Melhorar a drenagem: Se necessário, adicione materiais\\norgânicos ou areia para melhorar a drenagem e evitar o\\nencharcamento.\\no Aerificação: O solo siltoso pode se compactar facilmente, por\\nisso é importante revolver o solo ou incorporar matéria\\norgânica para manter a aeração.\\no Controle de pH: Solos siltosos podem ser ligeiramente ácidos,\\nportanto, se o pH for muito baixo, a aplicação de calcário pode\\nser útil.\\n5. Solo Peçapão (ou Solos Pesados)\\n\\uf0b7 Características: Esses solos são uma combinação de argila e silte, e\\npodem ser muito densos, com dificuldade de drenagem.\\n\\uf0b7 Preparação:\\no Adição de matéria orgânica: Para melhorar a estrutura e a\\ncapacidade de drenagem, adicione compostos ou estrume.\\no Aeração: A aeração é fundamental para prevenir a\\ncompactação. O uso de máquinas para fazer sulcos pode ser\\nnecessário para abrir o solo e permitir a penetração de ar e\\nágua.\\no Uso de aditivos de drenagem: Em solos pesados, o uso de\\nareia ou outros materiais para ajudar na drenagem pode ser\\nútil.\\n6. Solo Orgânico (Humoso)\\n\\uf0b7 Características: É rico em matéria orgânica decomposta, e\\ngeralmente tem uma estrutura leve e boa drenagem. Pode ser\\nencontrado em regiões com alta vegetação natural.\\n\\uf0b7 Preparação:\\no Manutenção de sua qualidade: O solo orgânico é naturalmente\\nfértil, mas deve ser bem cuidado. A rotação de culturas e o\\nuso de compostagem podem manter sua saúde.\\no Evitar o excesso de cultivo: Embora seja fértil, o solo orgânico\\npode ser degradado com o cultivo contínuo, então a rotação e\\no uso de cobertura vegetal ajudam a manter sua produtividade.', mimetype='text/plain', start_char_idx=0, end_char_idx=2136, metadata_seperator='\\n', text_template='{metadata_str}\\n\\n{content}'),\n",
              " TextNode(id_='b894516f-439f-4c4b-aace-be0ab1e32036', embedding=None, metadata={'page_label': '6', 'file_name': 'doc_info_agricultura.pdf', 'file_path': '/content/documentos/doc_info_agricultura.pdf', 'file_type': 'application/pdf', 'file_size': 268199, 'creation_date': '2025-03-26', 'last_modified_date': '2025-03-26'}, excluded_embed_metadata_keys=['file_name', 'file_type', 'file_size', 'creation_date', 'last_modified_date', 'last_accessed_date'], excluded_llm_metadata_keys=['file_name', 'file_type', 'file_size', 'creation_date', 'last_modified_date', 'last_accessed_date'], relationships={<NodeRelationship.SOURCE: '1'>: RelatedNodeInfo(node_id='6e2fa8e5-535e-4bed-8942-f0771491004e', node_type=<ObjectType.DOCUMENT: '4'>, metadata={'page_label': '6', 'file_name': 'doc_info_agricultura.pdf', 'file_path': '/content/documentos/doc_info_agricultura.pdf', 'file_type': 'application/pdf', 'file_size': 268199, 'creation_date': '2025-03-26', 'last_modified_date': '2025-03-26'}, hash='59cfcc6d383a666379a134853ec42ac308d6158fa533bfb85991a8281dbd1d71')}, metadata_template='{key}: {value}', metadata_separator='\\n', text='P: Quais sensores podem ser utilizados para monitorar a umidade do\\nsolo e como funcionam?\\nR: Para monitorar a umidade do solo, existem diversos tipos de sensores\\nque utilizam diferentes tecnologias para medir a quantidade de água\\npresente no solo. A escolha do sensor depende de fatores como precisão\\ndesejada, profundidade de medição e custo. Aqui estão alguns dos\\nprincipais sensores utilizados para monitoramento de umidade do solo e\\ncomo funcionam:\\n1. Sensores de Tensão (Tensiômetro)\\n\\uf0b7 Como funciona: O tensiômetro mede a tensão de água no solo, ou\\nseja, a força que as raízes da planta precisam para extrair a água do\\nsolo. O sensor é composto por um tubo cerâmico que é enterrado no\\nsolo e preenchido com água. Quando o solo seca, a água do tubo é\\npuxada para fora, causando uma mudança na pressão interna, que é\\nmedida e correlacionada com a umidade do solo.\\n\\uf0b7 Vantagens:\\no Relativamente preciso para medir a tensão da água no solo.\\no Fornece informações importantes sobre a disponibilidade de\\nágua para as plantas.\\n\\uf0b7 Desvantagens:\\no Requer manutenção, como reabastecimento de água no tubo.\\no Funciona melhor em solos não muito salinos, pois a\\nsalinidade pode interferir nas medições.\\n2. Sensores Capacitivos\\n\\uf0b7 Como funciona: Sensores capacitivos medem a permissividade\\nelétrica do solo. A capacitividade é influenciada pela quantidade de\\nágua no solo, pois a água tem uma constante dielétrica maior do que\\nos minerais e o ar. O sensor emite um sinal elétrico e mede a\\nvariação da capacitância para determinar a quantidade de água\\npresente.\\n\\uf0b7 Vantagens:\\no Sem contato direto com o solo, o que reduz a manutenção.\\no Rápido e fácil de instalar, sem necessidade de recalibração\\nconstante.\\no Mais duráveis do que os tensiômetros em algumas condições.\\n\\uf0b7 Desvantagens:\\no Sensível à salinidade do solo.\\no Pode ser mais caro que outros tipos de sensores.\\n3. Sensores Resistivos (Sensor de Resistência Elétrica)\\n\\uf0b7 Como funciona: Sensores resistivos medem a resistência elétrica do\\nsolo, que varia com a umidade. Quando o solo está mais seco, a\\nresistência é maior, pois há menos água (que conduz a eletricidade).\\nQuando o solo está mais úmido, a resistência diminui. O sensor\\naplica uma corrente elétrica e mede a resistência.', mimetype='text/plain', start_char_idx=0, end_char_idx=2225, metadata_seperator='\\n', text_template='{metadata_str}\\n\\n{content}'),\n",
              " TextNode(id_='f2ee1d08-f396-47c7-821a-75703a53834f', embedding=None, metadata={'page_label': '7', 'file_name': 'doc_info_agricultura.pdf', 'file_path': '/content/documentos/doc_info_agricultura.pdf', 'file_type': 'application/pdf', 'file_size': 268199, 'creation_date': '2025-03-26', 'last_modified_date': '2025-03-26'}, excluded_embed_metadata_keys=['file_name', 'file_type', 'file_size', 'creation_date', 'last_modified_date', 'last_accessed_date'], excluded_llm_metadata_keys=['file_name', 'file_type', 'file_size', 'creation_date', 'last_modified_date', 'last_accessed_date'], relationships={<NodeRelationship.SOURCE: '1'>: RelatedNodeInfo(node_id='c59dd5dd-81d1-4889-8243-b19084a56f07', node_type=<ObjectType.DOCUMENT: '4'>, metadata={'page_label': '7', 'file_name': 'doc_info_agricultura.pdf', 'file_path': '/content/documentos/doc_info_agricultura.pdf', 'file_type': 'application/pdf', 'file_size': 268199, 'creation_date': '2025-03-26', 'last_modified_date': '2025-03-26'}, hash='d32de4597d262277cbfc0c11547206b12a17b2508f365ba45da1b316a48b6b44')}, metadata_template='{key}: {value}', metadata_separator='\\n', text='\\uf0b7 Vantagens:\\no Custo relativamente baixo.\\no Simples de usar e de instalar.\\n\\uf0b7 Desvantagens:\\no Pode ser suscetível ao desgaste devido à corrosão,\\nespecialmente em solos com alta salinidade.\\no Menos preciso do que sensores capacitivos ou tensiômetros,\\nespecialmente em solos com grandes variações de sal.\\n4. Sensores de Neutrons (Por Emissão de Nêutrons)\\n\\uf0b7 Como funciona: Sensores de emissão de nêutrons utilizam radiação\\nde nêutrons para medir a quantidade de hidrogênio presente no solo,\\njá que a água é rica em hidrogênio. O sensor emite nêutrons no solo\\ne mede a quantidade de nêutrons que são dispersados de volta. A\\nquantidade de nêutrons dispersados é proporcional à quantidade de\\nágua no solo.\\n\\uf0b7 Vantagens:\\no Muito preciso e eficaz para medir a umidade do solo em\\ndiferentes profundidades.\\no Capaz de medir grandes volumes de solo (geralmente de 10 a\\n60 cm de profundidade).\\n\\uf0b7 Desvantagens:\\no Custo elevado e necessidade de equipamentos especializados.\\no Requer cuidados especiais devido ao uso de radiação, embora\\nos riscos sejam mínimos se o equipamento for utilizado\\ncorretamente.\\n5. Sensores de Frequência (Sensor de Impedância de Alta Frequência)\\n\\uf0b7 Como funciona: Sensores de impedância de alta frequência operam\\nmedindo as mudanças na impedância elétrica do solo a uma\\nfrequência muito alta. A água presente no solo altera a impedância\\nde forma mensurável, e o sensor usa essa variação para determinar\\na umidade do solo.\\n\\uf0b7 Vantagens:\\no São sensores de baixa manutenção.\\no Têm alta precisão e resposta rápida.\\n\\uf0b7 Desvantagens:\\no Sensibilidade a variações no tipo de solo (o tipo de solo\\ninfluencia a medição).\\no Requer um calibrador adequado para obter medições precisas.\\n6. Sensores de Micro-ondas', mimetype='text/plain', start_char_idx=0, end_char_idx=1707, metadata_seperator='\\n', text_template='{metadata_str}\\n\\n{content}'),\n",
              " TextNode(id_='2ff17542-35ed-4806-8c27-d3dcfaebd5c7', embedding=None, metadata={'page_label': '8', 'file_name': 'doc_info_agricultura.pdf', 'file_path': '/content/documentos/doc_info_agricultura.pdf', 'file_type': 'application/pdf', 'file_size': 268199, 'creation_date': '2025-03-26', 'last_modified_date': '2025-03-26'}, excluded_embed_metadata_keys=['file_name', 'file_type', 'file_size', 'creation_date', 'last_modified_date', 'last_accessed_date'], excluded_llm_metadata_keys=['file_name', 'file_type', 'file_size', 'creation_date', 'last_modified_date', 'last_accessed_date'], relationships={<NodeRelationship.SOURCE: '1'>: RelatedNodeInfo(node_id='453cf853-5780-431b-9427-6fae0f12f33f', node_type=<ObjectType.DOCUMENT: '4'>, metadata={'page_label': '8', 'file_name': 'doc_info_agricultura.pdf', 'file_path': '/content/documentos/doc_info_agricultura.pdf', 'file_type': 'application/pdf', 'file_size': 268199, 'creation_date': '2025-03-26', 'last_modified_date': '2025-03-26'}, hash='0ec3f7ff8d394dbb496ee8cbde64973fee72a542351d930e7b9204185ac0f472')}, metadata_template='{key}: {value}', metadata_separator='\\n', text='\\uf0b7 Como funciona: Sensores de micro-ondas medem a reflexão de\\nondas eletromagnéticas de micro-ondas quando emitidas no solo. A\\nquantidade de água presente no solo afeta a reflexão dessas ondas.\\nQuanto maior a umidade, maior será a mudança na reflexão das\\nondas.\\n\\uf0b7 Vantagens:\\no Podem ser usados para medições em tempo real e\\ncontinuamente.\\no Não requerem contato direto com o solo.\\n\\uf0b7 Desvantagens:\\no Custo elevado.\\no Sensibilidade a variações de tipo de solo e salinidade.\\n7. Sensores de Reflectometria no Domínio do Tempo (TDR)\\n\\uf0b7 Como funciona: Sensores TDR emitem pulsos elétricos de alta\\nfrequência e medem o tempo que esses pulsos levam para percorrer\\numa certa distância no solo. O tempo de resposta varia com a\\nquantidade de água no solo, já que a água influencia a velocidade do\\npulso. A partir dessa medida, é possível determinar a umidade do\\nsolo.\\n\\uf0b7 Vantagens:\\no Altamente preciso e confiável.\\no Pode ser usado em uma ampla gama de condições de solo.\\n\\uf0b7 Desvantagens:\\no Custo elevado e necessidade de equipamentos de calibração\\nprecisos.\\no Requer instalação cuidadosa e manutenção.\\nP: Como é possível ajustar o pH do solo para atender às necessidades das\\ndiferentes culturas?\\nR: Ajustar o pH do solo é uma prática importante para garantir que as\\nplantas possam absorver adequadamente os nutrientes necessários para\\nseu crescimento. O pH do solo influencia a disponibilidade de nutrientes, e\\ncada cultura tem uma faixa ideal de pH para um desenvolvimento saudável.\\nAqui estão as formas de ajustar o pH do solo de acordo com as\\nnecessidades das culturas:\\n1. Como Verificar o pH do Solo\\nAntes de ajustar o pH do solo, é essencial fazer uma análise do solo para\\ndeterminar seu pH atual. Isso pode ser feito com:\\n\\uf0b7 Kits de teste de pH: São simples e acessíveis, mas oferecem uma\\nprecisão limitada.', mimetype='text/plain', start_char_idx=0, end_char_idx=1798, metadata_seperator='\\n', text_template='{metadata_str}\\n\\n{content}'),\n",
              " TextNode(id_='3aa8c75e-193c-4c97-87f5-4b824040f2d8', embedding=None, metadata={'page_label': '9', 'file_name': 'doc_info_agricultura.pdf', 'file_path': '/content/documentos/doc_info_agricultura.pdf', 'file_type': 'application/pdf', 'file_size': 268199, 'creation_date': '2025-03-26', 'last_modified_date': '2025-03-26'}, excluded_embed_metadata_keys=['file_name', 'file_type', 'file_size', 'creation_date', 'last_modified_date', 'last_accessed_date'], excluded_llm_metadata_keys=['file_name', 'file_type', 'file_size', 'creation_date', 'last_modified_date', 'last_accessed_date'], relationships={<NodeRelationship.SOURCE: '1'>: RelatedNodeInfo(node_id='badac7e4-ca8b-4e50-996d-2c2c464456d5', node_type=<ObjectType.DOCUMENT: '4'>, metadata={'page_label': '9', 'file_name': 'doc_info_agricultura.pdf', 'file_path': '/content/documentos/doc_info_agricultura.pdf', 'file_type': 'application/pdf', 'file_size': 268199, 'creation_date': '2025-03-26', 'last_modified_date': '2025-03-26'}, hash='920a4edbde1fd1963b13bdb817a155175105584d01580ce66381da7bc69aad96')}, metadata_template='{key}: {value}', metadata_separator='\\n', text='\\uf0b7 Laboratórios especializados: Para obter resultados mais precisos e\\ninformações detalhadas, enviar uma amostra de solo para um\\nlaboratório de análise é o mais confiável.\\n2. Ajustando o pH para Solos Ácidos (pH abaixo de 6)\\nEm solos ácidos, a acidez excessiva pode dificultar a absorção de\\nnutrientes, como cálcio, magnésio e fósforo. Se a cultura que você deseja\\nplantar prefere um solo mais neutro ou levemente alcalino, você pode\\nprecisar aumentar o pH.\\nComo aumentar o pH (tornar o solo mais alcalino):\\n\\uf0b7 Aplicação de calcário: O calcário é o método mais comum para\\naumentar o pH do solo. Ele contém carbonato de cálcio, que\\nneutraliza a acidez do solo. Existem diferentes tipos de calcário:\\no Calcário dolomítico: Contém cálcio e magnésio, útil para solos\\nque também carecem de magnésio.\\no Calcário calcítico: Contém apenas cálcio, adequado para solos\\ncom deficiência de cálcio.\\no Calcário agrícola: É o mais utilizado e pode ser encontrado em\\nformas finas ou em grânulos.\\n\\uf0b7 Outros materiais alcalinizantes:\\no Cinzas de madeira: Embora sejam mais lentas para agir, as\\ncinzas de madeira podem aumentar o pH do solo, fornecendo\\ntambém potássio.\\no Carbonato de sódio (soda cáustica) ou carbonato de potássio:\\nSão opções mais rápidas, mas devem ser usadas com cuidado,\\npois podem alterar drasticamente o pH e outros parâmetros do\\nsolo.\\nComo aplicar:\\n\\uf0b7 Quantidade: A quantidade de calcário necessária depende do pH\\natual do solo e do tipo de solo (arenoso, argiloso, etc.). Em geral, a\\naplicação de 1 tonelada de calcário por hectare pode aumentar o pH\\nde 0,5 a 1 unidade.\\n\\uf0b7 Temporização: O calcário deve ser aplicado de 3 a 6 meses antes do\\nplantio, pois leva tempo para reagir no solo.\\n3. Ajustando o pH para Solos Alcalinos (pH acima de 7)\\nSolos com pH alto podem ter dificuldade em fornecer nutrientes essenciais,\\ncomo ferro, fósforo, manganês e cobre. Se o pH do solo for muito alcalino\\npara a cultura que você deseja plantar, será necessário reduzir o pH.\\nComo reduzir o pH (tornar o solo mais ácido):\\n\\uf0b7\\nEnxofre: O enxofre é o principal ingrediente utilizado para diminuir o\\npH do solo. Ele é convertido em ácido sulfúrico por\\nmicroorganismos no solo, o que ajuda a aumentar a acidez.', mimetype='text/plain', start_char_idx=0, end_char_idx=2190, metadata_seperator='\\n', text_template='{metadata_str}\\n\\n{content}'),\n",
              " TextNode(id_='d01d8776-011c-4990-9593-dc14219d0dd3', embedding=None, metadata={'page_label': '10', 'file_name': 'doc_info_agricultura.pdf', 'file_path': '/content/documentos/doc_info_agricultura.pdf', 'file_type': 'application/pdf', 'file_size': 268199, 'creation_date': '2025-03-26', 'last_modified_date': '2025-03-26'}, excluded_embed_metadata_keys=['file_name', 'file_type', 'file_size', 'creation_date', 'last_modified_date', 'last_accessed_date'], excluded_llm_metadata_keys=['file_name', 'file_type', 'file_size', 'creation_date', 'last_modified_date', 'last_accessed_date'], relationships={<NodeRelationship.SOURCE: '1'>: RelatedNodeInfo(node_id='c5185f53-162b-42f6-aee3-7c5685ce13cf', node_type=<ObjectType.DOCUMENT: '4'>, metadata={'page_label': '10', 'file_name': 'doc_info_agricultura.pdf', 'file_path': '/content/documentos/doc_info_agricultura.pdf', 'file_type': 'application/pdf', 'file_size': 268199, 'creation_date': '2025-03-26', 'last_modified_date': '2025-03-26'}, hash='98b4d2d0bf4218705021c00ec6ff68fbfb1c3565ad5ed93b40b8266dede6af0d')}, metadata_template='{key}: {value}', metadata_separator='\\n', text='\\uf0b7\\no Enxofre elementar: A forma mais comum, que deve ser\\naplicada com antecedência, pois leva de 2 a 3 meses para\\ncomeçar a agir.\\no Enxofre solúvel: A forma mais rápida de ação, mas pode ser\\nmais cara.\\n\\uf0b7\\nFosfato de alumínio: O fosfato de alumínio também pode ser usado\\npara reduzir o pH do solo. No entanto, é mais usado em solos de\\nregiões tropicais e não é tão comum em outras áreas.\\n\\uf0b7\\n\\uf0b7\\nMatéria orgânica: A aplicação de composto orgânico (como esterco\\nou compostagem) pode ajudar a acidificar o solo ao longo do tempo,\\nembora o efeito seja mais gradual.\\n\\uf0b7\\n\\uf0b7\\nÁcidos orgânicos: Como o ácido cítrico, que pode ser adicionado\\npara reduzir a acidez rapidamente, mas essa não é uma prática\\ncomum em grande escala, sendo mais usada em jardins ou em áreas\\nmenores.\\n\\uf0b7\\nComo aplicar:\\n\\uf0b7 Quantidade: A quantidade de enxofre necessária depende do pH\\ninicial do solo, da textura e da quantidade de matéria orgânica\\npresente. Para diminuir o pH de 1 unidade, é comum aplicar entre\\n100 e 200 kg de enxofre por hectare.\\n\\uf0b7 Temporização: Aplique o enxofre com 2 a 3 meses de antecedência,\\npois leva algum tempo para reagir.\\n4. Considerações sobre o pH Ideal para as Culturas\\nCada cultura tem uma faixa ideal de pH para o crescimento ideal. Aqui\\nestão alguns exemplos de pH ideal para diferentes tipos de plantas:\\n\\uf0b7 Solos ácidos (pH 4,5 a 6): Adequados para culturas como arroz, café,\\nbatata, feijão, cana-de-açúcar.\\n\\uf0b7 Solos neutros (pH 6 a 7): Melhor para a maioria das culturas, como\\nmilho, soja, tomate, pepino, trigo, hortaliças.\\n\\uf0b7 Solos alcalinos (pH 7 a 8): Algumas culturas toleram solos alcalinos,\\ncomo almôndega, beterraba e cabeludo.\\n5. Fatores a Considerar ao Ajustar o pH', mimetype='text/plain', start_char_idx=0, end_char_idx=1664, metadata_seperator='\\n', text_template='{metadata_str}\\n\\n{content}'),\n",
              " TextNode(id_='00897e96-62df-4f35-b4da-efeeaa2de357', embedding=None, metadata={'page_label': '11', 'file_name': 'doc_info_agricultura.pdf', 'file_path': '/content/documentos/doc_info_agricultura.pdf', 'file_type': 'application/pdf', 'file_size': 268199, 'creation_date': '2025-03-26', 'last_modified_date': '2025-03-26'}, excluded_embed_metadata_keys=['file_name', 'file_type', 'file_size', 'creation_date', 'last_modified_date', 'last_accessed_date'], excluded_llm_metadata_keys=['file_name', 'file_type', 'file_size', 'creation_date', 'last_modified_date', 'last_accessed_date'], relationships={<NodeRelationship.SOURCE: '1'>: RelatedNodeInfo(node_id='ad6fd839-30f0-46e2-8b3d-6671e78e656f', node_type=<ObjectType.DOCUMENT: '4'>, metadata={'page_label': '11', 'file_name': 'doc_info_agricultura.pdf', 'file_path': '/content/documentos/doc_info_agricultura.pdf', 'file_type': 'application/pdf', 'file_size': 268199, 'creation_date': '2025-03-26', 'last_modified_date': '2025-03-26'}, hash='9b8f5833271afdb74f554392f1709533505fe72fb7ef1a92082172ac7a390ce0')}, metadata_template='{key}: {value}', metadata_separator='\\n', text='\\uf0b7 Tempo de reação: Mudanças no pH do solo podem levar de alguns\\nmeses a até um ano para se estabilizarem totalmente, dependendo\\ndos materiais usados e das condições do solo.\\n\\uf0b7 Profundidade de aplicação: A profundidade da aplicação do\\ncorretivo (calcário ou enxofre) deve ser bem planejada, pois os\\najustes precisam alcançar a camada do solo onde as raízes das\\nplantas estão ativas.\\n\\uf0b7 Cultura e pH: Alguns tipos de solo podem precisar de mais ajustes\\npara atender a diferentes necessidades das plantas. Por exemplo,\\nlegumes como feijão podem ser mais tolerantes a pH mais ácido,\\nenquanto outras culturas como brócolis preferem um pH\\nligeiramente alcalino.\\nP: Quais são os principais fertilizantes utilizados e qual a diferença entre\\nfertilizantes orgânicos e químicos?\\nR: Os fertilizantes são substâncias que fornecem nutrientes essenciais às\\nplantas, contribuindo para seu crescimento saudável. Existem fertilizantes\\norgânicos e fertilizantes químicos, e cada um tem suas características e\\nformas de aplicação. Abaixo estão os principais tipos de fertilizantes\\nutilizados e as diferenças entre fertilizantes orgânicos e químicos.\\nPrincipais Fertilizantes Utilizados\\n1. Fertilizantes Nitrogenados\\nEstes fertilizantes fornecem nitrogênio (N), um dos nutrientes mais\\nimportantes para as plantas, essencial para o crescimento vegetativo e a\\nprodução de folhas.\\n\\uf0b7 Exemplos:\\no Ureia (N 46-0-0): Um dos fertilizantes nitrogenados mais\\ncomuns. É altamente concentrado em nitrogênio.\\no Nitrato de amônio (N 34-0-0): Uma fonte rápida de nitrogênio.\\no Sulfato de amônio (N 21-0-0): Fornece nitrogênio e enxofre,\\nsendo útil para solos com baixa quantidade de enxofre.\\n2. Fertilizantes Fosfatados\\nOs fertilizantes fosfatados fornecem fósforo (P), que é essencial para o\\ndesenvolvimento das raízes, flores e frutos.\\n\\uf0b7 Exemplos:\\no Superfosfato simples (P 18-20-0): Fornece fósforo e cálcio,\\nideal para o desenvolvimento inicial das plantas.\\no Superfosfato triplo (P 46-0-0): Uma fonte mais concentrada de\\nfósforo.\\no Fosfato de rocha: Fonte natural de fósforo, frequentemente\\nutilizada em solos ácidos.\\n3. Fertilizantes Potássicos', mimetype='text/plain', start_char_idx=0, end_char_idx=2114, metadata_seperator='\\n', text_template='{metadata_str}\\n\\n{content}'),\n",
              " TextNode(id_='566b1b4e-c7b9-4aa1-ad43-b2edab085e37', embedding=None, metadata={'page_label': '12', 'file_name': 'doc_info_agricultura.pdf', 'file_path': '/content/documentos/doc_info_agricultura.pdf', 'file_type': 'application/pdf', 'file_size': 268199, 'creation_date': '2025-03-26', 'last_modified_date': '2025-03-26'}, excluded_embed_metadata_keys=['file_name', 'file_type', 'file_size', 'creation_date', 'last_modified_date', 'last_accessed_date'], excluded_llm_metadata_keys=['file_name', 'file_type', 'file_size', 'creation_date', 'last_modified_date', 'last_accessed_date'], relationships={<NodeRelationship.SOURCE: '1'>: RelatedNodeInfo(node_id='e604a8a4-f21f-4934-bf53-076673d45cad', node_type=<ObjectType.DOCUMENT: '4'>, metadata={'page_label': '12', 'file_name': 'doc_info_agricultura.pdf', 'file_path': '/content/documentos/doc_info_agricultura.pdf', 'file_type': 'application/pdf', 'file_size': 268199, 'creation_date': '2025-03-26', 'last_modified_date': '2025-03-26'}, hash='eeac3d12c6d03162066a9e78609a467bf3724c3e140ce3b2e235d339206563a8')}, metadata_template='{key}: {value}', metadata_separator='\\n', text='Esses fertilizantes fornecem potássio (K), que ajuda as plantas a resistirem\\na doenças, a estresse hídrico e a melhorar a qualidade dos frutos.\\n\\uf0b7 Exemplos:\\no Cloreto de potássio (K 60-0-0): A forma mais comum de\\nfertilizante potássico.\\no Sulfato de potássio (K 50-0-0): Fornece potássio e enxofre,\\nsendo adequado para culturas que são sensíveis ao cloro.\\n4. Fertilizantes Completos ou NPK\\nEsses fertilizantes contêm os três nutrientes principais: nitrogênio (N),\\nfósforo (P) e potássio (K), e são usados para fornecer uma nutrição\\nequilibrada para as plantas.\\n\\uf0b7 Exemplos:\\no NPK 10-10-10: Um fertilizante balanceado que fornece\\nnitrogênio, fósforo e potássio em proporções iguais.\\no NPK 20-5-10: Um fertilizante mais rico em nitrogênio, ideal\\npara plantas que necessitam de mais crescimento vegetativo.\\n5. Fertilizantes Micronutrientes\\nEsses fertilizantes fornecem micronutrientes, como ferro, manganês, zinco,\\ncobre, molibdênio e boro, que são necessários em quantidades pequenas,\\nmas essenciais para o crescimento das plantas.\\n\\uf0b7 Exemplos:\\no Sulfato de ferro: Usado para corrigir deficiências de ferro,\\nespecialmente em solos alcalinos.\\no Zinco: Usado para corrigir deficiências de zinco em solos\\nácidos ou com baixa disponibilidade desse nutriente.\\nDiferença Entre Fertilizantes Orgânicos e Químicos\\n1. Fertilizantes Orgânicos\\nOs fertilizantes orgânicos são derivados de fontes naturais, como restos\\nde plantas, esterco de animais e resíduos vegetais. Eles fornecem\\nnutrientes ao solo de maneira gradual, melhorando a estrutura do solo e\\naumentando a atividade microbiana.\\n\\uf0b7\\nExemplos:\\n\\uf0b7\\no Composto orgânico: Feito de restos de plantas e resíduos de\\nalimentos compostados.\\no Esterco animal: Excrementos de animais como vacas,\\ngalinhas e ovelhas.\\no Farinha de osso: Fonte de fósforo e cálcio.', mimetype='text/plain', start_char_idx=0, end_char_idx=1791, metadata_seperator='\\n', text_template='{metadata_str}\\n\\n{content}'),\n",
              " TextNode(id_='46e64c58-27f6-4d79-9977-e315ce19c84c', embedding=None, metadata={'page_label': '13', 'file_name': 'doc_info_agricultura.pdf', 'file_path': '/content/documentos/doc_info_agricultura.pdf', 'file_type': 'application/pdf', 'file_size': 268199, 'creation_date': '2025-03-26', 'last_modified_date': '2025-03-26'}, excluded_embed_metadata_keys=['file_name', 'file_type', 'file_size', 'creation_date', 'last_modified_date', 'last_accessed_date'], excluded_llm_metadata_keys=['file_name', 'file_type', 'file_size', 'creation_date', 'last_modified_date', 'last_accessed_date'], relationships={<NodeRelationship.SOURCE: '1'>: RelatedNodeInfo(node_id='425855ce-9557-4e35-aec2-bb88e607ed08', node_type=<ObjectType.DOCUMENT: '4'>, metadata={'page_label': '13', 'file_name': 'doc_info_agricultura.pdf', 'file_path': '/content/documentos/doc_info_agricultura.pdf', 'file_type': 'application/pdf', 'file_size': 268199, 'creation_date': '2025-03-26', 'last_modified_date': '2025-03-26'}, hash='d65d8729ddfe1e128577a519517d679f8881509b11800ab2aafc8bd0e1957499')}, metadata_template='{key}: {value}', metadata_separator='\\n', text='o Húmus de minhoca: Produzido pela decomposição de matéria\\norgânica por minhocas.\\n\\uf0b7\\nVantagens:\\n\\uf0b7\\no Melhora a estrutura do solo, aumentando a capacidade de\\nretenção de água e a aeração.\\no Liberação gradual de nutrientes, o que evita o risco de\\nsuperalimentação das plantas.\\no Aumenta a biodiversidade e a atividade microbiológica do solo,\\npromovendo um solo saudável a longo prazo.\\n\\uf0b7\\nDesvantagens:\\n\\uf0b7\\no Liberação lenta dos nutrientes, o que pode não ser ideal para\\nplantas com necessidades rápidas de nutrientes.\\no Volume maior necessário em comparação com os fertilizantes\\nquímicos.\\no Pode ser mais caro e difícil de manusear (por exemplo, esterco\\nanimal pode ser volumoso e ter um odor forte).\\n2. Fertilizantes Químicos\\nOs fertilizantes químicos são fabricados industrialmente e contêm\\nnutrientes concentrados que estão prontamente disponíveis para as\\nplantas. Eles são formulados para fornecer quantidades específicas de\\nnutrientes, como nitrogênio, fósforo e potássio.\\n\\uf0b7\\nExemplos:\\n\\uf0b7\\no Ureia (N 46-0-0): Fonte concentrada de nitrogênio.\\no Superfosfato triplo (P 46-0-0): Fonte concentrada de fósforo.\\no Cloreto de potássio (K 60-0-0): Fonte concentrada de potássio.\\n\\uf0b7\\nVantagens:\\n\\uf0b7\\no Resposta rápida das plantas, uma vez que os nutrientes estão\\nem forma facilmente assimilável.', mimetype='text/plain', start_char_idx=0, end_char_idx=1277, metadata_seperator='\\n', text_template='{metadata_str}\\n\\n{content}'),\n",
              " TextNode(id_='eed74ca0-6f22-48da-ba5e-b25148e58ab2', embedding=None, metadata={'page_label': '14', 'file_name': 'doc_info_agricultura.pdf', 'file_path': '/content/documentos/doc_info_agricultura.pdf', 'file_type': 'application/pdf', 'file_size': 268199, 'creation_date': '2025-03-26', 'last_modified_date': '2025-03-26'}, excluded_embed_metadata_keys=['file_name', 'file_type', 'file_size', 'creation_date', 'last_modified_date', 'last_accessed_date'], excluded_llm_metadata_keys=['file_name', 'file_type', 'file_size', 'creation_date', 'last_modified_date', 'last_accessed_date'], relationships={<NodeRelationship.SOURCE: '1'>: RelatedNodeInfo(node_id='31fd0ebf-47c7-4f67-ad15-93130c162448', node_type=<ObjectType.DOCUMENT: '4'>, metadata={'page_label': '14', 'file_name': 'doc_info_agricultura.pdf', 'file_path': '/content/documentos/doc_info_agricultura.pdf', 'file_type': 'application/pdf', 'file_size': 268199, 'creation_date': '2025-03-26', 'last_modified_date': '2025-03-26'}, hash='52c75210b64892bb5d28020706f10a2db591c3cd9cfa3848c02ac381027b908f')}, metadata_template='{key}: {value}', metadata_separator='\\n', text=\"o Aplicação mais precisa: Pode ser facilmente ajustado para as\\nnecessidades específicas de cada planta.\\no Fácil armazenamento e manuseio.\\n\\uf0b7\\nDesvantagens:\\n\\uf0b7\\no Esgotamento do solo a longo prazo, pois não contribui para a\\nestrutura do solo e a biodiversidade.\\no Pode causar acúmulo de sal no solo, prejudicando a\\ncapacidade das plantas de absorver água.\\no Se usado em excesso, pode resultar em poluição ambiental,\\ncomo contaminação de águas subterrâneas e eutrofização de\\ncorpos d'água.\\nP: Qual é o processo recomendado para a correção e preparo do solo\\nantes do plantio?\\nR: O processo de correção e preparo do solo antes do plantio é\\nfundamental para garantir que as plantas cresçam de maneira saudável e\\nprodutiva. Esse processo envolve várias etapas que visam melhorar as\\ncondições físicas, químicas e biológicas do solo, tornando-o mais\\nadequado para o cultivo. Aqui está um guia passo a passo para o preparo e\\ncorreção do solo antes do plantio:\\n1. Análise do Solo\\nAntes de iniciar qualquer trabalho de correção, é essencial analisar o solo\\npara entender suas características. A análise do solo fornece informações\\nsobre:\\n\\uf0b7 pH (acidez ou alcalinidade),\\n\\uf0b7 nutrientes disponíveis (nitrogênio, fósforo, potássio, cálcio,\\nmagnésio, enxofre, micronutrientes),\\n\\uf0b7 textura do solo (proporção de areia, silte e argila),\\n\\uf0b7 matéria orgânica,\\n\\uf0b7 sólo salino ou salinidade.\\nEssa análise pode ser feita por meio de kits de teste disponíveis no\\nmercado ou enviando uma amostra para um laboratório especializado.\\n2. Correção do pH do Solo\\nO pH do solo afeta a disponibilidade de nutrientes para as plantas. Se o pH\\ndo solo estiver fora da faixa ideal para as culturas que você deseja plantar,\\né necessário corrigi-lo.\\n\\uf0b7 Para solos ácidos (pH baixo, <6): Use calcário (calcário dolomítico\\nou calcítico) para aumentar o pH e tornar o solo mais alcalino.\", mimetype='text/plain', start_char_idx=0, end_char_idx=1835, metadata_seperator='\\n', text_template='{metadata_str}\\n\\n{content}'),\n",
              " TextNode(id_='0c5ae14f-8409-4fad-9d11-6a123707c382', embedding=None, metadata={'page_label': '15', 'file_name': 'doc_info_agricultura.pdf', 'file_path': '/content/documentos/doc_info_agricultura.pdf', 'file_type': 'application/pdf', 'file_size': 268199, 'creation_date': '2025-03-26', 'last_modified_date': '2025-03-26'}, excluded_embed_metadata_keys=['file_name', 'file_type', 'file_size', 'creation_date', 'last_modified_date', 'last_accessed_date'], excluded_llm_metadata_keys=['file_name', 'file_type', 'file_size', 'creation_date', 'last_modified_date', 'last_accessed_date'], relationships={<NodeRelationship.SOURCE: '1'>: RelatedNodeInfo(node_id='9de60622-d794-4b7a-8632-9ea4425be263', node_type=<ObjectType.DOCUMENT: '4'>, metadata={'page_label': '15', 'file_name': 'doc_info_agricultura.pdf', 'file_path': '/content/documentos/doc_info_agricultura.pdf', 'file_type': 'application/pdf', 'file_size': 268199, 'creation_date': '2025-03-26', 'last_modified_date': '2025-03-26'}, hash='dbcda68cff65fd2abb64192d081dcaf97e69b88d59a463280120c0fb7ee920d9')}, metadata_template='{key}: {value}', metadata_separator='\\n', text='\\uf0b7 Para solos alcalinos (pH alto, >7): Aplique enxofre para reduzir o pH\\ne aumentar a acidez do solo.\\n3. Adubação de Correção\\nCom base nos resultados da análise do solo, é possível determinar as\\nnecessidades de nutrientes do solo. A adubação de correção visa repor os\\nnutrientes que estão deficientes e, dependendo do resultado da análise,\\npode ser necessário aplicar:\\n\\uf0b7 Fertilizantes nitrogenados (ureia, nitrato de amônio) se houver\\ndeficiência de nitrogênio.\\n\\uf0b7 Fertilizantes fosfatados (superfosfato simples ou triplo) para corrigir\\na falta de fósforo.\\n\\uf0b7 Fertilizantes potássicos (cloreto de potássio, sulfato de potássio) se\\nhouver deficiência de potássio.\\n\\uf0b7 Micronutrientes, como zinco, ferro, boro ou manganês, se a análise\\ndo solo indicar deficiências desses elementos.\\nA aplicação desses fertilizantes deve ser feita de acordo com as\\nrecomendações da análise do solo e seguindo as orientações de dosagem\\npara evitar excessos ou carência de nutrientes.\\n4. Melhoria da Estrutura do Solo\\nO solo precisa ter boa estrutura física para permitir que as raízes se\\ndesenvolvam adequadamente. Isso envolve melhorar a textura do solo, o\\nque pode ser feito através das seguintes práticas:\\n\\uf0b7 Adição de matéria orgânica: Incorporar composto orgânico, esterco\\nde animais bem decomposto ou húmus de minhoca melhora a\\ncapacidade de retenção de água, a aeração do solo e a\\ndisponibilidade de nutrientes. Além disso, a matéria orgânica\\naumenta a biodiversidade do solo, estimulando a atividade\\nmicrobiana.\\n\\uf0b7 Corrigir a compactação: Se o solo estiver compactado\\n(principalmente em solos argilosos), o uso de aração ou gradagem\\najuda a soltar o solo e permitir que as raízes se expandam livremente.\\n\\uf0b7 Drenagem: Se o solo for excessivamente argiloso e não drenar bem\\na água, pode ser necessário melhorar a drenagem para evitar o\\nencharcamento. A drenagem pode ser feita com o uso de areia ou a\\nconstrução de canais de drenagem.\\n5. Correção da Salinidade\\nEm áreas com solo salino, a salinidade excessiva pode prejudicar o\\ncrescimento das plantas. Nesse caso, é essencial:\\n\\uf0b7 Levantamento de salinidade: Realizar uma análise do solo para\\navaliar o nível de sal.\\n\\uf0b7 Lavagem do solo: Se necessário, irrigar abundantemente para\\n\"lavar\" os sais do solo, ou melhorar a drenagem para evitar o\\nacúmulo de sais na camada superficial.\\n6. Controle de Pragas e Doenças do Solo', mimetype='text/plain', start_char_idx=0, end_char_idx=2346, metadata_seperator='\\n', text_template='{metadata_str}\\n\\n{content}'),\n",
              " TextNode(id_='091ffd67-bbd6-49bc-9b40-8d39ebc28991', embedding=None, metadata={'page_label': '16', 'file_name': 'doc_info_agricultura.pdf', 'file_path': '/content/documentos/doc_info_agricultura.pdf', 'file_type': 'application/pdf', 'file_size': 268199, 'creation_date': '2025-03-26', 'last_modified_date': '2025-03-26'}, excluded_embed_metadata_keys=['file_name', 'file_type', 'file_size', 'creation_date', 'last_modified_date', 'last_accessed_date'], excluded_llm_metadata_keys=['file_name', 'file_type', 'file_size', 'creation_date', 'last_modified_date', 'last_accessed_date'], relationships={<NodeRelationship.SOURCE: '1'>: RelatedNodeInfo(node_id='5ed1f8b2-c0ca-4a79-87e4-abff40489921', node_type=<ObjectType.DOCUMENT: '4'>, metadata={'page_label': '16', 'file_name': 'doc_info_agricultura.pdf', 'file_path': '/content/documentos/doc_info_agricultura.pdf', 'file_type': 'application/pdf', 'file_size': 268199, 'creation_date': '2025-03-26', 'last_modified_date': '2025-03-26'}, hash='f17c9d9483c1e2c13c8a5fb8cce52154a4152f94b41a22c3ff4eb34d0737f8d0')}, metadata_template='{key}: {value}', metadata_separator='\\n', text='Antes de plantar, é importante verificar se o solo está livre de pragas e\\ndoenças que possam prejudicar as culturas. Isso pode envolver:\\n\\uf0b7 Rotação de culturas: Alterar o tipo de planta cultivada a cada ciclo\\npara evitar o acúmulo de pragas e doenças específicas.\\n\\uf0b7 Uso de fungicidas ou nematicidas: Se houver uma infestação\\nsignificativa de patógenos ou vermes (nematoides), pode ser\\nnecessário o uso de produtos específicos para controlá-los.\\n7. Preparo da Cama de Semeadura\\nApós corrigir o pH, adicionar os fertilizantes e melhorar a estrutura do solo,\\no próximo passo é o preparo da cama de semeadura, que pode incluir:\\n\\uf0b7 Arações e gradagens: Essas práticas ajudam a soltar o solo e criar\\numa superfície lisa e uniforme para o plantio. A aragem é feita a uma\\nprofundidade maior (de 15 a 25 cm), enquanto a gradagem é mais\\nsuperficial.\\n\\uf0b7 Nivelamento do solo: Após a preparação, é importante nivelar o solo\\npara garantir que a água de irrigação seja distribuída de maneira\\nuniforme.\\n8. Irrigação\\nEm alguns casos, antes de iniciar o plantio, é importante garantir que o\\nsolo tenha a umidade adequada. O solo não deve estar nem muito seco,\\nnem excessivamente encharcado. A irrigação pode ser usada para ajustar\\na umidade do solo, garantindo que ele esteja na condição ideal para a\\ngerminação das sementes.\\n9. Plantio\\nCom o solo preparado, é hora de plantar. As sementes devem ser\\ncolocadas a uma profundidade adequada de acordo com o tipo de planta.\\nAlém disso, é importante observar o espaçamento correto entre as plantas\\npara que elas tenham espaço suficiente para se desenvolver.\\nP: Como garantir a fertilidade do solo para diferentes tipos de culturas?\\nR: Garantir a fertilidade do solo para diferentes tipos de culturas envolve\\npráticas que atendem às necessidades nutricionais específicas de cada\\nplanta, ao mesmo tempo em que mantêm a saúde e a sustentabilidade do\\nsolo a longo prazo. A fertilidade do solo é um equilíbrio entre os nutrientes\\nessenciais (nitrogênio, fósforo, potássio, micronutrientes), a estrutura\\nfísica (capacidade de retenção de água, aeração) e a atividade biológica\\n(microrganismos e matéria orgânica).\\nAqui estão algumas práticas-chave para garantir a fertilidade do solo para\\ndiferentes tipos de culturas:\\n1. Análise do Solo', mimetype='text/plain', start_char_idx=0, end_char_idx=2255, metadata_seperator='\\n', text_template='{metadata_str}\\n\\n{content}'),\n",
              " TextNode(id_='db600b82-e164-4ca3-8d31-06b000745423', embedding=None, metadata={'page_label': '17', 'file_name': 'doc_info_agricultura.pdf', 'file_path': '/content/documentos/doc_info_agricultura.pdf', 'file_type': 'application/pdf', 'file_size': 268199, 'creation_date': '2025-03-26', 'last_modified_date': '2025-03-26'}, excluded_embed_metadata_keys=['file_name', 'file_type', 'file_size', 'creation_date', 'last_modified_date', 'last_accessed_date'], excluded_llm_metadata_keys=['file_name', 'file_type', 'file_size', 'creation_date', 'last_modified_date', 'last_accessed_date'], relationships={<NodeRelationship.SOURCE: '1'>: RelatedNodeInfo(node_id='b2e34fea-156b-4faf-adc6-05eb3c0abd8f', node_type=<ObjectType.DOCUMENT: '4'>, metadata={'page_label': '17', 'file_name': 'doc_info_agricultura.pdf', 'file_path': '/content/documentos/doc_info_agricultura.pdf', 'file_type': 'application/pdf', 'file_size': 268199, 'creation_date': '2025-03-26', 'last_modified_date': '2025-03-26'}, hash='aabae3497844123dafab28cf9443d2541da162ad189b2f44f06096fef0ad403b')}, metadata_template='{key}: {value}', metadata_separator='\\n', text='Antes de mais nada, é fundamental realizar uma análise de solo para\\nentender as condições específicas do solo. Com base nos resultados, é\\npossível ajustar a adubação e os cuidados para cada tipo de cultura. A\\nanálise revela:\\npH do solo: Importante para saber se o solo é ácido, neutro ou alcalino e,\\nassim, ajustar a correção de pH (como calcário ou enxofre).\\nNíveis de nutrientes: Como nitrogênio (N), fósforo (P), potássio (K) e\\nmicronutrientes (ferro, zinco, manganês, etc.).\\nMatéria orgânica: A quantidade de matéria orgânica indica a capacidade do\\nsolo de reter nutrientes e água.\\nTextura do solo: Identificar a proporção de areia, silte e argila ajuda a\\nentender a drenagem, aeração e capacidade de retenção de água.\\n2. Adubação Balanceada\\nCom base nos resultados da análise, é possível aplicar fertilizantes que\\natendam às necessidades nutricionais das plantas. Cada cultura tem uma\\ndemanda diferente de nutrientes, portanto, a adubação deve ser ajustada\\nconforme o tipo de planta e o estágio de crescimento.\\nFertilizantes Principais:\\nNitrogênio (N): Essencial para o crescimento vegetativo, desenvolvimento\\nde folhas e caules. Ideal para culturas de folhas, como alface, espinafre e\\nalfafa.\\nFósforo (P): Crucial para o desenvolvimento das raízes, flores e frutos.\\nEssencial em culturas como tomate, cenoura e feijão.\\nPotássio (K): Ajuda na resistência a doenças, estresse hídrico e na\\nqualidade dos frutos. Importante para culturas como batata, milho e\\nfrutíferas.\\nMicronutrientes (zinco, ferro, boro, etc.): Essenciais para o crescimento\\ndas plantas, embora em quantidades menores, como em culturas como\\nfeijão, trigo e café.', mimetype='text/plain', start_char_idx=0, end_char_idx=1634, metadata_seperator='\\n', text_template='{metadata_str}\\n\\n{content}'),\n",
              " TextNode(id_='8f04d941-26a9-4114-aeab-207927ba1341', embedding=None, metadata={'page_label': '18', 'file_name': 'doc_info_agricultura.pdf', 'file_path': '/content/documentos/doc_info_agricultura.pdf', 'file_type': 'application/pdf', 'file_size': 268199, 'creation_date': '2025-03-26', 'last_modified_date': '2025-03-26'}, excluded_embed_metadata_keys=['file_name', 'file_type', 'file_size', 'creation_date', 'last_modified_date', 'last_accessed_date'], excluded_llm_metadata_keys=['file_name', 'file_type', 'file_size', 'creation_date', 'last_modified_date', 'last_accessed_date'], relationships={<NodeRelationship.SOURCE: '1'>: RelatedNodeInfo(node_id='3e9f47f6-397a-431c-b617-496f0c66cbb1', node_type=<ObjectType.DOCUMENT: '4'>, metadata={'page_label': '18', 'file_name': 'doc_info_agricultura.pdf', 'file_path': '/content/documentos/doc_info_agricultura.pdf', 'file_type': 'application/pdf', 'file_size': 268199, 'creation_date': '2025-03-26', 'last_modified_date': '2025-03-26'}, hash='dd6b380c76844d29e44697061ba67370171cf8415d4bee9690e0f282b53f8d95')}, metadata_template='{key}: {value}', metadata_separator='\\n', text='Para garantir uma adubação eficaz:\\nFertilizantes químicos: São rápidos e eficazes, mas devem ser aplicados de\\nmaneira controlada para evitar excesso de nutrientes e contaminação\\nambiental.\\nFertilizantes orgânicos: A matéria orgânica, como esterco e composto,\\nlibera nutrientes lentamente e melhora a estrutura do solo.\\n3. Correção do pH do Solo\\nA acidez ou alcalinidade do solo afeta a disponibilidade dos nutrientes. A\\nfaixa ideal de pH para a maioria das culturas está entre 6 e 7, mas algumas\\nplantas, como mirtilo ou azaleia, preferem solos mais ácidos, enquanto\\ncálamo e algumas leguminosas podem tolerar pH mais alcalino.\\nPara solos ácidos (pH baixo): Use calcário para aumentar o pH.\\nPara solos alcalinos (pH alto): Use enxofre para reduzir o pH.\\n4. Rotação de Culturas\\nA rotação de culturas é uma prática que envolve o cultivo de diferentes\\nplantas em sequência, o que ajuda a:\\nEvitar o esgotamento de nutrientes específicos: Por exemplo, leguminosas,\\ncomo feijão e ervilha, fixam nitrogênio no solo, enquanto outras culturas\\npodem utilizar esse nitrogênio.\\nControlar pragas e doenças: Plantas de diferentes famílias atraem\\ndiferentes tipos de pragas, então, alternar culturas ajuda a quebrar ciclos\\nde infestação.\\nMelhorar a estrutura do solo: Certas plantas, como as raízes profundas de\\nnabo ou couve, podem ajudar a soltar solos compactados.\\n5. Incorporação de Matéria Orgânica\\nA matéria orgânica (compostos, restos de plantas, esterco de animais) é\\nessencial para melhorar a estrutura do solo, aumentar a capacidade de\\nretenção de água e estimular a atividade biológica do solo.\\nComposto orgânico: Enriquecido com nutrientes essenciais e micro-\\norganismos que ajudam na decomposição e ciclagem de nutrientes.\\nEsterco: Fonte rica em nitrogênio, fósforo e potássio. O esterco deve ser\\nbem decomposto para evitar a liberação excessiva de amônia.\\nHúmus de minhoca: Excelente para melhorar a estrutura do solo e a\\nbiodiversidade.\\n6. Controle de Erosão e Compactação do Solo', mimetype='text/plain', start_char_idx=0, end_char_idx=1980, metadata_seperator='\\n', text_template='{metadata_str}\\n\\n{content}'),\n",
              " TextNode(id_='132039ac-fc77-4931-ac6f-5707c07125b6', embedding=None, metadata={'page_label': '19', 'file_name': 'doc_info_agricultura.pdf', 'file_path': '/content/documentos/doc_info_agricultura.pdf', 'file_type': 'application/pdf', 'file_size': 268199, 'creation_date': '2025-03-26', 'last_modified_date': '2025-03-26'}, excluded_embed_metadata_keys=['file_name', 'file_type', 'file_size', 'creation_date', 'last_modified_date', 'last_accessed_date'], excluded_llm_metadata_keys=['file_name', 'file_type', 'file_size', 'creation_date', 'last_modified_date', 'last_accessed_date'], relationships={<NodeRelationship.SOURCE: '1'>: RelatedNodeInfo(node_id='64a15f09-b4fe-4b36-9e99-0721a6ca4d91', node_type=<ObjectType.DOCUMENT: '4'>, metadata={'page_label': '19', 'file_name': 'doc_info_agricultura.pdf', 'file_path': '/content/documentos/doc_info_agricultura.pdf', 'file_type': 'application/pdf', 'file_size': 268199, 'creation_date': '2025-03-26', 'last_modified_date': '2025-03-26'}, hash='c3dc82c83d2966df77fde5a5f4a0b5862ac2f277445cdd5007a00c0ee9288418')}, metadata_template='{key}: {value}', metadata_separator='\\n', text='Para manter a fertilidade do solo, é importante evitar a erosão e\\ncompactação, que prejudicam a estrutura e a capacidade de retenção de\\nágua.\\nCobertura do solo (mulching): O uso de palha, folhas secas ou outras\\ncoberturas ajuda a proteger o solo da erosão, mantém a umidade e\\nmelhora a qualidade da estrutura do solo.\\nAragem ou gradagem: Soltar o solo para melhorar a aeração e permitir o\\ncrescimento das raízes.\\nPráticas de conservação: Como o plantio direto e o uso de terraplanagem\\npara evitar o escoamento da água e a perda de nutrientes.\\n7. Irrigação Adequada\\nA irrigação adequada é crucial para garantir que os nutrientes do solo\\nsejam absorvidos pelas plantas. A excesso de água pode lavar os\\nnutrientes e causar salinização, enquanto a falta de água pode limitar a\\nabsorção de nutrientes pelas raízes.\\nIrrigação por gotejamento: Mais eficiente em termos de uso de água e\\nreduz o risco de lixiviação de nutrientes.\\nIrrigação por aspersão: Menos eficiente, mas pode ser adequada\\ndependendo do tipo de solo e das culturas.\\n8. Cobertura do Solo e Plantio Direto\\nA cobertura do solo com mulch (palha, resíduos vegetais, capim seco) ou o\\nuso de plantio direto (sem revolver o solo) ajuda a manter a umidade,\\nreduzir a erosão e aumentar a matéria orgânica, o que contribui para a\\nfertilidade a longo prazo.\\n9. Uso de Microrganismos\\nAdotar inoculantes microbianos, como bactérias fixadoras de nitrogênio\\n(ex.: Rhizobium para leguminosas), ou fungos que ajudam na absorção de\\nnutrientes, pode aumentar a fertilidade biológica do solo, ajudando na\\nciclagem dos nutrientes e no controle de doenças.\\n10. Fertirrigação\\nA fertirrigação é uma técnica que aplica fertilizantes juntamente com a\\nirrigação. Isso permite que os nutrientes sejam absorvidos de forma mais\\neficiente pelas raízes, especialmente em solos com baixa retenção de\\nnutrientes.\\nComo Garantir a Fertilidade para Diferentes Tipos de Culturas\\n1. Para Culturas de Folhas (ex: alface, espinafre):', mimetype='text/plain', start_char_idx=0, end_char_idx=1953, metadata_seperator='\\n', text_template='{metadata_str}\\n\\n{content}'),\n",
              " TextNode(id_='1251dd77-bd8b-46f7-8887-df53608a1c10', embedding=None, metadata={'page_label': '20', 'file_name': 'doc_info_agricultura.pdf', 'file_path': '/content/documentos/doc_info_agricultura.pdf', 'file_type': 'application/pdf', 'file_size': 268199, 'creation_date': '2025-03-26', 'last_modified_date': '2025-03-26'}, excluded_embed_metadata_keys=['file_name', 'file_type', 'file_size', 'creation_date', 'last_modified_date', 'last_accessed_date'], excluded_llm_metadata_keys=['file_name', 'file_type', 'file_size', 'creation_date', 'last_modified_date', 'last_accessed_date'], relationships={<NodeRelationship.SOURCE: '1'>: RelatedNodeInfo(node_id='802d3934-25ed-4777-8d10-bde1cc8815f1', node_type=<ObjectType.DOCUMENT: '4'>, metadata={'page_label': '20', 'file_name': 'doc_info_agricultura.pdf', 'file_path': '/content/documentos/doc_info_agricultura.pdf', 'file_type': 'application/pdf', 'file_size': 268199, 'creation_date': '2025-03-26', 'last_modified_date': '2025-03-26'}, hash='f4c48df07c8c41e114dd14ef6dbff8ea39f93f654c29b19551c5357025eea076')}, metadata_template='{key}: {value}', metadata_separator='\\n', text='Necessitam de alto nitrogênio para o crescimento vegetativo.\\nMatéria orgânica rica e adubação nitrogenada balanceada.\\nRotação de culturas com leguminosas para ajudar a fixar nitrogênio no\\nsolo.\\n2. Para Culturas de Frutos (ex: tomate, pimentão):\\nFósforo e potássio são essenciais para o desenvolvimento das raízes e a\\nformação de frutos.\\nCobertura do solo para manter a umidade e evitar o ressecamento.\\nIrrigação controlada para evitar lixiviação de nutrientes.\\n3. Para Culturas de Raízes (ex: cenoura, beterraba):\\nSolo bem arejado e bem drenado para permitir o crescimento das raízes.\\nUso de fertilizantes fosfatados e potássio.\\nMatéria orgânica para melhorar a textura e a estrutura do solo.\\n4. Para Leguminosas (ex: feijão, soja):\\nBeneficiam-se da fixação biológica de nitrogênio, portanto, não necessitam\\nde muito fertilizante nitrogenado.\\nFósforo e potássio devem ser bem equilibrados.\\nRotação com outras culturas para manter a saúde do solo.\\n5. Para Frutíferas (ex: maçã, laranja):\\nNecessitam de potássio e cálcio para melhorar a qualidade dos frutos e a\\nresistência a doenças.\\nUso de fertilizantes de liberação lenta para uma nutrição constante ao\\nlongo do ano.\\nP: Quais são os principais fatores que devem ser levados em consideração\\nao planejar a irrigação do solo?\\nR: Planejar a irrigação do solo de forma eficaz é essencial para garantir que\\nas plantas recebam a quantidade de água necessária para seu crescimento\\nsaudável, sem desperdício de recursos e sem prejudicar o solo ou as\\nplantas. Vários fatores devem ser levados em consideração para garantir\\nque a irrigação seja eficiente e sustentável. Aqui estão os principais fatores\\na serem considerados ao planejar a irrigação do solo:\\n1. Tipo de Solo', mimetype='text/plain', start_char_idx=0, end_char_idx=1712, metadata_seperator='\\n', text_template='{metadata_str}\\n\\n{content}'),\n",
              " TextNode(id_='9a99f947-9c93-4a38-90fe-3b5627764abf', embedding=None, metadata={'page_label': '21', 'file_name': 'doc_info_agricultura.pdf', 'file_path': '/content/documentos/doc_info_agricultura.pdf', 'file_type': 'application/pdf', 'file_size': 268199, 'creation_date': '2025-03-26', 'last_modified_date': '2025-03-26'}, excluded_embed_metadata_keys=['file_name', 'file_type', 'file_size', 'creation_date', 'last_modified_date', 'last_accessed_date'], excluded_llm_metadata_keys=['file_name', 'file_type', 'file_size', 'creation_date', 'last_modified_date', 'last_accessed_date'], relationships={<NodeRelationship.SOURCE: '1'>: RelatedNodeInfo(node_id='8274c145-b980-44c7-b0db-791b381185e0', node_type=<ObjectType.DOCUMENT: '4'>, metadata={'page_label': '21', 'file_name': 'doc_info_agricultura.pdf', 'file_path': '/content/documentos/doc_info_agricultura.pdf', 'file_type': 'application/pdf', 'file_size': 268199, 'creation_date': '2025-03-26', 'last_modified_date': '2025-03-26'}, hash='ad69a63c1995d4a85161d382d820c369825da634ec2b77e8c0ddc501e7bed522')}, metadata_template='{key}: {value}', metadata_separator='\\n', text='O tipo de solo tem grande influência na retenção e drenagem de água:\\n\\uf0b7 Solos arenosos: Retêm menos água e drenam rapidamente. Exigem\\nirrigação mais frequente, mas em menor quantidade, pois a água\\nescorre rapidamente.\\n\\uf0b7 Solos argilosos: Retêm mais água, mas têm drenagem lenta, o que\\npode causar encharcamento se irrigados em excesso.\\n\\uf0b7 Solos silte e solos franco-argilosos: Têm boa capacidade de\\nretenção de água, sendo mais fáceis de manejar em termos de\\nirrigação, mas ainda assim necessitam de controle para evitar o\\nexcesso de umidade.\\nO planejamento da irrigação deve levar em conta a capacidade de retenção\\nde água de cada tipo de solo para evitar a aplicação excessiva ou\\ninsuficiente.\\n2. Necessidades Hídricas das Culturas\\nCada cultura tem necessidades hídricas específicas ao longo de seu ciclo\\nde crescimento:\\n\\uf0b7 Plantas mais exigentes: Culturas como arroz, milho e tomate\\nrequerem maiores quantidades de água.\\n\\uf0b7 Plantas tolerantes à seca: Culturas como oliveira, cacto e algumas\\nleguminosas são mais resistentes ao estresse hídrico e exigem\\nmenos irrigação.\\nO conhecimento sobre as necessidades hídricas específicas de cada\\ncultura ajuda a ajustar a quantidade e a frequência da irrigação.\\n3. Clima e Condições Meteorológicas\\nO clima tem grande influência na quantidade de água que o solo perde por\\nevaporação e transpiração:\\n\\uf0b7 Temperatura: Em climas mais quentes, a evaporação da água do\\nsolo será maior. Nessas condições, será necessário irrigar com mais\\nfrequência.\\n\\uf0b7 Umidade relativa do ar: Em ambientes úmidos, a evaporação é\\nmenor, reduzindo a necessidade de irrigação.\\n\\uf0b7 Vento: Ventos fortes podem aumentar a evaporação da água,\\ndemandando mais irrigação.\\nConsiderar a previsão do tempo e as condições climáticas locais pode\\najudar a ajustar a irrigação, evitando tanto o desperdício quanto a falta de\\nágua para as plantas.\\n4. Disponibilidade de Água\\nA disponibilidade de água na região é um dos fatores mais críticos no\\nplanejamento da irrigação:\\n\\uf0b7 Se a fonte de água for limitada (como em regiões áridas ou\\nsemiáridas), é fundamental adotar práticas de irrigação eficiente e', mimetype='text/plain', start_char_idx=0, end_char_idx=2093, metadata_seperator='\\n', text_template='{metadata_str}\\n\\n{content}'),\n",
              " TextNode(id_='b4368fe7-8e16-4abc-9106-db7389cfd33f', embedding=None, metadata={'page_label': '22', 'file_name': 'doc_info_agricultura.pdf', 'file_path': '/content/documentos/doc_info_agricultura.pdf', 'file_type': 'application/pdf', 'file_size': 268199, 'creation_date': '2025-03-26', 'last_modified_date': '2025-03-26'}, excluded_embed_metadata_keys=['file_name', 'file_type', 'file_size', 'creation_date', 'last_modified_date', 'last_accessed_date'], excluded_llm_metadata_keys=['file_name', 'file_type', 'file_size', 'creation_date', 'last_modified_date', 'last_accessed_date'], relationships={<NodeRelationship.SOURCE: '1'>: RelatedNodeInfo(node_id='e94b6a82-194e-49de-bfaf-95fca6680295', node_type=<ObjectType.DOCUMENT: '4'>, metadata={'page_label': '22', 'file_name': 'doc_info_agricultura.pdf', 'file_path': '/content/documentos/doc_info_agricultura.pdf', 'file_type': 'application/pdf', 'file_size': 268199, 'creation_date': '2025-03-26', 'last_modified_date': '2025-03-26'}, hash='3a89512156f7116e22dabda14ba256f72a7cb05ef5208940086e47c8d40b15bb')}, metadata_template='{key}: {value}', metadata_separator='\\n', text='usar tecnologias que economizem água, como irrigação por\\ngotejamento ou sistemas de recirculação de água.\\n\\uf0b7 Se a qualidade da água for uma preocupação (por exemplo, água\\nsalina ou contaminada), deve-se optar por sistemas de filtragem ou\\ntecnologias que protejam o solo e as plantas do impacto da água de\\nbaixa qualidade.\\n5. Sistema de Irrigação\\nEscolher o sistema de irrigação adequado depende do tipo de cultura, do\\nsolo e da disponibilidade de água. Alguns sistemas incluem:\\n\\uf0b7 Irrigação por gotejamento: Ideal para economizar água, pois fornece\\nágua diretamente às raízes das plantas, minimizando a evaporação.\\n\\uf0b7 Irrigação por aspersão: Pode ser útil para grandes áreas, mas tende\\na ser menos eficiente em termos de economia de água,\\nespecialmente em condições de vento forte.\\n\\uf0b7 Irrigação por sulcos: Boa para terrenos inclinados, mas menos\\neficiente em termos de uniformidade na distribuição da água.\\nA escolha do sistema de irrigação deve ser baseada nas necessidades\\nespecíficas da cultura e nas características do terreno, visando otimizar o\\nuso da água.\\n6. Profundidade das Raízes\\nAs raízes das plantas absorvem água de diferentes profundidades no solo:\\n\\uf0b7 Plantas com raízes profundas (como árvores frutíferas) podem\\nextrair água de camadas mais profundas e, portanto, exigem\\nirrigação mais profunda, mas menos frequente.\\n\\uf0b7 Plantas com raízes rasas (como alface e espinafre) necessitam de\\nirrigação mais superficial, mas mais frequente, pois suas raízes não\\nalcançam grandes profundidades.\\nÉ importante ajustar a profundidade e a frequência da irrigação com base\\nno tipo de sistema radicular das culturas.\\n7. Evapotranspiração\\nA evapotranspiração é a soma da evaporação da água do solo e da\\ntranspiração pelas plantas. Esse fator é crucial para entender quanto de\\nágua as plantas perdem para a atmosfera, o que determina a quantidade\\nnecessária de irrigação.\\n\\uf0b7 Em períodos de calor intenso ou ventos fortes, a evapotranspiração\\naumenta, o que exige mais irrigação.\\n\\uf0b7 Existem coeficientes de evapotranspiração (Kc) específicos para\\ndiferentes culturas, que podem ser usados para calcular as\\nnecessidades hídricas.\\n8. Tempo de Irrigação e Frequência\\nO tempo e a frequência de irrigação devem ser planejados para garantir\\nque a água seja aplicada no momento certo e na quantidade adequada:', mimetype='text/plain', start_char_idx=0, end_char_idx=2293, metadata_seperator='\\n', text_template='{metadata_str}\\n\\n{content}'),\n",
              " TextNode(id_='d45f572e-de7d-4ebe-9060-332940b8673e', embedding=None, metadata={'page_label': '23', 'file_name': 'doc_info_agricultura.pdf', 'file_path': '/content/documentos/doc_info_agricultura.pdf', 'file_type': 'application/pdf', 'file_size': 268199, 'creation_date': '2025-03-26', 'last_modified_date': '2025-03-26'}, excluded_embed_metadata_keys=['file_name', 'file_type', 'file_size', 'creation_date', 'last_modified_date', 'last_accessed_date'], excluded_llm_metadata_keys=['file_name', 'file_type', 'file_size', 'creation_date', 'last_modified_date', 'last_accessed_date'], relationships={<NodeRelationship.SOURCE: '1'>: RelatedNodeInfo(node_id='ddbc9df5-31a2-4142-a7cb-15d11ea32a46', node_type=<ObjectType.DOCUMENT: '4'>, metadata={'page_label': '23', 'file_name': 'doc_info_agricultura.pdf', 'file_path': '/content/documentos/doc_info_agricultura.pdf', 'file_type': 'application/pdf', 'file_size': 268199, 'creation_date': '2025-03-26', 'last_modified_date': '2025-03-26'}, hash='5171ddcbcb8aab52281911f42c2e1b91250b7618d78976cdb29ca9ebb046dc30')}, metadata_template='{key}: {value}', metadata_separator='\\n', text='\\uf0b7 Irrigação excessiva pode causar encharcamento, perda de nutrientes\\ne compactação do solo.\\n\\uf0b7 Irrigação insuficiente pode causar estresse hídrico nas plantas e\\nprejudicar o crescimento.\\nA aplicação da água deve ser bem distribuída e deve considerar as\\nnecessidades específicas de cada estágio de desenvolvimento das plantas\\n(germinação, crescimento vegetativo, floração, frutificação).\\n9. Tipo de Plantio e Layout do Campo\\nO layout do campo e o tipo de plantio influenciam a distribuição da\\nirrigação:\\n\\uf0b7 Em plantios em linha, a irrigação por gotejamento pode ser mais\\neficaz, pois a água é fornecida diretamente às raízes de cada planta.\\n\\uf0b7 Em cultivos mais densos, como floreiras ou pomares, é importante\\nconsiderar a cobertura uniforme de água, o que pode ser feito com\\nirrigação por aspersão ou sistemas automatizados de irrigação.\\nAlém disso, o drenagem do solo também deve ser considerada para evitar\\no acúmulo de água excessiva em áreas mais baixas do terreno.\\n10. Tecnologia de Irrigação\\nO uso de tecnologias modernas pode otimizar o planejamento e a\\neficiência da irrigação, como:\\n\\uf0b7 Sensores de umidade do solo: Eles medem a umidade do solo em\\ntempo real e ajudam a ajustar a irrigação com base na necessidade\\nda planta.\\n\\uf0b7 Sistemas automatizados de irrigação: Usam sensores, controle\\nremoto e temporizadores para irrigar de maneira mais precisa e\\neficiente, evitando o desperdício de água.\\n\\uf0b7 Irrigação de precisão: Técnicas como o uso de drones para mapear a\\numidade do solo e monitorar as necessidades de irrigação.\\nP: Quais são as melhores práticas para evitar a compactação do solo e a\\nerosão?\\nR:Evitar a compactação do solo e a erosão é fundamental para garantir a\\nsaúde do solo, a produtividade das culturas e a sustentabilidade agrícola.\\nAmbos os problemas podem prejudicar a estrutura do solo, afetando a\\ninfiltração da água, a aeração e a capacidade de retenção de nutrientes.\\nAqui estão as melhores práticas para prevenir e mitigar esses problemas:\\n1. Uso de Técnicas de Manejo do Solo\\na. Rotação de Culturas\\nA rotação de culturas ajuda a evitar o esgotamento de nutrientes\\nespecíficos e promove a melhoria da estrutura do solo. Quando diferentes\\ntipos de plantas são cultivadas em sequência, as raízes variam em\\nprofundidade, o que pode ajudar a soltar o solo e evitar a compactação.', mimetype='text/plain', start_char_idx=0, end_char_idx=2300, metadata_seperator='\\n', text_template='{metadata_str}\\n\\n{content}'),\n",
              " TextNode(id_='b8cbf8e1-0d20-423d-b1b9-1eeabd31f866', embedding=None, metadata={'page_label': '24', 'file_name': 'doc_info_agricultura.pdf', 'file_path': '/content/documentos/doc_info_agricultura.pdf', 'file_type': 'application/pdf', 'file_size': 268199, 'creation_date': '2025-03-26', 'last_modified_date': '2025-03-26'}, excluded_embed_metadata_keys=['file_name', 'file_type', 'file_size', 'creation_date', 'last_modified_date', 'last_accessed_date'], excluded_llm_metadata_keys=['file_name', 'file_type', 'file_size', 'creation_date', 'last_modified_date', 'last_accessed_date'], relationships={<NodeRelationship.SOURCE: '1'>: RelatedNodeInfo(node_id='38fd148d-0065-40e0-ae3e-3233c85aa51d', node_type=<ObjectType.DOCUMENT: '4'>, metadata={'page_label': '24', 'file_name': 'doc_info_agricultura.pdf', 'file_path': '/content/documentos/doc_info_agricultura.pdf', 'file_type': 'application/pdf', 'file_size': 268199, 'creation_date': '2025-03-26', 'last_modified_date': '2025-03-26'}, hash='a07b5c5a1549ddc8e25c905d0e7e75ea052d73c33136391d16b40c0813a7eb17')}, metadata_template='{key}: {value}', metadata_separator='\\n', text='Além disso, algumas plantas, como as leguminosas, podem fixar\\nnitrogênio no solo e melhorar sua qualidade.\\nb. Plantio Direto (sem revolvimento do solo)\\nO plantio direto é uma técnica em que o solo não é arado ou revolvido\\nantes do plantio. Isso reduz a perturbação do solo, preservando a estrutura\\ndo solo e evitando a compactação. O sistema de raízes das plantas\\nanteriores também ajuda a soltar o solo, o que melhora a infiltração da\\nágua e a aeração.\\nc. Uso de Cobertura do Solo\\nA cobertura do solo com mulch (palha, folhas secas, restos de culturas) ou\\nplantas de cobertura ajuda a proteger a superfície do solo, evitando o\\nimpacto direto da água da chuva, que pode causar erosão. Além disso, a\\ncobertura mantém a umidade do solo e favorece a atividade biológica no\\nsolo, melhorando sua estrutura.\\nd. Sistemas Agroflorestais\\nO uso de árvores e arbustos no meio das lavouras, por meio de\\nagrossilvicultura, pode melhorar a qualidade do solo. As raízes das árvores\\najudam a prevenir a erosão e a compactação, além de melhorar a estrutura\\ndo solo ao longo do tempo.\\n2. Controle da Erosão\\na. Construção de Barreiras contra Erosão\\n\\uf0b7 Barragens de terra e muros de contenção podem ser construídos em\\náreas inclinadas para reduzir o fluxo de água e evitar que o solo seja\\narrastado.\\n\\uf0b7 O uso de terraplanagem e contorno de terra (técnica de plantio ao\\nlongo das curvas de nível) ajuda a reduzir o escoamento da água e a\\nprevenir a erosão superficial.\\nb. Revegetação e Plantio de Culturas de Cobertura\\nPlantas de cobertura, como gramíneas e leguminosas, são eficazes para\\nproteger o solo contra a erosão. Essas plantas têm raízes que seguram o\\nsolo e ajudam a reduzir o impacto da chuva. Leguminosas de cobertura\\ntambém ajudam a enriquecer o solo com nitrogênio.\\nc. Uso de Geotêxteis e Outras Estruturas\\nEm áreas mais propensas à erosão, o uso de geotêxteis (fibras sintéticas\\nou naturais) pode ajudar a proteger o solo e reduzir a perda de solo por\\nerosão hídrica. Outras estruturas, como canais de drenagem e escadas de\\nterra, podem ser usadas para controlar o escoamento de água e proteger\\náreas vulneráveis.\\nd. Terraces ou Terraços', mimetype='text/plain', start_char_idx=0, end_char_idx=2129, metadata_seperator='\\n', text_template='{metadata_str}\\n\\n{content}'),\n",
              " TextNode(id_='0152356b-9c3c-489a-b4db-b93990a89635', embedding=None, metadata={'page_label': '25', 'file_name': 'doc_info_agricultura.pdf', 'file_path': '/content/documentos/doc_info_agricultura.pdf', 'file_type': 'application/pdf', 'file_size': 268199, 'creation_date': '2025-03-26', 'last_modified_date': '2025-03-26'}, excluded_embed_metadata_keys=['file_name', 'file_type', 'file_size', 'creation_date', 'last_modified_date', 'last_accessed_date'], excluded_llm_metadata_keys=['file_name', 'file_type', 'file_size', 'creation_date', 'last_modified_date', 'last_accessed_date'], relationships={<NodeRelationship.SOURCE: '1'>: RelatedNodeInfo(node_id='23ff41b7-1838-4736-8d24-202e4b6b7924', node_type=<ObjectType.DOCUMENT: '4'>, metadata={'page_label': '25', 'file_name': 'doc_info_agricultura.pdf', 'file_path': '/content/documentos/doc_info_agricultura.pdf', 'file_type': 'application/pdf', 'file_size': 268199, 'creation_date': '2025-03-26', 'last_modified_date': '2025-03-26'}, hash='f818ae40e89f4754c7a5b83d14af735784237105fded999531be545643362ebd')}, metadata_template='{key}: {value}', metadata_separator='\\n', text='Em terrenos com inclinação acentuada, os terraços ajudam a reduzir a\\nvelocidade do escoamento da água, distribuindo a água de maneira mais\\nuniforme e evitando a erosão. Além disso, os terraços permitem que a água\\nseja absorvida pelo solo, em vez de ser levada para áreas baixas.\\n3. Manutenção da Estrutura do Solo\\na. Evitar o Tráfego Pesado de Máquinas\\nO uso excessivo de maquinário pesado pode compactar o solo,\\nprincipalmente quando ele está úmido. Para evitar a compactação, é\\nimportante:\\n\\uf0b7 Reduzir o número de passagens de máquinas no campo.\\n\\uf0b7 Usar máquinas com pneus largos ou rastros para distribuir o peso e\\nreduzir o impacto.\\n\\uf0b7 Planejar a trilha de maquinário de maneira que evite a compressão\\nexcessiva nas áreas mais sensíveis.\\nb. Uso de Técnicas de Agricultura de Precisão\\nTecnologias como sensores de umidade do solo e drones ajudam a\\nmonitorar as condições do solo em tempo real, permitindo uma irrigação\\nmais eficiente e evitando o excesso de irrigação, que pode contribuir para\\na compactação e a erosão. A agricultura de precisão também permite o\\ncontrole mais rigoroso do tráfego de máquinas e do uso de insumos.\\n4. Técnicas de Manejo da Água\\na. Irrigação Controlada\\nUma irrigação eficiente pode evitar o encharcamento do solo, o que\\ncontribui para a compactação e a erosão. Técnicas como a irrigação por\\ngotejamento e a irrigação por aspersão controlada permitem que a água\\nseja distribuída de maneira uniforme e em menor quantidade, reduzindo o\\nrisco de erosão.\\nb. Coleta e Armazenamento de Água da Chuva\\nSistemas de coleta de água da chuva podem ser usados para irrigação,\\najudando a evitar o escoamento excessivo e a erosão do solo. A água da\\nchuva armazenada pode ser utilizada de forma mais controlada e eficiente,\\nreduzindo os impactos do escoamento.\\n5. Uso Adequado de Fertilizantes e Produtos Químicos\\na. Evitar o Uso Excessivo de Fertilizantes\\nO uso excessivo de fertilizantes químicos pode prejudicar a estrutura do\\nsolo e aumentar o risco de erosão do solo. Fertilizantes orgânicos, como\\ncomposto ou esterco, são melhores para melhorar a estrutura do solo e\\naumentar a sua capacidade de retenção de água.\\nb. Adubação Balanceada', mimetype='text/plain', start_char_idx=0, end_char_idx=2155, metadata_seperator='\\n', text_template='{metadata_str}\\n\\n{content}'),\n",
              " TextNode(id_='dba56d5f-0feb-4b17-a9cb-0efcd23dcd80', embedding=None, metadata={'page_label': '26', 'file_name': 'doc_info_agricultura.pdf', 'file_path': '/content/documentos/doc_info_agricultura.pdf', 'file_type': 'application/pdf', 'file_size': 268199, 'creation_date': '2025-03-26', 'last_modified_date': '2025-03-26'}, excluded_embed_metadata_keys=['file_name', 'file_type', 'file_size', 'creation_date', 'last_modified_date', 'last_accessed_date'], excluded_llm_metadata_keys=['file_name', 'file_type', 'file_size', 'creation_date', 'last_modified_date', 'last_accessed_date'], relationships={<NodeRelationship.SOURCE: '1'>: RelatedNodeInfo(node_id='263c4c70-3c6c-4156-9efa-71d9bcf6b8ad', node_type=<ObjectType.DOCUMENT: '4'>, metadata={'page_label': '26', 'file_name': 'doc_info_agricultura.pdf', 'file_path': '/content/documentos/doc_info_agricultura.pdf', 'file_type': 'application/pdf', 'file_size': 268199, 'creation_date': '2025-03-26', 'last_modified_date': '2025-03-26'}, hash='baf2c83f7be49cd64f38337d9280a9da9c8662407ecc7c782b123987acf14358')}, metadata_template='{key}: {value}', metadata_separator='\\n', text='Uma adubação equilibrada não só melhora a produtividade das plantas,\\nmas também contribui para a manutenção da saúde do solo, prevenindo a\\ndegradação e, consequentemente, a compactação e a erosão.\\n6. Plantio Adequado e Manejo das Culturas\\na. Utilização de Plantas de Cobertura\\nPlantas de cobertura, como feijão-de-corda, trevo e ervilhas, podem ser\\nplantadas entre as culturas principais para evitar a compactação do solo.\\nElas protegem a superfície do solo e ajudam a reduzir a perda de solo por\\nerosão.\\nb. Controle de Erosão com Sistemas Agroecológicos\\nO uso de sistemas agroecológicos, como agricultura integrada ou\\nagroflorestas, pode melhorar a biodiversidade e reduzir a compactação do\\nsolo, mantendo o equilíbrio entre a produção agrícola e a preservação\\nambiental.\\nP: Onde um agricultor pode obter mais informações sobre preparo do solo\\ne escolha de sementes?\\nR: Existem várias fontes de informação onde um agricultor pode obter\\norientações detalhadas sobre o preparo do solo e a escolha de sementes.\\nEssas fontes incluem instituições de pesquisa, associações agrícolas,\\nconsultores especializados, e plataformas online. Aqui estão alguns dos\\nprincipais recursos disponíveis:\\n1. Instituições de Pesquisa e Extensão Rural\\na. EMBRAPA (Empresa Brasileira de Pesquisa Agropecuária)\\nA EMBRAPA é uma das principais instituições de pesquisa agrícola do\\nBrasil. Ela oferece uma vasta gama de publicações científicas, relatórios\\ntécnicos e guias práticos sobre preparo do solo e escolha de sementes\\npara diferentes tipos de culturas. O site da EMBRAPA oferece acesso\\ngratuito a uma grande quantidade de material técnico e de pesquisa.\\n\\uf0b7 Site: www.embrapa.br\\n\\uf0b7 Publicações: Disponíveis para download no site da EMBRAPA sobre\\npráticas agrícolas e manejo de solo.\\nb. Institutos Estaduais de Pesquisa Agropecuária\\nCada estado do Brasil possui instituições que realizam pesquisas agrícolas\\nfocadas nas condições locais. Exemplos incluem:\\n\\uf0b7 IPEA (Instituto de Pesquisa e Estratégia Econômica) de São Paulo.\\n\\uf0b7 IDR-Paraná (Instituto de Desenvolvimento Rural do Paraná).\\n\\uf0b7 EMATER (Empresa de Assistência Técnica e Extensão Rural) nos\\nestados.', mimetype='text/plain', start_char_idx=0, end_char_idx=2132, metadata_seperator='\\n', text_template='{metadata_str}\\n\\n{content}'),\n",
              " TextNode(id_='ca3140ca-6c85-4538-9461-312ab2eb34ba', embedding=None, metadata={'page_label': '27', 'file_name': 'doc_info_agricultura.pdf', 'file_path': '/content/documentos/doc_info_agricultura.pdf', 'file_type': 'application/pdf', 'file_size': 268199, 'creation_date': '2025-03-26', 'last_modified_date': '2025-03-26'}, excluded_embed_metadata_keys=['file_name', 'file_type', 'file_size', 'creation_date', 'last_modified_date', 'last_accessed_date'], excluded_llm_metadata_keys=['file_name', 'file_type', 'file_size', 'creation_date', 'last_modified_date', 'last_accessed_date'], relationships={<NodeRelationship.SOURCE: '1'>: RelatedNodeInfo(node_id='ad889d45-c829-414a-a992-c5cb06522bc4', node_type=<ObjectType.DOCUMENT: '4'>, metadata={'page_label': '27', 'file_name': 'doc_info_agricultura.pdf', 'file_path': '/content/documentos/doc_info_agricultura.pdf', 'file_type': 'application/pdf', 'file_size': 268199, 'creation_date': '2025-03-26', 'last_modified_date': '2025-03-26'}, hash='52eb9b69a41497f07710f35daaf05a0d6d6caa470467916d9b1f5ec65404e000')}, metadata_template='{key}: {value}', metadata_separator='\\n', text='Essas instituições também oferecem serviços de extensão rural, com\\nassistência técnica e consultoria agronômica.\\n2. Associações e Sindicatos Agrícolas\\na. Sindicatos Rurais e Associações Regionais\\nOs sindicatos rurais e associações de produtores frequentemente\\npromovem workshops, seminários e treinamentos técnicos voltados para o\\nmanejo do solo e escolha de sementes. Além disso, eles oferecem\\ninformações atualizadas sobre as melhores práticas agrícolas e podem\\nconectar agricultores com consultores técnicos especializados.\\n\\uf0b7 Exemplo: SENAR (Serviço Nacional de Aprendizagem Rural) oferece\\ncursos e programas de capacitação no campo.\\nb. Federações de Agricultura\\nAs federações estaduais de agricultura, como a FAEP (Federação da\\nAgricultura do Estado de Paraná) ou a FAMATO (Federação da Agricultura\\ne Pecuária de Mato Grosso), também fornecem orientações técnicas sobre\\npráticas agrícolas, incluindo o preparo do solo e escolha de sementes.\\n3. Consultores Agrícolas Privados\\na. Consultorias Agronômicas\\nConsultores agrícolas especializados podem fornecer informações\\npersonalizadas sobre o preparo do solo, recomendação de sementes\\nespecíficas e análise de solo. Eles oferecem serviços individualizados de\\nacordo com as necessidades de cada propriedade e cultivo.\\n\\uf0b7 Existem empresas privadas que oferecem esse tipo de serviço, como\\na Agroconsultoria, Sicoob, e Cooperativas agrícolas.\\n4. Plataformas Online e Aplicativos\\na. Plataformas Educacionais Online\\nPlataformas como Coursera, Udemy e Fazenda Digital oferecem cursos\\nonline sobre manejo do solo e agricultura sustentável. Muitas vezes, essas\\nplataformas têm parcerias com universidades ou instituições de pesquisa\\nque fornecem conteúdo atualizado e acessível.\\nb. Websites e Blogs de Agricultura\\nExistem diversos blogs e sites especializados em agricultura que oferecem\\nartigos, dicas, e vídeos educativos sobre o preparo do solo e a escolha de\\nsementes. Exemplos incluem:\\n\\uf0b7 Agrolink (www.agrolink.com.br) – um portal de notícias e artigos\\nsobre o agronegócio.\\n\\uf0b7 Canal Rural (www.canalrural.com.br) – oferece informações sobre\\npráticas agrícolas, incluindo preparo do solo.', mimetype='text/plain', start_char_idx=0, end_char_idx=2132, metadata_seperator='\\n', text_template='{metadata_str}\\n\\n{content}'),\n",
              " TextNode(id_='663333c4-5106-475b-b965-c2b4771ef33a', embedding=None, metadata={'page_label': '28', 'file_name': 'doc_info_agricultura.pdf', 'file_path': '/content/documentos/doc_info_agricultura.pdf', 'file_type': 'application/pdf', 'file_size': 268199, 'creation_date': '2025-03-26', 'last_modified_date': '2025-03-26'}, excluded_embed_metadata_keys=['file_name', 'file_type', 'file_size', 'creation_date', 'last_modified_date', 'last_accessed_date'], excluded_llm_metadata_keys=['file_name', 'file_type', 'file_size', 'creation_date', 'last_modified_date', 'last_accessed_date'], relationships={<NodeRelationship.SOURCE: '1'>: RelatedNodeInfo(node_id='7a158822-f7d3-494c-a7e9-8d295ec56a1d', node_type=<ObjectType.DOCUMENT: '4'>, metadata={'page_label': '28', 'file_name': 'doc_info_agricultura.pdf', 'file_path': '/content/documentos/doc_info_agricultura.pdf', 'file_type': 'application/pdf', 'file_size': 268199, 'creation_date': '2025-03-26', 'last_modified_date': '2025-03-26'}, hash='22c6d66c11963ebce6c44aa9853bd6782f5e37af71b70a16be4b639b63d84e9e')}, metadata_template='{key}: {value}', metadata_separator='\\n', text='c. Aplicativos para Agricultores\\nHá aplicativos que ajudam no gerenciamento das atividades agrícolas, com\\nrecomendações sobre preparo do solo, irrigação, e escolha de sementes.\\nExemplos incluem:\\n\\uf0b7 AgriManager – Para gestão de propriedades rurais.\\n\\uf0b7 Farm Wizard – Para monitoramento de solo e condições climáticas.\\n5. Fornecedores de Sementes e Insumos Agrícolas\\na. Empresas de Sementes\\nAs empresas de sementes frequentemente têm um grande portfólio de\\ninformações sobre sementes para diferentes tipos de culturas e podem\\noferecer consultoria sobre quais sementes são mais adequadas para as\\ncondições de solo específicas. Além disso, essas empresas podem\\nfornecer testes de germinação e análises de sementes.\\n\\uf0b7 Exemplo: Monsanto, Syngenta, Corteva Agriscience e BASF são\\ngrandes fornecedores de sementes e insumos agrícolas e possuem\\nmateriais educativos.\\nb. Cooperativas Agrícolas\\nAs cooperativas agrícolas frequentemente oferecem capacitação para os\\nseus associados sobre o manejo do solo e a escolha de sementes. Elas\\ntambém fornecem sementes certificadas e serviços de consultoria\\nagronômica.\\n6. Feiras e Exposições Agrícolas\\na. Feiras e Exposições\\nParticipar de feiras agrícolas e exposições como a Agrishow (em Ribeirão\\nPreto), a Expodireto Cotrijal (em Não-Me-Toque), e a FENAGRO (em\\nSalvador) é uma ótima forma de obter informações atualizadas, conhecer\\nnovos fornecedores e ter acesso a demonstrações práticas sobre\\ntecnologias agrícolas inovadoras.\\n7. Universidades e Centros de Pesquisa\\na. Universidades de Agronomia\\nAlgumas universidades têm programas de extensão rural e centros de\\npesquisa que oferecem cursos, eventos e consultorias especializadas em\\nmanejo de solo, análise de sementes, e agricultura sustentável. Exemplo\\nde universidades com forte foco em pesquisa agrícola:\\n\\uf0b7 USP (Universidade de São Paulo).\\n\\uf0b7 UNESP (Universidade Estadual Paulista).\\n\\uf0b7 UFRGS (Universidade Federal do Rio Grande do Sul).\\nb. Cursos Técnicos e Pós-Graduação', mimetype='text/plain', start_char_idx=0, end_char_idx=1955, metadata_seperator='\\n', text_template='{metadata_str}\\n\\n{content}'),\n",
              " TextNode(id_='fe942102-f875-40cd-84e6-7c53d024d9ce', embedding=None, metadata={'page_label': '29', 'file_name': 'doc_info_agricultura.pdf', 'file_path': '/content/documentos/doc_info_agricultura.pdf', 'file_type': 'application/pdf', 'file_size': 268199, 'creation_date': '2025-03-26', 'last_modified_date': '2025-03-26'}, excluded_embed_metadata_keys=['file_name', 'file_type', 'file_size', 'creation_date', 'last_modified_date', 'last_accessed_date'], excluded_llm_metadata_keys=['file_name', 'file_type', 'file_size', 'creation_date', 'last_modified_date', 'last_accessed_date'], relationships={<NodeRelationship.SOURCE: '1'>: RelatedNodeInfo(node_id='142b1f55-ca95-4757-8856-cf9bda0d075f', node_type=<ObjectType.DOCUMENT: '4'>, metadata={'page_label': '29', 'file_name': 'doc_info_agricultura.pdf', 'file_path': '/content/documentos/doc_info_agricultura.pdf', 'file_type': 'application/pdf', 'file_size': 268199, 'creation_date': '2025-03-26', 'last_modified_date': '2025-03-26'}, hash='df80436c28d4d2af9ef17290996d08e438aa00c1d9c1d171bf5960f83925a913')}, metadata_template='{key}: {value}', metadata_separator='\\n', text='Muitas universidades também oferecem cursos técnicos e de pós-\\ngraduação em áreas como agronomia, manejo do solo e engenharia\\nagrícola. Esses cursos podem proporcionar uma formação mais\\naprofundada para aqueles que desejam expandir seus conhecimentos.\\nOnde obter mais informações?\\nPara mais detalhes sobre preparo do solo e escolha de sementes, consulte um\\nagrônomo ou acesse fontes confiáveis de pesquisa agrícola.', mimetype='text/plain', start_char_idx=0, end_char_idx=415, metadata_seperator='\\n', text_template='{metadata_str}\\n\\n{content}')]"
            ]
          },
          "execution_count": 18,
          "metadata": {},
          "output_type": "execute_result"
        }
      ],
      "source": [
        "nodes"
      ]
    },
    {
      "cell_type": "code",
      "execution_count": 19,
      "metadata": {
        "colab": {
          "base_uri": "https://localhost:8080/"
        },
        "id": "1dNssA7Wrqr5",
        "outputId": "ffaa8e41-3c89-4bba-94ef-d50172233af1"
      },
      "outputs": [
        {
          "data": {
            "text/plain": [
              "29"
            ]
          },
          "execution_count": 19,
          "metadata": {},
          "output_type": "execute_result"
        }
      ],
      "source": [
        "len(nodes)"
      ]
    },
    {
      "cell_type": "code",
      "execution_count": 20,
      "metadata": {
        "colab": {
          "base_uri": "https://localhost:8080/"
        },
        "id": "Qo_000rDrsgp",
        "outputId": "a6fea057-8d07-4864-bf34-0f15e12dbeed"
      },
      "outputs": [
        {
          "data": {
            "text/plain": [
              "TextNode(id_='0dbee107-3f17-4eb9-b83e-2a0034b5a218', embedding=None, metadata={'page_label': '1', 'file_name': 'doc_info_agricultura.pdf', 'file_path': '/content/documentos/doc_info_agricultura.pdf', 'file_type': 'application/pdf', 'file_size': 268199, 'creation_date': '2025-03-26', 'last_modified_date': '2025-03-26'}, excluded_embed_metadata_keys=['file_name', 'file_type', 'file_size', 'creation_date', 'last_modified_date', 'last_accessed_date'], excluded_llm_metadata_keys=['file_name', 'file_type', 'file_size', 'creation_date', 'last_modified_date', 'last_accessed_date'], relationships={<NodeRelationship.SOURCE: '1'>: RelatedNodeInfo(node_id='e70b04be-6756-4f50-ba7d-2d4a4435c125', node_type=<ObjectType.DOCUMENT: '4'>, metadata={'page_label': '1', 'file_name': 'doc_info_agricultura.pdf', 'file_path': '/content/documentos/doc_info_agricultura.pdf', 'file_type': 'application/pdf', 'file_size': 268199, 'creation_date': '2025-03-26', 'last_modified_date': '2025-03-26'}, hash='2c2931a49218b197f6cb77277f926f6ced8bd7733b7031a7c02dc0cdef24567d')}, metadata_template='{key}: {value}', metadata_separator='\\n', text='Guia de Preparo do Solo para Plantio\\nInformações Gerais\\nP: Qual a importância do preparo adequado do solo?\\nR: O preparo adequado do solo garante que as plantas tenham acesso aos\\nnutrientes necessários, além de melhorar a retenção de água e a aeração,\\nfatores essenciais para o crescimento saudável.\\nP: Quais fatores devem ser considerados ao preparar o solo para o plantio?\\nR: Os principais fatores incluem o tipo de solo, a umidade ideal, o pH, a\\ncompactação e a adubação adequada para cada cultura.\\nTipos de Solo e Seu Tratamento\\nP: Quais os principais tipos de solo e como prepará-los?\\nR: Existem diversos tipos de solo, cada um com características específicas e\\ntratamentos recomendados:\\n\\uf0b7 Solo Arenoso: Drenagem rápida, baixo teor de nutrientes. Recomenda-\\nse adição de matéria orgânica e irrigação frequente.\\n\\uf0b7 Solo Argiloso: Retém muita água, pode compactar facilmente.\\nAéreação e adição de areia podem melhorar a drenagem.\\n\\uf0b7 Solo Calcário: Alto pH, pouca disponibilidade de micronutrientes. Pode\\nser corrigido com adubação orgânica e fertilizantes ácidos.\\nSensores para Monitoramento da Umidade do Solo\\nP: Quais sensores podem ser usados para monitorar a umidade do solo?\\nR: Existem diversas tecnologias para medir a umidade do solo, entre elas:\\n\\uf0b7 Sensor Capacitivo de Umidade do Solo: Mede a variação da\\ncapacitância conforme o nível de umidade.\\n\\uf0b7 Sensor Resistivo de Umidade: Mede a condutividade elétrica do solo,\\nvariando conforme a umidade.\\n\\uf0b7 Sensor TDR (Time Domain Reflectometry): Utiliza pulsos\\neletromagnéticos para calcular a umidade com alta precisão.\\n\\uf0b7 Sondas de Tensiômetro: Medem a tensão com que a água está sendo\\nretida no solo, indicando o nível de umidade disponível para as plantas.\\nEsses sensores são fundamentais para o manejo eficiente da irrigação e para\\nevitar estresse hídrico das plantas.\\nUmidade e pH Ideais\\nP: Como medir e ajustar a umidade do solo?\\nR: A umidade pode ser medida com sensores ou testes simples (amassando o\\nsolo na mão). Para solos muito secos, a irrigação regular é essencial; para\\nsolos muito úmidos, drenagem adequada deve ser aplicada.', mimetype='text/plain', start_char_idx=0, end_char_idx=2091, metadata_seperator='\\n', text_template='{metadata_str}\\n\\n{content}')"
            ]
          },
          "execution_count": 20,
          "metadata": {},
          "output_type": "execute_result"
        }
      ],
      "source": [
        "nodes[0]"
      ]
    },
    {
      "cell_type": "code",
      "execution_count": 21,
      "metadata": {
        "colab": {
          "base_uri": "https://localhost:8080/"
        },
        "id": "FfrZym4gru3h",
        "outputId": "39b99e11-91b5-40a7-8422-8d0a9e4dcce0"
      },
      "outputs": [
        {
          "data": {
            "text/plain": [
              "TextNode(id_='d01d8776-011c-4990-9593-dc14219d0dd3', embedding=None, metadata={'page_label': '10', 'file_name': 'doc_info_agricultura.pdf', 'file_path': '/content/documentos/doc_info_agricultura.pdf', 'file_type': 'application/pdf', 'file_size': 268199, 'creation_date': '2025-03-26', 'last_modified_date': '2025-03-26'}, excluded_embed_metadata_keys=['file_name', 'file_type', 'file_size', 'creation_date', 'last_modified_date', 'last_accessed_date'], excluded_llm_metadata_keys=['file_name', 'file_type', 'file_size', 'creation_date', 'last_modified_date', 'last_accessed_date'], relationships={<NodeRelationship.SOURCE: '1'>: RelatedNodeInfo(node_id='c5185f53-162b-42f6-aee3-7c5685ce13cf', node_type=<ObjectType.DOCUMENT: '4'>, metadata={'page_label': '10', 'file_name': 'doc_info_agricultura.pdf', 'file_path': '/content/documentos/doc_info_agricultura.pdf', 'file_type': 'application/pdf', 'file_size': 268199, 'creation_date': '2025-03-26', 'last_modified_date': '2025-03-26'}, hash='98b4d2d0bf4218705021c00ec6ff68fbfb1c3565ad5ed93b40b8266dede6af0d')}, metadata_template='{key}: {value}', metadata_separator='\\n', text='\\uf0b7\\no Enxofre elementar: A forma mais comum, que deve ser\\naplicada com antecedência, pois leva de 2 a 3 meses para\\ncomeçar a agir.\\no Enxofre solúvel: A forma mais rápida de ação, mas pode ser\\nmais cara.\\n\\uf0b7\\nFosfato de alumínio: O fosfato de alumínio também pode ser usado\\npara reduzir o pH do solo. No entanto, é mais usado em solos de\\nregiões tropicais e não é tão comum em outras áreas.\\n\\uf0b7\\n\\uf0b7\\nMatéria orgânica: A aplicação de composto orgânico (como esterco\\nou compostagem) pode ajudar a acidificar o solo ao longo do tempo,\\nembora o efeito seja mais gradual.\\n\\uf0b7\\n\\uf0b7\\nÁcidos orgânicos: Como o ácido cítrico, que pode ser adicionado\\npara reduzir a acidez rapidamente, mas essa não é uma prática\\ncomum em grande escala, sendo mais usada em jardins ou em áreas\\nmenores.\\n\\uf0b7\\nComo aplicar:\\n\\uf0b7 Quantidade: A quantidade de enxofre necessária depende do pH\\ninicial do solo, da textura e da quantidade de matéria orgânica\\npresente. Para diminuir o pH de 1 unidade, é comum aplicar entre\\n100 e 200 kg de enxofre por hectare.\\n\\uf0b7 Temporização: Aplique o enxofre com 2 a 3 meses de antecedência,\\npois leva algum tempo para reagir.\\n4. Considerações sobre o pH Ideal para as Culturas\\nCada cultura tem uma faixa ideal de pH para o crescimento ideal. Aqui\\nestão alguns exemplos de pH ideal para diferentes tipos de plantas:\\n\\uf0b7 Solos ácidos (pH 4,5 a 6): Adequados para culturas como arroz, café,\\nbatata, feijão, cana-de-açúcar.\\n\\uf0b7 Solos neutros (pH 6 a 7): Melhor para a maioria das culturas, como\\nmilho, soja, tomate, pepino, trigo, hortaliças.\\n\\uf0b7 Solos alcalinos (pH 7 a 8): Algumas culturas toleram solos alcalinos,\\ncomo almôndega, beterraba e cabeludo.\\n5. Fatores a Considerar ao Ajustar o pH', mimetype='text/plain', start_char_idx=0, end_char_idx=1664, metadata_seperator='\\n', text_template='{metadata_str}\\n\\n{content}')"
            ]
          },
          "execution_count": 21,
          "metadata": {},
          "output_type": "execute_result"
        }
      ],
      "source": [
        "nodes[9]"
      ]
    },
    {
      "cell_type": "code",
      "execution_count": 22,
      "metadata": {
        "colab": {
          "base_uri": "https://localhost:8080/"
        },
        "id": "8PmV--WyrzWJ",
        "outputId": "1a1dca7b-a9e0-4679-95d2-d13c817de7c3"
      },
      "outputs": [
        {
          "name": "stdout",
          "output_type": "stream",
          "text": [
            "\u001b[2K   \u001b[90m━━━━━━━━━━━━━━━━━━━━━━━━━━━━━━━━━━━━━━━━\u001b[0m \u001b[32m363.4/363.4 MB\u001b[0m \u001b[31m2.1 MB/s\u001b[0m eta \u001b[36m0:00:00\u001b[0m\n",
            "\u001b[2K   \u001b[90m━━━━━━━━━━━━━━━━━━━━━━━━━━━━━━━━━━━━━━━━\u001b[0m \u001b[32m13.8/13.8 MB\u001b[0m \u001b[31m85.8 MB/s\u001b[0m eta \u001b[36m0:00:00\u001b[0m\n",
            "\u001b[2K   \u001b[90m━━━━━━━━━━━━━━━━━━━━━━━━━━━━━━━━━━━━━━━━\u001b[0m \u001b[32m24.6/24.6 MB\u001b[0m \u001b[31m67.8 MB/s\u001b[0m eta \u001b[36m0:00:00\u001b[0m\n",
            "\u001b[2K   \u001b[90m━━━━━━━━━━━━━━━━━━━━━━━━━━━━━━━━━━━━━━━━\u001b[0m \u001b[32m883.7/883.7 kB\u001b[0m \u001b[31m38.6 MB/s\u001b[0m eta \u001b[36m0:00:00\u001b[0m\n",
            "\u001b[2K   \u001b[90m━━━━━━━━━━━━━━━━━━━━━━━━━━━━━━━━━━━━━━━━\u001b[0m \u001b[32m664.8/664.8 MB\u001b[0m \u001b[31m2.8 MB/s\u001b[0m eta \u001b[36m0:00:00\u001b[0m\n",
            "\u001b[2K   \u001b[90m━━━━━━━━━━━━━━━━━━━━━━━━━━━━━━━━━━━━━━━━\u001b[0m \u001b[32m211.5/211.5 MB\u001b[0m \u001b[31m5.8 MB/s\u001b[0m eta \u001b[36m0:00:00\u001b[0m\n",
            "\u001b[2K   \u001b[90m━━━━━━━━━━━━━━━━━━━━━━━━━━━━━━━━━━━━━━━━\u001b[0m \u001b[32m56.3/56.3 MB\u001b[0m \u001b[31m17.4 MB/s\u001b[0m eta \u001b[36m0:00:00\u001b[0m\n",
            "\u001b[2K   \u001b[90m━━━━━━━━━━━━━━━━━━━━━━━━━━━━━━━━━━━━━━━━\u001b[0m \u001b[32m127.9/127.9 MB\u001b[0m \u001b[31m8.9 MB/s\u001b[0m eta \u001b[36m0:00:00\u001b[0m\n",
            "\u001b[2K   \u001b[90m━━━━━━━━━━━━━━━━━━━━━━━━━━━━━━━━━━━━━━━━\u001b[0m \u001b[32m207.5/207.5 MB\u001b[0m \u001b[31m4.5 MB/s\u001b[0m eta \u001b[36m0:00:00\u001b[0m\n",
            "\u001b[2K   \u001b[90m━━━━━━━━━━━━━━━━━━━━━━━━━━━━━━━━━━━━━━━━\u001b[0m \u001b[32m21.1/21.1 MB\u001b[0m \u001b[31m57.7 MB/s\u001b[0m eta \u001b[36m0:00:00\u001b[0m\n",
            "\u001b[?25h"
          ]
        }
      ],
      "source": [
        "# instalação do hugging face\n",
        "!pip install -q llama-index-embeddings-huggingface"
      ]
    },
    {
      "cell_type": "code",
      "execution_count": 24,
      "metadata": {
        "id": "dLziRtnHsPjJ"
      },
      "outputs": [],
      "source": [
        "from llama_index.embeddings.huggingface import HuggingFaceEmbedding"
      ]
    },
    {
      "cell_type": "code",
      "execution_count": 32,
      "metadata": {
        "id": "MJaHL8frsjth"
      },
      "outputs": [],
      "source": [
        "# Classe personalizada para integrar ao Chroma DB\n",
        "\n",
        "class ChromaEmbeddingWrapper:\n",
        "    def __init__(self, model_name:str): # inicializa com o modelo embedding\n",
        "        self.model = HuggingFaceEmbedding(model_name=model_name)\n",
        "\n",
        "    def __call__(self, input): # Converte a entrada para o formato compativel com o HuggingFace\n",
        "        return self.model.embed(input)\n",
        "\n"
      ]
    },
    {
      "cell_type": "code",
      "execution_count": 33,
      "metadata": {
        "colab": {
          "base_uri": "https://localhost:8080/",
          "height": 337,
          "referenced_widgets": [
            "4ebb3091394c4513956f7ce0f7a4582b",
            "85e0b56d65324fd784da3484e217037a",
            "be83df16d1014fc4ae4a9631c7994202",
            "1e738a1aa8fb4f308b9835c598956dd9",
            "8d680414722943bbbdf391ce98d00ee4",
            "932d09a3c54a4aa68ace796fb832298b",
            "2e3f4be4343e42728c59cb80aa8585af",
            "f00236182de2492f89d076902946aa8a",
            "80aa8982ff564767b0186785d6d707c9",
            "e00c6fdcfba44847a32edfa15904b606",
            "1d0f5164fade48ca97209cb7a97ed662",
            "51cb5fe7a83e4b76bd1e981d4685e974",
            "785e55ed1e944f72b100d853899edd1c",
            "9a5b4cd347124754bec0634b22769386",
            "fc9a05e08f6b4de58a04a75f8c15cefa",
            "2cbb669a38c64ae08fdaec679d9b668a",
            "f67bfc362d7e4c158ccd2b3cf795cfb6",
            "e9d83bbd69e0451ba004bc9e724996db",
            "f472250d1f3e4391a06dba177c012b97",
            "d683dac4ed6e415cbd08f61976ebc999",
            "17601e84fad743d6a4fce54ec8a77883",
            "f5281c2c659643eb8b453be4af07b9ac",
            "b3b8db62e52d44bf8409d0d6ac7767b0",
            "8f8a37f4f6bd429090a5e3d7064d4c98",
            "c648f35095874deca0b4639fc25a3ef5",
            "7851174ca9d24696b1a728b38b66d1f5",
            "39a7974638a246aba44ac040fc23c77d",
            "effc6af723a749199f35052bbbf94fe6",
            "6dff5165686b4d0982a962eaf555c0a4",
            "8f2093f1c73943ca8304933df5e13e2c",
            "b4650f8160e54df4b26089008b86fbaa",
            "4e4b6e21e2af4019a4cf827f4101f7ec",
            "60e09b6130c841a79d840b945f7e487f",
            "17956b93461841b19ccd6fc8889974ff",
            "5bf205bcab6f4b69ae1e203b1ddb4b6c",
            "b25c57ac4c5044bab182ded42e0d42a3",
            "c1851cd3871f4337a32a9f843a925df0",
            "a5915c40b2434262bbbaeaea93141d27",
            "c6a740f43d2e4b208b1291140140d064",
            "1c2354e6d8eb4ca8969ab3789706153b",
            "e8718fae6ee941a58cfa2231e5a8ab14",
            "9194b5c908954fddbac41e0bb89f326b",
            "3f46d187332e4e679af49af7b2ad4b39",
            "c918054151cc44018ce57caa612f4ac3",
            "bd9e63aa2ff246fa9b4497801426f864",
            "ab5f2593e45f4208a9bd373694d267b8",
            "2bbffbb4e857408e922d0a556a857eb6",
            "8c362deace90419da371782d6e09e0eb",
            "acdcd868a1cf4690b8a5134457574cde",
            "832a6206f65340019bfbf7a79e5dd691",
            "71e65d91136745c7a07861353db97e7c",
            "c9a5ef5b8aac465fb16ebce6589e6c81",
            "348f9ac782a748bb9027b2c6ded356d0",
            "c5492986812848c9bb48d60fbe34454a",
            "f45fd6d16fae461a8de22e3aca4667ca",
            "b78d24f8df3e40e29204baaf5e7a65e5",
            "0043954b40c74324b32abc5e14764d45",
            "223fc30bf2a740ce83d11e7499ab9888",
            "52bc1a7bc3a048b7b95f29283086206d",
            "4c6c7033badf466bbd3b62013c396f1a",
            "eb9ed08241d84933bd21083e9f647305",
            "0405102c136648d0872c20af5989180e",
            "1f72a3bf23ad4eefa48bb80cab0a4be4",
            "aed56ce71fd9418e8d89530fbe65caaf",
            "550d7f8c92a841c68a82024ddde0f8d6",
            "8380bde17e8744f0b40c8a13bfae786e",
            "f60ae877efbb433d949dedd6e41dae1d",
            "6bf9e0475eef4fb486e97a31a554247f",
            "27123780f7614f649e23f651b46b9a1b",
            "d36deb264c9f49569ab1b76b30136792",
            "2ecc5e7c32db408ab016f0ed368613a8",
            "5e7c92d940c346ba8d3de24090a02d55",
            "ceb58900a437486684c386598cc935fb",
            "5497957a80154c0794520668328eb8ed",
            "eea1906037414e0b8def750afde4d974",
            "6f33baa4eb5e47a8b20ace7661ee52d8",
            "e9c4158ee2d84a1e9eeb31363cee40a6",
            "92165fe5cb794296894edbcde408af7c",
            "8458eebadd6b47b7abe7065ec43d4493",
            "d6f7ec77337941069fb17b54761e73c6",
            "41fb61667fae43a0b1dcaf6665413668",
            "a7789bd0a9684271aebfa289164d3f1e",
            "2cada9f26e0948a985863ff5fbf24600",
            "6f81814450204c458d85ef0984865dca",
            "9af0c064904842cb95734367089df568",
            "f13ed7b472a04a86b6dc63a45722eee7",
            "7c2f4351d4354a9ca2cc377bfafa9c57",
            "8fa5f673e4b247c2a3a076d0b1bc3573",
            "5c65958e680d402fa8d6f780c727ae79",
            "b92562c6d48a4c34a6e2eb0052610268",
            "0b5c7062944443f884f15880d3153c06",
            "248ab8e7df474cf4b0e1570fcd065b84",
            "5d4774cc6538420091f6b168765a4d8f",
            "4ea75d5a6efd4e13befb2aa90f7a4c08",
            "db5715b292ed4c85bd298a6a974b9484",
            "8fef45a776c2402d87baa6d0f231efa1",
            "24d2c8bde6ad4cafb96384bd9b0f2fe9",
            "77d4927ad0b841bd8d058e74dce89f07",
            "c852b70f3b4d4f1187929b81a8709e4b",
            "612879c21bc5443d90fbbca497984a9a",
            "6f65eb51c3f44e79bdc5bfa45764a5df",
            "ce1af21db7ff4bc0bb657dd853cc0d4f",
            "a5e304edfad44ce59502de7a9f482509",
            "f45e15ad66fd4fbf94e32cf835489185",
            "db9491f027f249299d135f462f64f442",
            "fbead3ee1df74868b738f7e9f263d17c",
            "183c21128a8f4dcda4f6993803f4249c",
            "ce004042ced14e02a776fcb20b8127b8",
            "1fb8728b1c924c5aa0ac5f9667abe6db",
            "b67162aefe9349d98a9821babe9f61eb"
          ]
        },
        "id": "HH3j2HcBuK82",
        "outputId": "ff0b6d72-3e9f-4392-e767-5a2449378e5e"
      },
      "outputs": [
        {
          "data": {
            "application/vnd.jupyter.widget-view+json": {
              "model_id": "4ebb3091394c4513956f7ce0f7a4582b",
              "version_major": 2,
              "version_minor": 0
            },
            "text/plain": [
              "modules.json:   0%|          | 0.00/387 [00:00<?, ?B/s]"
            ]
          },
          "metadata": {},
          "output_type": "display_data"
        },
        {
          "data": {
            "application/vnd.jupyter.widget-view+json": {
              "model_id": "51cb5fe7a83e4b76bd1e981d4685e974",
              "version_major": 2,
              "version_minor": 0
            },
            "text/plain": [
              "README.md:   0%|          | 0.00/160k [00:00<?, ?B/s]"
            ]
          },
          "metadata": {},
          "output_type": "display_data"
        },
        {
          "data": {
            "application/vnd.jupyter.widget-view+json": {
              "model_id": "b3b8db62e52d44bf8409d0d6ac7767b0",
              "version_major": 2,
              "version_minor": 0
            },
            "text/plain": [
              "sentence_bert_config.json:   0%|          | 0.00/57.0 [00:00<?, ?B/s]"
            ]
          },
          "metadata": {},
          "output_type": "display_data"
        },
        {
          "data": {
            "application/vnd.jupyter.widget-view+json": {
              "model_id": "17956b93461841b19ccd6fc8889974ff",
              "version_major": 2,
              "version_minor": 0
            },
            "text/plain": [
              "config.json:   0%|          | 0.00/690 [00:00<?, ?B/s]"
            ]
          },
          "metadata": {},
          "output_type": "display_data"
        },
        {
          "data": {
            "application/vnd.jupyter.widget-view+json": {
              "model_id": "bd9e63aa2ff246fa9b4497801426f864",
              "version_major": 2,
              "version_minor": 0
            },
            "text/plain": [
              "model.safetensors:   0%|          | 0.00/2.24G [00:00<?, ?B/s]"
            ]
          },
          "metadata": {},
          "output_type": "display_data"
        },
        {
          "data": {
            "application/vnd.jupyter.widget-view+json": {
              "model_id": "b78d24f8df3e40e29204baaf5e7a65e5",
              "version_major": 2,
              "version_minor": 0
            },
            "text/plain": [
              "tokenizer_config.json:   0%|          | 0.00/418 [00:00<?, ?B/s]"
            ]
          },
          "metadata": {},
          "output_type": "display_data"
        },
        {
          "data": {
            "application/vnd.jupyter.widget-view+json": {
              "model_id": "f60ae877efbb433d949dedd6e41dae1d",
              "version_major": 2,
              "version_minor": 0
            },
            "text/plain": [
              "sentencepiece.bpe.model:   0%|          | 0.00/5.07M [00:00<?, ?B/s]"
            ]
          },
          "metadata": {},
          "output_type": "display_data"
        },
        {
          "data": {
            "application/vnd.jupyter.widget-view+json": {
              "model_id": "92165fe5cb794296894edbcde408af7c",
              "version_major": 2,
              "version_minor": 0
            },
            "text/plain": [
              "tokenizer.json:   0%|          | 0.00/17.1M [00:00<?, ?B/s]"
            ]
          },
          "metadata": {},
          "output_type": "display_data"
        },
        {
          "data": {
            "application/vnd.jupyter.widget-view+json": {
              "model_id": "5c65958e680d402fa8d6f780c727ae79",
              "version_major": 2,
              "version_minor": 0
            },
            "text/plain": [
              "special_tokens_map.json:   0%|          | 0.00/280 [00:00<?, ?B/s]"
            ]
          },
          "metadata": {},
          "output_type": "display_data"
        },
        {
          "data": {
            "application/vnd.jupyter.widget-view+json": {
              "model_id": "612879c21bc5443d90fbbca497984a9a",
              "version_major": 2,
              "version_minor": 0
            },
            "text/plain": [
              "config.json:   0%|          | 0.00/201 [00:00<?, ?B/s]"
            ]
          },
          "metadata": {},
          "output_type": "display_data"
        }
      ],
      "source": [
        "embed_model_chroma = ChromaEmbeddingWrapper(model_name='intfloat/multilingual-e5-large')"
      ]
    },
    {
      "cell_type": "code",
      "execution_count": 34,
      "metadata": {
        "colab": {
          "base_uri": "https://localhost:8080/"
        },
        "id": "Tuhx-mMku7Oi",
        "outputId": "8edb74df-6d65-46be-d51c-85fae6e662ac"
      },
      "outputs": [
        {
          "name": "stdout",
          "output_type": "stream",
          "text": [
            "\u001b[?25l     \u001b[90m━━━━━━━━━━━━━━━━━━━━━━━━━━━━━━━━━━━━━━━━\u001b[0m \u001b[32m0.0/67.3 kB\u001b[0m \u001b[31m?\u001b[0m eta \u001b[36m-:--:--\u001b[0m\r\u001b[2K     \u001b[90m━━━━━━━━━━━━━━━━━━━━━━━━━━━━━━━━━━━━━━━━\u001b[0m \u001b[32m67.3/67.3 kB\u001b[0m \u001b[31m2.9 MB/s\u001b[0m eta \u001b[36m0:00:00\u001b[0m\n",
            "\u001b[?25h  Installing build dependencies ... \u001b[?25l\u001b[?25hdone\n",
            "  Getting requirements to build wheel ... \u001b[?25l\u001b[?25hdone\n",
            "  Preparing metadata (pyproject.toml) ... \u001b[?25l\u001b[?25hdone\n",
            "\u001b[2K   \u001b[90m━━━━━━━━━━━━━━━━━━━━━━━━━━━━━━━━━━━━━━━━\u001b[0m \u001b[32m611.1/611.1 kB\u001b[0m \u001b[31m12.9 MB/s\u001b[0m eta \u001b[36m0:00:00\u001b[0m\n",
            "\u001b[2K   \u001b[90m━━━━━━━━━━━━━━━━━━━━━━━━━━━━━━━━━━━━━━━━\u001b[0m \u001b[32m2.4/2.4 MB\u001b[0m \u001b[31m41.9 MB/s\u001b[0m eta \u001b[36m0:00:00\u001b[0m\n",
            "\u001b[2K   \u001b[90m━━━━━━━━━━━━━━━━━━━━━━━━━━━━━━━━━━━━━━━━\u001b[0m \u001b[32m284.2/284.2 kB\u001b[0m \u001b[31m13.9 MB/s\u001b[0m eta \u001b[36m0:00:00\u001b[0m\n",
            "\u001b[2K   \u001b[90m━━━━━━━━━━━━━━━━━━━━━━━━━━━━━━━━━━━━━━━━\u001b[0m \u001b[32m95.2/95.2 kB\u001b[0m \u001b[31m5.5 MB/s\u001b[0m eta \u001b[36m0:00:00\u001b[0m\n",
            "\u001b[2K   \u001b[90m━━━━━━━━━━━━━━━━━━━━━━━━━━━━━━━━━━━━━━━━\u001b[0m \u001b[32m2.0/2.0 MB\u001b[0m \u001b[31m28.2 MB/s\u001b[0m eta \u001b[36m0:00:00\u001b[0m\n",
            "\u001b[2K   \u001b[90m━━━━━━━━━━━━━━━━━━━━━━━━━━━━━━━━━━━━━━━━\u001b[0m \u001b[32m101.6/101.6 kB\u001b[0m \u001b[31m3.5 MB/s\u001b[0m eta \u001b[36m0:00:00\u001b[0m\n",
            "\u001b[2K   \u001b[90m━━━━━━━━━━━━━━━━━━━━━━━━━━━━━━━━━━━━━━━━\u001b[0m \u001b[32m16.0/16.0 MB\u001b[0m \u001b[31m25.7 MB/s\u001b[0m eta \u001b[36m0:00:00\u001b[0m\n",
            "\u001b[2K   \u001b[90m━━━━━━━━━━━━━━━━━━━━━━━━━━━━━━━━━━━━━━━━\u001b[0m \u001b[32m55.9/55.9 kB\u001b[0m \u001b[31m3.0 MB/s\u001b[0m eta \u001b[36m0:00:00\u001b[0m\n",
            "\u001b[2K   \u001b[90m━━━━━━━━━━━━━━━━━━━━━━━━━━━━━━━━━━━━━━━━\u001b[0m \u001b[32m85.0/85.0 kB\u001b[0m \u001b[31m4.8 MB/s\u001b[0m eta \u001b[36m0:00:00\u001b[0m\n",
            "\u001b[2K   \u001b[90m━━━━━━━━━━━━━━━━━━━━━━━━━━━━━━━━━━━━━━━━\u001b[0m \u001b[32m62.3/62.3 kB\u001b[0m \u001b[31m3.6 MB/s\u001b[0m eta \u001b[36m0:00:00\u001b[0m\n",
            "\u001b[2K   \u001b[90m━━━━━━━━━━━━━━━━━━━━━━━━━━━━━━━━━━━━━━━━\u001b[0m \u001b[32m459.8/459.8 kB\u001b[0m \u001b[31m20.0 MB/s\u001b[0m eta \u001b[36m0:00:00\u001b[0m\n",
            "\u001b[2K   \u001b[90m━━━━━━━━━━━━━━━━━━━━━━━━━━━━━━━━━━━━━━━━\u001b[0m \u001b[32m72.0/72.0 kB\u001b[0m \u001b[31m4.5 MB/s\u001b[0m eta \u001b[36m0:00:00\u001b[0m\n",
            "\u001b[2K   \u001b[90m━━━━━━━━━━━━━━━━━━━━━━━━━━━━━━━━━━━━━━━━\u001b[0m \u001b[32m4.0/4.0 MB\u001b[0m \u001b[31m43.0 MB/s\u001b[0m eta \u001b[36m0:00:00\u001b[0m\n",
            "\u001b[2K   \u001b[90m━━━━━━━━━━━━━━━━━━━━━━━━━━━━━━━━━━━━━━━━\u001b[0m \u001b[32m452.6/452.6 kB\u001b[0m \u001b[31m24.0 MB/s\u001b[0m eta \u001b[36m0:00:00\u001b[0m\n",
            "\u001b[2K   \u001b[90m━━━━━━━━━━━━━━━━━━━━━━━━━━━━━━━━━━━━━━━━\u001b[0m \u001b[32m46.0/46.0 kB\u001b[0m \u001b[31m2.6 MB/s\u001b[0m eta \u001b[36m0:00:00\u001b[0m\n",
            "\u001b[2K   \u001b[90m━━━━━━━━━━━━━━━━━━━━━━━━━━━━━━━━━━━━━━━━\u001b[0m \u001b[32m86.8/86.8 kB\u001b[0m \u001b[31m4.8 MB/s\u001b[0m eta \u001b[36m0:00:00\u001b[0m\n",
            "\u001b[?25h  Building wheel for pypika (pyproject.toml) ... \u001b[?25l\u001b[?25hdone\n"
          ]
        }
      ],
      "source": [
        "# instalação do chroma db\n",
        "!pip install -q llama-index-vector-stores-chroma"
      ]
    },
    {
      "cell_type": "code",
      "execution_count": 35,
      "metadata": {
        "id": "iGF3HiZlvHE6"
      },
      "outputs": [],
      "source": [
        "# importando chroma db\n",
        "\n",
        "import chromadb\n",
        "db = chromadb.PersistentClient(path='./chroma_db')\n",
        "chroma_client = db\n",
        "collection_name = 'documentos_serenatto'\n",
        "\n",
        "try:\n",
        "  chroma_collection = chroma_client.get_or_create_collection(\n",
        "      name=collection_name,\n",
        "      embedding_function=embed_model_chroma)\n",
        "except Exception as e:\n",
        "  print(f'Erro ao criar coleção: {e}')"
      ]
    },
    {
      "cell_type": "code",
      "execution_count": 36,
      "metadata": {
        "id": "O-dfvYNpv2fK"
      },
      "outputs": [],
      "source": [
        "from llama_index.vector_stores.chroma import ChromaVectorStore\n",
        "from llama_index.core import StorageContext"
      ]
    },
    {
      "cell_type": "code",
      "execution_count": 37,
      "metadata": {
        "id": "SyEVJaUgv_0r"
      },
      "outputs": [],
      "source": [
        "# criando a coleção do banco de dados\n",
        "vector_store = ChromaVectorStore(chroma_collection=chroma_collection)\n",
        "storage_context = StorageContext.from_defaults(vector_store=vector_store)"
      ]
    },
    {
      "cell_type": "code",
      "execution_count": 38,
      "metadata": {
        "id": "jjm85BfrwH9S"
      },
      "outputs": [],
      "source": [
        "embed_model = HuggingFaceEmbedding(model_name='intfloat/multilingual-e5-large')"
      ]
    },
    {
      "cell_type": "code",
      "execution_count": 39,
      "metadata": {
        "id": "cTVMiSKDwOGy"
      },
      "outputs": [],
      "source": [
        "from llama_index.core import VectorStoreIndex"
      ]
    },
    {
      "cell_type": "code",
      "execution_count": 41,
      "metadata": {
        "id": "9vxBjZjEwSja"
      },
      "outputs": [],
      "source": [
        "index = VectorStoreIndex(nodes, storage_context=storage_context, embed_model=embed_model)"
      ]
    },
    {
      "cell_type": "code",
      "execution_count": 42,
      "metadata": {
        "id": "lZp8McM5wdr6"
      },
      "outputs": [],
      "source": [
        "from llama_index.core import load_index_from_storage\n",
        "index = load_index_from_storage(storage_context, embed_model=embed_model)"
      ]
    },
    {
      "cell_type": "code",
      "execution_count": 45,
      "metadata": {
        "id": "YEt-LXRIyDBo"
      },
      "outputs": [],
      "source": [
        "from google.colab import userdata\n",
        "Groq_api= userdata.get('api_groq_chat')"
      ]
    },
    {
      "cell_type": "code",
      "execution_count": 46,
      "metadata": {
        "id": "lfnLkXpRy6gW"
      },
      "outputs": [],
      "source": [
        "!pip install -q llama-index-llms-groq"
      ]
    },
    {
      "cell_type": "code",
      "execution_count": 47,
      "metadata": {
        "id": "xHMIE5dhzGjT"
      },
      "outputs": [],
      "source": [
        "from llama_index.llms.groq import Groq"
      ]
    },
    {
      "cell_type": "code",
      "execution_count": 49,
      "metadata": {
        "id": "7EBTyyoMzPKd"
      },
      "outputs": [],
      "source": [
        "llms = Groq(model = 'llama3-70b-8192', api_key=Groq_api)"
      ]
    },
    {
      "cell_type": "code",
      "execution_count": 50,
      "metadata": {
        "id": "lqqYjXTDzpxk"
      },
      "outputs": [],
      "source": [
        "query_engine = index.as_query_engine(llm=llms, similarity_top_k=2)"
      ]
    },
    {
      "cell_type": "code",
      "execution_count": 52,
      "metadata": {
        "colab": {
          "base_uri": "https://localhost:8080/",
          "height": 105
        },
        "id": "Mn_fhyPIz1V0",
        "outputId": "1405dc21-df40-4262-c237-212c6474b199"
      },
      "outputs": [
        {
          "data": {
            "application/vnd.google.colaboratory.intrinsic+json": {
              "type": "string"
            },
            "text/plain": [
              "'A preparação adequada do solo antes do plantio é crucial por várias razões, e isso pode afetar diretamente o sucesso do cultivo. Isso melhora a aeração e drenagem, distribuição uniforme de nutrientes, melhora da retenção de água, controle de ervas daninhas, redução de doenças do solo e melhor enraizamento. Em resumo, a preparação do solo cria um ambiente mais saudável e favorável ao desenvolvimento das plantas, melhorando a produtividade e a resistência das culturas.'"
            ]
          },
          "execution_count": 52,
          "metadata": {},
          "output_type": "execute_result"
        }
      ],
      "source": [
        "query_engine.query('Por que é importante preparar o solo adequadamente antes do plantio').response"
      ]
    },
    {
      "cell_type": "code",
      "execution_count": 53,
      "metadata": {
        "id": "ZpUo-vNh1CZR"
      },
      "outputs": [],
      "source": [
        "query_embedding = embed_model.get_text_embedding('Por que é importante preparar o solo adequadamente antes do plantio')"
      ]
    },
    {
      "cell_type": "code",
      "execution_count": 54,
      "metadata": {
        "colab": {
          "base_uri": "https://localhost:8080/"
        },
        "id": "vRkt1dZf1as3",
        "outputId": "82e580bd-767b-4cab-a2ea-52650e5f8867"
      },
      "outputs": [
        {
          "data": {
            "text/plain": [
              "{'ids': [['a9fd657c-ab47-4311-afb9-69ca4e8ea873',\n",
              "   'eed74ca0-6f22-48da-ba5e-b25148e58ab2']],\n",
              " 'embeddings': None,\n",
              " 'documents': [['\\uf0b7 Evite compactação excessiva: Use rotação de culturas e cobertura\\nvegetal.\\n\\uf0b7 Mantenha umidade ideal: Planeje irrigação conforme a cultura.\\n\\uf0b7 Proteja contra erosão: Utilize cobertura morta e curvas de nível em\\nterrenos inclinados.\\nP: Por que é importante preparar o solo adequadamente antes do\\nplantio?\\nR: A preparação adequada do solo antes do plantio é crucial por várias\\nrazões, e isso pode afetar diretamente o sucesso do cultivo. Aqui estão\\nalguns dos principais motivos:\\nMelhora a aeração e drenagem: Ao preparar o solo, você ajuda a criar\\numa estrutura mais solta, permitindo que o ar e a água circularem\\nadequadamente pelas raízes das plantas. Isso previne problemas como\\no apodrecimento das raízes e promove um crescimento saudável.\\nDistribuição uniforme de nutrientes: A preparação do solo garante que\\nos nutrientes estejam bem distribuídos e disponíveis para as plantas.\\nSe o solo for compactado ou mal trabalhado, as raízes podem ter\\ndificuldade em acessar esses nutrientes essenciais.\\nMelhora da retenção de água: Em solos bem preparados, a água é\\nmelhor retida nas camadas mais profundas, o que ajuda durante\\nperíodos de seca, permitindo que as raízes acessem a umidade\\nnecessária para o crescimento.\\nControle de ervas daninhas: Preparar o solo pode ajudar a remover ou\\ncontrolar ervas daninhas e outras plantas indesejadas que competem\\ncom as culturas por recursos, como luz, água e nutrientes.\\nRedução de doenças do solo: Em solos mal preparados, pode haver a\\nproliferação de patógenos que prejudicam as plantas. Uma boa\\npreparação do solo, muitas vezes envolvendo a incorporação de\\nmatéria orgânica e a rotação de culturas, pode ajudar a reduzir esses\\nriscos.\\nMelhor enraizamento: Solos soltos e bem estruturados permitem que\\nas raízes se expandam facilmente, promovendo o crescimento\\nvigoroso da planta.\\nEm resumo, a preparação do solo cria um ambiente mais saudável e\\nfavorável ao desenvolvimento das plantas, melhorando a produtividade\\ne a resistência das culturas.',\n",
              "   \"o Aplicação mais precisa: Pode ser facilmente ajustado para as\\nnecessidades específicas de cada planta.\\no Fácil armazenamento e manuseio.\\n\\uf0b7\\nDesvantagens:\\n\\uf0b7\\no Esgotamento do solo a longo prazo, pois não contribui para a\\nestrutura do solo e a biodiversidade.\\no Pode causar acúmulo de sal no solo, prejudicando a\\ncapacidade das plantas de absorver água.\\no Se usado em excesso, pode resultar em poluição ambiental,\\ncomo contaminação de águas subterrâneas e eutrofização de\\ncorpos d'água.\\nP: Qual é o processo recomendado para a correção e preparo do solo\\nantes do plantio?\\nR: O processo de correção e preparo do solo antes do plantio é\\nfundamental para garantir que as plantas cresçam de maneira saudável e\\nprodutiva. Esse processo envolve várias etapas que visam melhorar as\\ncondições físicas, químicas e biológicas do solo, tornando-o mais\\nadequado para o cultivo. Aqui está um guia passo a passo para o preparo e\\ncorreção do solo antes do plantio:\\n1. Análise do Solo\\nAntes de iniciar qualquer trabalho de correção, é essencial analisar o solo\\npara entender suas características. A análise do solo fornece informações\\nsobre:\\n\\uf0b7 pH (acidez ou alcalinidade),\\n\\uf0b7 nutrientes disponíveis (nitrogênio, fósforo, potássio, cálcio,\\nmagnésio, enxofre, micronutrientes),\\n\\uf0b7 textura do solo (proporção de areia, silte e argila),\\n\\uf0b7 matéria orgânica,\\n\\uf0b7 sólo salino ou salinidade.\\nEssa análise pode ser feita por meio de kits de teste disponíveis no\\nmercado ou enviando uma amostra para um laboratório especializado.\\n2. Correção do pH do Solo\\nO pH do solo afeta a disponibilidade de nutrientes para as plantas. Se o pH\\ndo solo estiver fora da faixa ideal para as culturas que você deseja plantar,\\né necessário corrigi-lo.\\n\\uf0b7 Para solos ácidos (pH baixo, <6): Use calcário (calcário dolomítico\\nou calcítico) para aumentar o pH e tornar o solo mais alcalino.\"]],\n",
              " 'uris': None,\n",
              " 'data': None,\n",
              " 'metadatas': None,\n",
              " 'distances': None,\n",
              " 'included': [<IncludeEnum.documents: 'documents'>]}"
            ]
          },
          "execution_count": 54,
          "metadata": {},
          "output_type": "execute_result"
        }
      ],
      "source": [
        "chroma_collection.query(query_embedding, n_results=2, include=['documents'])"
      ]
    },
    {
      "cell_type": "code",
      "execution_count": 55,
      "metadata": {
        "id": "cJFz_sgC1odL"
      },
      "outputs": [],
      "source": [
        "chat_engine = index.as_chat_engine(model='context', llm=llms)"
      ]
    },
    {
      "cell_type": "code",
      "execution_count": 56,
      "metadata": {
        "colab": {
          "base_uri": "https://localhost:8080/"
        },
        "id": "WK_TDZ_H1wN7",
        "outputId": "49e338eb-97e1-4259-8670-d06a877a227e"
      },
      "outputs": [
        {
          "name": "stdout",
          "output_type": "stream",
          "text": [
            "Os principais tipos de solo são classificados de acordo com sua composição, estrutura e propriedades. Cada tipo de solo tem características que influenciam na forma de preparação para o cultivo. Os três principais tipos de solo são: Solo Arenoso, Solo Argiloso e Solo Franco. Para preparar o solo arenoso para o cultivo, é essencial melhorar a retenção de água e nutrientes adicionando matéria orgânica como composto ou esterco, e a adição regular de fertilizantes é recomendada. Além disso, o controle de erosão plantando culturas de cobertura pode ajudar a proteger o solo. Para preparar o solo argiloso para o cultivo, aeração é crucial incorporando matéria orgânica para melhorar a estrutura do solo e aumentar o drenagem. É também importante evitar excesso de água, que pode causar encharcamento, e considerar adicionar cal para corrigir níveis de pH se necessário. Já o solo franco é considerado ideal para o cultivo, tendo uma boa combinação de areia, silte e argila. Ele apresenta boa drenagem, retenção de água e capacidade de nutrientes. Para preparar o solo franco para o cultivo, a incorporação de matéria orgânica pode ajudar a manter sua estrutura e fertilidade. Cada tipo de solo requer preparação específica para garantir condições ótimas para o crescimento das plantas.\n"
          ]
        }
      ],
      "source": [
        "pergunta = chat_engine.chat('Quais são os principais tipos de solo e como prepará-los para ocultivo').response\n",
        "print(pergunta)"
      ]
    },
    {
      "cell_type": "code",
      "execution_count": 57,
      "metadata": {
        "colab": {
          "base_uri": "https://localhost:8080/"
        },
        "id": "4PS9p9BP2oUB",
        "outputId": "1f2735bc-8d17-4c1b-e039-4c209d91b120"
      },
      "outputs": [
        {
          "name": "stdout",
          "output_type": "stream",
          "text": [
            "Existem vários tipos de sensores que podem ser utilizados para monitorar a umidade do solo, cada um com sua própria tecnologia e princípio de funcionamento. A escolha do sensor depende de fatores como precisão desejada, profundidade de medição e custo. Alguns dos principais sensores utilizados para monitorar a umidade do solo são: tensiômetros, sensores capacitivos e sensores resistivos. Os tensiômetros medem a tensão da água no solo, que é a força que as raízes das plantas precisam para extrair água do solo. Os sensores capacitivos medem a permissividade elétrica do solo, que é influenciada pela quantidade de água no solo. Os sensores resistivos medem a resistência elétrica do solo, que varia com a umidade. Esses sensores são essenciais para o gerenciamento eficiente de irrigação e prevenir estresse hídrico em plantas.\n"
          ]
        }
      ],
      "source": [
        "pergunta = chat_engine.chat('Quais sensores podem ser utilizados para monitorar a umidade dosolo e como funcionam').response\n",
        "print(pergunta)"
      ]
    },
    {
      "cell_type": "code",
      "execution_count": 61,
      "metadata": {
        "colab": {
          "base_uri": "https://localhost:8080/"
        },
        "id": "0zEb8JD-24f2",
        "outputId": "a9b175f7-f418-41c9-df76-be3d4e17953b"
      },
      "outputs": [
        {
          "name": "stdout",
          "output_type": "stream",
          "text": [
            "Para ajustar o pH do solo para atender às necessidades das diferentes culturas, é essencial conhecer os requisitos específicos de pH de cada cultura. Para solos ácidos (pH abaixo de 6), a aplicação de materiais ricos em cálcio, como calcário ou calcita dolomítica, pode aumentar o pH. Já para solos alcalinos (pH acima de 7), o uso de enxofre ou fertilizantes que formam ácidos pode diminuir o pH. A quantidade e timing da aplicação dependem do tipo de solo, pH atual e requisitos da cultura. É crucial analisar o solo e ajustar o pH adequadamente para garantir a disponibilidade ótima de nutrientes para a cultura desejada.\n"
          ]
        }
      ],
      "source": [
        "pergunta = chat_engine.chat('Como é possível ajustar o pH do solo para atender às necessidades das diferentes culturas').response\n",
        "print(pergunta)"
      ]
    },
    {
      "cell_type": "code",
      "execution_count": 62,
      "metadata": {
        "colab": {
          "base_uri": "https://localhost:8080/"
        },
        "id": "co5Gb-eQ3BuU",
        "outputId": "3882c1ad-c582-4565-dd0d-51b33e918a9a"
      },
      "outputs": [
        {
          "name": "stdout",
          "output_type": "stream",
          "text": [
            "Os principais fertilizantes utilizados são fertilizantes nitrogenados, fosfáticos, potássicos, completos ou NPK e micronutrientes. Os fertilizantes nitrogenados fornecem nitrogênio, os fosfáticos fornecem fósforo, os potássicos fornecem potássio, os completos ou NPK fornecem uma mistura equilibrada de nitrogênio, fósforo e potássio, e os micronutrientes fornecem micronutrientes essenciais como ferro, zinco e boro. A diferença entre fertilizantes orgânicos e químicos reside em sua fonte e modo de ação. Os fertilizantes orgânicos são derivados de fontes naturais como resíduos de plantas, resíduos de animais e matéria vegetal, e liberam nutrientes gradualmente, melhorando a estrutura do solo e a atividade microbiana. Já os fertilizantes químicos são sintetizados em laboratório e fornecem nutrientes rapidamente, mas podem prejudicar a saúde do solo e o meio ambiente se usados excessivamente.\n"
          ]
        }
      ],
      "source": [
        "pergunta = chat_engine.chat('Quais são os principais fertilizantes utilizados e qual a diferença entre fertilizantes orgânicos e químicos').response\n",
        "print(pergunta)"
      ]
    },
    {
      "cell_type": "code",
      "execution_count": 65,
      "metadata": {
        "colab": {
          "base_uri": "https://localhost:8080/"
        },
        "id": "8YqTy4SY_dP-",
        "outputId": "1d5ade2c-2e7d-4a94-a0a2-80348344bf98"
      },
      "outputs": [
        {
          "name": "stdout",
          "output_type": "stream",
          "text": [
            "O processo recomendado para a correção e preparo do solo antes do plantio envolve várias etapas que visam melhorar as condições físicas, químicas e biológicas do solo, tornando-o mais adequado para o cultivo. As etapas incluem análise do solo, correção do pH do solo, adição de nutrientes, incorporação de matéria orgânica, trabalho do solo, nivelamento e suavização. Essas etapas ajudarão a criar um ambiente favorável para o crescimento das plantas, garantindo uma colheita saudável e produtiva.\n"
          ]
        }
      ],
      "source": [
        "pergunta = chat_engine.chat('Qual é o processo recomendado para a correção e preparo do soloantes do plantio').response\n",
        "print(pergunta)"
      ]
    },
    {
      "cell_type": "code",
      "execution_count": 66,
      "metadata": {
        "colab": {
          "base_uri": "https://localhost:8080/"
        },
        "id": "hypvGunqBcKb",
        "outputId": "5757274c-ec76-4943-93de-8dbba7c54520"
      },
      "outputs": [
        {
          "name": "stdout",
          "output_type": "stream",
          "text": [
            "Para garantir a fertilidade do solo para diferentes tipos de culturas, é necessário considerar as necessidades nutricionais específicas de cada planta, ao mesmo tempo em que se mantém a saúde e a sustentabilidade do solo a longo prazo. Isso é alcançado considerando nutrientes essenciais, estrutura física e atividade biológica. Algumas práticas-chave para garantir a fertilidade do solo incluem análise do solo, evitar erosão e compactação, usar mulching, aeração e práticas de conservação, além de adotar métodos de irrigação eficientes, usar microorganismos e implementar fertirrigação.\n"
          ]
        }
      ],
      "source": [
        "pergunta = chat_engine.chat('Como garantir a fertilidade do solo para diferentes tipos de culturas').response\n",
        "print(pergunta)"
      ]
    },
    {
      "cell_type": "code",
      "execution_count": 67,
      "metadata": {
        "colab": {
          "base_uri": "https://localhost:8080/"
        },
        "id": "iHIFnr2BBrcu",
        "outputId": "d210d839-431d-4ca0-d8dd-9590967781f1"
      },
      "outputs": [
        {
          "name": "stdout",
          "output_type": "stream",
          "text": [
            "Os principais fatores que devem ser levados em consideração ao planejar a irrigação do solo são o tipo de solo, a capacidade de retenção e drenagem de água do solo, as necessidades específicas de água de cada cultura, as condições climáticas e meteorológicas, e a disponibilidade de água na região. É essencial considerar esses fatores para garantir uma irrigação eficiente e sustentável, evitando desperdício de água e garantindo o crescimento saudável das culturas.\n"
          ]
        }
      ],
      "source": [
        "pergunta = chat_engine.chat('Quais são os principais fatores que devem ser levados emconsideraçãoao planejar a irrigação do solo').response\n",
        "print(pergunta)"
      ]
    },
    {
      "cell_type": "code",
      "execution_count": 68,
      "metadata": {
        "colab": {
          "base_uri": "https://localhost:8080/"
        },
        "id": "9qBKdIwACDNB",
        "outputId": "f42ce885-08cc-4afd-fe8b-af16a494e46f"
      },
      "outputs": [
        {
          "name": "stdout",
          "output_type": "stream",
          "text": [
            "To avoid soil compaction and erosion, the best practices include using techniques of soil management, implementing terracing in sloping lands, maintaining soil structure, employing precision agriculture techniques, implementing controlled irrigation methods, collecting and storing rainwater for irrigation, and using fertilizers and chemicals appropriately.\n"
          ]
        }
      ],
      "source": [
        "pergunta = chat_engine.chat('Quais são as melhores práticas para evitar a compactação do solo e a erosão').response\n",
        "print(pergunta)"
      ]
    },
    {
      "cell_type": "code",
      "execution_count": 69,
      "metadata": {
        "colab": {
          "base_uri": "https://localhost:8080/"
        },
        "id": "7k4s3QPECUbP",
        "outputId": "8c0c82a1-376f-4b65-ae11-2422ac16b6cf"
      },
      "outputs": [
        {
          "name": "stdout",
          "output_type": "stream",
          "text": [
            "Um agricultor pode obter mais informações sobre preparo do solo e escolha de sementes através de várias fontes, incluindo:\n",
            "\n",
            "* Extensão rural e serviços de assistência técnica do governo\n",
            "* Universidades e instituições de pesquisa agrícola\n",
            "* Associações de agricultores e cooperativas\n",
            "* Fabricantes de insumos agrícolas e sementes\n",
            "* Consultores agrícolas e especialistas em solo\n",
            "* Publicações e revistas agrícolas\n",
            "* Sites e plataformas online de agricultura sustentável\n",
            "* Workshops e cursos de capacitação em agricultura\n",
            "* Experimentos e demonstrações em campo\n",
            "\n",
            "É importante buscar informações de fontes confiáveis e atualizadas para garantir que as práticas adotadas sejam eficazes e sustentáveis.\n"
          ]
        }
      ],
      "source": [
        "pergunta = chat_engine.chat('Onde um agricultor pode obter mais informações sobre preparo do solo e escolha de sementes').response\n",
        "print(pergunta)"
      ]
    },
    {
      "cell_type": "code",
      "execution_count": 70,
      "metadata": {
        "colab": {
          "base_uri": "https://localhost:8080/"
        },
        "id": "B-C5qcPECj6G",
        "outputId": "27b314ed-2c08-4350-b6d5-09a3e5b7618e"
      },
      "outputs": [
        {
          "data": {
            "text/plain": [
              "[ChatMessage(role=<MessageRole.USER: 'user'>, additional_kwargs={}, blocks=[TextBlock(block_type='text', text='Quais são os principais tipos de solo e como prepará-los para ocultivo')]),\n",
              " ChatMessage(role=<MessageRole.ASSISTANT: 'assistant'>, additional_kwargs={}, blocks=[TextBlock(block_type='text', text='Os principais tipos de solo são classificados de acordo com sua composição, estrutura e propriedades. Cada tipo de solo tem características que influenciam na forma de preparação para o cultivo. Os três principais tipos de solo são: Solo Arenoso, Solo Argiloso e Solo Franco. Para preparar o solo arenoso para o cultivo, é essencial melhorar a retenção de água e nutrientes adicionando matéria orgânica como composto ou esterco, e a adição regular de fertilizantes é recomendada. Além disso, o controle de erosão plantando culturas de cobertura pode ajudar a proteger o solo. Para preparar o solo argiloso para o cultivo, aeração é crucial incorporando matéria orgânica para melhorar a estrutura do solo e aumentar o drenagem. É também importante evitar excesso de água, que pode causar encharcamento, e considerar adicionar cal para corrigir níveis de pH se necessário. Já o solo franco é considerado ideal para o cultivo, tendo uma boa combinação de areia, silte e argila. Ele apresenta boa drenagem, retenção de água e capacidade de nutrientes. Para preparar o solo franco para o cultivo, a incorporação de matéria orgânica pode ajudar a manter sua estrutura e fertilidade. Cada tipo de solo requer preparação específica para garantir condições ótimas para o crescimento das plantas.')]),\n",
              " ChatMessage(role=<MessageRole.USER: 'user'>, additional_kwargs={}, blocks=[TextBlock(block_type='text', text='Quais sensores podem ser utilizados para monitorar a umidade dosolo e como funcionam')]),\n",
              " ChatMessage(role=<MessageRole.ASSISTANT: 'assistant'>, additional_kwargs={}, blocks=[TextBlock(block_type='text', text='Existem vários tipos de sensores que podem ser utilizados para monitorar a umidade do solo, cada um com sua própria tecnologia e princípio de funcionamento. A escolha do sensor depende de fatores como precisão desejada, profundidade de medição e custo. Alguns dos principais sensores utilizados para monitorar a umidade do solo são: tensiômetros, sensores capacitivos e sensores resistivos. Os tensiômetros medem a tensão da água no solo, que é a força que as raízes das plantas precisam para extrair água do solo. Os sensores capacitivos medem a permissividade elétrica do solo, que é influenciada pela quantidade de água no solo. Os sensores resistivos medem a resistência elétrica do solo, que varia com a umidade. Esses sensores são essenciais para o gerenciamento eficiente de irrigação e prevenir estresse hídrico em plantas.')]),\n",
              " ChatMessage(role=<MessageRole.USER: 'user'>, additional_kwargs={}, blocks=[TextBlock(block_type='text', text='Como é possível ajustar o pH do solo para atender às necessidadesdasdiferentes culturas')]),\n",
              " ChatMessage(role=<MessageRole.ASSISTANT: 'assistant'>, additional_kwargs={}, blocks=[TextBlock(block_type='text', text='Para ajustar o pH do solo para atender às necessidades das diferentes culturas, é essencial conhecer os requisitos específicos de pH de cada cultura. Para solos ácidos (pH abaixo de 6), a aplicação de materiais ricos em cálcio, como calcário, pode aumentar o pH. Para solos alcalinos (pH acima de 7), o uso de enxofre ou fertilizantes que formam ácidos pode diminuir o pH. A quantidade e tipo de material necessário dependem do pH atual e do tipo de solo. É recomendável aplicar as necessárias ajustes 3-6 meses antes da plantação para permitir que os materiais reajam com o solo.')]),\n",
              " ChatMessage(role=<MessageRole.USER: 'user'>, additional_kwargs={}, blocks=[TextBlock(block_type='text', text='Quais são os principais fertilizantes utilizados e qual a diferença entrefertilizantes orgânicos e químicos')]),\n",
              " ChatMessage(role=<MessageRole.ASSISTANT: 'assistant'>, additional_kwargs={}, blocks=[TextBlock(block_type='text', text='Os principais fertilizantes utilizados são nitrogenados, fosfáticos, potássicos, completos ou NPK e micronutrientes. Os fertilizantes nitrogenados fornecem nitrogênio, os fosfáticos fornecem fósforo, os potássicos fornecem potássio, os completos ou NPK fornecem uma mistura equilibrada de nitrogênio, fósforo e potássio, e os micronutrientes fornecem micronutrientes essenciais como ferro, zinco e cobre. A diferença entre fertilizantes orgânicos e químicos reside em sua fonte e modo de ação. Os fertilizantes orgânicos são derivados de fontes naturais como resíduos de plantas, resíduos de animais e matéria vegetal, e liberam nutrientes gradualmente, melhorando a estrutura do solo e a atividade microbiana. Exemplos de fertilizantes orgânicos incluem composto, esterco animal e farinha de ossos. Por outro lado, os fertilizantes químicos são sintetizados em laboratório e fornecem nutrientes rapidamente, mas podem prejudicar a saúde do solo e o meio ambiente se usados excessivamente.')]),\n",
              " ChatMessage(role=<MessageRole.USER: 'user'>, additional_kwargs={}, blocks=[TextBlock(block_type='text', text='Quais são os principais fertilizantes utilizados e qual a diferença entre fertilizantes orgânicos e químicos')]),\n",
              " ChatMessage(role=<MessageRole.ASSISTANT: 'assistant'>, additional_kwargs={}, blocks=[TextBlock(block_type='text', text='Os principais fertilizantes utilizados são fertilizantes nitrogenados, fosfáticos, potássicos, completos ou NPK e micronutrientes. Os fertilizantes nitrogenados fornecem nitrogênio, os fosfáticos fornecem fósforo, os potássicos fornecem potássio, os completos ou NPK fornecem uma mistura equilibrada de nitrogênio, fósforo e potássio, e os micronutrientes fornecem micronutrientes essenciais como ferro, manganês, zinco, cobre, molibdênio e boro. A diferença entre fertilizantes orgânicos e químicos é que os fertilizantes orgânicos são derivados de fontes naturais como resíduos de plantas, resíduos de animais e matéria vegetal, e liberam nutrientes gradualmente, melhorando a estrutura do solo e a atividade microbiana. Já os fertilizantes químicos são sintetizados em laboratório e fornecem nutrientes rapidamente, mas podem prejudicar a saúde do solo e o meio ambiente se usados excessivamente.')]),\n",
              " ChatMessage(role=<MessageRole.USER: 'user'>, additional_kwargs={}, blocks=[TextBlock(block_type='text', text='Como é possível ajustar o pH do solo para atender às necessidades das diferentes culturas')]),\n",
              " ChatMessage(role=<MessageRole.ASSISTANT: 'assistant'>, additional_kwargs={}, blocks=[TextBlock(block_type='text', text='Para ajustar o pH do solo para atender às necessidades das diferentes culturas, é essencial conhecer os requisitos específicos de pH de cada cultura. Para solos ácidos (pH abaixo de 6), a aplicação de materiais ricos em cálcio, como calcário ou calcita dolomítica, pode aumentar o pH. Já para solos alcalinos (pH acima de 7), o uso de enxofre ou fertilizantes que formam ácidos pode diminuir o pH. A quantidade e timing da aplicação dependem do tipo de solo, pH atual e requisitos da cultura. É crucial analisar o solo e ajustar o pH adequadamente para garantir a disponibilidade ótima de nutrientes para a cultura desejada.')]),\n",
              " ChatMessage(role=<MessageRole.USER: 'user'>, additional_kwargs={}, blocks=[TextBlock(block_type='text', text='Quais são os principais fertilizantes utilizados e qual a diferença entre fertilizantes orgânicos e químicos')]),\n",
              " ChatMessage(role=<MessageRole.ASSISTANT: 'assistant'>, additional_kwargs={}, blocks=[TextBlock(block_type='text', text='Os principais fertilizantes utilizados são fertilizantes nitrogenados, fosfáticos, potássicos, completos ou NPK e micronutrientes. Os fertilizantes nitrogenados fornecem nitrogênio, os fosfáticos fornecem fósforo, os potássicos fornecem potássio, os completos ou NPK fornecem uma mistura equilibrada de nitrogênio, fósforo e potássio, e os micronutrientes fornecem micronutrientes essenciais como ferro, zinco e boro. A diferença entre fertilizantes orgânicos e químicos reside em sua fonte e modo de ação. Os fertilizantes orgânicos são derivados de fontes naturais como resíduos de plantas, resíduos de animais e matéria vegetal, e liberam nutrientes gradualmente, melhorando a estrutura do solo e a atividade microbiana. Já os fertilizantes químicos são sintetizados em laboratório e fornecem nutrientes rapidamente, mas podem prejudicar a saúde do solo e o meio ambiente se usados excessivamente.')]),\n",
              " ChatMessage(role=<MessageRole.USER: 'user'>, additional_kwargs={}, blocks=[TextBlock(block_type='text', text='Qual é o processo recomendado para a correção e preparo do soloantes do plantio')]),\n",
              " ChatMessage(role=<MessageRole.ASSISTANT: 'assistant'>, additional_kwargs={}, blocks=[TextBlock(block_type='text', text='O processo recomendado para a correção e preparo do solo antes do plantio envolve várias etapas que visam melhorar as condições físicas, químicas e biológicas do solo, tornando-o mais adequado para o cultivo. As etapas incluem análise do solo, correção do pH do solo, adição de nutrientes, incorporação de matéria orgânica, trabalho do solo, nivelamento e suavização. Essas etapas ajudarão a criar um ambiente favorável para o crescimento das plantas, garantindo uma colheita saudável e produtiva.')]),\n",
              " ChatMessage(role=<MessageRole.USER: 'user'>, additional_kwargs={}, blocks=[TextBlock(block_type='text', text='Como garantir a fertilidade do solo para diferentes tipos de culturas')]),\n",
              " ChatMessage(role=<MessageRole.ASSISTANT: 'assistant'>, additional_kwargs={}, blocks=[TextBlock(block_type='text', text='Para garantir a fertilidade do solo para diferentes tipos de culturas, é necessário considerar as necessidades nutricionais específicas de cada planta, ao mesmo tempo em que se mantém a saúde e a sustentabilidade do solo a longo prazo. Isso é alcançado considerando nutrientes essenciais, estrutura física e atividade biológica. Algumas práticas-chave para garantir a fertilidade do solo incluem análise do solo, evitar erosão e compactação, usar mulching, aeração e práticas de conservação, além de adotar métodos de irrigação eficientes, usar microorganismos e implementar fertirrigação.')]),\n",
              " ChatMessage(role=<MessageRole.USER: 'user'>, additional_kwargs={}, blocks=[TextBlock(block_type='text', text='Quais são os principais fatores que devem ser levados emconsideraçãoao planejar a irrigação do solo')]),\n",
              " ChatMessage(role=<MessageRole.ASSISTANT: 'assistant'>, additional_kwargs={}, blocks=[TextBlock(block_type='text', text='Os principais fatores que devem ser levados em consideração ao planejar a irrigação do solo são o tipo de solo, a capacidade de retenção e drenagem de água do solo, as necessidades específicas de água de cada cultura, as condições climáticas e meteorológicas, e a disponibilidade de água na região. É essencial considerar esses fatores para garantir uma irrigação eficiente e sustentável, evitando desperdício de água e garantindo o crescimento saudável das culturas.')]),\n",
              " ChatMessage(role=<MessageRole.USER: 'user'>, additional_kwargs={}, blocks=[TextBlock(block_type='text', text='Quais são as melhores práticas para evitar a compactação do solo e a erosão')]),\n",
              " ChatMessage(role=<MessageRole.ASSISTANT: 'assistant'>, additional_kwargs={}, blocks=[TextBlock(block_type='text', text='To avoid soil compaction and erosion, the best practices include using techniques of soil management, implementing terracing in sloping lands, maintaining soil structure, employing precision agriculture techniques, implementing controlled irrigation methods, collecting and storing rainwater for irrigation, and using fertilizers and chemicals appropriately.')]),\n",
              " ChatMessage(role=<MessageRole.USER: 'user'>, additional_kwargs={}, blocks=[TextBlock(block_type='text', text='Onde um agricultor pode obter mais informações sobre preparo do solo e escolha de sementes')]),\n",
              " ChatMessage(role=<MessageRole.ASSISTANT: 'assistant'>, additional_kwargs={}, blocks=[TextBlock(block_type='text', text='Um agricultor pode obter mais informações sobre preparo do solo e escolha de sementes através de várias fontes, incluindo:\\n\\n* Extensão rural e serviços de assistência técnica do governo\\n* Universidades e instituições de pesquisa agrícola\\n* Associações de agricultores e cooperativas\\n* Fabricantes de insumos agrícolas e sementes\\n* Consultores agrícolas e especialistas em solo\\n* Publicações e revistas agrícolas\\n* Sites e plataformas online de agricultura sustentável\\n* Workshops e cursos de capacitação em agricultura\\n* Experimentos e demonstrações em campo\\n\\nÉ importante buscar informações de fontes confiáveis e atualizadas para garantir que as práticas adotadas sejam eficazes e sustentáveis.')])]"
            ]
          },
          "execution_count": 70,
          "metadata": {},
          "output_type": "execute_result"
        }
      ],
      "source": [
        "chat_engine.chat_history"
      ]
    },
    {
      "cell_type": "code",
      "execution_count": 71,
      "metadata": {
        "id": "22h0jyxyCn-T"
      },
      "outputs": [],
      "source": [
        "from llama_index.core.memory import ChatSummaryMemoryBuffer"
      ]
    },
    {
      "cell_type": "code",
      "execution_count": 72,
      "metadata": {
        "id": "bdEHif37CvML"
      },
      "outputs": [],
      "source": [
        "memory = ChatSummaryMemoryBuffer(llm=llms, token_limit=256)"
      ]
    },
    {
      "cell_type": "code",
      "execution_count": 74,
      "metadata": {
        "id": "9r5B0SHHC17L"
      },
      "outputs": [],
      "source": [
        "chat_engine = index.as_chat_engine(\n",
        "    chat_mode = 'context',\n",
        "    llm=llms,\n",
        "    memory=memory,\n",
        "    system_prompt=('''Voce é especialista em  agronegocio, sua função é realizar a leitura de pdf com informações sobre agricultura, tipos de solo, que auxilie o agricultor na escolha da semente e como preparar o solo para o plantio, bem como definir os limites de temperatura para o solo e irrigação de acordo com a semente plantada''')\n",
        ")"
      ]
    },
    {
      "cell_type": "code",
      "execution_count": 75,
      "metadata": {
        "colab": {
          "base_uri": "https://localhost:8080/"
        },
        "id": "NrNy3RQqD-C_",
        "outputId": "33a6c1f3-b3a6-462b-815e-0935d3c275c0"
      },
      "outputs": [
        {
          "name": "stdout",
          "output_type": "stream",
          "text": [
            "Olá! Eu sou um especialista em agronegócios e estou aqui para ajudar. Estou lendo um PDF com informações sobre agricultura, tipos de solo, preparo do solo para o plantio, escolha de sementes, limites de temperatura para o solo e irrigação. Como posso ajudar você hoje?\n"
          ]
        }
      ],
      "source": [
        "response = chat_engine.chat('Ola')\n",
        "print(response)"
      ]
    },
    {
      "cell_type": "code",
      "execution_count": 76,
      "metadata": {
        "colab": {
          "base_uri": "https://localhost:8080/"
        },
        "id": "t_X9z-SNEKH1",
        "outputId": "175d1b7e-31e3-45be-d46c-d93df938cea5"
      },
      "outputs": [
        {
          "name": "stdout",
          "output_type": "stream",
          "text": [
            "Claro! Estou aqui para ajudar. Para criar um plano de cultivo, preciso saber mais sobre o que você deseja plantar e as condições do seu solo. Por favor, me forneça mais informações sobre:\n",
            "\n",
            "1. Qual é o tipo de cultura que você deseja plantar (ex: tomate, pimentão, cenoura, feijão, maçã, etc.)?\n",
            "2. Qual é o tipo de solo que você tem (ex: arejado, bem drenado, argiloso, etc.)?\n",
            "3. Qual é o clima e região em que você se encontra?\n",
            "4. Quais são as suas necessidades específicas para o cultivo (ex: irrigação, fertilizantes, etc.)?\n",
            "\n",
            "Com essas informações, posso começar a criar um plano de cultivo personalizado para você!\n"
          ]
        }
      ],
      "source": [
        "response = chat_engine.chat('Voce pode me ajudar com um plano de cultivo?')\n",
        "print(response)"
      ]
    },
    {
      "cell_type": "code",
      "execution_count": 78,
      "metadata": {
        "colab": {
          "base_uri": "https://localhost:8080/"
        },
        "id": "T9HMU4GkEYT9",
        "outputId": "a3f89cba-d857-4dc3-a382-3ea865412cab"
      },
      "outputs": [
        {
          "name": "stdout",
          "output_type": "stream",
          "text": [
            "Excelente pergunta! O custo total do plano de cultivo vai depender de vários fatores, como o tipo de cultura que você deseja plantar, o tamanho da área a ser cultivada, o tipo de solo, a irrigação necessária e os equipamentos e insumos necessários.\n",
            "\n",
            "No entanto, posso fornecer uma estimativa geral dos custos envolvidos em um plano de cultivo. Aqui estão algumas categorias de despesas que você pode esperar:\n",
            "\n",
            "* Sementes: R$ 500 a R$ 2.000, dependendo do tipo e quantidade de sementes necessárias.\n",
            "* Fertilizantes: R$ 1.000 a R$ 5.000, dependendo do tipo e quantidade de fertilizantes necessários.\n",
            "* Equipamentos: R$ 2.000 a R$ 10.000, dependendo do tipo e quantidade de equipamentos necessários, como tratores, arados, etc.\n",
            "* Irrigação: R$ 1.000 a R$ 5.000, dependendo do tipo e quantidade de sistema de irrigação necessária.\n",
            "* Mão de obra: R$ 2.000 a R$ 10.000, dependendo do número de trabalhadores necessários e do tempo de trabalho.\n",
            "\n",
            "No total, o custo do plano de cultivo pode variar de R$ 7.000 a R$ 32.000 ou mais, dependendo das necessidades específicas da sua cultura.\n",
            "\n",
            "Mas, para fornecer uma estimativa mais precisa, preciso saber mais sobre o seu plano de cultivo. Pode me fornecer mais informações sobre o tipo de cultura que você deseja plantar, o tamanho da área a ser cultivada e os recursos que você já tem disponíveis?\n"
          ]
        }
      ],
      "source": [
        "response = chat_engine.chat('Quanto vou ter que desembolsar?')\n",
        "print(response)"
      ]
    },
    {
      "cell_type": "code",
      "execution_count": 79,
      "metadata": {
        "colab": {
          "base_uri": "https://localhost:8080/"
        },
        "id": "CglFiKuxE2jF",
        "outputId": "aeea7d66-861b-4f7e-de41-2b638028a57b"
      },
      "outputs": [
        {
          "data": {
            "text/plain": [
              "[ChatMessage(role=<MessageRole.SYSTEM: 'system'>, additional_kwargs={}, blocks=[TextBlock(block_type='text', text='The user is asking how much they will have to spend on the cultivation plan. The assistant provides a general estimate of the costs involved, breaking them down into categories such as seeds, fertilizers, equipment, irrigation, and labor. The assistant also asks for more information about the type of crop, the size of the area to be cultivated, and the resources already available to provide a more accurate estimate of the costs.')])]"
            ]
          },
          "execution_count": 79,
          "metadata": {},
          "output_type": "execute_result"
        }
      ],
      "source": [
        "memory.get()"
      ]
    },
    {
      "cell_type": "code",
      "execution_count": 80,
      "metadata": {
        "id": "TPOjpCLZE6jh"
      },
      "outputs": [],
      "source": [
        "#resetando o chat\n",
        "chat_engine.reset()"
      ]
    },
    {
      "cell_type": "code",
      "execution_count": 86,
      "metadata": {
        "colab": {
          "base_uri": "https://localhost:8080/"
        },
        "id": "ECF9hyvpFfdA",
        "outputId": "9c058c71-2f72-4ca4-c646-d6892965863b"
      },
      "outputs": [
        {
          "name": "stdout",
          "output_type": "stream",
          "text": [
            "Sim, posso ajudar! Para criar um plano de cultivo, preciso saber mais sobre o que você deseja plantar e as condições do seu solo. Por favor, forneça mais informações sobre:\n",
            "\n",
            "1. Qual é o tipo de cultura que você deseja plantar (ex: tomate, feijão, cenoura, etc.)?\n",
            "2. Qual é o tipo de solo que você tem (ex: arejado, argiloso, etc.)?\n",
            "3. Qual é o clima e a região em que você se encontra?\n",
            "4. Quais são os recursos que você tem disponíveis (ex: água, fertilizantes, etc.)?\n",
            "\n",
            "Com essas informações, posso ajudar a criar um plano de cultivo personalizado para você!\n"
          ]
        }
      ],
      "source": [
        "response = chat_engine.chat('Voce pode me ajudar com um plano de cultivo?')\n",
        "print(response)"
      ]
    },
    {
      "cell_type": "code",
      "execution_count": 88,
      "metadata": {
        "colab": {
          "base_uri": "https://localhost:8080/"
        },
        "id": "bB2dVTKTFlq_",
        "outputId": "61130ef0-4316-46f2-cbf9-3ace17b22401"
      },
      "outputs": [
        {
          "name": "stdout",
          "output_type": "stream",
          "text": [
            "Peço desculpas novamente, mas como o texto não fornece informações sobre custos ou valores específicos, não posso fornecer uma estimativa de despesas para o plano de cultivo.\n",
            "\n",
            "No entanto, posso sugerir que você considere os seguintes fatores que podem afetar os custos do seu plano de cultivo:\n",
            "\n",
            "* Tipo de cultura que você deseja plantar (ex: tomate, feijão, cenoura, etc.)\n",
            "* Tipo de solo que você tem (ex: solo bem arejado, solo argiloso, etc.)\n",
            "* Quantidade de fertilizantes e adubos necessários\n",
            "* Necessidade de irrigação e sistema de irrigação\n",
            "* Equipamentos e ferramentas necessários para o preparo do solo e plantio\n",
            "* Mão de obra e recursos humanos necessários\n",
            "\n",
            "É importante que você faça uma avaliação detalhada dos seus recursos e necessidades para obter uma estimativa mais precisa dos custos envolvidos.\n",
            "\n",
            "Se você tiver mais alguma dúvida sobre agricultura ou preparo do solo, estou aqui para ajudar!\n"
          ]
        }
      ],
      "source": [
        "response = chat_engine.chat('Quanto vou ter que desembolsar com relação ao plano de cultivo mencionado anteriormente?')\n",
        "print(response)"
      ]
    },
    {
      "cell_type": "code",
      "execution_count": 89,
      "metadata": {
        "colab": {
          "base_uri": "https://localhost:8080/"
        },
        "id": "krkw9un-FxLc",
        "outputId": "5bad48d1-0749-4835-d11c-adb9528592f3"
      },
      "outputs": [
        {
          "name": "stdout",
          "output_type": "stream",
          "text": [
            "Collecting Gradio\n",
            "  Downloading gradio-5.23.1-py3-none-any.whl.metadata (16 kB)\n",
            "Collecting aiofiles<24.0,>=22.0 (from Gradio)\n",
            "  Downloading aiofiles-23.2.1-py3-none-any.whl.metadata (9.7 kB)\n",
            "Requirement already satisfied: anyio<5.0,>=3.0 in /usr/local/lib/python3.11/dist-packages (from Gradio) (4.9.0)\n",
            "Requirement already satisfied: fastapi<1.0,>=0.115.2 in /usr/local/lib/python3.11/dist-packages (from Gradio) (0.115.12)\n",
            "Collecting ffmpy (from Gradio)\n",
            "  Downloading ffmpy-0.5.0-py3-none-any.whl.metadata (3.0 kB)\n",
            "Collecting gradio-client==1.8.0 (from Gradio)\n",
            "  Downloading gradio_client-1.8.0-py3-none-any.whl.metadata (7.1 kB)\n",
            "Collecting groovy~=0.1 (from Gradio)\n",
            "  Downloading groovy-0.1.2-py3-none-any.whl.metadata (6.1 kB)\n",
            "Requirement already satisfied: httpx>=0.24.1 in /usr/local/lib/python3.11/dist-packages (from Gradio) (0.28.1)\n",
            "Requirement already satisfied: huggingface-hub>=0.28.1 in /usr/local/lib/python3.11/dist-packages (from Gradio) (0.29.3)\n",
            "Requirement already satisfied: jinja2<4.0 in /usr/local/lib/python3.11/dist-packages (from Gradio) (3.1.6)\n",
            "Requirement already satisfied: markupsafe<4.0,>=2.0 in /usr/local/lib/python3.11/dist-packages (from Gradio) (3.0.2)\n",
            "Requirement already satisfied: numpy<3.0,>=1.0 in /usr/local/lib/python3.11/dist-packages (from Gradio) (2.0.2)\n",
            "Requirement already satisfied: orjson~=3.0 in /usr/local/lib/python3.11/dist-packages (from Gradio) (3.10.15)\n",
            "Requirement already satisfied: packaging in /usr/local/lib/python3.11/dist-packages (from Gradio) (24.2)\n",
            "Requirement already satisfied: pandas<3.0,>=1.0 in /usr/local/lib/python3.11/dist-packages (from Gradio) (2.2.2)\n",
            "Requirement already satisfied: pillow<12.0,>=8.0 in /usr/local/lib/python3.11/dist-packages (from Gradio) (11.1.0)\n",
            "Requirement already satisfied: pydantic>=2.0 in /usr/local/lib/python3.11/dist-packages (from Gradio) (2.10.6)\n",
            "Collecting pydub (from Gradio)\n",
            "  Downloading pydub-0.25.1-py2.py3-none-any.whl.metadata (1.4 kB)\n",
            "Collecting python-multipart>=0.0.18 (from Gradio)\n",
            "  Downloading python_multipart-0.0.20-py3-none-any.whl.metadata (1.8 kB)\n",
            "Requirement already satisfied: pyyaml<7.0,>=5.0 in /usr/local/lib/python3.11/dist-packages (from Gradio) (6.0.2)\n",
            "Collecting ruff>=0.9.3 (from Gradio)\n",
            "  Downloading ruff-0.11.2-py3-none-manylinux_2_17_x86_64.manylinux2014_x86_64.whl.metadata (25 kB)\n",
            "Collecting safehttpx<0.2.0,>=0.1.6 (from Gradio)\n",
            "  Downloading safehttpx-0.1.6-py3-none-any.whl.metadata (4.2 kB)\n",
            "Collecting semantic-version~=2.0 (from Gradio)\n",
            "  Downloading semantic_version-2.10.0-py2.py3-none-any.whl.metadata (9.7 kB)\n",
            "Requirement already satisfied: starlette<1.0,>=0.40.0 in /usr/local/lib/python3.11/dist-packages (from Gradio) (0.46.1)\n",
            "Collecting tomlkit<0.14.0,>=0.12.0 (from Gradio)\n",
            "  Downloading tomlkit-0.13.2-py3-none-any.whl.metadata (2.7 kB)\n",
            "Requirement already satisfied: typer<1.0,>=0.12 in /usr/local/lib/python3.11/dist-packages (from Gradio) (0.15.2)\n",
            "Requirement already satisfied: typing-extensions~=4.0 in /usr/local/lib/python3.11/dist-packages (from Gradio) (4.12.2)\n",
            "Requirement already satisfied: uvicorn>=0.14.0 in /usr/local/lib/python3.11/dist-packages (from Gradio) (0.34.0)\n",
            "Requirement already satisfied: fsspec in /usr/local/lib/python3.11/dist-packages (from gradio-client==1.8.0->Gradio) (2025.3.0)\n",
            "Requirement already satisfied: websockets<16.0,>=10.0 in /usr/local/lib/python3.11/dist-packages (from gradio-client==1.8.0->Gradio) (15.0.1)\n",
            "Requirement already satisfied: idna>=2.8 in /usr/local/lib/python3.11/dist-packages (from anyio<5.0,>=3.0->Gradio) (3.10)\n",
            "Requirement already satisfied: sniffio>=1.1 in /usr/local/lib/python3.11/dist-packages (from anyio<5.0,>=3.0->Gradio) (1.3.1)\n",
            "Requirement already satisfied: certifi in /usr/local/lib/python3.11/dist-packages (from httpx>=0.24.1->Gradio) (2025.1.31)\n",
            "Requirement already satisfied: httpcore==1.* in /usr/local/lib/python3.11/dist-packages (from httpx>=0.24.1->Gradio) (1.0.7)\n",
            "Requirement already satisfied: h11<0.15,>=0.13 in /usr/local/lib/python3.11/dist-packages (from httpcore==1.*->httpx>=0.24.1->Gradio) (0.14.0)\n",
            "Requirement already satisfied: filelock in /usr/local/lib/python3.11/dist-packages (from huggingface-hub>=0.28.1->Gradio) (3.18.0)\n",
            "Requirement already satisfied: requests in /usr/local/lib/python3.11/dist-packages (from huggingface-hub>=0.28.1->Gradio) (2.32.3)\n",
            "Requirement already satisfied: tqdm>=4.42.1 in /usr/local/lib/python3.11/dist-packages (from huggingface-hub>=0.28.1->Gradio) (4.67.1)\n",
            "Requirement already satisfied: python-dateutil>=2.8.2 in /usr/local/lib/python3.11/dist-packages (from pandas<3.0,>=1.0->Gradio) (2.8.2)\n",
            "Requirement already satisfied: pytz>=2020.1 in /usr/local/lib/python3.11/dist-packages (from pandas<3.0,>=1.0->Gradio) (2025.1)\n",
            "Requirement already satisfied: tzdata>=2022.7 in /usr/local/lib/python3.11/dist-packages (from pandas<3.0,>=1.0->Gradio) (2025.1)\n",
            "Requirement already satisfied: annotated-types>=0.6.0 in /usr/local/lib/python3.11/dist-packages (from pydantic>=2.0->Gradio) (0.7.0)\n",
            "Requirement already satisfied: pydantic-core==2.27.2 in /usr/local/lib/python3.11/dist-packages (from pydantic>=2.0->Gradio) (2.27.2)\n",
            "Requirement already satisfied: click>=8.0.0 in /usr/local/lib/python3.11/dist-packages (from typer<1.0,>=0.12->Gradio) (8.1.8)\n",
            "Requirement already satisfied: shellingham>=1.3.0 in /usr/local/lib/python3.11/dist-packages (from typer<1.0,>=0.12->Gradio) (1.5.4)\n",
            "Requirement already satisfied: rich>=10.11.0 in /usr/local/lib/python3.11/dist-packages (from typer<1.0,>=0.12->Gradio) (13.9.4)\n",
            "Requirement already satisfied: six>=1.5 in /usr/local/lib/python3.11/dist-packages (from python-dateutil>=2.8.2->pandas<3.0,>=1.0->Gradio) (1.17.0)\n",
            "Requirement already satisfied: markdown-it-py>=2.2.0 in /usr/local/lib/python3.11/dist-packages (from rich>=10.11.0->typer<1.0,>=0.12->Gradio) (3.0.0)\n",
            "Requirement already satisfied: pygments<3.0.0,>=2.13.0 in /usr/local/lib/python3.11/dist-packages (from rich>=10.11.0->typer<1.0,>=0.12->Gradio) (2.18.0)\n",
            "Requirement already satisfied: charset-normalizer<4,>=2 in /usr/local/lib/python3.11/dist-packages (from requests->huggingface-hub>=0.28.1->Gradio) (3.4.1)\n",
            "Requirement already satisfied: urllib3<3,>=1.21.1 in /usr/local/lib/python3.11/dist-packages (from requests->huggingface-hub>=0.28.1->Gradio) (2.3.0)\n",
            "Requirement already satisfied: mdurl~=0.1 in /usr/local/lib/python3.11/dist-packages (from markdown-it-py>=2.2.0->rich>=10.11.0->typer<1.0,>=0.12->Gradio) (0.1.2)\n",
            "Downloading gradio-5.23.1-py3-none-any.whl (51.3 MB)\n",
            "\u001b[2K   \u001b[90m━━━━━━━━━━━━━━━━━━━━━━━━━━━━━━━━━━━━━━━━\u001b[0m \u001b[32m51.3/51.3 MB\u001b[0m \u001b[31m8.7 MB/s\u001b[0m eta \u001b[36m0:00:00\u001b[0m\n",
            "\u001b[?25hDownloading gradio_client-1.8.0-py3-none-any.whl (322 kB)\n",
            "\u001b[2K   \u001b[90m━━━━━━━━━━━━━━━━━━━━━━━━━━━━━━━━━━━━━━━━\u001b[0m \u001b[32m322.2/322.2 kB\u001b[0m \u001b[31m19.2 MB/s\u001b[0m eta \u001b[36m0:00:00\u001b[0m\n",
            "\u001b[?25hDownloading aiofiles-23.2.1-py3-none-any.whl (15 kB)\n",
            "Downloading groovy-0.1.2-py3-none-any.whl (14 kB)\n",
            "Downloading python_multipart-0.0.20-py3-none-any.whl (24 kB)\n",
            "Downloading ruff-0.11.2-py3-none-manylinux_2_17_x86_64.manylinux2014_x86_64.whl (11.3 MB)\n",
            "\u001b[2K   \u001b[90m━━━━━━━━━━━━━━━━━━━━━━━━━━━━━━━━━━━━━━━━\u001b[0m \u001b[32m11.3/11.3 MB\u001b[0m \u001b[31m59.2 MB/s\u001b[0m eta \u001b[36m0:00:00\u001b[0m\n",
            "\u001b[?25hDownloading safehttpx-0.1.6-py3-none-any.whl (8.7 kB)\n",
            "Downloading semantic_version-2.10.0-py2.py3-none-any.whl (15 kB)\n",
            "Downloading tomlkit-0.13.2-py3-none-any.whl (37 kB)\n",
            "Downloading ffmpy-0.5.0-py3-none-any.whl (6.0 kB)\n",
            "Downloading pydub-0.25.1-py2.py3-none-any.whl (32 kB)\n",
            "Installing collected packages: pydub, tomlkit, semantic-version, ruff, python-multipart, groovy, ffmpy, aiofiles, safehttpx, gradio-client, Gradio\n",
            "Successfully installed Gradio-5.23.1 aiofiles-23.2.1 ffmpy-0.5.0 gradio-client-1.8.0 groovy-0.1.2 pydub-0.25.1 python-multipart-0.0.20 ruff-0.11.2 safehttpx-0.1.6 semantic-version-2.10.0 tomlkit-0.13.2\n"
          ]
        }
      ],
      "source": [
        "# implementando a interface com o Gradio\n",
        "!pip install Gradio"
      ]
    },
    {
      "cell_type": "code",
      "execution_count": 90,
      "metadata": {
        "id": "cw50bECRF4_S"
      },
      "outputs": [],
      "source": [
        "import gradio as gr"
      ]
    },
    {
      "cell_type": "code",
      "execution_count": 91,
      "metadata": {
        "id": "lCGvAlgdF8ej"
      },
      "outputs": [],
      "source": [
        "# Criando a função para conversar com o chatbot\n",
        "def converse_com_bot(message, chat_history):\n",
        "  response = chat_engine.chat(message)\n",
        "\n",
        "  if chat_history is None:\n",
        "    chat_history = []\n",
        "\n",
        "  chat_history.append({\"role\": \"user\", \"content\": message})\n",
        "  chat_history.append({\"role\": \"assistant\", \"content\": response.response})\n",
        "\n",
        "  return \"\", chat_history\n",
        "\n",
        "# Criando a função para resetar o chatbot\n",
        "def resetar_chat():\n",
        "  chat_engine.reset()\n",
        "  return []"
      ]
    },
    {
      "cell_type": "code",
      "execution_count": null,
      "metadata": {
        "colab": {
          "base_uri": "https://localhost:8080/",
          "height": 646
        },
        "id": "FeQ4HYcLGwRb",
        "outputId": "5d33fcd6-ac72-4111-cf18-8925d09c1319"
      },
      "outputs": [
        {
          "name": "stdout",
          "output_type": "stream",
          "text": [
            "Running Gradio in a Colab notebook requires sharing enabled. Automatically setting `share=True` (you can turn this off by setting `share=False` in `launch()` explicitly).\n",
            "\n",
            "Colab notebook detected. This cell will run indefinitely so that you can see errors and logs. To turn off, set debug=False in launch().\n",
            "* Running on public URL: https://02be11a836c86ee3b3.gradio.live\n",
            "\n",
            "This share link expires in 72 hours. For free permanent hosting and GPU upgrades, run `gradio deploy` from the terminal in the working directory to deploy to Hugging Face Spaces (https://huggingface.co/spaces)\n"
          ]
        },
        {
          "data": {
            "text/html": [
              "<div><iframe src=\"https://02be11a836c86ee3b3.gradio.live\" width=\"100%\" height=\"500\" allow=\"autoplay; camera; microphone; clipboard-read; clipboard-write;\" frameborder=\"0\" allowfullscreen></iframe></div>"
            ],
            "text/plain": [
              "<IPython.core.display.HTML object>"
            ]
          },
          "metadata": {},
          "output_type": "display_data"
        }
      ],
      "source": [
        "with gr.Blocks() as app:\n",
        "  gr.Markdown('# Chatbot da Serenatto')\n",
        "  chatbot = gr.Chatbot(type='messages')\n",
        "  msg = gr.Textbox(label='Digite a sua pergunta')\n",
        "  clear = gr.Button('Limpar')\n",
        "\n",
        "  msg.submit(converse_com_bot, [msg, chatbot], [msg, chatbot])\n",
        "  clear.click(resetar_chat, None,chatbot,queue=False)\n",
        "\n",
        "  app.launch(debug=True)"
      ]
    }
  ],
  "metadata": {
    "colab": {
      "provenance": []
    },
    "kernelspec": {
      "display_name": "Python 3",
      "name": "python3"
    },
    "language_info": {
      "codemirror_mode": {
        "name": "ipython",
        "version": 3
      },
      "file_extension": ".py",
      "mimetype": "text/x-python",
      "name": "python",
      "nbconvert_exporter": "python",
      "pygments_lexer": "ipython3",
      "version": "3.11.9"
    },
    "widgets": {
      "application/vnd.jupyter.widget-state+json": {
        "0043954b40c74324b32abc5e14764d45": {
          "model_module": "@jupyter-widgets/controls",
          "model_module_version": "1.5.0",
          "model_name": "HTMLModel",
          "state": {
            "_dom_classes": [],
            "_model_module": "@jupyter-widgets/controls",
            "_model_module_version": "1.5.0",
            "_model_name": "HTMLModel",
            "_view_count": null,
            "_view_module": "@jupyter-widgets/controls",
            "_view_module_version": "1.5.0",
            "_view_name": "HTMLView",
            "description": "",
            "description_tooltip": null,
            "layout": "IPY_MODEL_eb9ed08241d84933bd21083e9f647305",
            "placeholder": "​",
            "style": "IPY_MODEL_0405102c136648d0872c20af5989180e",
            "value": "tokenizer_config.json: 100%"
          }
        },
        "0405102c136648d0872c20af5989180e": {
          "model_module": "@jupyter-widgets/controls",
          "model_module_version": "1.5.0",
          "model_name": "DescriptionStyleModel",
          "state": {
            "_model_module": "@jupyter-widgets/controls",
            "_model_module_version": "1.5.0",
            "_model_name": "DescriptionStyleModel",
            "_view_count": null,
            "_view_module": "@jupyter-widgets/base",
            "_view_module_version": "1.2.0",
            "_view_name": "StyleView",
            "description_width": ""
          }
        },
        "087bd0cc75ff405e8c5df76af16b173d": {
          "model_module": "@jupyter-widgets/controls",
          "model_module_version": "1.5.0",
          "model_name": "DescriptionStyleModel",
          "state": {
            "_model_module": "@jupyter-widgets/controls",
            "_model_module_version": "1.5.0",
            "_model_name": "DescriptionStyleModel",
            "_view_count": null,
            "_view_module": "@jupyter-widgets/base",
            "_view_module_version": "1.2.0",
            "_view_name": "StyleView",
            "description_width": ""
          }
        },
        "0b5c7062944443f884f15880d3153c06": {
          "model_module": "@jupyter-widgets/controls",
          "model_module_version": "1.5.0",
          "model_name": "FloatProgressModel",
          "state": {
            "_dom_classes": [],
            "_model_module": "@jupyter-widgets/controls",
            "_model_module_version": "1.5.0",
            "_model_name": "FloatProgressModel",
            "_view_count": null,
            "_view_module": "@jupyter-widgets/controls",
            "_view_module_version": "1.5.0",
            "_view_name": "ProgressView",
            "bar_style": "success",
            "description": "",
            "description_tooltip": null,
            "layout": "IPY_MODEL_8fef45a776c2402d87baa6d0f231efa1",
            "max": 280,
            "min": 0,
            "orientation": "horizontal",
            "style": "IPY_MODEL_24d2c8bde6ad4cafb96384bd9b0f2fe9",
            "value": 280
          }
        },
        "13294d7230c24c038f5b044921b33780": {
          "model_module": "@jupyter-widgets/base",
          "model_module_version": "1.2.0",
          "model_name": "LayoutModel",
          "state": {
            "_model_module": "@jupyter-widgets/base",
            "_model_module_version": "1.2.0",
            "_model_name": "LayoutModel",
            "_view_count": null,
            "_view_module": "@jupyter-widgets/base",
            "_view_module_version": "1.2.0",
            "_view_name": "LayoutView",
            "align_content": null,
            "align_items": null,
            "align_self": null,
            "border": null,
            "bottom": null,
            "display": null,
            "flex": null,
            "flex_flow": null,
            "grid_area": null,
            "grid_auto_columns": null,
            "grid_auto_flow": null,
            "grid_auto_rows": null,
            "grid_column": null,
            "grid_gap": null,
            "grid_row": null,
            "grid_template_areas": null,
            "grid_template_columns": null,
            "grid_template_rows": null,
            "height": null,
            "justify_content": null,
            "justify_items": null,
            "left": null,
            "margin": null,
            "max_height": null,
            "max_width": null,
            "min_height": null,
            "min_width": null,
            "object_fit": null,
            "object_position": null,
            "order": null,
            "overflow": null,
            "overflow_x": null,
            "overflow_y": null,
            "padding": null,
            "right": null,
            "top": null,
            "visibility": null,
            "width": null
          }
        },
        "17601e84fad743d6a4fce54ec8a77883": {
          "model_module": "@jupyter-widgets/base",
          "model_module_version": "1.2.0",
          "model_name": "LayoutModel",
          "state": {
            "_model_module": "@jupyter-widgets/base",
            "_model_module_version": "1.2.0",
            "_model_name": "LayoutModel",
            "_view_count": null,
            "_view_module": "@jupyter-widgets/base",
            "_view_module_version": "1.2.0",
            "_view_name": "LayoutView",
            "align_content": null,
            "align_items": null,
            "align_self": null,
            "border": null,
            "bottom": null,
            "display": null,
            "flex": null,
            "flex_flow": null,
            "grid_area": null,
            "grid_auto_columns": null,
            "grid_auto_flow": null,
            "grid_auto_rows": null,
            "grid_column": null,
            "grid_gap": null,
            "grid_row": null,
            "grid_template_areas": null,
            "grid_template_columns": null,
            "grid_template_rows": null,
            "height": null,
            "justify_content": null,
            "justify_items": null,
            "left": null,
            "margin": null,
            "max_height": null,
            "max_width": null,
            "min_height": null,
            "min_width": null,
            "object_fit": null,
            "object_position": null,
            "order": null,
            "overflow": null,
            "overflow_x": null,
            "overflow_y": null,
            "padding": null,
            "right": null,
            "top": null,
            "visibility": null,
            "width": null
          }
        },
        "17956b93461841b19ccd6fc8889974ff": {
          "model_module": "@jupyter-widgets/controls",
          "model_module_version": "1.5.0",
          "model_name": "HBoxModel",
          "state": {
            "_dom_classes": [],
            "_model_module": "@jupyter-widgets/controls",
            "_model_module_version": "1.5.0",
            "_model_name": "HBoxModel",
            "_view_count": null,
            "_view_module": "@jupyter-widgets/controls",
            "_view_module_version": "1.5.0",
            "_view_name": "HBoxView",
            "box_style": "",
            "children": [
              "IPY_MODEL_5bf205bcab6f4b69ae1e203b1ddb4b6c",
              "IPY_MODEL_b25c57ac4c5044bab182ded42e0d42a3",
              "IPY_MODEL_c1851cd3871f4337a32a9f843a925df0"
            ],
            "layout": "IPY_MODEL_a5915c40b2434262bbbaeaea93141d27"
          }
        },
        "183c21128a8f4dcda4f6993803f4249c": {
          "model_module": "@jupyter-widgets/base",
          "model_module_version": "1.2.0",
          "model_name": "LayoutModel",
          "state": {
            "_model_module": "@jupyter-widgets/base",
            "_model_module_version": "1.2.0",
            "_model_name": "LayoutModel",
            "_view_count": null,
            "_view_module": "@jupyter-widgets/base",
            "_view_module_version": "1.2.0",
            "_view_name": "LayoutView",
            "align_content": null,
            "align_items": null,
            "align_self": null,
            "border": null,
            "bottom": null,
            "display": null,
            "flex": null,
            "flex_flow": null,
            "grid_area": null,
            "grid_auto_columns": null,
            "grid_auto_flow": null,
            "grid_auto_rows": null,
            "grid_column": null,
            "grid_gap": null,
            "grid_row": null,
            "grid_template_areas": null,
            "grid_template_columns": null,
            "grid_template_rows": null,
            "height": null,
            "justify_content": null,
            "justify_items": null,
            "left": null,
            "margin": null,
            "max_height": null,
            "max_width": null,
            "min_height": null,
            "min_width": null,
            "object_fit": null,
            "object_position": null,
            "order": null,
            "overflow": null,
            "overflow_x": null,
            "overflow_y": null,
            "padding": null,
            "right": null,
            "top": null,
            "visibility": null,
            "width": null
          }
        },
        "19d4f6504c314bf8bd1a6cdf9902f2b3": {
          "model_module": "@jupyter-widgets/controls",
          "model_module_version": "1.5.0",
          "model_name": "HTMLModel",
          "state": {
            "_dom_classes": [],
            "_model_module": "@jupyter-widgets/controls",
            "_model_module_version": "1.5.0",
            "_model_name": "HTMLModel",
            "_view_count": null,
            "_view_module": "@jupyter-widgets/controls",
            "_view_module_version": "1.5.0",
            "_view_name": "HTMLView",
            "description": "",
            "description_tooltip": null,
            "layout": "IPY_MODEL_eba2149dd7de4d88b5866a2b4b537477",
            "placeholder": "​",
            "style": "IPY_MODEL_087bd0cc75ff405e8c5df76af16b173d",
            "value": " 29/29 [00:00&lt;00:00, 415.07it/s]"
          }
        },
        "1c2354e6d8eb4ca8969ab3789706153b": {
          "model_module": "@jupyter-widgets/controls",
          "model_module_version": "1.5.0",
          "model_name": "DescriptionStyleModel",
          "state": {
            "_model_module": "@jupyter-widgets/controls",
            "_model_module_version": "1.5.0",
            "_model_name": "DescriptionStyleModel",
            "_view_count": null,
            "_view_module": "@jupyter-widgets/base",
            "_view_module_version": "1.2.0",
            "_view_name": "StyleView",
            "description_width": ""
          }
        },
        "1d0f5164fade48ca97209cb7a97ed662": {
          "model_module": "@jupyter-widgets/controls",
          "model_module_version": "1.5.0",
          "model_name": "DescriptionStyleModel",
          "state": {
            "_model_module": "@jupyter-widgets/controls",
            "_model_module_version": "1.5.0",
            "_model_name": "DescriptionStyleModel",
            "_view_count": null,
            "_view_module": "@jupyter-widgets/base",
            "_view_module_version": "1.2.0",
            "_view_name": "StyleView",
            "description_width": ""
          }
        },
        "1e738a1aa8fb4f308b9835c598956dd9": {
          "model_module": "@jupyter-widgets/controls",
          "model_module_version": "1.5.0",
          "model_name": "HTMLModel",
          "state": {
            "_dom_classes": [],
            "_model_module": "@jupyter-widgets/controls",
            "_model_module_version": "1.5.0",
            "_model_name": "HTMLModel",
            "_view_count": null,
            "_view_module": "@jupyter-widgets/controls",
            "_view_module_version": "1.5.0",
            "_view_name": "HTMLView",
            "description": "",
            "description_tooltip": null,
            "layout": "IPY_MODEL_e00c6fdcfba44847a32edfa15904b606",
            "placeholder": "​",
            "style": "IPY_MODEL_1d0f5164fade48ca97209cb7a97ed662",
            "value": " 387/387 [00:00&lt;00:00, 28.2kB/s]"
          }
        },
        "1f72a3bf23ad4eefa48bb80cab0a4be4": {
          "model_module": "@jupyter-widgets/base",
          "model_module_version": "1.2.0",
          "model_name": "LayoutModel",
          "state": {
            "_model_module": "@jupyter-widgets/base",
            "_model_module_version": "1.2.0",
            "_model_name": "LayoutModel",
            "_view_count": null,
            "_view_module": "@jupyter-widgets/base",
            "_view_module_version": "1.2.0",
            "_view_name": "LayoutView",
            "align_content": null,
            "align_items": null,
            "align_self": null,
            "border": null,
            "bottom": null,
            "display": null,
            "flex": null,
            "flex_flow": null,
            "grid_area": null,
            "grid_auto_columns": null,
            "grid_auto_flow": null,
            "grid_auto_rows": null,
            "grid_column": null,
            "grid_gap": null,
            "grid_row": null,
            "grid_template_areas": null,
            "grid_template_columns": null,
            "grid_template_rows": null,
            "height": null,
            "justify_content": null,
            "justify_items": null,
            "left": null,
            "margin": null,
            "max_height": null,
            "max_width": null,
            "min_height": null,
            "min_width": null,
            "object_fit": null,
            "object_position": null,
            "order": null,
            "overflow": null,
            "overflow_x": null,
            "overflow_y": null,
            "padding": null,
            "right": null,
            "top": null,
            "visibility": null,
            "width": null
          }
        },
        "1fb8728b1c924c5aa0ac5f9667abe6db": {
          "model_module": "@jupyter-widgets/base",
          "model_module_version": "1.2.0",
          "model_name": "LayoutModel",
          "state": {
            "_model_module": "@jupyter-widgets/base",
            "_model_module_version": "1.2.0",
            "_model_name": "LayoutModel",
            "_view_count": null,
            "_view_module": "@jupyter-widgets/base",
            "_view_module_version": "1.2.0",
            "_view_name": "LayoutView",
            "align_content": null,
            "align_items": null,
            "align_self": null,
            "border": null,
            "bottom": null,
            "display": null,
            "flex": null,
            "flex_flow": null,
            "grid_area": null,
            "grid_auto_columns": null,
            "grid_auto_flow": null,
            "grid_auto_rows": null,
            "grid_column": null,
            "grid_gap": null,
            "grid_row": null,
            "grid_template_areas": null,
            "grid_template_columns": null,
            "grid_template_rows": null,
            "height": null,
            "justify_content": null,
            "justify_items": null,
            "left": null,
            "margin": null,
            "max_height": null,
            "max_width": null,
            "min_height": null,
            "min_width": null,
            "object_fit": null,
            "object_position": null,
            "order": null,
            "overflow": null,
            "overflow_x": null,
            "overflow_y": null,
            "padding": null,
            "right": null,
            "top": null,
            "visibility": null,
            "width": null
          }
        },
        "223fc30bf2a740ce83d11e7499ab9888": {
          "model_module": "@jupyter-widgets/controls",
          "model_module_version": "1.5.0",
          "model_name": "FloatProgressModel",
          "state": {
            "_dom_classes": [],
            "_model_module": "@jupyter-widgets/controls",
            "_model_module_version": "1.5.0",
            "_model_name": "FloatProgressModel",
            "_view_count": null,
            "_view_module": "@jupyter-widgets/controls",
            "_view_module_version": "1.5.0",
            "_view_name": "ProgressView",
            "bar_style": "success",
            "description": "",
            "description_tooltip": null,
            "layout": "IPY_MODEL_1f72a3bf23ad4eefa48bb80cab0a4be4",
            "max": 418,
            "min": 0,
            "orientation": "horizontal",
            "style": "IPY_MODEL_aed56ce71fd9418e8d89530fbe65caaf",
            "value": 418
          }
        },
        "248ab8e7df474cf4b0e1570fcd065b84": {
          "model_module": "@jupyter-widgets/controls",
          "model_module_version": "1.5.0",
          "model_name": "HTMLModel",
          "state": {
            "_dom_classes": [],
            "_model_module": "@jupyter-widgets/controls",
            "_model_module_version": "1.5.0",
            "_model_name": "HTMLModel",
            "_view_count": null,
            "_view_module": "@jupyter-widgets/controls",
            "_view_module_version": "1.5.0",
            "_view_name": "HTMLView",
            "description": "",
            "description_tooltip": null,
            "layout": "IPY_MODEL_77d4927ad0b841bd8d058e74dce89f07",
            "placeholder": "​",
            "style": "IPY_MODEL_c852b70f3b4d4f1187929b81a8709e4b",
            "value": " 280/280 [00:00&lt;00:00, 26.1kB/s]"
          }
        },
        "24d2c8bde6ad4cafb96384bd9b0f2fe9": {
          "model_module": "@jupyter-widgets/controls",
          "model_module_version": "1.5.0",
          "model_name": "ProgressStyleModel",
          "state": {
            "_model_module": "@jupyter-widgets/controls",
            "_model_module_version": "1.5.0",
            "_model_name": "ProgressStyleModel",
            "_view_count": null,
            "_view_module": "@jupyter-widgets/base",
            "_view_module_version": "1.2.0",
            "_view_name": "StyleView",
            "bar_color": null,
            "description_width": ""
          }
        },
        "27123780f7614f649e23f651b46b9a1b": {
          "model_module": "@jupyter-widgets/controls",
          "model_module_version": "1.5.0",
          "model_name": "FloatProgressModel",
          "state": {
            "_dom_classes": [],
            "_model_module": "@jupyter-widgets/controls",
            "_model_module_version": "1.5.0",
            "_model_name": "FloatProgressModel",
            "_view_count": null,
            "_view_module": "@jupyter-widgets/controls",
            "_view_module_version": "1.5.0",
            "_view_name": "ProgressView",
            "bar_style": "success",
            "description": "",
            "description_tooltip": null,
            "layout": "IPY_MODEL_5497957a80154c0794520668328eb8ed",
            "max": 5069051,
            "min": 0,
            "orientation": "horizontal",
            "style": "IPY_MODEL_eea1906037414e0b8def750afde4d974",
            "value": 5069051
          }
        },
        "2bbffbb4e857408e922d0a556a857eb6": {
          "model_module": "@jupyter-widgets/controls",
          "model_module_version": "1.5.0",
          "model_name": "FloatProgressModel",
          "state": {
            "_dom_classes": [],
            "_model_module": "@jupyter-widgets/controls",
            "_model_module_version": "1.5.0",
            "_model_name": "FloatProgressModel",
            "_view_count": null,
            "_view_module": "@jupyter-widgets/controls",
            "_view_module_version": "1.5.0",
            "_view_name": "ProgressView",
            "bar_style": "success",
            "description": "",
            "description_tooltip": null,
            "layout": "IPY_MODEL_c9a5ef5b8aac465fb16ebce6589e6c81",
            "max": 2239611368,
            "min": 0,
            "orientation": "horizontal",
            "style": "IPY_MODEL_348f9ac782a748bb9027b2c6ded356d0",
            "value": 2239611368
          }
        },
        "2cada9f26e0948a985863ff5fbf24600": {
          "model_module": "@jupyter-widgets/base",
          "model_module_version": "1.2.0",
          "model_name": "LayoutModel",
          "state": {
            "_model_module": "@jupyter-widgets/base",
            "_model_module_version": "1.2.0",
            "_model_name": "LayoutModel",
            "_view_count": null,
            "_view_module": "@jupyter-widgets/base",
            "_view_module_version": "1.2.0",
            "_view_name": "LayoutView",
            "align_content": null,
            "align_items": null,
            "align_self": null,
            "border": null,
            "bottom": null,
            "display": null,
            "flex": null,
            "flex_flow": null,
            "grid_area": null,
            "grid_auto_columns": null,
            "grid_auto_flow": null,
            "grid_auto_rows": null,
            "grid_column": null,
            "grid_gap": null,
            "grid_row": null,
            "grid_template_areas": null,
            "grid_template_columns": null,
            "grid_template_rows": null,
            "height": null,
            "justify_content": null,
            "justify_items": null,
            "left": null,
            "margin": null,
            "max_height": null,
            "max_width": null,
            "min_height": null,
            "min_width": null,
            "object_fit": null,
            "object_position": null,
            "order": null,
            "overflow": null,
            "overflow_x": null,
            "overflow_y": null,
            "padding": null,
            "right": null,
            "top": null,
            "visibility": null,
            "width": null
          }
        },
        "2cbb669a38c64ae08fdaec679d9b668a": {
          "model_module": "@jupyter-widgets/base",
          "model_module_version": "1.2.0",
          "model_name": "LayoutModel",
          "state": {
            "_model_module": "@jupyter-widgets/base",
            "_model_module_version": "1.2.0",
            "_model_name": "LayoutModel",
            "_view_count": null,
            "_view_module": "@jupyter-widgets/base",
            "_view_module_version": "1.2.0",
            "_view_name": "LayoutView",
            "align_content": null,
            "align_items": null,
            "align_self": null,
            "border": null,
            "bottom": null,
            "display": null,
            "flex": null,
            "flex_flow": null,
            "grid_area": null,
            "grid_auto_columns": null,
            "grid_auto_flow": null,
            "grid_auto_rows": null,
            "grid_column": null,
            "grid_gap": null,
            "grid_row": null,
            "grid_template_areas": null,
            "grid_template_columns": null,
            "grid_template_rows": null,
            "height": null,
            "justify_content": null,
            "justify_items": null,
            "left": null,
            "margin": null,
            "max_height": null,
            "max_width": null,
            "min_height": null,
            "min_width": null,
            "object_fit": null,
            "object_position": null,
            "order": null,
            "overflow": null,
            "overflow_x": null,
            "overflow_y": null,
            "padding": null,
            "right": null,
            "top": null,
            "visibility": null,
            "width": null
          }
        },
        "2e3f4be4343e42728c59cb80aa8585af": {
          "model_module": "@jupyter-widgets/controls",
          "model_module_version": "1.5.0",
          "model_name": "DescriptionStyleModel",
          "state": {
            "_model_module": "@jupyter-widgets/controls",
            "_model_module_version": "1.5.0",
            "_model_name": "DescriptionStyleModel",
            "_view_count": null,
            "_view_module": "@jupyter-widgets/base",
            "_view_module_version": "1.2.0",
            "_view_name": "StyleView",
            "description_width": ""
          }
        },
        "2ecc5e7c32db408ab016f0ed368613a8": {
          "model_module": "@jupyter-widgets/base",
          "model_module_version": "1.2.0",
          "model_name": "LayoutModel",
          "state": {
            "_model_module": "@jupyter-widgets/base",
            "_model_module_version": "1.2.0",
            "_model_name": "LayoutModel",
            "_view_count": null,
            "_view_module": "@jupyter-widgets/base",
            "_view_module_version": "1.2.0",
            "_view_name": "LayoutView",
            "align_content": null,
            "align_items": null,
            "align_self": null,
            "border": null,
            "bottom": null,
            "display": null,
            "flex": null,
            "flex_flow": null,
            "grid_area": null,
            "grid_auto_columns": null,
            "grid_auto_flow": null,
            "grid_auto_rows": null,
            "grid_column": null,
            "grid_gap": null,
            "grid_row": null,
            "grid_template_areas": null,
            "grid_template_columns": null,
            "grid_template_rows": null,
            "height": null,
            "justify_content": null,
            "justify_items": null,
            "left": null,
            "margin": null,
            "max_height": null,
            "max_width": null,
            "min_height": null,
            "min_width": null,
            "object_fit": null,
            "object_position": null,
            "order": null,
            "overflow": null,
            "overflow_x": null,
            "overflow_y": null,
            "padding": null,
            "right": null,
            "top": null,
            "visibility": null,
            "width": null
          }
        },
        "348f9ac782a748bb9027b2c6ded356d0": {
          "model_module": "@jupyter-widgets/controls",
          "model_module_version": "1.5.0",
          "model_name": "ProgressStyleModel",
          "state": {
            "_model_module": "@jupyter-widgets/controls",
            "_model_module_version": "1.5.0",
            "_model_name": "ProgressStyleModel",
            "_view_count": null,
            "_view_module": "@jupyter-widgets/base",
            "_view_module_version": "1.2.0",
            "_view_name": "StyleView",
            "bar_color": null,
            "description_width": ""
          }
        },
        "37f3dc515b5f42878f6a3abcb3a72051": {
          "model_module": "@jupyter-widgets/base",
          "model_module_version": "1.2.0",
          "model_name": "LayoutModel",
          "state": {
            "_model_module": "@jupyter-widgets/base",
            "_model_module_version": "1.2.0",
            "_model_name": "LayoutModel",
            "_view_count": null,
            "_view_module": "@jupyter-widgets/base",
            "_view_module_version": "1.2.0",
            "_view_name": "LayoutView",
            "align_content": null,
            "align_items": null,
            "align_self": null,
            "border": null,
            "bottom": null,
            "display": null,
            "flex": null,
            "flex_flow": null,
            "grid_area": null,
            "grid_auto_columns": null,
            "grid_auto_flow": null,
            "grid_auto_rows": null,
            "grid_column": null,
            "grid_gap": null,
            "grid_row": null,
            "grid_template_areas": null,
            "grid_template_columns": null,
            "grid_template_rows": null,
            "height": null,
            "justify_content": null,
            "justify_items": null,
            "left": null,
            "margin": null,
            "max_height": null,
            "max_width": null,
            "min_height": null,
            "min_width": null,
            "object_fit": null,
            "object_position": null,
            "order": null,
            "overflow": null,
            "overflow_x": null,
            "overflow_y": null,
            "padding": null,
            "right": null,
            "top": null,
            "visibility": null,
            "width": null
          }
        },
        "3919178ef0254438be0a6da24c5e18be": {
          "model_module": "@jupyter-widgets/controls",
          "model_module_version": "1.5.0",
          "model_name": "HBoxModel",
          "state": {
            "_dom_classes": [],
            "_model_module": "@jupyter-widgets/controls",
            "_model_module_version": "1.5.0",
            "_model_name": "HBoxModel",
            "_view_count": null,
            "_view_module": "@jupyter-widgets/controls",
            "_view_module_version": "1.5.0",
            "_view_name": "HBoxView",
            "box_style": "",
            "children": [
              "IPY_MODEL_6a8bc4fbc0ec436ebc45c915bd7d8b69",
              "IPY_MODEL_6abcdcd71c104ffeb236cc0fcf015f21",
              "IPY_MODEL_19d4f6504c314bf8bd1a6cdf9902f2b3"
            ],
            "layout": "IPY_MODEL_37f3dc515b5f42878f6a3abcb3a72051"
          }
        },
        "39a7974638a246aba44ac040fc23c77d": {
          "model_module": "@jupyter-widgets/base",
          "model_module_version": "1.2.0",
          "model_name": "LayoutModel",
          "state": {
            "_model_module": "@jupyter-widgets/base",
            "_model_module_version": "1.2.0",
            "_model_name": "LayoutModel",
            "_view_count": null,
            "_view_module": "@jupyter-widgets/base",
            "_view_module_version": "1.2.0",
            "_view_name": "LayoutView",
            "align_content": null,
            "align_items": null,
            "align_self": null,
            "border": null,
            "bottom": null,
            "display": null,
            "flex": null,
            "flex_flow": null,
            "grid_area": null,
            "grid_auto_columns": null,
            "grid_auto_flow": null,
            "grid_auto_rows": null,
            "grid_column": null,
            "grid_gap": null,
            "grid_row": null,
            "grid_template_areas": null,
            "grid_template_columns": null,
            "grid_template_rows": null,
            "height": null,
            "justify_content": null,
            "justify_items": null,
            "left": null,
            "margin": null,
            "max_height": null,
            "max_width": null,
            "min_height": null,
            "min_width": null,
            "object_fit": null,
            "object_position": null,
            "order": null,
            "overflow": null,
            "overflow_x": null,
            "overflow_y": null,
            "padding": null,
            "right": null,
            "top": null,
            "visibility": null,
            "width": null
          }
        },
        "3f46d187332e4e679af49af7b2ad4b39": {
          "model_module": "@jupyter-widgets/base",
          "model_module_version": "1.2.0",
          "model_name": "LayoutModel",
          "state": {
            "_model_module": "@jupyter-widgets/base",
            "_model_module_version": "1.2.0",
            "_model_name": "LayoutModel",
            "_view_count": null,
            "_view_module": "@jupyter-widgets/base",
            "_view_module_version": "1.2.0",
            "_view_name": "LayoutView",
            "align_content": null,
            "align_items": null,
            "align_self": null,
            "border": null,
            "bottom": null,
            "display": null,
            "flex": null,
            "flex_flow": null,
            "grid_area": null,
            "grid_auto_columns": null,
            "grid_auto_flow": null,
            "grid_auto_rows": null,
            "grid_column": null,
            "grid_gap": null,
            "grid_row": null,
            "grid_template_areas": null,
            "grid_template_columns": null,
            "grid_template_rows": null,
            "height": null,
            "justify_content": null,
            "justify_items": null,
            "left": null,
            "margin": null,
            "max_height": null,
            "max_width": null,
            "min_height": null,
            "min_width": null,
            "object_fit": null,
            "object_position": null,
            "order": null,
            "overflow": null,
            "overflow_x": null,
            "overflow_y": null,
            "padding": null,
            "right": null,
            "top": null,
            "visibility": null,
            "width": null
          }
        },
        "41fb61667fae43a0b1dcaf6665413668": {
          "model_module": "@jupyter-widgets/controls",
          "model_module_version": "1.5.0",
          "model_name": "HTMLModel",
          "state": {
            "_dom_classes": [],
            "_model_module": "@jupyter-widgets/controls",
            "_model_module_version": "1.5.0",
            "_model_name": "HTMLModel",
            "_view_count": null,
            "_view_module": "@jupyter-widgets/controls",
            "_view_module_version": "1.5.0",
            "_view_name": "HTMLView",
            "description": "",
            "description_tooltip": null,
            "layout": "IPY_MODEL_7c2f4351d4354a9ca2cc377bfafa9c57",
            "placeholder": "​",
            "style": "IPY_MODEL_8fa5f673e4b247c2a3a076d0b1bc3573",
            "value": " 17.1M/17.1M [00:00&lt;00:00, 107MB/s]"
          }
        },
        "45449024f95d420bb7594516d47de8c1": {
          "model_module": "@jupyter-widgets/controls",
          "model_module_version": "1.5.0",
          "model_name": "ProgressStyleModel",
          "state": {
            "_model_module": "@jupyter-widgets/controls",
            "_model_module_version": "1.5.0",
            "_model_name": "ProgressStyleModel",
            "_view_count": null,
            "_view_module": "@jupyter-widgets/base",
            "_view_module_version": "1.2.0",
            "_view_name": "StyleView",
            "bar_color": null,
            "description_width": ""
          }
        },
        "4c6c7033badf466bbd3b62013c396f1a": {
          "model_module": "@jupyter-widgets/base",
          "model_module_version": "1.2.0",
          "model_name": "LayoutModel",
          "state": {
            "_model_module": "@jupyter-widgets/base",
            "_model_module_version": "1.2.0",
            "_model_name": "LayoutModel",
            "_view_count": null,
            "_view_module": "@jupyter-widgets/base",
            "_view_module_version": "1.2.0",
            "_view_name": "LayoutView",
            "align_content": null,
            "align_items": null,
            "align_self": null,
            "border": null,
            "bottom": null,
            "display": null,
            "flex": null,
            "flex_flow": null,
            "grid_area": null,
            "grid_auto_columns": null,
            "grid_auto_flow": null,
            "grid_auto_rows": null,
            "grid_column": null,
            "grid_gap": null,
            "grid_row": null,
            "grid_template_areas": null,
            "grid_template_columns": null,
            "grid_template_rows": null,
            "height": null,
            "justify_content": null,
            "justify_items": null,
            "left": null,
            "margin": null,
            "max_height": null,
            "max_width": null,
            "min_height": null,
            "min_width": null,
            "object_fit": null,
            "object_position": null,
            "order": null,
            "overflow": null,
            "overflow_x": null,
            "overflow_y": null,
            "padding": null,
            "right": null,
            "top": null,
            "visibility": null,
            "width": null
          }
        },
        "4e4b6e21e2af4019a4cf827f4101f7ec": {
          "model_module": "@jupyter-widgets/base",
          "model_module_version": "1.2.0",
          "model_name": "LayoutModel",
          "state": {
            "_model_module": "@jupyter-widgets/base",
            "_model_module_version": "1.2.0",
            "_model_name": "LayoutModel",
            "_view_count": null,
            "_view_module": "@jupyter-widgets/base",
            "_view_module_version": "1.2.0",
            "_view_name": "LayoutView",
            "align_content": null,
            "align_items": null,
            "align_self": null,
            "border": null,
            "bottom": null,
            "display": null,
            "flex": null,
            "flex_flow": null,
            "grid_area": null,
            "grid_auto_columns": null,
            "grid_auto_flow": null,
            "grid_auto_rows": null,
            "grid_column": null,
            "grid_gap": null,
            "grid_row": null,
            "grid_template_areas": null,
            "grid_template_columns": null,
            "grid_template_rows": null,
            "height": null,
            "justify_content": null,
            "justify_items": null,
            "left": null,
            "margin": null,
            "max_height": null,
            "max_width": null,
            "min_height": null,
            "min_width": null,
            "object_fit": null,
            "object_position": null,
            "order": null,
            "overflow": null,
            "overflow_x": null,
            "overflow_y": null,
            "padding": null,
            "right": null,
            "top": null,
            "visibility": null,
            "width": null
          }
        },
        "4ea75d5a6efd4e13befb2aa90f7a4c08": {
          "model_module": "@jupyter-widgets/base",
          "model_module_version": "1.2.0",
          "model_name": "LayoutModel",
          "state": {
            "_model_module": "@jupyter-widgets/base",
            "_model_module_version": "1.2.0",
            "_model_name": "LayoutModel",
            "_view_count": null,
            "_view_module": "@jupyter-widgets/base",
            "_view_module_version": "1.2.0",
            "_view_name": "LayoutView",
            "align_content": null,
            "align_items": null,
            "align_self": null,
            "border": null,
            "bottom": null,
            "display": null,
            "flex": null,
            "flex_flow": null,
            "grid_area": null,
            "grid_auto_columns": null,
            "grid_auto_flow": null,
            "grid_auto_rows": null,
            "grid_column": null,
            "grid_gap": null,
            "grid_row": null,
            "grid_template_areas": null,
            "grid_template_columns": null,
            "grid_template_rows": null,
            "height": null,
            "justify_content": null,
            "justify_items": null,
            "left": null,
            "margin": null,
            "max_height": null,
            "max_width": null,
            "min_height": null,
            "min_width": null,
            "object_fit": null,
            "object_position": null,
            "order": null,
            "overflow": null,
            "overflow_x": null,
            "overflow_y": null,
            "padding": null,
            "right": null,
            "top": null,
            "visibility": null,
            "width": null
          }
        },
        "4ebb3091394c4513956f7ce0f7a4582b": {
          "model_module": "@jupyter-widgets/controls",
          "model_module_version": "1.5.0",
          "model_name": "HBoxModel",
          "state": {
            "_dom_classes": [],
            "_model_module": "@jupyter-widgets/controls",
            "_model_module_version": "1.5.0",
            "_model_name": "HBoxModel",
            "_view_count": null,
            "_view_module": "@jupyter-widgets/controls",
            "_view_module_version": "1.5.0",
            "_view_name": "HBoxView",
            "box_style": "",
            "children": [
              "IPY_MODEL_85e0b56d65324fd784da3484e217037a",
              "IPY_MODEL_be83df16d1014fc4ae4a9631c7994202",
              "IPY_MODEL_1e738a1aa8fb4f308b9835c598956dd9"
            ],
            "layout": "IPY_MODEL_8d680414722943bbbdf391ce98d00ee4"
          }
        },
        "51cb5fe7a83e4b76bd1e981d4685e974": {
          "model_module": "@jupyter-widgets/controls",
          "model_module_version": "1.5.0",
          "model_name": "HBoxModel",
          "state": {
            "_dom_classes": [],
            "_model_module": "@jupyter-widgets/controls",
            "_model_module_version": "1.5.0",
            "_model_name": "HBoxModel",
            "_view_count": null,
            "_view_module": "@jupyter-widgets/controls",
            "_view_module_version": "1.5.0",
            "_view_name": "HBoxView",
            "box_style": "",
            "children": [
              "IPY_MODEL_785e55ed1e944f72b100d853899edd1c",
              "IPY_MODEL_9a5b4cd347124754bec0634b22769386",
              "IPY_MODEL_fc9a05e08f6b4de58a04a75f8c15cefa"
            ],
            "layout": "IPY_MODEL_2cbb669a38c64ae08fdaec679d9b668a"
          }
        },
        "52bc1a7bc3a048b7b95f29283086206d": {
          "model_module": "@jupyter-widgets/controls",
          "model_module_version": "1.5.0",
          "model_name": "HTMLModel",
          "state": {
            "_dom_classes": [],
            "_model_module": "@jupyter-widgets/controls",
            "_model_module_version": "1.5.0",
            "_model_name": "HTMLModel",
            "_view_count": null,
            "_view_module": "@jupyter-widgets/controls",
            "_view_module_version": "1.5.0",
            "_view_name": "HTMLView",
            "description": "",
            "description_tooltip": null,
            "layout": "IPY_MODEL_550d7f8c92a841c68a82024ddde0f8d6",
            "placeholder": "​",
            "style": "IPY_MODEL_8380bde17e8744f0b40c8a13bfae786e",
            "value": " 418/418 [00:00&lt;00:00, 11.0kB/s]"
          }
        },
        "5497957a80154c0794520668328eb8ed": {
          "model_module": "@jupyter-widgets/base",
          "model_module_version": "1.2.0",
          "model_name": "LayoutModel",
          "state": {
            "_model_module": "@jupyter-widgets/base",
            "_model_module_version": "1.2.0",
            "_model_name": "LayoutModel",
            "_view_count": null,
            "_view_module": "@jupyter-widgets/base",
            "_view_module_version": "1.2.0",
            "_view_name": "LayoutView",
            "align_content": null,
            "align_items": null,
            "align_self": null,
            "border": null,
            "bottom": null,
            "display": null,
            "flex": null,
            "flex_flow": null,
            "grid_area": null,
            "grid_auto_columns": null,
            "grid_auto_flow": null,
            "grid_auto_rows": null,
            "grid_column": null,
            "grid_gap": null,
            "grid_row": null,
            "grid_template_areas": null,
            "grid_template_columns": null,
            "grid_template_rows": null,
            "height": null,
            "justify_content": null,
            "justify_items": null,
            "left": null,
            "margin": null,
            "max_height": null,
            "max_width": null,
            "min_height": null,
            "min_width": null,
            "object_fit": null,
            "object_position": null,
            "order": null,
            "overflow": null,
            "overflow_x": null,
            "overflow_y": null,
            "padding": null,
            "right": null,
            "top": null,
            "visibility": null,
            "width": null
          }
        },
        "550d7f8c92a841c68a82024ddde0f8d6": {
          "model_module": "@jupyter-widgets/base",
          "model_module_version": "1.2.0",
          "model_name": "LayoutModel",
          "state": {
            "_model_module": "@jupyter-widgets/base",
            "_model_module_version": "1.2.0",
            "_model_name": "LayoutModel",
            "_view_count": null,
            "_view_module": "@jupyter-widgets/base",
            "_view_module_version": "1.2.0",
            "_view_name": "LayoutView",
            "align_content": null,
            "align_items": null,
            "align_self": null,
            "border": null,
            "bottom": null,
            "display": null,
            "flex": null,
            "flex_flow": null,
            "grid_area": null,
            "grid_auto_columns": null,
            "grid_auto_flow": null,
            "grid_auto_rows": null,
            "grid_column": null,
            "grid_gap": null,
            "grid_row": null,
            "grid_template_areas": null,
            "grid_template_columns": null,
            "grid_template_rows": null,
            "height": null,
            "justify_content": null,
            "justify_items": null,
            "left": null,
            "margin": null,
            "max_height": null,
            "max_width": null,
            "min_height": null,
            "min_width": null,
            "object_fit": null,
            "object_position": null,
            "order": null,
            "overflow": null,
            "overflow_x": null,
            "overflow_y": null,
            "padding": null,
            "right": null,
            "top": null,
            "visibility": null,
            "width": null
          }
        },
        "5bf205bcab6f4b69ae1e203b1ddb4b6c": {
          "model_module": "@jupyter-widgets/controls",
          "model_module_version": "1.5.0",
          "model_name": "HTMLModel",
          "state": {
            "_dom_classes": [],
            "_model_module": "@jupyter-widgets/controls",
            "_model_module_version": "1.5.0",
            "_model_name": "HTMLModel",
            "_view_count": null,
            "_view_module": "@jupyter-widgets/controls",
            "_view_module_version": "1.5.0",
            "_view_name": "HTMLView",
            "description": "",
            "description_tooltip": null,
            "layout": "IPY_MODEL_c6a740f43d2e4b208b1291140140d064",
            "placeholder": "​",
            "style": "IPY_MODEL_1c2354e6d8eb4ca8969ab3789706153b",
            "value": "config.json: 100%"
          }
        },
        "5c65958e680d402fa8d6f780c727ae79": {
          "model_module": "@jupyter-widgets/controls",
          "model_module_version": "1.5.0",
          "model_name": "HBoxModel",
          "state": {
            "_dom_classes": [],
            "_model_module": "@jupyter-widgets/controls",
            "_model_module_version": "1.5.0",
            "_model_name": "HBoxModel",
            "_view_count": null,
            "_view_module": "@jupyter-widgets/controls",
            "_view_module_version": "1.5.0",
            "_view_name": "HBoxView",
            "box_style": "",
            "children": [
              "IPY_MODEL_b92562c6d48a4c34a6e2eb0052610268",
              "IPY_MODEL_0b5c7062944443f884f15880d3153c06",
              "IPY_MODEL_248ab8e7df474cf4b0e1570fcd065b84"
            ],
            "layout": "IPY_MODEL_5d4774cc6538420091f6b168765a4d8f"
          }
        },
        "5d4774cc6538420091f6b168765a4d8f": {
          "model_module": "@jupyter-widgets/base",
          "model_module_version": "1.2.0",
          "model_name": "LayoutModel",
          "state": {
            "_model_module": "@jupyter-widgets/base",
            "_model_module_version": "1.2.0",
            "_model_name": "LayoutModel",
            "_view_count": null,
            "_view_module": "@jupyter-widgets/base",
            "_view_module_version": "1.2.0",
            "_view_name": "LayoutView",
            "align_content": null,
            "align_items": null,
            "align_self": null,
            "border": null,
            "bottom": null,
            "display": null,
            "flex": null,
            "flex_flow": null,
            "grid_area": null,
            "grid_auto_columns": null,
            "grid_auto_flow": null,
            "grid_auto_rows": null,
            "grid_column": null,
            "grid_gap": null,
            "grid_row": null,
            "grid_template_areas": null,
            "grid_template_columns": null,
            "grid_template_rows": null,
            "height": null,
            "justify_content": null,
            "justify_items": null,
            "left": null,
            "margin": null,
            "max_height": null,
            "max_width": null,
            "min_height": null,
            "min_width": null,
            "object_fit": null,
            "object_position": null,
            "order": null,
            "overflow": null,
            "overflow_x": null,
            "overflow_y": null,
            "padding": null,
            "right": null,
            "top": null,
            "visibility": null,
            "width": null
          }
        },
        "5e7c92d940c346ba8d3de24090a02d55": {
          "model_module": "@jupyter-widgets/base",
          "model_module_version": "1.2.0",
          "model_name": "LayoutModel",
          "state": {
            "_model_module": "@jupyter-widgets/base",
            "_model_module_version": "1.2.0",
            "_model_name": "LayoutModel",
            "_view_count": null,
            "_view_module": "@jupyter-widgets/base",
            "_view_module_version": "1.2.0",
            "_view_name": "LayoutView",
            "align_content": null,
            "align_items": null,
            "align_self": null,
            "border": null,
            "bottom": null,
            "display": null,
            "flex": null,
            "flex_flow": null,
            "grid_area": null,
            "grid_auto_columns": null,
            "grid_auto_flow": null,
            "grid_auto_rows": null,
            "grid_column": null,
            "grid_gap": null,
            "grid_row": null,
            "grid_template_areas": null,
            "grid_template_columns": null,
            "grid_template_rows": null,
            "height": null,
            "justify_content": null,
            "justify_items": null,
            "left": null,
            "margin": null,
            "max_height": null,
            "max_width": null,
            "min_height": null,
            "min_width": null,
            "object_fit": null,
            "object_position": null,
            "order": null,
            "overflow": null,
            "overflow_x": null,
            "overflow_y": null,
            "padding": null,
            "right": null,
            "top": null,
            "visibility": null,
            "width": null
          }
        },
        "60e09b6130c841a79d840b945f7e487f": {
          "model_module": "@jupyter-widgets/controls",
          "model_module_version": "1.5.0",
          "model_name": "DescriptionStyleModel",
          "state": {
            "_model_module": "@jupyter-widgets/controls",
            "_model_module_version": "1.5.0",
            "_model_name": "DescriptionStyleModel",
            "_view_count": null,
            "_view_module": "@jupyter-widgets/base",
            "_view_module_version": "1.2.0",
            "_view_name": "StyleView",
            "description_width": ""
          }
        },
        "612879c21bc5443d90fbbca497984a9a": {
          "model_module": "@jupyter-widgets/controls",
          "model_module_version": "1.5.0",
          "model_name": "HBoxModel",
          "state": {
            "_dom_classes": [],
            "_model_module": "@jupyter-widgets/controls",
            "_model_module_version": "1.5.0",
            "_model_name": "HBoxModel",
            "_view_count": null,
            "_view_module": "@jupyter-widgets/controls",
            "_view_module_version": "1.5.0",
            "_view_name": "HBoxView",
            "box_style": "",
            "children": [
              "IPY_MODEL_6f65eb51c3f44e79bdc5bfa45764a5df",
              "IPY_MODEL_ce1af21db7ff4bc0bb657dd853cc0d4f",
              "IPY_MODEL_a5e304edfad44ce59502de7a9f482509"
            ],
            "layout": "IPY_MODEL_f45e15ad66fd4fbf94e32cf835489185"
          }
        },
        "6a8bc4fbc0ec436ebc45c915bd7d8b69": {
          "model_module": "@jupyter-widgets/controls",
          "model_module_version": "1.5.0",
          "model_name": "HTMLModel",
          "state": {
            "_dom_classes": [],
            "_model_module": "@jupyter-widgets/controls",
            "_model_module_version": "1.5.0",
            "_model_name": "HTMLModel",
            "_view_count": null,
            "_view_module": "@jupyter-widgets/controls",
            "_view_module_version": "1.5.0",
            "_view_name": "HTMLView",
            "description": "",
            "description_tooltip": null,
            "layout": "IPY_MODEL_de10f10209cd4196b0fe55af6d616904",
            "placeholder": "​",
            "style": "IPY_MODEL_ef2afb9000e24d8ca6076ec59a397e65",
            "value": "Parsing nodes: 100%"
          }
        },
        "6abcdcd71c104ffeb236cc0fcf015f21": {
          "model_module": "@jupyter-widgets/controls",
          "model_module_version": "1.5.0",
          "model_name": "FloatProgressModel",
          "state": {
            "_dom_classes": [],
            "_model_module": "@jupyter-widgets/controls",
            "_model_module_version": "1.5.0",
            "_model_name": "FloatProgressModel",
            "_view_count": null,
            "_view_module": "@jupyter-widgets/controls",
            "_view_module_version": "1.5.0",
            "_view_name": "ProgressView",
            "bar_style": "success",
            "description": "",
            "description_tooltip": null,
            "layout": "IPY_MODEL_13294d7230c24c038f5b044921b33780",
            "max": 29,
            "min": 0,
            "orientation": "horizontal",
            "style": "IPY_MODEL_45449024f95d420bb7594516d47de8c1",
            "value": 29
          }
        },
        "6bf9e0475eef4fb486e97a31a554247f": {
          "model_module": "@jupyter-widgets/controls",
          "model_module_version": "1.5.0",
          "model_name": "HTMLModel",
          "state": {
            "_dom_classes": [],
            "_model_module": "@jupyter-widgets/controls",
            "_model_module_version": "1.5.0",
            "_model_name": "HTMLModel",
            "_view_count": null,
            "_view_module": "@jupyter-widgets/controls",
            "_view_module_version": "1.5.0",
            "_view_name": "HTMLView",
            "description": "",
            "description_tooltip": null,
            "layout": "IPY_MODEL_5e7c92d940c346ba8d3de24090a02d55",
            "placeholder": "​",
            "style": "IPY_MODEL_ceb58900a437486684c386598cc935fb",
            "value": "sentencepiece.bpe.model: 100%"
          }
        },
        "6dff5165686b4d0982a962eaf555c0a4": {
          "model_module": "@jupyter-widgets/controls",
          "model_module_version": "1.5.0",
          "model_name": "DescriptionStyleModel",
          "state": {
            "_model_module": "@jupyter-widgets/controls",
            "_model_module_version": "1.5.0",
            "_model_name": "DescriptionStyleModel",
            "_view_count": null,
            "_view_module": "@jupyter-widgets/base",
            "_view_module_version": "1.2.0",
            "_view_name": "StyleView",
            "description_width": ""
          }
        },
        "6f33baa4eb5e47a8b20ace7661ee52d8": {
          "model_module": "@jupyter-widgets/base",
          "model_module_version": "1.2.0",
          "model_name": "LayoutModel",
          "state": {
            "_model_module": "@jupyter-widgets/base",
            "_model_module_version": "1.2.0",
            "_model_name": "LayoutModel",
            "_view_count": null,
            "_view_module": "@jupyter-widgets/base",
            "_view_module_version": "1.2.0",
            "_view_name": "LayoutView",
            "align_content": null,
            "align_items": null,
            "align_self": null,
            "border": null,
            "bottom": null,
            "display": null,
            "flex": null,
            "flex_flow": null,
            "grid_area": null,
            "grid_auto_columns": null,
            "grid_auto_flow": null,
            "grid_auto_rows": null,
            "grid_column": null,
            "grid_gap": null,
            "grid_row": null,
            "grid_template_areas": null,
            "grid_template_columns": null,
            "grid_template_rows": null,
            "height": null,
            "justify_content": null,
            "justify_items": null,
            "left": null,
            "margin": null,
            "max_height": null,
            "max_width": null,
            "min_height": null,
            "min_width": null,
            "object_fit": null,
            "object_position": null,
            "order": null,
            "overflow": null,
            "overflow_x": null,
            "overflow_y": null,
            "padding": null,
            "right": null,
            "top": null,
            "visibility": null,
            "width": null
          }
        },
        "6f65eb51c3f44e79bdc5bfa45764a5df": {
          "model_module": "@jupyter-widgets/controls",
          "model_module_version": "1.5.0",
          "model_name": "HTMLModel",
          "state": {
            "_dom_classes": [],
            "_model_module": "@jupyter-widgets/controls",
            "_model_module_version": "1.5.0",
            "_model_name": "HTMLModel",
            "_view_count": null,
            "_view_module": "@jupyter-widgets/controls",
            "_view_module_version": "1.5.0",
            "_view_name": "HTMLView",
            "description": "",
            "description_tooltip": null,
            "layout": "IPY_MODEL_db9491f027f249299d135f462f64f442",
            "placeholder": "​",
            "style": "IPY_MODEL_fbead3ee1df74868b738f7e9f263d17c",
            "value": "config.json: 100%"
          }
        },
        "6f81814450204c458d85ef0984865dca": {
          "model_module": "@jupyter-widgets/controls",
          "model_module_version": "1.5.0",
          "model_name": "DescriptionStyleModel",
          "state": {
            "_model_module": "@jupyter-widgets/controls",
            "_model_module_version": "1.5.0",
            "_model_name": "DescriptionStyleModel",
            "_view_count": null,
            "_view_module": "@jupyter-widgets/base",
            "_view_module_version": "1.2.0",
            "_view_name": "StyleView",
            "description_width": ""
          }
        },
        "71e65d91136745c7a07861353db97e7c": {
          "model_module": "@jupyter-widgets/controls",
          "model_module_version": "1.5.0",
          "model_name": "DescriptionStyleModel",
          "state": {
            "_model_module": "@jupyter-widgets/controls",
            "_model_module_version": "1.5.0",
            "_model_name": "DescriptionStyleModel",
            "_view_count": null,
            "_view_module": "@jupyter-widgets/base",
            "_view_module_version": "1.2.0",
            "_view_name": "StyleView",
            "description_width": ""
          }
        },
        "77d4927ad0b841bd8d058e74dce89f07": {
          "model_module": "@jupyter-widgets/base",
          "model_module_version": "1.2.0",
          "model_name": "LayoutModel",
          "state": {
            "_model_module": "@jupyter-widgets/base",
            "_model_module_version": "1.2.0",
            "_model_name": "LayoutModel",
            "_view_count": null,
            "_view_module": "@jupyter-widgets/base",
            "_view_module_version": "1.2.0",
            "_view_name": "LayoutView",
            "align_content": null,
            "align_items": null,
            "align_self": null,
            "border": null,
            "bottom": null,
            "display": null,
            "flex": null,
            "flex_flow": null,
            "grid_area": null,
            "grid_auto_columns": null,
            "grid_auto_flow": null,
            "grid_auto_rows": null,
            "grid_column": null,
            "grid_gap": null,
            "grid_row": null,
            "grid_template_areas": null,
            "grid_template_columns": null,
            "grid_template_rows": null,
            "height": null,
            "justify_content": null,
            "justify_items": null,
            "left": null,
            "margin": null,
            "max_height": null,
            "max_width": null,
            "min_height": null,
            "min_width": null,
            "object_fit": null,
            "object_position": null,
            "order": null,
            "overflow": null,
            "overflow_x": null,
            "overflow_y": null,
            "padding": null,
            "right": null,
            "top": null,
            "visibility": null,
            "width": null
          }
        },
        "7851174ca9d24696b1a728b38b66d1f5": {
          "model_module": "@jupyter-widgets/controls",
          "model_module_version": "1.5.0",
          "model_name": "HTMLModel",
          "state": {
            "_dom_classes": [],
            "_model_module": "@jupyter-widgets/controls",
            "_model_module_version": "1.5.0",
            "_model_name": "HTMLModel",
            "_view_count": null,
            "_view_module": "@jupyter-widgets/controls",
            "_view_module_version": "1.5.0",
            "_view_name": "HTMLView",
            "description": "",
            "description_tooltip": null,
            "layout": "IPY_MODEL_4e4b6e21e2af4019a4cf827f4101f7ec",
            "placeholder": "​",
            "style": "IPY_MODEL_60e09b6130c841a79d840b945f7e487f",
            "value": " 57.0/57.0 [00:00&lt;00:00, 3.11kB/s]"
          }
        },
        "785e55ed1e944f72b100d853899edd1c": {
          "model_module": "@jupyter-widgets/controls",
          "model_module_version": "1.5.0",
          "model_name": "HTMLModel",
          "state": {
            "_dom_classes": [],
            "_model_module": "@jupyter-widgets/controls",
            "_model_module_version": "1.5.0",
            "_model_name": "HTMLModel",
            "_view_count": null,
            "_view_module": "@jupyter-widgets/controls",
            "_view_module_version": "1.5.0",
            "_view_name": "HTMLView",
            "description": "",
            "description_tooltip": null,
            "layout": "IPY_MODEL_f67bfc362d7e4c158ccd2b3cf795cfb6",
            "placeholder": "​",
            "style": "IPY_MODEL_e9d83bbd69e0451ba004bc9e724996db",
            "value": "README.md: 100%"
          }
        },
        "7c2f4351d4354a9ca2cc377bfafa9c57": {
          "model_module": "@jupyter-widgets/base",
          "model_module_version": "1.2.0",
          "model_name": "LayoutModel",
          "state": {
            "_model_module": "@jupyter-widgets/base",
            "_model_module_version": "1.2.0",
            "_model_name": "LayoutModel",
            "_view_count": null,
            "_view_module": "@jupyter-widgets/base",
            "_view_module_version": "1.2.0",
            "_view_name": "LayoutView",
            "align_content": null,
            "align_items": null,
            "align_self": null,
            "border": null,
            "bottom": null,
            "display": null,
            "flex": null,
            "flex_flow": null,
            "grid_area": null,
            "grid_auto_columns": null,
            "grid_auto_flow": null,
            "grid_auto_rows": null,
            "grid_column": null,
            "grid_gap": null,
            "grid_row": null,
            "grid_template_areas": null,
            "grid_template_columns": null,
            "grid_template_rows": null,
            "height": null,
            "justify_content": null,
            "justify_items": null,
            "left": null,
            "margin": null,
            "max_height": null,
            "max_width": null,
            "min_height": null,
            "min_width": null,
            "object_fit": null,
            "object_position": null,
            "order": null,
            "overflow": null,
            "overflow_x": null,
            "overflow_y": null,
            "padding": null,
            "right": null,
            "top": null,
            "visibility": null,
            "width": null
          }
        },
        "80aa8982ff564767b0186785d6d707c9": {
          "model_module": "@jupyter-widgets/controls",
          "model_module_version": "1.5.0",
          "model_name": "ProgressStyleModel",
          "state": {
            "_model_module": "@jupyter-widgets/controls",
            "_model_module_version": "1.5.0",
            "_model_name": "ProgressStyleModel",
            "_view_count": null,
            "_view_module": "@jupyter-widgets/base",
            "_view_module_version": "1.2.0",
            "_view_name": "StyleView",
            "bar_color": null,
            "description_width": ""
          }
        },
        "832a6206f65340019bfbf7a79e5dd691": {
          "model_module": "@jupyter-widgets/base",
          "model_module_version": "1.2.0",
          "model_name": "LayoutModel",
          "state": {
            "_model_module": "@jupyter-widgets/base",
            "_model_module_version": "1.2.0",
            "_model_name": "LayoutModel",
            "_view_count": null,
            "_view_module": "@jupyter-widgets/base",
            "_view_module_version": "1.2.0",
            "_view_name": "LayoutView",
            "align_content": null,
            "align_items": null,
            "align_self": null,
            "border": null,
            "bottom": null,
            "display": null,
            "flex": null,
            "flex_flow": null,
            "grid_area": null,
            "grid_auto_columns": null,
            "grid_auto_flow": null,
            "grid_auto_rows": null,
            "grid_column": null,
            "grid_gap": null,
            "grid_row": null,
            "grid_template_areas": null,
            "grid_template_columns": null,
            "grid_template_rows": null,
            "height": null,
            "justify_content": null,
            "justify_items": null,
            "left": null,
            "margin": null,
            "max_height": null,
            "max_width": null,
            "min_height": null,
            "min_width": null,
            "object_fit": null,
            "object_position": null,
            "order": null,
            "overflow": null,
            "overflow_x": null,
            "overflow_y": null,
            "padding": null,
            "right": null,
            "top": null,
            "visibility": null,
            "width": null
          }
        },
        "8380bde17e8744f0b40c8a13bfae786e": {
          "model_module": "@jupyter-widgets/controls",
          "model_module_version": "1.5.0",
          "model_name": "DescriptionStyleModel",
          "state": {
            "_model_module": "@jupyter-widgets/controls",
            "_model_module_version": "1.5.0",
            "_model_name": "DescriptionStyleModel",
            "_view_count": null,
            "_view_module": "@jupyter-widgets/base",
            "_view_module_version": "1.2.0",
            "_view_name": "StyleView",
            "description_width": ""
          }
        },
        "8458eebadd6b47b7abe7065ec43d4493": {
          "model_module": "@jupyter-widgets/controls",
          "model_module_version": "1.5.0",
          "model_name": "HTMLModel",
          "state": {
            "_dom_classes": [],
            "_model_module": "@jupyter-widgets/controls",
            "_model_module_version": "1.5.0",
            "_model_name": "HTMLModel",
            "_view_count": null,
            "_view_module": "@jupyter-widgets/controls",
            "_view_module_version": "1.5.0",
            "_view_name": "HTMLView",
            "description": "",
            "description_tooltip": null,
            "layout": "IPY_MODEL_2cada9f26e0948a985863ff5fbf24600",
            "placeholder": "​",
            "style": "IPY_MODEL_6f81814450204c458d85ef0984865dca",
            "value": "tokenizer.json: 100%"
          }
        },
        "85e0b56d65324fd784da3484e217037a": {
          "model_module": "@jupyter-widgets/controls",
          "model_module_version": "1.5.0",
          "model_name": "HTMLModel",
          "state": {
            "_dom_classes": [],
            "_model_module": "@jupyter-widgets/controls",
            "_model_module_version": "1.5.0",
            "_model_name": "HTMLModel",
            "_view_count": null,
            "_view_module": "@jupyter-widgets/controls",
            "_view_module_version": "1.5.0",
            "_view_name": "HTMLView",
            "description": "",
            "description_tooltip": null,
            "layout": "IPY_MODEL_932d09a3c54a4aa68ace796fb832298b",
            "placeholder": "​",
            "style": "IPY_MODEL_2e3f4be4343e42728c59cb80aa8585af",
            "value": "modules.json: 100%"
          }
        },
        "8c362deace90419da371782d6e09e0eb": {
          "model_module": "@jupyter-widgets/controls",
          "model_module_version": "1.5.0",
          "model_name": "HTMLModel",
          "state": {
            "_dom_classes": [],
            "_model_module": "@jupyter-widgets/controls",
            "_model_module_version": "1.5.0",
            "_model_name": "HTMLModel",
            "_view_count": null,
            "_view_module": "@jupyter-widgets/controls",
            "_view_module_version": "1.5.0",
            "_view_name": "HTMLView",
            "description": "",
            "description_tooltip": null,
            "layout": "IPY_MODEL_c5492986812848c9bb48d60fbe34454a",
            "placeholder": "​",
            "style": "IPY_MODEL_f45fd6d16fae461a8de22e3aca4667ca",
            "value": " 2.24G/2.24G [00:31&lt;00:00, 106MB/s]"
          }
        },
        "8d680414722943bbbdf391ce98d00ee4": {
          "model_module": "@jupyter-widgets/base",
          "model_module_version": "1.2.0",
          "model_name": "LayoutModel",
          "state": {
            "_model_module": "@jupyter-widgets/base",
            "_model_module_version": "1.2.0",
            "_model_name": "LayoutModel",
            "_view_count": null,
            "_view_module": "@jupyter-widgets/base",
            "_view_module_version": "1.2.0",
            "_view_name": "LayoutView",
            "align_content": null,
            "align_items": null,
            "align_self": null,
            "border": null,
            "bottom": null,
            "display": null,
            "flex": null,
            "flex_flow": null,
            "grid_area": null,
            "grid_auto_columns": null,
            "grid_auto_flow": null,
            "grid_auto_rows": null,
            "grid_column": null,
            "grid_gap": null,
            "grid_row": null,
            "grid_template_areas": null,
            "grid_template_columns": null,
            "grid_template_rows": null,
            "height": null,
            "justify_content": null,
            "justify_items": null,
            "left": null,
            "margin": null,
            "max_height": null,
            "max_width": null,
            "min_height": null,
            "min_width": null,
            "object_fit": null,
            "object_position": null,
            "order": null,
            "overflow": null,
            "overflow_x": null,
            "overflow_y": null,
            "padding": null,
            "right": null,
            "top": null,
            "visibility": null,
            "width": null
          }
        },
        "8f2093f1c73943ca8304933df5e13e2c": {
          "model_module": "@jupyter-widgets/base",
          "model_module_version": "1.2.0",
          "model_name": "LayoutModel",
          "state": {
            "_model_module": "@jupyter-widgets/base",
            "_model_module_version": "1.2.0",
            "_model_name": "LayoutModel",
            "_view_count": null,
            "_view_module": "@jupyter-widgets/base",
            "_view_module_version": "1.2.0",
            "_view_name": "LayoutView",
            "align_content": null,
            "align_items": null,
            "align_self": null,
            "border": null,
            "bottom": null,
            "display": null,
            "flex": null,
            "flex_flow": null,
            "grid_area": null,
            "grid_auto_columns": null,
            "grid_auto_flow": null,
            "grid_auto_rows": null,
            "grid_column": null,
            "grid_gap": null,
            "grid_row": null,
            "grid_template_areas": null,
            "grid_template_columns": null,
            "grid_template_rows": null,
            "height": null,
            "justify_content": null,
            "justify_items": null,
            "left": null,
            "margin": null,
            "max_height": null,
            "max_width": null,
            "min_height": null,
            "min_width": null,
            "object_fit": null,
            "object_position": null,
            "order": null,
            "overflow": null,
            "overflow_x": null,
            "overflow_y": null,
            "padding": null,
            "right": null,
            "top": null,
            "visibility": null,
            "width": null
          }
        },
        "8f8a37f4f6bd429090a5e3d7064d4c98": {
          "model_module": "@jupyter-widgets/controls",
          "model_module_version": "1.5.0",
          "model_name": "HTMLModel",
          "state": {
            "_dom_classes": [],
            "_model_module": "@jupyter-widgets/controls",
            "_model_module_version": "1.5.0",
            "_model_name": "HTMLModel",
            "_view_count": null,
            "_view_module": "@jupyter-widgets/controls",
            "_view_module_version": "1.5.0",
            "_view_name": "HTMLView",
            "description": "",
            "description_tooltip": null,
            "layout": "IPY_MODEL_effc6af723a749199f35052bbbf94fe6",
            "placeholder": "​",
            "style": "IPY_MODEL_6dff5165686b4d0982a962eaf555c0a4",
            "value": "sentence_bert_config.json: 100%"
          }
        },
        "8fa5f673e4b247c2a3a076d0b1bc3573": {
          "model_module": "@jupyter-widgets/controls",
          "model_module_version": "1.5.0",
          "model_name": "DescriptionStyleModel",
          "state": {
            "_model_module": "@jupyter-widgets/controls",
            "_model_module_version": "1.5.0",
            "_model_name": "DescriptionStyleModel",
            "_view_count": null,
            "_view_module": "@jupyter-widgets/base",
            "_view_module_version": "1.2.0",
            "_view_name": "StyleView",
            "description_width": ""
          }
        },
        "8fef45a776c2402d87baa6d0f231efa1": {
          "model_module": "@jupyter-widgets/base",
          "model_module_version": "1.2.0",
          "model_name": "LayoutModel",
          "state": {
            "_model_module": "@jupyter-widgets/base",
            "_model_module_version": "1.2.0",
            "_model_name": "LayoutModel",
            "_view_count": null,
            "_view_module": "@jupyter-widgets/base",
            "_view_module_version": "1.2.0",
            "_view_name": "LayoutView",
            "align_content": null,
            "align_items": null,
            "align_self": null,
            "border": null,
            "bottom": null,
            "display": null,
            "flex": null,
            "flex_flow": null,
            "grid_area": null,
            "grid_auto_columns": null,
            "grid_auto_flow": null,
            "grid_auto_rows": null,
            "grid_column": null,
            "grid_gap": null,
            "grid_row": null,
            "grid_template_areas": null,
            "grid_template_columns": null,
            "grid_template_rows": null,
            "height": null,
            "justify_content": null,
            "justify_items": null,
            "left": null,
            "margin": null,
            "max_height": null,
            "max_width": null,
            "min_height": null,
            "min_width": null,
            "object_fit": null,
            "object_position": null,
            "order": null,
            "overflow": null,
            "overflow_x": null,
            "overflow_y": null,
            "padding": null,
            "right": null,
            "top": null,
            "visibility": null,
            "width": null
          }
        },
        "9194b5c908954fddbac41e0bb89f326b": {
          "model_module": "@jupyter-widgets/controls",
          "model_module_version": "1.5.0",
          "model_name": "ProgressStyleModel",
          "state": {
            "_model_module": "@jupyter-widgets/controls",
            "_model_module_version": "1.5.0",
            "_model_name": "ProgressStyleModel",
            "_view_count": null,
            "_view_module": "@jupyter-widgets/base",
            "_view_module_version": "1.2.0",
            "_view_name": "StyleView",
            "bar_color": null,
            "description_width": ""
          }
        },
        "92165fe5cb794296894edbcde408af7c": {
          "model_module": "@jupyter-widgets/controls",
          "model_module_version": "1.5.0",
          "model_name": "HBoxModel",
          "state": {
            "_dom_classes": [],
            "_model_module": "@jupyter-widgets/controls",
            "_model_module_version": "1.5.0",
            "_model_name": "HBoxModel",
            "_view_count": null,
            "_view_module": "@jupyter-widgets/controls",
            "_view_module_version": "1.5.0",
            "_view_name": "HBoxView",
            "box_style": "",
            "children": [
              "IPY_MODEL_8458eebadd6b47b7abe7065ec43d4493",
              "IPY_MODEL_d6f7ec77337941069fb17b54761e73c6",
              "IPY_MODEL_41fb61667fae43a0b1dcaf6665413668"
            ],
            "layout": "IPY_MODEL_a7789bd0a9684271aebfa289164d3f1e"
          }
        },
        "932d09a3c54a4aa68ace796fb832298b": {
          "model_module": "@jupyter-widgets/base",
          "model_module_version": "1.2.0",
          "model_name": "LayoutModel",
          "state": {
            "_model_module": "@jupyter-widgets/base",
            "_model_module_version": "1.2.0",
            "_model_name": "LayoutModel",
            "_view_count": null,
            "_view_module": "@jupyter-widgets/base",
            "_view_module_version": "1.2.0",
            "_view_name": "LayoutView",
            "align_content": null,
            "align_items": null,
            "align_self": null,
            "border": null,
            "bottom": null,
            "display": null,
            "flex": null,
            "flex_flow": null,
            "grid_area": null,
            "grid_auto_columns": null,
            "grid_auto_flow": null,
            "grid_auto_rows": null,
            "grid_column": null,
            "grid_gap": null,
            "grid_row": null,
            "grid_template_areas": null,
            "grid_template_columns": null,
            "grid_template_rows": null,
            "height": null,
            "justify_content": null,
            "justify_items": null,
            "left": null,
            "margin": null,
            "max_height": null,
            "max_width": null,
            "min_height": null,
            "min_width": null,
            "object_fit": null,
            "object_position": null,
            "order": null,
            "overflow": null,
            "overflow_x": null,
            "overflow_y": null,
            "padding": null,
            "right": null,
            "top": null,
            "visibility": null,
            "width": null
          }
        },
        "9a5b4cd347124754bec0634b22769386": {
          "model_module": "@jupyter-widgets/controls",
          "model_module_version": "1.5.0",
          "model_name": "FloatProgressModel",
          "state": {
            "_dom_classes": [],
            "_model_module": "@jupyter-widgets/controls",
            "_model_module_version": "1.5.0",
            "_model_name": "FloatProgressModel",
            "_view_count": null,
            "_view_module": "@jupyter-widgets/controls",
            "_view_module_version": "1.5.0",
            "_view_name": "ProgressView",
            "bar_style": "success",
            "description": "",
            "description_tooltip": null,
            "layout": "IPY_MODEL_f472250d1f3e4391a06dba177c012b97",
            "max": 160024,
            "min": 0,
            "orientation": "horizontal",
            "style": "IPY_MODEL_d683dac4ed6e415cbd08f61976ebc999",
            "value": 160024
          }
        },
        "9af0c064904842cb95734367089df568": {
          "model_module": "@jupyter-widgets/base",
          "model_module_version": "1.2.0",
          "model_name": "LayoutModel",
          "state": {
            "_model_module": "@jupyter-widgets/base",
            "_model_module_version": "1.2.0",
            "_model_name": "LayoutModel",
            "_view_count": null,
            "_view_module": "@jupyter-widgets/base",
            "_view_module_version": "1.2.0",
            "_view_name": "LayoutView",
            "align_content": null,
            "align_items": null,
            "align_self": null,
            "border": null,
            "bottom": null,
            "display": null,
            "flex": null,
            "flex_flow": null,
            "grid_area": null,
            "grid_auto_columns": null,
            "grid_auto_flow": null,
            "grid_auto_rows": null,
            "grid_column": null,
            "grid_gap": null,
            "grid_row": null,
            "grid_template_areas": null,
            "grid_template_columns": null,
            "grid_template_rows": null,
            "height": null,
            "justify_content": null,
            "justify_items": null,
            "left": null,
            "margin": null,
            "max_height": null,
            "max_width": null,
            "min_height": null,
            "min_width": null,
            "object_fit": null,
            "object_position": null,
            "order": null,
            "overflow": null,
            "overflow_x": null,
            "overflow_y": null,
            "padding": null,
            "right": null,
            "top": null,
            "visibility": null,
            "width": null
          }
        },
        "a5915c40b2434262bbbaeaea93141d27": {
          "model_module": "@jupyter-widgets/base",
          "model_module_version": "1.2.0",
          "model_name": "LayoutModel",
          "state": {
            "_model_module": "@jupyter-widgets/base",
            "_model_module_version": "1.2.0",
            "_model_name": "LayoutModel",
            "_view_count": null,
            "_view_module": "@jupyter-widgets/base",
            "_view_module_version": "1.2.0",
            "_view_name": "LayoutView",
            "align_content": null,
            "align_items": null,
            "align_self": null,
            "border": null,
            "bottom": null,
            "display": null,
            "flex": null,
            "flex_flow": null,
            "grid_area": null,
            "grid_auto_columns": null,
            "grid_auto_flow": null,
            "grid_auto_rows": null,
            "grid_column": null,
            "grid_gap": null,
            "grid_row": null,
            "grid_template_areas": null,
            "grid_template_columns": null,
            "grid_template_rows": null,
            "height": null,
            "justify_content": null,
            "justify_items": null,
            "left": null,
            "margin": null,
            "max_height": null,
            "max_width": null,
            "min_height": null,
            "min_width": null,
            "object_fit": null,
            "object_position": null,
            "order": null,
            "overflow": null,
            "overflow_x": null,
            "overflow_y": null,
            "padding": null,
            "right": null,
            "top": null,
            "visibility": null,
            "width": null
          }
        },
        "a5e304edfad44ce59502de7a9f482509": {
          "model_module": "@jupyter-widgets/controls",
          "model_module_version": "1.5.0",
          "model_name": "HTMLModel",
          "state": {
            "_dom_classes": [],
            "_model_module": "@jupyter-widgets/controls",
            "_model_module_version": "1.5.0",
            "_model_name": "HTMLModel",
            "_view_count": null,
            "_view_module": "@jupyter-widgets/controls",
            "_view_module_version": "1.5.0",
            "_view_name": "HTMLView",
            "description": "",
            "description_tooltip": null,
            "layout": "IPY_MODEL_1fb8728b1c924c5aa0ac5f9667abe6db",
            "placeholder": "​",
            "style": "IPY_MODEL_b67162aefe9349d98a9821babe9f61eb",
            "value": " 201/201 [00:00&lt;00:00, 10.4kB/s]"
          }
        },
        "a7789bd0a9684271aebfa289164d3f1e": {
          "model_module": "@jupyter-widgets/base",
          "model_module_version": "1.2.0",
          "model_name": "LayoutModel",
          "state": {
            "_model_module": "@jupyter-widgets/base",
            "_model_module_version": "1.2.0",
            "_model_name": "LayoutModel",
            "_view_count": null,
            "_view_module": "@jupyter-widgets/base",
            "_view_module_version": "1.2.0",
            "_view_name": "LayoutView",
            "align_content": null,
            "align_items": null,
            "align_self": null,
            "border": null,
            "bottom": null,
            "display": null,
            "flex": null,
            "flex_flow": null,
            "grid_area": null,
            "grid_auto_columns": null,
            "grid_auto_flow": null,
            "grid_auto_rows": null,
            "grid_column": null,
            "grid_gap": null,
            "grid_row": null,
            "grid_template_areas": null,
            "grid_template_columns": null,
            "grid_template_rows": null,
            "height": null,
            "justify_content": null,
            "justify_items": null,
            "left": null,
            "margin": null,
            "max_height": null,
            "max_width": null,
            "min_height": null,
            "min_width": null,
            "object_fit": null,
            "object_position": null,
            "order": null,
            "overflow": null,
            "overflow_x": null,
            "overflow_y": null,
            "padding": null,
            "right": null,
            "top": null,
            "visibility": null,
            "width": null
          }
        },
        "ab5f2593e45f4208a9bd373694d267b8": {
          "model_module": "@jupyter-widgets/controls",
          "model_module_version": "1.5.0",
          "model_name": "HTMLModel",
          "state": {
            "_dom_classes": [],
            "_model_module": "@jupyter-widgets/controls",
            "_model_module_version": "1.5.0",
            "_model_name": "HTMLModel",
            "_view_count": null,
            "_view_module": "@jupyter-widgets/controls",
            "_view_module_version": "1.5.0",
            "_view_name": "HTMLView",
            "description": "",
            "description_tooltip": null,
            "layout": "IPY_MODEL_832a6206f65340019bfbf7a79e5dd691",
            "placeholder": "​",
            "style": "IPY_MODEL_71e65d91136745c7a07861353db97e7c",
            "value": "model.safetensors: 100%"
          }
        },
        "acdcd868a1cf4690b8a5134457574cde": {
          "model_module": "@jupyter-widgets/base",
          "model_module_version": "1.2.0",
          "model_name": "LayoutModel",
          "state": {
            "_model_module": "@jupyter-widgets/base",
            "_model_module_version": "1.2.0",
            "_model_name": "LayoutModel",
            "_view_count": null,
            "_view_module": "@jupyter-widgets/base",
            "_view_module_version": "1.2.0",
            "_view_name": "LayoutView",
            "align_content": null,
            "align_items": null,
            "align_self": null,
            "border": null,
            "bottom": null,
            "display": null,
            "flex": null,
            "flex_flow": null,
            "grid_area": null,
            "grid_auto_columns": null,
            "grid_auto_flow": null,
            "grid_auto_rows": null,
            "grid_column": null,
            "grid_gap": null,
            "grid_row": null,
            "grid_template_areas": null,
            "grid_template_columns": null,
            "grid_template_rows": null,
            "height": null,
            "justify_content": null,
            "justify_items": null,
            "left": null,
            "margin": null,
            "max_height": null,
            "max_width": null,
            "min_height": null,
            "min_width": null,
            "object_fit": null,
            "object_position": null,
            "order": null,
            "overflow": null,
            "overflow_x": null,
            "overflow_y": null,
            "padding": null,
            "right": null,
            "top": null,
            "visibility": null,
            "width": null
          }
        },
        "aed56ce71fd9418e8d89530fbe65caaf": {
          "model_module": "@jupyter-widgets/controls",
          "model_module_version": "1.5.0",
          "model_name": "ProgressStyleModel",
          "state": {
            "_model_module": "@jupyter-widgets/controls",
            "_model_module_version": "1.5.0",
            "_model_name": "ProgressStyleModel",
            "_view_count": null,
            "_view_module": "@jupyter-widgets/base",
            "_view_module_version": "1.2.0",
            "_view_name": "StyleView",
            "bar_color": null,
            "description_width": ""
          }
        },
        "b25c57ac4c5044bab182ded42e0d42a3": {
          "model_module": "@jupyter-widgets/controls",
          "model_module_version": "1.5.0",
          "model_name": "FloatProgressModel",
          "state": {
            "_dom_classes": [],
            "_model_module": "@jupyter-widgets/controls",
            "_model_module_version": "1.5.0",
            "_model_name": "FloatProgressModel",
            "_view_count": null,
            "_view_module": "@jupyter-widgets/controls",
            "_view_module_version": "1.5.0",
            "_view_name": "ProgressView",
            "bar_style": "success",
            "description": "",
            "description_tooltip": null,
            "layout": "IPY_MODEL_e8718fae6ee941a58cfa2231e5a8ab14",
            "max": 690,
            "min": 0,
            "orientation": "horizontal",
            "style": "IPY_MODEL_9194b5c908954fddbac41e0bb89f326b",
            "value": 690
          }
        },
        "b3b8db62e52d44bf8409d0d6ac7767b0": {
          "model_module": "@jupyter-widgets/controls",
          "model_module_version": "1.5.0",
          "model_name": "HBoxModel",
          "state": {
            "_dom_classes": [],
            "_model_module": "@jupyter-widgets/controls",
            "_model_module_version": "1.5.0",
            "_model_name": "HBoxModel",
            "_view_count": null,
            "_view_module": "@jupyter-widgets/controls",
            "_view_module_version": "1.5.0",
            "_view_name": "HBoxView",
            "box_style": "",
            "children": [
              "IPY_MODEL_8f8a37f4f6bd429090a5e3d7064d4c98",
              "IPY_MODEL_c648f35095874deca0b4639fc25a3ef5",
              "IPY_MODEL_7851174ca9d24696b1a728b38b66d1f5"
            ],
            "layout": "IPY_MODEL_39a7974638a246aba44ac040fc23c77d"
          }
        },
        "b4650f8160e54df4b26089008b86fbaa": {
          "model_module": "@jupyter-widgets/controls",
          "model_module_version": "1.5.0",
          "model_name": "ProgressStyleModel",
          "state": {
            "_model_module": "@jupyter-widgets/controls",
            "_model_module_version": "1.5.0",
            "_model_name": "ProgressStyleModel",
            "_view_count": null,
            "_view_module": "@jupyter-widgets/base",
            "_view_module_version": "1.2.0",
            "_view_name": "StyleView",
            "bar_color": null,
            "description_width": ""
          }
        },
        "b67162aefe9349d98a9821babe9f61eb": {
          "model_module": "@jupyter-widgets/controls",
          "model_module_version": "1.5.0",
          "model_name": "DescriptionStyleModel",
          "state": {
            "_model_module": "@jupyter-widgets/controls",
            "_model_module_version": "1.5.0",
            "_model_name": "DescriptionStyleModel",
            "_view_count": null,
            "_view_module": "@jupyter-widgets/base",
            "_view_module_version": "1.2.0",
            "_view_name": "StyleView",
            "description_width": ""
          }
        },
        "b78d24f8df3e40e29204baaf5e7a65e5": {
          "model_module": "@jupyter-widgets/controls",
          "model_module_version": "1.5.0",
          "model_name": "HBoxModel",
          "state": {
            "_dom_classes": [],
            "_model_module": "@jupyter-widgets/controls",
            "_model_module_version": "1.5.0",
            "_model_name": "HBoxModel",
            "_view_count": null,
            "_view_module": "@jupyter-widgets/controls",
            "_view_module_version": "1.5.0",
            "_view_name": "HBoxView",
            "box_style": "",
            "children": [
              "IPY_MODEL_0043954b40c74324b32abc5e14764d45",
              "IPY_MODEL_223fc30bf2a740ce83d11e7499ab9888",
              "IPY_MODEL_52bc1a7bc3a048b7b95f29283086206d"
            ],
            "layout": "IPY_MODEL_4c6c7033badf466bbd3b62013c396f1a"
          }
        },
        "b92562c6d48a4c34a6e2eb0052610268": {
          "model_module": "@jupyter-widgets/controls",
          "model_module_version": "1.5.0",
          "model_name": "HTMLModel",
          "state": {
            "_dom_classes": [],
            "_model_module": "@jupyter-widgets/controls",
            "_model_module_version": "1.5.0",
            "_model_name": "HTMLModel",
            "_view_count": null,
            "_view_module": "@jupyter-widgets/controls",
            "_view_module_version": "1.5.0",
            "_view_name": "HTMLView",
            "description": "",
            "description_tooltip": null,
            "layout": "IPY_MODEL_4ea75d5a6efd4e13befb2aa90f7a4c08",
            "placeholder": "​",
            "style": "IPY_MODEL_db5715b292ed4c85bd298a6a974b9484",
            "value": "special_tokens_map.json: 100%"
          }
        },
        "bd9e63aa2ff246fa9b4497801426f864": {
          "model_module": "@jupyter-widgets/controls",
          "model_module_version": "1.5.0",
          "model_name": "HBoxModel",
          "state": {
            "_dom_classes": [],
            "_model_module": "@jupyter-widgets/controls",
            "_model_module_version": "1.5.0",
            "_model_name": "HBoxModel",
            "_view_count": null,
            "_view_module": "@jupyter-widgets/controls",
            "_view_module_version": "1.5.0",
            "_view_name": "HBoxView",
            "box_style": "",
            "children": [
              "IPY_MODEL_ab5f2593e45f4208a9bd373694d267b8",
              "IPY_MODEL_2bbffbb4e857408e922d0a556a857eb6",
              "IPY_MODEL_8c362deace90419da371782d6e09e0eb"
            ],
            "layout": "IPY_MODEL_acdcd868a1cf4690b8a5134457574cde"
          }
        },
        "be83df16d1014fc4ae4a9631c7994202": {
          "model_module": "@jupyter-widgets/controls",
          "model_module_version": "1.5.0",
          "model_name": "FloatProgressModel",
          "state": {
            "_dom_classes": [],
            "_model_module": "@jupyter-widgets/controls",
            "_model_module_version": "1.5.0",
            "_model_name": "FloatProgressModel",
            "_view_count": null,
            "_view_module": "@jupyter-widgets/controls",
            "_view_module_version": "1.5.0",
            "_view_name": "ProgressView",
            "bar_style": "success",
            "description": "",
            "description_tooltip": null,
            "layout": "IPY_MODEL_f00236182de2492f89d076902946aa8a",
            "max": 387,
            "min": 0,
            "orientation": "horizontal",
            "style": "IPY_MODEL_80aa8982ff564767b0186785d6d707c9",
            "value": 387
          }
        },
        "c1851cd3871f4337a32a9f843a925df0": {
          "model_module": "@jupyter-widgets/controls",
          "model_module_version": "1.5.0",
          "model_name": "HTMLModel",
          "state": {
            "_dom_classes": [],
            "_model_module": "@jupyter-widgets/controls",
            "_model_module_version": "1.5.0",
            "_model_name": "HTMLModel",
            "_view_count": null,
            "_view_module": "@jupyter-widgets/controls",
            "_view_module_version": "1.5.0",
            "_view_name": "HTMLView",
            "description": "",
            "description_tooltip": null,
            "layout": "IPY_MODEL_3f46d187332e4e679af49af7b2ad4b39",
            "placeholder": "​",
            "style": "IPY_MODEL_c918054151cc44018ce57caa612f4ac3",
            "value": " 690/690 [00:00&lt;00:00, 40.0kB/s]"
          }
        },
        "c5492986812848c9bb48d60fbe34454a": {
          "model_module": "@jupyter-widgets/base",
          "model_module_version": "1.2.0",
          "model_name": "LayoutModel",
          "state": {
            "_model_module": "@jupyter-widgets/base",
            "_model_module_version": "1.2.0",
            "_model_name": "LayoutModel",
            "_view_count": null,
            "_view_module": "@jupyter-widgets/base",
            "_view_module_version": "1.2.0",
            "_view_name": "LayoutView",
            "align_content": null,
            "align_items": null,
            "align_self": null,
            "border": null,
            "bottom": null,
            "display": null,
            "flex": null,
            "flex_flow": null,
            "grid_area": null,
            "grid_auto_columns": null,
            "grid_auto_flow": null,
            "grid_auto_rows": null,
            "grid_column": null,
            "grid_gap": null,
            "grid_row": null,
            "grid_template_areas": null,
            "grid_template_columns": null,
            "grid_template_rows": null,
            "height": null,
            "justify_content": null,
            "justify_items": null,
            "left": null,
            "margin": null,
            "max_height": null,
            "max_width": null,
            "min_height": null,
            "min_width": null,
            "object_fit": null,
            "object_position": null,
            "order": null,
            "overflow": null,
            "overflow_x": null,
            "overflow_y": null,
            "padding": null,
            "right": null,
            "top": null,
            "visibility": null,
            "width": null
          }
        },
        "c648f35095874deca0b4639fc25a3ef5": {
          "model_module": "@jupyter-widgets/controls",
          "model_module_version": "1.5.0",
          "model_name": "FloatProgressModel",
          "state": {
            "_dom_classes": [],
            "_model_module": "@jupyter-widgets/controls",
            "_model_module_version": "1.5.0",
            "_model_name": "FloatProgressModel",
            "_view_count": null,
            "_view_module": "@jupyter-widgets/controls",
            "_view_module_version": "1.5.0",
            "_view_name": "ProgressView",
            "bar_style": "success",
            "description": "",
            "description_tooltip": null,
            "layout": "IPY_MODEL_8f2093f1c73943ca8304933df5e13e2c",
            "max": 57,
            "min": 0,
            "orientation": "horizontal",
            "style": "IPY_MODEL_b4650f8160e54df4b26089008b86fbaa",
            "value": 57
          }
        },
        "c6a740f43d2e4b208b1291140140d064": {
          "model_module": "@jupyter-widgets/base",
          "model_module_version": "1.2.0",
          "model_name": "LayoutModel",
          "state": {
            "_model_module": "@jupyter-widgets/base",
            "_model_module_version": "1.2.0",
            "_model_name": "LayoutModel",
            "_view_count": null,
            "_view_module": "@jupyter-widgets/base",
            "_view_module_version": "1.2.0",
            "_view_name": "LayoutView",
            "align_content": null,
            "align_items": null,
            "align_self": null,
            "border": null,
            "bottom": null,
            "display": null,
            "flex": null,
            "flex_flow": null,
            "grid_area": null,
            "grid_auto_columns": null,
            "grid_auto_flow": null,
            "grid_auto_rows": null,
            "grid_column": null,
            "grid_gap": null,
            "grid_row": null,
            "grid_template_areas": null,
            "grid_template_columns": null,
            "grid_template_rows": null,
            "height": null,
            "justify_content": null,
            "justify_items": null,
            "left": null,
            "margin": null,
            "max_height": null,
            "max_width": null,
            "min_height": null,
            "min_width": null,
            "object_fit": null,
            "object_position": null,
            "order": null,
            "overflow": null,
            "overflow_x": null,
            "overflow_y": null,
            "padding": null,
            "right": null,
            "top": null,
            "visibility": null,
            "width": null
          }
        },
        "c852b70f3b4d4f1187929b81a8709e4b": {
          "model_module": "@jupyter-widgets/controls",
          "model_module_version": "1.5.0",
          "model_name": "DescriptionStyleModel",
          "state": {
            "_model_module": "@jupyter-widgets/controls",
            "_model_module_version": "1.5.0",
            "_model_name": "DescriptionStyleModel",
            "_view_count": null,
            "_view_module": "@jupyter-widgets/base",
            "_view_module_version": "1.2.0",
            "_view_name": "StyleView",
            "description_width": ""
          }
        },
        "c918054151cc44018ce57caa612f4ac3": {
          "model_module": "@jupyter-widgets/controls",
          "model_module_version": "1.5.0",
          "model_name": "DescriptionStyleModel",
          "state": {
            "_model_module": "@jupyter-widgets/controls",
            "_model_module_version": "1.5.0",
            "_model_name": "DescriptionStyleModel",
            "_view_count": null,
            "_view_module": "@jupyter-widgets/base",
            "_view_module_version": "1.2.0",
            "_view_name": "StyleView",
            "description_width": ""
          }
        },
        "c9a5ef5b8aac465fb16ebce6589e6c81": {
          "model_module": "@jupyter-widgets/base",
          "model_module_version": "1.2.0",
          "model_name": "LayoutModel",
          "state": {
            "_model_module": "@jupyter-widgets/base",
            "_model_module_version": "1.2.0",
            "_model_name": "LayoutModel",
            "_view_count": null,
            "_view_module": "@jupyter-widgets/base",
            "_view_module_version": "1.2.0",
            "_view_name": "LayoutView",
            "align_content": null,
            "align_items": null,
            "align_self": null,
            "border": null,
            "bottom": null,
            "display": null,
            "flex": null,
            "flex_flow": null,
            "grid_area": null,
            "grid_auto_columns": null,
            "grid_auto_flow": null,
            "grid_auto_rows": null,
            "grid_column": null,
            "grid_gap": null,
            "grid_row": null,
            "grid_template_areas": null,
            "grid_template_columns": null,
            "grid_template_rows": null,
            "height": null,
            "justify_content": null,
            "justify_items": null,
            "left": null,
            "margin": null,
            "max_height": null,
            "max_width": null,
            "min_height": null,
            "min_width": null,
            "object_fit": null,
            "object_position": null,
            "order": null,
            "overflow": null,
            "overflow_x": null,
            "overflow_y": null,
            "padding": null,
            "right": null,
            "top": null,
            "visibility": null,
            "width": null
          }
        },
        "ce004042ced14e02a776fcb20b8127b8": {
          "model_module": "@jupyter-widgets/controls",
          "model_module_version": "1.5.0",
          "model_name": "ProgressStyleModel",
          "state": {
            "_model_module": "@jupyter-widgets/controls",
            "_model_module_version": "1.5.0",
            "_model_name": "ProgressStyleModel",
            "_view_count": null,
            "_view_module": "@jupyter-widgets/base",
            "_view_module_version": "1.2.0",
            "_view_name": "StyleView",
            "bar_color": null,
            "description_width": ""
          }
        },
        "ce1af21db7ff4bc0bb657dd853cc0d4f": {
          "model_module": "@jupyter-widgets/controls",
          "model_module_version": "1.5.0",
          "model_name": "FloatProgressModel",
          "state": {
            "_dom_classes": [],
            "_model_module": "@jupyter-widgets/controls",
            "_model_module_version": "1.5.0",
            "_model_name": "FloatProgressModel",
            "_view_count": null,
            "_view_module": "@jupyter-widgets/controls",
            "_view_module_version": "1.5.0",
            "_view_name": "ProgressView",
            "bar_style": "success",
            "description": "",
            "description_tooltip": null,
            "layout": "IPY_MODEL_183c21128a8f4dcda4f6993803f4249c",
            "max": 201,
            "min": 0,
            "orientation": "horizontal",
            "style": "IPY_MODEL_ce004042ced14e02a776fcb20b8127b8",
            "value": 201
          }
        },
        "ceb58900a437486684c386598cc935fb": {
          "model_module": "@jupyter-widgets/controls",
          "model_module_version": "1.5.0",
          "model_name": "DescriptionStyleModel",
          "state": {
            "_model_module": "@jupyter-widgets/controls",
            "_model_module_version": "1.5.0",
            "_model_name": "DescriptionStyleModel",
            "_view_count": null,
            "_view_module": "@jupyter-widgets/base",
            "_view_module_version": "1.2.0",
            "_view_name": "StyleView",
            "description_width": ""
          }
        },
        "d36deb264c9f49569ab1b76b30136792": {
          "model_module": "@jupyter-widgets/controls",
          "model_module_version": "1.5.0",
          "model_name": "HTMLModel",
          "state": {
            "_dom_classes": [],
            "_model_module": "@jupyter-widgets/controls",
            "_model_module_version": "1.5.0",
            "_model_name": "HTMLModel",
            "_view_count": null,
            "_view_module": "@jupyter-widgets/controls",
            "_view_module_version": "1.5.0",
            "_view_name": "HTMLView",
            "description": "",
            "description_tooltip": null,
            "layout": "IPY_MODEL_6f33baa4eb5e47a8b20ace7661ee52d8",
            "placeholder": "​",
            "style": "IPY_MODEL_e9c4158ee2d84a1e9eeb31363cee40a6",
            "value": " 5.07M/5.07M [00:00&lt;00:00, 49.9MB/s]"
          }
        },
        "d683dac4ed6e415cbd08f61976ebc999": {
          "model_module": "@jupyter-widgets/controls",
          "model_module_version": "1.5.0",
          "model_name": "ProgressStyleModel",
          "state": {
            "_model_module": "@jupyter-widgets/controls",
            "_model_module_version": "1.5.0",
            "_model_name": "ProgressStyleModel",
            "_view_count": null,
            "_view_module": "@jupyter-widgets/base",
            "_view_module_version": "1.2.0",
            "_view_name": "StyleView",
            "bar_color": null,
            "description_width": ""
          }
        },
        "d6f7ec77337941069fb17b54761e73c6": {
          "model_module": "@jupyter-widgets/controls",
          "model_module_version": "1.5.0",
          "model_name": "FloatProgressModel",
          "state": {
            "_dom_classes": [],
            "_model_module": "@jupyter-widgets/controls",
            "_model_module_version": "1.5.0",
            "_model_name": "FloatProgressModel",
            "_view_count": null,
            "_view_module": "@jupyter-widgets/controls",
            "_view_module_version": "1.5.0",
            "_view_name": "ProgressView",
            "bar_style": "success",
            "description": "",
            "description_tooltip": null,
            "layout": "IPY_MODEL_9af0c064904842cb95734367089df568",
            "max": 17082660,
            "min": 0,
            "orientation": "horizontal",
            "style": "IPY_MODEL_f13ed7b472a04a86b6dc63a45722eee7",
            "value": 17082660
          }
        },
        "db5715b292ed4c85bd298a6a974b9484": {
          "model_module": "@jupyter-widgets/controls",
          "model_module_version": "1.5.0",
          "model_name": "DescriptionStyleModel",
          "state": {
            "_model_module": "@jupyter-widgets/controls",
            "_model_module_version": "1.5.0",
            "_model_name": "DescriptionStyleModel",
            "_view_count": null,
            "_view_module": "@jupyter-widgets/base",
            "_view_module_version": "1.2.0",
            "_view_name": "StyleView",
            "description_width": ""
          }
        },
        "db9491f027f249299d135f462f64f442": {
          "model_module": "@jupyter-widgets/base",
          "model_module_version": "1.2.0",
          "model_name": "LayoutModel",
          "state": {
            "_model_module": "@jupyter-widgets/base",
            "_model_module_version": "1.2.0",
            "_model_name": "LayoutModel",
            "_view_count": null,
            "_view_module": "@jupyter-widgets/base",
            "_view_module_version": "1.2.0",
            "_view_name": "LayoutView",
            "align_content": null,
            "align_items": null,
            "align_self": null,
            "border": null,
            "bottom": null,
            "display": null,
            "flex": null,
            "flex_flow": null,
            "grid_area": null,
            "grid_auto_columns": null,
            "grid_auto_flow": null,
            "grid_auto_rows": null,
            "grid_column": null,
            "grid_gap": null,
            "grid_row": null,
            "grid_template_areas": null,
            "grid_template_columns": null,
            "grid_template_rows": null,
            "height": null,
            "justify_content": null,
            "justify_items": null,
            "left": null,
            "margin": null,
            "max_height": null,
            "max_width": null,
            "min_height": null,
            "min_width": null,
            "object_fit": null,
            "object_position": null,
            "order": null,
            "overflow": null,
            "overflow_x": null,
            "overflow_y": null,
            "padding": null,
            "right": null,
            "top": null,
            "visibility": null,
            "width": null
          }
        },
        "de10f10209cd4196b0fe55af6d616904": {
          "model_module": "@jupyter-widgets/base",
          "model_module_version": "1.2.0",
          "model_name": "LayoutModel",
          "state": {
            "_model_module": "@jupyter-widgets/base",
            "_model_module_version": "1.2.0",
            "_model_name": "LayoutModel",
            "_view_count": null,
            "_view_module": "@jupyter-widgets/base",
            "_view_module_version": "1.2.0",
            "_view_name": "LayoutView",
            "align_content": null,
            "align_items": null,
            "align_self": null,
            "border": null,
            "bottom": null,
            "display": null,
            "flex": null,
            "flex_flow": null,
            "grid_area": null,
            "grid_auto_columns": null,
            "grid_auto_flow": null,
            "grid_auto_rows": null,
            "grid_column": null,
            "grid_gap": null,
            "grid_row": null,
            "grid_template_areas": null,
            "grid_template_columns": null,
            "grid_template_rows": null,
            "height": null,
            "justify_content": null,
            "justify_items": null,
            "left": null,
            "margin": null,
            "max_height": null,
            "max_width": null,
            "min_height": null,
            "min_width": null,
            "object_fit": null,
            "object_position": null,
            "order": null,
            "overflow": null,
            "overflow_x": null,
            "overflow_y": null,
            "padding": null,
            "right": null,
            "top": null,
            "visibility": null,
            "width": null
          }
        },
        "e00c6fdcfba44847a32edfa15904b606": {
          "model_module": "@jupyter-widgets/base",
          "model_module_version": "1.2.0",
          "model_name": "LayoutModel",
          "state": {
            "_model_module": "@jupyter-widgets/base",
            "_model_module_version": "1.2.0",
            "_model_name": "LayoutModel",
            "_view_count": null,
            "_view_module": "@jupyter-widgets/base",
            "_view_module_version": "1.2.0",
            "_view_name": "LayoutView",
            "align_content": null,
            "align_items": null,
            "align_self": null,
            "border": null,
            "bottom": null,
            "display": null,
            "flex": null,
            "flex_flow": null,
            "grid_area": null,
            "grid_auto_columns": null,
            "grid_auto_flow": null,
            "grid_auto_rows": null,
            "grid_column": null,
            "grid_gap": null,
            "grid_row": null,
            "grid_template_areas": null,
            "grid_template_columns": null,
            "grid_template_rows": null,
            "height": null,
            "justify_content": null,
            "justify_items": null,
            "left": null,
            "margin": null,
            "max_height": null,
            "max_width": null,
            "min_height": null,
            "min_width": null,
            "object_fit": null,
            "object_position": null,
            "order": null,
            "overflow": null,
            "overflow_x": null,
            "overflow_y": null,
            "padding": null,
            "right": null,
            "top": null,
            "visibility": null,
            "width": null
          }
        },
        "e8718fae6ee941a58cfa2231e5a8ab14": {
          "model_module": "@jupyter-widgets/base",
          "model_module_version": "1.2.0",
          "model_name": "LayoutModel",
          "state": {
            "_model_module": "@jupyter-widgets/base",
            "_model_module_version": "1.2.0",
            "_model_name": "LayoutModel",
            "_view_count": null,
            "_view_module": "@jupyter-widgets/base",
            "_view_module_version": "1.2.0",
            "_view_name": "LayoutView",
            "align_content": null,
            "align_items": null,
            "align_self": null,
            "border": null,
            "bottom": null,
            "display": null,
            "flex": null,
            "flex_flow": null,
            "grid_area": null,
            "grid_auto_columns": null,
            "grid_auto_flow": null,
            "grid_auto_rows": null,
            "grid_column": null,
            "grid_gap": null,
            "grid_row": null,
            "grid_template_areas": null,
            "grid_template_columns": null,
            "grid_template_rows": null,
            "height": null,
            "justify_content": null,
            "justify_items": null,
            "left": null,
            "margin": null,
            "max_height": null,
            "max_width": null,
            "min_height": null,
            "min_width": null,
            "object_fit": null,
            "object_position": null,
            "order": null,
            "overflow": null,
            "overflow_x": null,
            "overflow_y": null,
            "padding": null,
            "right": null,
            "top": null,
            "visibility": null,
            "width": null
          }
        },
        "e9c4158ee2d84a1e9eeb31363cee40a6": {
          "model_module": "@jupyter-widgets/controls",
          "model_module_version": "1.5.0",
          "model_name": "DescriptionStyleModel",
          "state": {
            "_model_module": "@jupyter-widgets/controls",
            "_model_module_version": "1.5.0",
            "_model_name": "DescriptionStyleModel",
            "_view_count": null,
            "_view_module": "@jupyter-widgets/base",
            "_view_module_version": "1.2.0",
            "_view_name": "StyleView",
            "description_width": ""
          }
        },
        "e9d83bbd69e0451ba004bc9e724996db": {
          "model_module": "@jupyter-widgets/controls",
          "model_module_version": "1.5.0",
          "model_name": "DescriptionStyleModel",
          "state": {
            "_model_module": "@jupyter-widgets/controls",
            "_model_module_version": "1.5.0",
            "_model_name": "DescriptionStyleModel",
            "_view_count": null,
            "_view_module": "@jupyter-widgets/base",
            "_view_module_version": "1.2.0",
            "_view_name": "StyleView",
            "description_width": ""
          }
        },
        "eb9ed08241d84933bd21083e9f647305": {
          "model_module": "@jupyter-widgets/base",
          "model_module_version": "1.2.0",
          "model_name": "LayoutModel",
          "state": {
            "_model_module": "@jupyter-widgets/base",
            "_model_module_version": "1.2.0",
            "_model_name": "LayoutModel",
            "_view_count": null,
            "_view_module": "@jupyter-widgets/base",
            "_view_module_version": "1.2.0",
            "_view_name": "LayoutView",
            "align_content": null,
            "align_items": null,
            "align_self": null,
            "border": null,
            "bottom": null,
            "display": null,
            "flex": null,
            "flex_flow": null,
            "grid_area": null,
            "grid_auto_columns": null,
            "grid_auto_flow": null,
            "grid_auto_rows": null,
            "grid_column": null,
            "grid_gap": null,
            "grid_row": null,
            "grid_template_areas": null,
            "grid_template_columns": null,
            "grid_template_rows": null,
            "height": null,
            "justify_content": null,
            "justify_items": null,
            "left": null,
            "margin": null,
            "max_height": null,
            "max_width": null,
            "min_height": null,
            "min_width": null,
            "object_fit": null,
            "object_position": null,
            "order": null,
            "overflow": null,
            "overflow_x": null,
            "overflow_y": null,
            "padding": null,
            "right": null,
            "top": null,
            "visibility": null,
            "width": null
          }
        },
        "eba2149dd7de4d88b5866a2b4b537477": {
          "model_module": "@jupyter-widgets/base",
          "model_module_version": "1.2.0",
          "model_name": "LayoutModel",
          "state": {
            "_model_module": "@jupyter-widgets/base",
            "_model_module_version": "1.2.0",
            "_model_name": "LayoutModel",
            "_view_count": null,
            "_view_module": "@jupyter-widgets/base",
            "_view_module_version": "1.2.0",
            "_view_name": "LayoutView",
            "align_content": null,
            "align_items": null,
            "align_self": null,
            "border": null,
            "bottom": null,
            "display": null,
            "flex": null,
            "flex_flow": null,
            "grid_area": null,
            "grid_auto_columns": null,
            "grid_auto_flow": null,
            "grid_auto_rows": null,
            "grid_column": null,
            "grid_gap": null,
            "grid_row": null,
            "grid_template_areas": null,
            "grid_template_columns": null,
            "grid_template_rows": null,
            "height": null,
            "justify_content": null,
            "justify_items": null,
            "left": null,
            "margin": null,
            "max_height": null,
            "max_width": null,
            "min_height": null,
            "min_width": null,
            "object_fit": null,
            "object_position": null,
            "order": null,
            "overflow": null,
            "overflow_x": null,
            "overflow_y": null,
            "padding": null,
            "right": null,
            "top": null,
            "visibility": null,
            "width": null
          }
        },
        "eea1906037414e0b8def750afde4d974": {
          "model_module": "@jupyter-widgets/controls",
          "model_module_version": "1.5.0",
          "model_name": "ProgressStyleModel",
          "state": {
            "_model_module": "@jupyter-widgets/controls",
            "_model_module_version": "1.5.0",
            "_model_name": "ProgressStyleModel",
            "_view_count": null,
            "_view_module": "@jupyter-widgets/base",
            "_view_module_version": "1.2.0",
            "_view_name": "StyleView",
            "bar_color": null,
            "description_width": ""
          }
        },
        "ef2afb9000e24d8ca6076ec59a397e65": {
          "model_module": "@jupyter-widgets/controls",
          "model_module_version": "1.5.0",
          "model_name": "DescriptionStyleModel",
          "state": {
            "_model_module": "@jupyter-widgets/controls",
            "_model_module_version": "1.5.0",
            "_model_name": "DescriptionStyleModel",
            "_view_count": null,
            "_view_module": "@jupyter-widgets/base",
            "_view_module_version": "1.2.0",
            "_view_name": "StyleView",
            "description_width": ""
          }
        },
        "effc6af723a749199f35052bbbf94fe6": {
          "model_module": "@jupyter-widgets/base",
          "model_module_version": "1.2.0",
          "model_name": "LayoutModel",
          "state": {
            "_model_module": "@jupyter-widgets/base",
            "_model_module_version": "1.2.0",
            "_model_name": "LayoutModel",
            "_view_count": null,
            "_view_module": "@jupyter-widgets/base",
            "_view_module_version": "1.2.0",
            "_view_name": "LayoutView",
            "align_content": null,
            "align_items": null,
            "align_self": null,
            "border": null,
            "bottom": null,
            "display": null,
            "flex": null,
            "flex_flow": null,
            "grid_area": null,
            "grid_auto_columns": null,
            "grid_auto_flow": null,
            "grid_auto_rows": null,
            "grid_column": null,
            "grid_gap": null,
            "grid_row": null,
            "grid_template_areas": null,
            "grid_template_columns": null,
            "grid_template_rows": null,
            "height": null,
            "justify_content": null,
            "justify_items": null,
            "left": null,
            "margin": null,
            "max_height": null,
            "max_width": null,
            "min_height": null,
            "min_width": null,
            "object_fit": null,
            "object_position": null,
            "order": null,
            "overflow": null,
            "overflow_x": null,
            "overflow_y": null,
            "padding": null,
            "right": null,
            "top": null,
            "visibility": null,
            "width": null
          }
        },
        "f00236182de2492f89d076902946aa8a": {
          "model_module": "@jupyter-widgets/base",
          "model_module_version": "1.2.0",
          "model_name": "LayoutModel",
          "state": {
            "_model_module": "@jupyter-widgets/base",
            "_model_module_version": "1.2.0",
            "_model_name": "LayoutModel",
            "_view_count": null,
            "_view_module": "@jupyter-widgets/base",
            "_view_module_version": "1.2.0",
            "_view_name": "LayoutView",
            "align_content": null,
            "align_items": null,
            "align_self": null,
            "border": null,
            "bottom": null,
            "display": null,
            "flex": null,
            "flex_flow": null,
            "grid_area": null,
            "grid_auto_columns": null,
            "grid_auto_flow": null,
            "grid_auto_rows": null,
            "grid_column": null,
            "grid_gap": null,
            "grid_row": null,
            "grid_template_areas": null,
            "grid_template_columns": null,
            "grid_template_rows": null,
            "height": null,
            "justify_content": null,
            "justify_items": null,
            "left": null,
            "margin": null,
            "max_height": null,
            "max_width": null,
            "min_height": null,
            "min_width": null,
            "object_fit": null,
            "object_position": null,
            "order": null,
            "overflow": null,
            "overflow_x": null,
            "overflow_y": null,
            "padding": null,
            "right": null,
            "top": null,
            "visibility": null,
            "width": null
          }
        },
        "f13ed7b472a04a86b6dc63a45722eee7": {
          "model_module": "@jupyter-widgets/controls",
          "model_module_version": "1.5.0",
          "model_name": "ProgressStyleModel",
          "state": {
            "_model_module": "@jupyter-widgets/controls",
            "_model_module_version": "1.5.0",
            "_model_name": "ProgressStyleModel",
            "_view_count": null,
            "_view_module": "@jupyter-widgets/base",
            "_view_module_version": "1.2.0",
            "_view_name": "StyleView",
            "bar_color": null,
            "description_width": ""
          }
        },
        "f45e15ad66fd4fbf94e32cf835489185": {
          "model_module": "@jupyter-widgets/base",
          "model_module_version": "1.2.0",
          "model_name": "LayoutModel",
          "state": {
            "_model_module": "@jupyter-widgets/base",
            "_model_module_version": "1.2.0",
            "_model_name": "LayoutModel",
            "_view_count": null,
            "_view_module": "@jupyter-widgets/base",
            "_view_module_version": "1.2.0",
            "_view_name": "LayoutView",
            "align_content": null,
            "align_items": null,
            "align_self": null,
            "border": null,
            "bottom": null,
            "display": null,
            "flex": null,
            "flex_flow": null,
            "grid_area": null,
            "grid_auto_columns": null,
            "grid_auto_flow": null,
            "grid_auto_rows": null,
            "grid_column": null,
            "grid_gap": null,
            "grid_row": null,
            "grid_template_areas": null,
            "grid_template_columns": null,
            "grid_template_rows": null,
            "height": null,
            "justify_content": null,
            "justify_items": null,
            "left": null,
            "margin": null,
            "max_height": null,
            "max_width": null,
            "min_height": null,
            "min_width": null,
            "object_fit": null,
            "object_position": null,
            "order": null,
            "overflow": null,
            "overflow_x": null,
            "overflow_y": null,
            "padding": null,
            "right": null,
            "top": null,
            "visibility": null,
            "width": null
          }
        },
        "f45fd6d16fae461a8de22e3aca4667ca": {
          "model_module": "@jupyter-widgets/controls",
          "model_module_version": "1.5.0",
          "model_name": "DescriptionStyleModel",
          "state": {
            "_model_module": "@jupyter-widgets/controls",
            "_model_module_version": "1.5.0",
            "_model_name": "DescriptionStyleModel",
            "_view_count": null,
            "_view_module": "@jupyter-widgets/base",
            "_view_module_version": "1.2.0",
            "_view_name": "StyleView",
            "description_width": ""
          }
        },
        "f472250d1f3e4391a06dba177c012b97": {
          "model_module": "@jupyter-widgets/base",
          "model_module_version": "1.2.0",
          "model_name": "LayoutModel",
          "state": {
            "_model_module": "@jupyter-widgets/base",
            "_model_module_version": "1.2.0",
            "_model_name": "LayoutModel",
            "_view_count": null,
            "_view_module": "@jupyter-widgets/base",
            "_view_module_version": "1.2.0",
            "_view_name": "LayoutView",
            "align_content": null,
            "align_items": null,
            "align_self": null,
            "border": null,
            "bottom": null,
            "display": null,
            "flex": null,
            "flex_flow": null,
            "grid_area": null,
            "grid_auto_columns": null,
            "grid_auto_flow": null,
            "grid_auto_rows": null,
            "grid_column": null,
            "grid_gap": null,
            "grid_row": null,
            "grid_template_areas": null,
            "grid_template_columns": null,
            "grid_template_rows": null,
            "height": null,
            "justify_content": null,
            "justify_items": null,
            "left": null,
            "margin": null,
            "max_height": null,
            "max_width": null,
            "min_height": null,
            "min_width": null,
            "object_fit": null,
            "object_position": null,
            "order": null,
            "overflow": null,
            "overflow_x": null,
            "overflow_y": null,
            "padding": null,
            "right": null,
            "top": null,
            "visibility": null,
            "width": null
          }
        },
        "f5281c2c659643eb8b453be4af07b9ac": {
          "model_module": "@jupyter-widgets/controls",
          "model_module_version": "1.5.0",
          "model_name": "DescriptionStyleModel",
          "state": {
            "_model_module": "@jupyter-widgets/controls",
            "_model_module_version": "1.5.0",
            "_model_name": "DescriptionStyleModel",
            "_view_count": null,
            "_view_module": "@jupyter-widgets/base",
            "_view_module_version": "1.2.0",
            "_view_name": "StyleView",
            "description_width": ""
          }
        },
        "f60ae877efbb433d949dedd6e41dae1d": {
          "model_module": "@jupyter-widgets/controls",
          "model_module_version": "1.5.0",
          "model_name": "HBoxModel",
          "state": {
            "_dom_classes": [],
            "_model_module": "@jupyter-widgets/controls",
            "_model_module_version": "1.5.0",
            "_model_name": "HBoxModel",
            "_view_count": null,
            "_view_module": "@jupyter-widgets/controls",
            "_view_module_version": "1.5.0",
            "_view_name": "HBoxView",
            "box_style": "",
            "children": [
              "IPY_MODEL_6bf9e0475eef4fb486e97a31a554247f",
              "IPY_MODEL_27123780f7614f649e23f651b46b9a1b",
              "IPY_MODEL_d36deb264c9f49569ab1b76b30136792"
            ],
            "layout": "IPY_MODEL_2ecc5e7c32db408ab016f0ed368613a8"
          }
        },
        "f67bfc362d7e4c158ccd2b3cf795cfb6": {
          "model_module": "@jupyter-widgets/base",
          "model_module_version": "1.2.0",
          "model_name": "LayoutModel",
          "state": {
            "_model_module": "@jupyter-widgets/base",
            "_model_module_version": "1.2.0",
            "_model_name": "LayoutModel",
            "_view_count": null,
            "_view_module": "@jupyter-widgets/base",
            "_view_module_version": "1.2.0",
            "_view_name": "LayoutView",
            "align_content": null,
            "align_items": null,
            "align_self": null,
            "border": null,
            "bottom": null,
            "display": null,
            "flex": null,
            "flex_flow": null,
            "grid_area": null,
            "grid_auto_columns": null,
            "grid_auto_flow": null,
            "grid_auto_rows": null,
            "grid_column": null,
            "grid_gap": null,
            "grid_row": null,
            "grid_template_areas": null,
            "grid_template_columns": null,
            "grid_template_rows": null,
            "height": null,
            "justify_content": null,
            "justify_items": null,
            "left": null,
            "margin": null,
            "max_height": null,
            "max_width": null,
            "min_height": null,
            "min_width": null,
            "object_fit": null,
            "object_position": null,
            "order": null,
            "overflow": null,
            "overflow_x": null,
            "overflow_y": null,
            "padding": null,
            "right": null,
            "top": null,
            "visibility": null,
            "width": null
          }
        },
        "fbead3ee1df74868b738f7e9f263d17c": {
          "model_module": "@jupyter-widgets/controls",
          "model_module_version": "1.5.0",
          "model_name": "DescriptionStyleModel",
          "state": {
            "_model_module": "@jupyter-widgets/controls",
            "_model_module_version": "1.5.0",
            "_model_name": "DescriptionStyleModel",
            "_view_count": null,
            "_view_module": "@jupyter-widgets/base",
            "_view_module_version": "1.2.0",
            "_view_name": "StyleView",
            "description_width": ""
          }
        },
        "fc9a05e08f6b4de58a04a75f8c15cefa": {
          "model_module": "@jupyter-widgets/controls",
          "model_module_version": "1.5.0",
          "model_name": "HTMLModel",
          "state": {
            "_dom_classes": [],
            "_model_module": "@jupyter-widgets/controls",
            "_model_module_version": "1.5.0",
            "_model_name": "HTMLModel",
            "_view_count": null,
            "_view_module": "@jupyter-widgets/controls",
            "_view_module_version": "1.5.0",
            "_view_name": "HTMLView",
            "description": "",
            "description_tooltip": null,
            "layout": "IPY_MODEL_17601e84fad743d6a4fce54ec8a77883",
            "placeholder": "​",
            "style": "IPY_MODEL_f5281c2c659643eb8b453be4af07b9ac",
            "value": " 160k/160k [00:00&lt;00:00, 3.13MB/s]"
          }
        }
      }
    }
  },
  "nbformat": 4,
  "nbformat_minor": 0
}
